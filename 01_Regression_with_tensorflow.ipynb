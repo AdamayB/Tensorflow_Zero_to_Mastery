{
  "nbformat": 4,
  "nbformat_minor": 0,
  "metadata": {
    "colab": {
      "provenance": [],
      "mount_file_id": "1rkvel4IpApBzlEb0r-Cf_LyJJbf9PumH",
      "authorship_tag": "ABX9TyNSI868CZ7zZ0y8Mcxa1M3/",
      "include_colab_link": true
    },
    "kernelspec": {
      "name": "python3",
      "display_name": "Python 3"
    },
    "language_info": {
      "name": "python"
    }
  },
  "cells": [
    {
      "cell_type": "markdown",
      "metadata": {
        "id": "view-in-github",
        "colab_type": "text"
      },
      "source": [
        "<a href=\"https://colab.research.google.com/github/AdamayB/Tensorflow_Zero_to_Mastery/blob/main/01_Regression_with_tensorflow.ipynb\" target=\"_parent\"><img src=\"https://colab.research.google.com/assets/colab-badge.svg\" alt=\"Open In Colab\"/></a>"
      ]
    },
    {
      "cell_type": "markdown",
      "source": [
        "# Introduction to Regression with Neural Network using TensorFlow"
      ],
      "metadata": {
        "id": "dY76J5OJiQPL"
      }
    },
    {
      "cell_type": "code",
      "source": [
        "import tensorflow as tf\n",
        "print(tf.__version__)"
      ],
      "metadata": {
        "colab": {
          "base_uri": "https://localhost:8080/"
        },
        "id": "CpwoxTYDibc1",
        "outputId": "9e631430-9520-4525-ac2c-32fb063bffd0"
      },
      "execution_count": null,
      "outputs": [
        {
          "output_type": "stream",
          "name": "stdout",
          "text": [
            "2.12.0\n"
          ]
        }
      ]
    },
    {
      "cell_type": "markdown",
      "source": [
        "# Create data"
      ],
      "metadata": {
        "id": "dKfWizd5i51t"
      }
    },
    {
      "cell_type": "code",
      "source": [
        "import numpy as np\n",
        "import matplotlib.pyplot as plt\n",
        "\n",
        "# Create features\n",
        "X = np.array([-7,-4,-1,2,5,8,11,14])\n",
        "\n",
        "# Create labels\n",
        "y = np.array([3.0, 6.0, 9.0, 12.0, 15.0, 18.0, 21.0, 24.0]);\n",
        "\n",
        "# Visualize\n",
        "plt.scatter(X,y);"
      ],
      "metadata": {
        "colab": {
          "base_uri": "https://localhost:8080/",
          "height": 435
        },
        "id": "FstlEFY2ipNF",
        "outputId": "05bf477f-780d-400e-d4f9-b0ef169e9ebc"
      },
      "execution_count": null,
      "outputs": [
        {
          "output_type": "display_data",
          "data": {
            "text/plain": [
              "<Figure size 640x480 with 1 Axes>"
            ],
            "image/png": "[encoded data removed]"
          },
          "metadata": {}
        }
      ]
    },
    {
      "cell_type": "markdown",
      "source": [
        "# Input and Output shape"
      ],
      "metadata": {
        "id": "aSaPC1GDkSMb"
      }
    },
    {
      "cell_type": "code",
      "source": [
        "input_shape = X.shape\n",
        "output_shape = y.shape\n",
        "input_shape, output_shape"
      ],
      "metadata": {
        "colab": {
          "base_uri": "https://localhost:8080/"
        },
        "id": "ibtf6oe4kW1A",
        "outputId": "f522059c-3bec-4290-a089-ad944bf099cd"
      },
      "execution_count": null,
      "outputs": [
        {
          "output_type": "execute_result",
          "data": {
            "text/plain": [
              "((8,), (8,))"
            ]
          },
          "metadata": {},
          "execution_count": 3
        }
      ]
    },
    {
      "cell_type": "code",
      "source": [
        "# Turn NumPy arrays to tensors\n",
        "X = tf.constant(X)\n",
        "y = tf.constant(y)\n",
        "X,y"
      ],
      "metadata": {
        "colab": {
          "base_uri": "https://localhost:8080/"
        },
        "id": "FHpBbVWoky2Y",
        "outputId": "7e9a55ec-07a2-41a1-fa22-c1970ad70022"
      },
      "execution_count": null,
      "outputs": [
        {
          "output_type": "execute_result",
          "data": {
            "text/plain": [
              "(<tf.Tensor: shape=(8,), dtype=int64, numpy=array([-7, -4, -1,  2,  5,  8, 11, 14])>,\n",
              " <tf.Tensor: shape=(8,), dtype=float64, numpy=array([ 3.,  6.,  9., 12., 15., 18., 21., 24.])>)"
            ]
          },
          "metadata": {},
          "execution_count": 4
        }
      ]
    },
    {
      "cell_type": "markdown",
      "source": [
        "## Steps in modelling with TensorFlow\n",
        "\n",
        "1. Creating a model\n",
        "2. Compiling model- define loss function and optimizer and evaluation matrix\n",
        "3. Fitting the model\n",
        "\n"
      ],
      "metadata": {
        "id": "DDbXV8Owp6rP"
      }
    },
    {
      "cell_type": "markdown",
      "source": [],
      "metadata": {
        "id": "l12FCGtK5bPE"
      }
    },
    {
      "cell_type": "code",
      "source": [
        "tf.random.set_seed(42)\n",
        "\n",
        "#1. Create a model\n",
        "model = tf.keras.Sequential([\n",
        "    tf.keras.layers.Dense(1)\n",
        "])\n",
        "\n",
        "#2. Compile the model\n",
        "model.compile(loss=tf.keras.losses.mae,\n",
        "              optimizer=tf.keras.optimizers.SGD(), #stochastic gradient descent)\n",
        "              metrics=[\"mae\"])\n",
        "\n",
        "# Fit the model\n",
        "model.fit(tf.expand_dims(X, axis=-1),y,epochs=5)\n",
        "\n"
      ],
      "metadata": {
        "colab": {
          "base_uri": "https://localhost:8080/"
        },
        "id": "s82Eu3dCpufF",
        "outputId": "b41d2ac7-db10-4e00-fcb4-0b441d6722ab"
      },
      "execution_count": null,
      "outputs": [
        {
          "output_type": "stream",
          "name": "stdout",
          "text": [
            "Epoch 1/5\n",
            "1/1 [==============================] - 1s 700ms/step - loss: 15.6413 - mae: 15.6413\n",
            "Epoch 2/5\n",
            "1/1 [==============================] - 0s 13ms/step - loss: 15.3601 - mae: 15.3601\n",
            "Epoch 3/5\n",
            "1/1 [==============================] - 0s 12ms/step - loss: 15.0788 - mae: 15.0788\n",
            "Epoch 4/5\n",
            "1/1 [==============================] - 0s 10ms/step - loss: 14.8538 - mae: 14.8538\n",
            "Epoch 5/5\n",
            "1/1 [==============================] - 0s 12ms/step - loss: 14.7213 - mae: 14.7213\n"
          ]
        },
        {
          "output_type": "execute_result",
          "data": {
            "text/plain": [
              "<keras.callbacks.History at 0x7f60192bd900>"
            ]
          },
          "metadata": {},
          "execution_count": 5
        }
      ]
    },
    {
      "cell_type": "code",
      "source": [
        "# Trying to make a prediction\n",
        "model.predict([17.0])"
      ],
      "metadata": {
        "colab": {
          "base_uri": "https://localhost:8080/"
        },
        "id": "HsBEK1M16WDK",
        "outputId": "6eec2ddb-2c92-4b0b-edcb-107ccb24272f"
      },
      "execution_count": null,
      "outputs": [
        {
          "output_type": "stream",
          "name": "stdout",
          "text": [
            "1/1 [==============================] - 0s 144ms/step\n"
          ]
        },
        {
          "output_type": "execute_result",
          "data": {
            "text/plain": [
              "array([[-5.4523387]], dtype=float32)"
            ]
          },
          "metadata": {},
          "execution_count": 6
        }
      ]
    },
    {
      "cell_type": "code",
      "source": [
        "y_pred=model.predict([99.0])"
      ],
      "metadata": {
        "colab": {
          "base_uri": "https://localhost:8080/"
        },
        "id": "diyoiGzk6d2p",
        "outputId": "01225524-1535-447c-800b-75a1ea0122f8"
      },
      "execution_count": null,
      "outputs": [
        {
          "output_type": "stream",
          "name": "stdout",
          "text": [
            "1/1 [==============================] - 0s 55ms/step\n"
          ]
        }
      ]
    },
    {
      "cell_type": "code",
      "source": [
        "y_pred"
      ],
      "metadata": {
        "colab": {
          "base_uri": "https://localhost:8080/"
        },
        "id": "GlVXP6Xo6lUT",
        "outputId": "c561a02e-2453-4ab4-ebf0-22fd590f082f"
      },
      "execution_count": null,
      "outputs": [
        {
          "output_type": "execute_result",
          "data": {
            "text/plain": [
              "array([[-31.956854]], dtype=float32)"
            ]
          },
          "metadata": {},
          "execution_count": 8
        }
      ]
    },
    {
      "cell_type": "code",
      "source": [
        "y_pred+7.9409"
      ],
      "metadata": {
        "colab": {
          "base_uri": "https://localhost:8080/"
        },
        "id": "XxEYEKi-64ub",
        "outputId": "d9c26255-fa53-429f-bc8d-c700895fb7b3"
      },
      "execution_count": null,
      "outputs": [
        {
          "output_type": "execute_result",
          "data": {
            "text/plain": [
              "array([[-24.015953]], dtype=float32)"
            ]
          },
          "metadata": {},
          "execution_count": 9
        }
      ]
    },
    {
      "cell_type": "markdown",
      "source": [
        "## Improving model\n",
        "Improving by altering steps while creating model\n",
        "\n",
        "1. **Creating Model:** Increase number of dense layers and change activation method\n",
        "2. **Compiling Model:** change optimization function and change learning rate of the optimization function\n",
        "3. **Fitting Model:**Increase number of epochs or provide more data\n"
      ],
      "metadata": {
        "id": "e2rjGxVe7bs1"
      }
    },
    {
      "cell_type": "code",
      "source": [
        "# Rebuilding\n",
        "\n",
        "#1. Create a model\n",
        "model = tf.keras.Sequential([\n",
        "    tf.keras.layers.Dense(1)\n",
        "])\n",
        "\n",
        "#2. Compile the model\n",
        "model.compile(loss=tf.keras.losses.mae,\n",
        "              optimizer=tf.keras.optimizers.SGD(), #stochastic gradient descent)\n",
        "              metrics=[\"mae\"])\n",
        "\n",
        "# Fit the model\n",
        "model.fit(tf.expand_dims(X, axis=-1),y,epochs=100)"
      ],
      "metadata": {
        "colab": {
          "base_uri": "https://localhost:8080/"
        },
        "id": "1hONwUO3685k",
        "outputId": "1c60dc80-f442-4648-afda-19718a98fd4b"
      },
      "execution_count": null,
      "outputs": [
        {
          "output_type": "stream",
          "name": "stdout",
          "text": [
            "Epoch 1/100\n",
            "1/1 [==============================] - 0s 481ms/step - loss: 14.1279 - mae: 14.1279\n",
            "Epoch 2/100\n",
            "1/1 [==============================] - 0s 16ms/step - loss: 13.9954 - mae: 13.9954\n",
            "Epoch 3/100\n",
            "1/1 [==============================] - 0s 13ms/step - loss: 13.8629 - mae: 13.8629\n",
            "Epoch 4/100\n",
            "1/1 [==============================] - 0s 13ms/step - loss: 13.7304 - mae: 13.7304\n",
            "Epoch 5/100\n",
            "1/1 [==============================] - 0s 11ms/step - loss: 13.5979 - mae: 13.5979\n",
            "Epoch 6/100\n",
            "1/1 [==============================] - 0s 12ms/step - loss: 13.4654 - mae: 13.4654\n",
            "Epoch 7/100\n",
            "1/1 [==============================] - 0s 11ms/step - loss: 13.3329 - mae: 13.3329\n",
            "Epoch 8/100\n",
            "1/1 [==============================] - 0s 9ms/step - loss: 13.2004 - mae: 13.2004\n",
            "Epoch 9/100\n",
            "1/1 [==============================] - 0s 9ms/step - loss: 13.0679 - mae: 13.0679\n",
            "Epoch 10/100\n",
            "1/1 [==============================] - 0s 24ms/step - loss: 12.9354 - mae: 12.9354\n",
            "Epoch 11/100\n",
            "1/1 [==============================] - 0s 17ms/step - loss: 12.8029 - mae: 12.8029\n",
            "Epoch 12/100\n",
            "1/1 [==============================] - 0s 21ms/step - loss: 12.6704 - mae: 12.6704\n",
            "Epoch 13/100\n",
            "1/1 [==============================] - 0s 30ms/step - loss: 12.5379 - mae: 12.5379\n",
            "Epoch 14/100\n",
            "1/1 [==============================] - 0s 26ms/step - loss: 12.4054 - mae: 12.4054\n",
            "Epoch 15/100\n",
            "1/1 [==============================] - 0s 26ms/step - loss: 12.2729 - mae: 12.2729\n",
            "Epoch 16/100\n",
            "1/1 [==============================] - 0s 20ms/step - loss: 12.1404 - mae: 12.1404\n",
            "Epoch 17/100\n",
            "1/1 [==============================] - 0s 21ms/step - loss: 12.0079 - mae: 12.0079\n",
            "Epoch 18/100\n",
            "1/1 [==============================] - 0s 21ms/step - loss: 11.8754 - mae: 11.8754\n",
            "Epoch 19/100\n",
            "1/1 [==============================] - 0s 21ms/step - loss: 11.7429 - mae: 11.7429\n",
            "Epoch 20/100\n",
            "1/1 [==============================] - 0s 24ms/step - loss: 11.6104 - mae: 11.6104\n",
            "Epoch 21/100\n",
            "1/1 [==============================] - 0s 20ms/step - loss: 11.4779 - mae: 11.4779\n",
            "Epoch 22/100\n",
            "1/1 [==============================] - 0s 16ms/step - loss: 11.3454 - mae: 11.3454\n",
            "Epoch 23/100\n",
            "1/1 [==============================] - 0s 16ms/step - loss: 11.2129 - mae: 11.2129\n",
            "Epoch 24/100\n",
            "1/1 [==============================] - 0s 14ms/step - loss: 11.0804 - mae: 11.0804\n",
            "Epoch 25/100\n",
            "1/1 [==============================] - 0s 19ms/step - loss: 10.9479 - mae: 10.9479\n",
            "Epoch 26/100\n",
            "1/1 [==============================] - 0s 19ms/step - loss: 10.8154 - mae: 10.8154\n",
            "Epoch 27/100\n",
            "1/1 [==============================] - 0s 20ms/step - loss: 10.6829 - mae: 10.6829\n",
            "Epoch 28/100\n",
            "1/1 [==============================] - 0s 16ms/step - loss: 10.5504 - mae: 10.5504\n",
            "Epoch 29/100\n",
            "1/1 [==============================] - 0s 19ms/step - loss: 10.4179 - mae: 10.4179\n",
            "Epoch 30/100\n",
            "1/1 [==============================] - 0s 16ms/step - loss: 10.2854 - mae: 10.2854\n",
            "Epoch 31/100\n",
            "1/1 [==============================] - 0s 17ms/step - loss: 10.1529 - mae: 10.1529\n",
            "Epoch 32/100\n",
            "1/1 [==============================] - 0s 15ms/step - loss: 10.0204 - mae: 10.0204\n",
            "Epoch 33/100\n",
            "1/1 [==============================] - 0s 14ms/step - loss: 9.8879 - mae: 9.8879\n",
            "Epoch 34/100\n",
            "1/1 [==============================] - 0s 16ms/step - loss: 9.7554 - mae: 9.7554\n",
            "Epoch 35/100\n",
            "1/1 [==============================] - 0s 17ms/step - loss: 9.6229 - mae: 9.6229\n",
            "Epoch 36/100\n",
            "1/1 [==============================] - 0s 17ms/step - loss: 9.4904 - mae: 9.4904\n",
            "Epoch 37/100\n",
            "1/1 [==============================] - 0s 16ms/step - loss: 9.3579 - mae: 9.3579\n",
            "Epoch 38/100\n",
            "1/1 [==============================] - 0s 21ms/step - loss: 9.2254 - mae: 9.2254\n",
            "Epoch 39/100\n",
            "1/1 [==============================] - 0s 23ms/step - loss: 9.0929 - mae: 9.0929\n",
            "Epoch 40/100\n",
            "1/1 [==============================] - 0s 22ms/step - loss: 8.9604 - mae: 8.9604\n",
            "Epoch 41/100\n",
            "1/1 [==============================] - 0s 14ms/step - loss: 8.8279 - mae: 8.8279\n",
            "Epoch 42/100\n",
            "1/1 [==============================] - 0s 17ms/step - loss: 8.6954 - mae: 8.6954\n",
            "Epoch 43/100\n",
            "1/1 [==============================] - 0s 17ms/step - loss: 8.5629 - mae: 8.5629\n",
            "Epoch 44/100\n",
            "1/1 [==============================] - 0s 17ms/step - loss: 8.4304 - mae: 8.4304\n",
            "Epoch 45/100\n",
            "1/1 [==============================] - 0s 36ms/step - loss: 8.2979 - mae: 8.2979\n",
            "Epoch 46/100\n",
            "1/1 [==============================] - 0s 25ms/step - loss: 8.1654 - mae: 8.1654\n",
            "Epoch 47/100\n",
            "1/1 [==============================] - 0s 28ms/step - loss: 8.0329 - mae: 8.0329\n",
            "Epoch 48/100\n",
            "1/1 [==============================] - 0s 24ms/step - loss: 7.9004 - mae: 7.9004\n",
            "Epoch 49/100\n",
            "1/1 [==============================] - 0s 24ms/step - loss: 7.7679 - mae: 7.7679\n",
            "Epoch 50/100\n",
            "1/1 [==============================] - 0s 20ms/step - loss: 7.6354 - mae: 7.6354\n",
            "Epoch 51/100\n",
            "1/1 [==============================] - 0s 19ms/step - loss: 7.5029 - mae: 7.5029\n",
            "Epoch 52/100\n",
            "1/1 [==============================] - 0s 16ms/step - loss: 7.3704 - mae: 7.3704\n",
            "Epoch 53/100\n",
            "1/1 [==============================] - 0s 21ms/step - loss: 7.2379 - mae: 7.2379\n",
            "Epoch 54/100\n",
            "1/1 [==============================] - 0s 20ms/step - loss: 7.1054 - mae: 7.1054\n",
            "Epoch 55/100\n",
            "1/1 [==============================] - 0s 18ms/step - loss: 7.0950 - mae: 7.0950\n",
            "Epoch 56/100\n",
            "1/1 [==============================] - 0s 13ms/step - loss: 7.0894 - mae: 7.0894\n",
            "Epoch 57/100\n",
            "1/1 [==============================] - 0s 22ms/step - loss: 7.0838 - mae: 7.0838\n",
            "Epoch 58/100\n",
            "1/1 [==============================] - 0s 17ms/step - loss: 7.0781 - mae: 7.0781\n",
            "Epoch 59/100\n",
            "1/1 [==============================] - 0s 19ms/step - loss: 7.0725 - mae: 7.0725\n",
            "Epoch 60/100\n",
            "1/1 [==============================] - 0s 15ms/step - loss: 7.0669 - mae: 7.0669\n",
            "Epoch 61/100\n",
            "1/1 [==============================] - 0s 21ms/step - loss: 7.0613 - mae: 7.0613\n",
            "Epoch 62/100\n",
            "1/1 [==============================] - 0s 17ms/step - loss: 7.0556 - mae: 7.0556\n",
            "Epoch 63/100\n",
            "1/1 [==============================] - 0s 16ms/step - loss: 7.0500 - mae: 7.0500\n",
            "Epoch 64/100\n",
            "1/1 [==============================] - 0s 15ms/step - loss: 7.0444 - mae: 7.0444\n",
            "Epoch 65/100\n",
            "1/1 [==============================] - 0s 21ms/step - loss: 7.0388 - mae: 7.0388\n",
            "Epoch 66/100\n",
            "1/1 [==============================] - 0s 14ms/step - loss: 7.0331 - mae: 7.0331\n",
            "Epoch 67/100\n",
            "1/1 [==============================] - 0s 14ms/step - loss: 7.0275 - mae: 7.0275\n",
            "Epoch 68/100\n",
            "1/1 [==============================] - 0s 14ms/step - loss: 7.0219 - mae: 7.0219\n",
            "Epoch 69/100\n",
            "1/1 [==============================] - 0s 14ms/step - loss: 7.0163 - mae: 7.0163\n",
            "Epoch 70/100\n",
            "1/1 [==============================] - 0s 15ms/step - loss: 7.0106 - mae: 7.0106\n",
            "Epoch 71/100\n",
            "1/1 [==============================] - 0s 14ms/step - loss: 7.0050 - mae: 7.0050\n",
            "Epoch 72/100\n",
            "1/1 [==============================] - 0s 24ms/step - loss: 6.9994 - mae: 6.9994\n",
            "Epoch 73/100\n",
            "1/1 [==============================] - 0s 20ms/step - loss: 6.9938 - mae: 6.9938\n",
            "Epoch 74/100\n",
            "1/1 [==============================] - 0s 22ms/step - loss: 6.9881 - mae: 6.9881\n",
            "Epoch 75/100\n",
            "1/1 [==============================] - 0s 17ms/step - loss: 6.9825 - mae: 6.9825\n",
            "Epoch 76/100\n",
            "1/1 [==============================] - 0s 13ms/step - loss: 6.9769 - mae: 6.9769\n",
            "Epoch 77/100\n",
            "1/1 [==============================] - 0s 21ms/step - loss: 6.9713 - mae: 6.9713\n",
            "Epoch 78/100\n",
            "1/1 [==============================] - 0s 15ms/step - loss: 6.9656 - mae: 6.9656\n",
            "Epoch 79/100\n",
            "1/1 [==============================] - 0s 19ms/step - loss: 6.9600 - mae: 6.9600\n",
            "Epoch 80/100\n",
            "1/1 [==============================] - 0s 19ms/step - loss: 6.9544 - mae: 6.9544\n",
            "Epoch 81/100\n",
            "1/1 [==============================] - 0s 14ms/step - loss: 6.9487 - mae: 6.9487\n",
            "Epoch 82/100\n",
            "1/1 [==============================] - 0s 22ms/step - loss: 6.9431 - mae: 6.9431\n",
            "Epoch 83/100\n",
            "1/1 [==============================] - 0s 15ms/step - loss: 6.9375 - mae: 6.9375\n",
            "Epoch 84/100\n",
            "1/1 [==============================] - 0s 19ms/step - loss: 6.9319 - mae: 6.9319\n",
            "Epoch 85/100\n",
            "1/1 [==============================] - 0s 23ms/step - loss: 6.9263 - mae: 6.9263\n",
            "Epoch 86/100\n",
            "1/1 [==============================] - 0s 22ms/step - loss: 6.9206 - mae: 6.9206\n",
            "Epoch 87/100\n",
            "1/1 [==============================] - 0s 16ms/step - loss: 6.9150 - mae: 6.9150\n",
            "Epoch 88/100\n",
            "1/1 [==============================] - 0s 19ms/step - loss: 6.9094 - mae: 6.9094\n",
            "Epoch 89/100\n",
            "1/1 [==============================] - 0s 36ms/step - loss: 6.9038 - mae: 6.9038\n",
            "Epoch 90/100\n",
            "1/1 [==============================] - 0s 17ms/step - loss: 6.8981 - mae: 6.8981\n",
            "Epoch 91/100\n",
            "1/1 [==============================] - 0s 18ms/step - loss: 6.8925 - mae: 6.8925\n",
            "Epoch 92/100\n",
            "1/1 [==============================] - 0s 16ms/step - loss: 6.8869 - mae: 6.8869\n",
            "Epoch 93/100\n",
            "1/1 [==============================] - 0s 19ms/step - loss: 6.8813 - mae: 6.8813\n",
            "Epoch 94/100\n",
            "1/1 [==============================] - 0s 20ms/step - loss: 6.8756 - mae: 6.8756\n",
            "Epoch 95/100\n",
            "1/1 [==============================] - 0s 17ms/step - loss: 6.8700 - mae: 6.8700\n",
            "Epoch 96/100\n",
            "1/1 [==============================] - 0s 29ms/step - loss: 6.8644 - mae: 6.8644\n",
            "Epoch 97/100\n",
            "1/1 [==============================] - 0s 20ms/step - loss: 6.8588 - mae: 6.8588\n",
            "Epoch 98/100\n",
            "1/1 [==============================] - 0s 18ms/step - loss: 6.8531 - mae: 6.8531\n",
            "Epoch 99/100\n",
            "1/1 [==============================] - 0s 15ms/step - loss: 6.8475 - mae: 6.8475\n",
            "Epoch 100/100\n",
            "1/1 [==============================] - 0s 12ms/step - loss: 6.8419 - mae: 6.8419\n"
          ]
        },
        {
          "output_type": "execute_result",
          "data": {
            "text/plain": [
              "<keras.callbacks.History at 0x7f60188bf460>"
            ]
          },
          "metadata": {},
          "execution_count": 10
        }
      ]
    },
    {
      "cell_type": "code",
      "source": [
        "y_pred=model.predict([9.0])\n",
        "y_pred"
      ],
      "metadata": {
        "colab": {
          "base_uri": "https://localhost:8080/"
        },
        "id": "0UdJzH1nAEA_",
        "outputId": "79b37347-c746-4fe4-e5d8-a0a0f4a7ac1e"
      },
      "execution_count": null,
      "outputs": [
        {
          "output_type": "stream",
          "name": "stdout",
          "text": [
            "1/1 [==============================] - 0s 242ms/step\n"
          ]
        },
        {
          "output_type": "execute_result",
          "data": {
            "text/plain": [
              "array([[16.280458]], dtype=float32)"
            ]
          },
          "metadata": {},
          "execution_count": 11
        }
      ]
    },
    {
      "cell_type": "code",
      "source": [
        "# Making more adjustments\n",
        "# adding extra layer\n",
        "# Rebuilding\n",
        "\n",
        "#1. Create a model\n",
        "model = tf.keras.Sequential([\n",
        "    tf.keras.layers.Dense(100, activation='relu'),\n",
        "    tf.keras.layers.Dense(1)\n",
        "])\n",
        "\n",
        "#2. Compile the model\n",
        "model.compile(loss=tf.keras.losses.mae,\n",
        "              optimizer=tf.keras.optimizers.SGD(), #stochastic gradient descent)\n",
        "              metrics=[\"mae\"])\n",
        "\n",
        "# Fit the model\n",
        "model.fit(tf.expand_dims(X, axis=-1),y,epochs=100)"
      ],
      "metadata": {
        "colab": {
          "base_uri": "https://localhost:8080/"
        },
        "id": "6Jabaf63AQla",
        "outputId": "bee38a01-ee5b-4cc8-87e6-60553a4390df"
      },
      "execution_count": null,
      "outputs": [
        {
          "output_type": "stream",
          "name": "stdout",
          "text": [
            "Epoch 1/100\n",
            "1/1 [==============================] - 1s 883ms/step - loss: 14.6365 - mae: 14.6365\n",
            "Epoch 2/100\n",
            "1/1 [==============================] - 0s 12ms/step - loss: 14.1625 - mae: 14.1625\n",
            "Epoch 3/100\n",
            "1/1 [==============================] - 0s 11ms/step - loss: 13.7065 - mae: 13.7065\n",
            "Epoch 4/100\n",
            "1/1 [==============================] - 0s 12ms/step - loss: 13.2621 - mae: 13.2621\n",
            "Epoch 5/100\n",
            "1/1 [==============================] - 0s 12ms/step - loss: 12.8231 - mae: 12.8231\n",
            "Epoch 6/100\n",
            "1/1 [==============================] - 0s 11ms/step - loss: 12.3951 - mae: 12.3951\n",
            "Epoch 7/100\n",
            "1/1 [==============================] - 0s 11ms/step - loss: 11.9565 - mae: 11.9565\n",
            "Epoch 8/100\n",
            "1/1 [==============================] - 0s 11ms/step - loss: 11.5137 - mae: 11.5137\n",
            "Epoch 9/100\n",
            "1/1 [==============================] - 0s 11ms/step - loss: 11.0657 - mae: 11.0657\n",
            "Epoch 10/100\n",
            "1/1 [==============================] - 0s 19ms/step - loss: 10.6100 - mae: 10.6100\n",
            "Epoch 11/100\n",
            "1/1 [==============================] - 0s 11ms/step - loss: 10.1304 - mae: 10.1304\n",
            "Epoch 12/100\n",
            "1/1 [==============================] - 0s 11ms/step - loss: 9.6477 - mae: 9.6477\n",
            "Epoch 13/100\n",
            "1/1 [==============================] - 0s 17ms/step - loss: 9.1663 - mae: 9.1663\n",
            "Epoch 14/100\n",
            "1/1 [==============================] - 0s 16ms/step - loss: 8.6517 - mae: 8.6517\n",
            "Epoch 15/100\n",
            "1/1 [==============================] - 0s 18ms/step - loss: 8.1066 - mae: 8.1066\n",
            "Epoch 16/100\n",
            "1/1 [==============================] - 0s 26ms/step - loss: 7.5248 - mae: 7.5248\n",
            "Epoch 17/100\n",
            "1/1 [==============================] - 0s 10ms/step - loss: 6.8866 - mae: 6.8866\n",
            "Epoch 18/100\n",
            "1/1 [==============================] - 0s 10ms/step - loss: 6.1939 - mae: 6.1939\n",
            "Epoch 19/100\n",
            "1/1 [==============================] - 0s 14ms/step - loss: 5.4398 - mae: 5.4398\n",
            "Epoch 20/100\n",
            "1/1 [==============================] - 0s 14ms/step - loss: 4.6179 - mae: 4.6179\n",
            "Epoch 21/100\n",
            "1/1 [==============================] - 0s 13ms/step - loss: 4.0350 - mae: 4.0350\n",
            "Epoch 22/100\n",
            "1/1 [==============================] - 0s 13ms/step - loss: 3.9420 - mae: 3.9420\n",
            "Epoch 23/100\n",
            "1/1 [==============================] - 0s 20ms/step - loss: 3.9012 - mae: 3.9012\n",
            "Epoch 24/100\n",
            "1/1 [==============================] - 0s 14ms/step - loss: 3.9175 - mae: 3.9175\n",
            "Epoch 25/100\n",
            "1/1 [==============================] - 0s 15ms/step - loss: 3.9145 - mae: 3.9145\n",
            "Epoch 26/100\n",
            "1/1 [==============================] - 0s 15ms/step - loss: 3.9003 - mae: 3.9003\n",
            "Epoch 27/100\n",
            "1/1 [==============================] - 0s 19ms/step - loss: 3.9224 - mae: 3.9224\n",
            "Epoch 28/100\n",
            "1/1 [==============================] - 0s 14ms/step - loss: 3.8755 - mae: 3.8755\n",
            "Epoch 29/100\n",
            "1/1 [==============================] - 0s 14ms/step - loss: 3.9292 - mae: 3.9292\n",
            "Epoch 30/100\n",
            "1/1 [==============================] - 0s 14ms/step - loss: 3.8645 - mae: 3.8645\n",
            "Epoch 31/100\n",
            "1/1 [==============================] - 0s 13ms/step - loss: 3.9210 - mae: 3.9210\n",
            "Epoch 32/100\n",
            "1/1 [==============================] - 0s 14ms/step - loss: 3.8711 - mae: 3.8711\n",
            "Epoch 33/100\n",
            "1/1 [==============================] - 0s 13ms/step - loss: 3.9013 - mae: 3.9013\n",
            "Epoch 34/100\n",
            "1/1 [==============================] - 0s 23ms/step - loss: 3.8859 - mae: 3.8859\n",
            "Epoch 35/100\n",
            "1/1 [==============================] - 0s 11ms/step - loss: 3.8788 - mae: 3.8788\n",
            "Epoch 36/100\n",
            "1/1 [==============================] - 0s 20ms/step - loss: 3.8926 - mae: 3.8926\n",
            "Epoch 37/100\n",
            "1/1 [==============================] - 0s 15ms/step - loss: 3.8537 - mae: 3.8537\n",
            "Epoch 38/100\n",
            "1/1 [==============================] - 0s 19ms/step - loss: 3.8996 - mae: 3.8996\n",
            "Epoch 39/100\n",
            "1/1 [==============================] - 0s 20ms/step - loss: 3.8353 - mae: 3.8353\n",
            "Epoch 40/100\n",
            "1/1 [==============================] - 0s 17ms/step - loss: 3.8987 - mae: 3.8987\n",
            "Epoch 41/100\n",
            "1/1 [==============================] - 0s 21ms/step - loss: 3.8446 - mae: 3.8446\n",
            "Epoch 42/100\n",
            "1/1 [==============================] - 0s 17ms/step - loss: 3.8812 - mae: 3.8812\n",
            "Epoch 43/100\n",
            "1/1 [==============================] - 0s 13ms/step - loss: 3.8570 - mae: 3.8570\n",
            "Epoch 44/100\n",
            "1/1 [==============================] - 0s 17ms/step - loss: 3.8560 - mae: 3.8560\n",
            "Epoch 45/100\n",
            "1/1 [==============================] - 0s 15ms/step - loss: 3.8640 - mae: 3.8640\n",
            "Epoch 46/100\n",
            "1/1 [==============================] - 0s 16ms/step - loss: 3.8306 - mae: 3.8306\n",
            "Epoch 47/100\n",
            "1/1 [==============================] - 0s 16ms/step - loss: 3.8711 - mae: 3.8711\n",
            "Epoch 48/100\n",
            "1/1 [==============================] - 0s 16ms/step - loss: 3.8073 - mae: 3.8073\n",
            "Epoch 49/100\n",
            "1/1 [==============================] - 0s 10ms/step - loss: 3.8757 - mae: 3.8757\n",
            "Epoch 50/100\n",
            "1/1 [==============================] - 0s 20ms/step - loss: 3.8223 - mae: 3.8223\n",
            "Epoch 51/100\n",
            "1/1 [==============================] - 0s 14ms/step - loss: 3.8573 - mae: 3.8573\n",
            "Epoch 52/100\n",
            "1/1 [==============================] - 0s 11ms/step - loss: 3.8293 - mae: 3.8293\n",
            "Epoch 53/100\n",
            "1/1 [==============================] - 0s 11ms/step - loss: 3.8319 - mae: 3.8319\n",
            "Epoch 54/100\n",
            "1/1 [==============================] - 0s 12ms/step - loss: 3.8365 - mae: 3.8365\n",
            "Epoch 55/100\n",
            "1/1 [==============================] - 0s 11ms/step - loss: 3.8062 - mae: 3.8062\n",
            "Epoch 56/100\n",
            "1/1 [==============================] - 0s 11ms/step - loss: 3.8438 - mae: 3.8438\n",
            "Epoch 57/100\n",
            "1/1 [==============================] - 0s 11ms/step - loss: 3.7804 - mae: 3.7804\n",
            "Epoch 58/100\n",
            "1/1 [==============================] - 0s 11ms/step - loss: 3.8564 - mae: 3.8564\n",
            "Epoch 59/100\n",
            "1/1 [==============================] - 0s 11ms/step - loss: 3.7954 - mae: 3.7954\n",
            "Epoch 60/100\n",
            "1/1 [==============================] - 0s 11ms/step - loss: 3.8322 - mae: 3.8322\n",
            "Epoch 61/100\n",
            "1/1 [==============================] - 0s 11ms/step - loss: 3.8027 - mae: 3.8027\n",
            "Epoch 62/100\n",
            "1/1 [==============================] - 0s 15ms/step - loss: 3.8065 - mae: 3.8065\n",
            "Epoch 63/100\n",
            "1/1 [==============================] - 0s 13ms/step - loss: 3.8101 - mae: 3.8101\n",
            "Epoch 64/100\n",
            "1/1 [==============================] - 0s 12ms/step - loss: 3.7806 - mae: 3.7806\n",
            "Epoch 65/100\n",
            "1/1 [==============================] - 0s 11ms/step - loss: 3.8176 - mae: 3.8176\n",
            "Epoch 66/100\n",
            "1/1 [==============================] - 0s 28ms/step - loss: 3.7574 - mae: 3.7574\n",
            "Epoch 67/100\n",
            "1/1 [==============================] - 0s 37ms/step - loss: 3.8332 - mae: 3.8332\n",
            "Epoch 68/100\n",
            "1/1 [==============================] - 0s 26ms/step - loss: 3.7697 - mae: 3.7697\n",
            "Epoch 69/100\n",
            "1/1 [==============================] - 0s 14ms/step - loss: 3.8058 - mae: 3.8058\n",
            "Epoch 70/100\n",
            "1/1 [==============================] - 0s 15ms/step - loss: 3.7771 - mae: 3.7771\n",
            "Epoch 71/100\n",
            "1/1 [==============================] - 0s 11ms/step - loss: 3.7798 - mae: 3.7798\n",
            "Epoch 72/100\n",
            "1/1 [==============================] - 0s 12ms/step - loss: 3.7847 - mae: 3.7847\n",
            "Epoch 73/100\n",
            "1/1 [==============================] - 0s 14ms/step - loss: 3.7536 - mae: 3.7536\n",
            "Epoch 74/100\n",
            "1/1 [==============================] - 0s 14ms/step - loss: 3.7924 - mae: 3.7924\n",
            "Epoch 75/100\n",
            "1/1 [==============================] - 0s 15ms/step - loss: 3.7374 - mae: 3.7374\n",
            "Epoch 76/100\n",
            "1/1 [==============================] - 0s 13ms/step - loss: 3.8043 - mae: 3.8043\n",
            "Epoch 77/100\n",
            "1/1 [==============================] - 0s 20ms/step - loss: 3.7451 - mae: 3.7451\n",
            "Epoch 78/100\n",
            "1/1 [==============================] - 0s 16ms/step - loss: 3.7781 - mae: 3.7781\n",
            "Epoch 79/100\n",
            "1/1 [==============================] - 0s 12ms/step - loss: 3.7527 - mae: 3.7527\n",
            "Epoch 80/100\n",
            "1/1 [==============================] - 0s 14ms/step - loss: 3.7518 - mae: 3.7518\n",
            "Epoch 81/100\n",
            "1/1 [==============================] - 0s 14ms/step - loss: 3.7604 - mae: 3.7604\n",
            "Epoch 82/100\n",
            "1/1 [==============================] - 0s 13ms/step - loss: 3.7253 - mae: 3.7253\n",
            "Epoch 83/100\n",
            "1/1 [==============================] - 0s 13ms/step - loss: 3.7733 - mae: 3.7733\n",
            "Epoch 84/100\n",
            "1/1 [==============================] - 0s 11ms/step - loss: 3.7138 - mae: 3.7138\n",
            "Epoch 85/100\n",
            "1/1 [==============================] - 0s 11ms/step - loss: 3.7756 - mae: 3.7756\n",
            "Epoch 86/100\n",
            "1/1 [==============================] - 0s 13ms/step - loss: 3.7214 - mae: 3.7214\n",
            "Epoch 87/100\n",
            "1/1 [==============================] - 0s 16ms/step - loss: 3.7491 - mae: 3.7491\n",
            "Epoch 88/100\n",
            "1/1 [==============================] - 0s 16ms/step - loss: 3.7292 - mae: 3.7292\n",
            "Epoch 89/100\n",
            "1/1 [==============================] - 0s 15ms/step - loss: 3.7225 - mae: 3.7225\n",
            "Epoch 90/100\n",
            "1/1 [==============================] - 0s 9ms/step - loss: 3.7372 - mae: 3.7372\n",
            "Epoch 91/100\n",
            "1/1 [==============================] - 0s 16ms/step - loss: 3.6985 - mae: 3.6985\n",
            "Epoch 92/100\n",
            "1/1 [==============================] - 0s 19ms/step - loss: 3.7533 - mae: 3.7533\n",
            "Epoch 93/100\n",
            "1/1 [==============================] - 0s 15ms/step - loss: 3.6909 - mae: 3.6909\n",
            "Epoch 94/100\n",
            "1/1 [==============================] - 0s 15ms/step - loss: 3.7456 - mae: 3.7456\n",
            "Epoch 95/100\n",
            "1/1 [==============================] - 0s 22ms/step - loss: 3.6988 - mae: 3.6988\n",
            "Epoch 96/100\n",
            "1/1 [==============================] - 0s 24ms/step - loss: 3.7188 - mae: 3.7188\n",
            "Epoch 97/100\n",
            "1/1 [==============================] - 0s 26ms/step - loss: 3.7068 - mae: 3.7068\n",
            "Epoch 98/100\n",
            "1/1 [==============================] - 0s 19ms/step - loss: 3.6918 - mae: 3.6918\n",
            "Epoch 99/100\n",
            "1/1 [==============================] - 0s 26ms/step - loss: 3.7150 - mae: 3.7150\n",
            "Epoch 100/100\n",
            "1/1 [==============================] - 0s 16ms/step - loss: 3.6725 - mae: 3.6725\n"
          ]
        },
        {
          "output_type": "execute_result",
          "data": {
            "text/plain": [
              "<keras.callbacks.History at 0x7f600af6b790>"
            ]
          },
          "metadata": {},
          "execution_count": 12
        }
      ]
    },
    {
      "cell_type": "code",
      "source": [
        "y_pred=model.predict([17.0])\n",
        "y_pred"
      ],
      "metadata": {
        "colab": {
          "base_uri": "https://localhost:8080/"
        },
        "id": "aVqmj1_JBo6b",
        "outputId": "dcb48c99-cb9c-474c-959e-27431d437fda"
      },
      "execution_count": null,
      "outputs": [
        {
          "output_type": "stream",
          "name": "stdout",
          "text": [
            "1/1 [==============================] - 0s 129ms/step\n"
          ]
        },
        {
          "output_type": "execute_result",
          "data": {
            "text/plain": [
              "array([[32.90066]], dtype=float32)"
            ]
          },
          "metadata": {},
          "execution_count": 13
        }
      ]
    },
    {
      "cell_type": "code",
      "source": [],
      "metadata": {
        "id": "j9DWF3upBrSl"
      },
      "execution_count": null,
      "outputs": []
    },
    {
      "cell_type": "markdown",
      "source": [
        "## Common ways to improve a deep model(Go Step By Step):\n",
        "* Adding layers\n",
        "* Increase the number of hidden units\n",
        "* Change the activation functions\n",
        "* Change the optimization function\n",
        "* Change Learning rate(Most important hyperparamter to change)\n",
        "* Fitting on more data\n",
        "* Fittin longer"
      ],
      "metadata": {
        "id": "mlsPqCivGpR5"
      }
    },
    {
      "cell_type": "code",
      "source": [
        "# Rebuilding\n",
        "\n",
        "#1. Create a model\n",
        "model = tf.keras.Sequential([\n",
        "    tf.keras.layers.Dense(100, activation=None),\n",
        "    tf.keras.layers.Dense(1)\n",
        "])\n",
        "\n",
        "#2. Compile the model\n",
        "model.compile(loss=tf.keras.losses.mae,\n",
        "              optimizer=tf.keras.optimizers.Adam(lr=0.01),\n",
        "              metrics=[\"mae\"])\n",
        "\n",
        "# Fit the model\n",
        "model.fit(tf.expand_dims(X, axis=-1),y,epochs=100)"
      ],
      "metadata": {
        "colab": {
          "base_uri": "https://localhost:8080/"
        },
        "id": "PmyOErguB698",
        "outputId": "4858dc44-f526-421b-a2a3-635ea7407a25"
      },
      "execution_count": null,
      "outputs": [
        {
          "output_type": "stream",
          "name": "stderr",
          "text": [
            "WARNING:absl:`lr` is deprecated in Keras optimizer, please use `learning_rate` or use the legacy optimizer, e.g.,tf.keras.optimizers.legacy.Adam.\n"
          ]
        },
        {
          "output_type": "stream",
          "name": "stdout",
          "text": [
            "Epoch 1/100\n",
            "1/1 [==============================] - 1s 1s/step - loss: 13.9135 - mae: 13.9135\n",
            "Epoch 2/100\n",
            "1/1 [==============================] - 0s 15ms/step - loss: 13.8204 - mae: 13.8204\n",
            "Epoch 3/100\n",
            "1/1 [==============================] - 0s 19ms/step - loss: 13.7273 - mae: 13.7273\n",
            "Epoch 4/100\n",
            "1/1 [==============================] - 0s 16ms/step - loss: 13.6342 - mae: 13.6342\n",
            "Epoch 5/100\n",
            "1/1 [==============================] - 0s 14ms/step - loss: 13.5412 - mae: 13.5412\n",
            "Epoch 6/100\n",
            "1/1 [==============================] - 0s 14ms/step - loss: 13.4481 - mae: 13.4481\n",
            "Epoch 7/100\n",
            "1/1 [==============================] - 0s 10ms/step - loss: 13.3550 - mae: 13.3550\n",
            "Epoch 8/100\n",
            "1/1 [==============================] - 0s 11ms/step - loss: 13.2619 - mae: 13.2619\n",
            "Epoch 9/100\n",
            "1/1 [==============================] - 0s 11ms/step - loss: 13.1688 - mae: 13.1688\n",
            "Epoch 10/100\n",
            "1/1 [==============================] - 0s 10ms/step - loss: 13.0755 - mae: 13.0755\n",
            "Epoch 11/100\n",
            "1/1 [==============================] - 0s 10ms/step - loss: 12.9823 - mae: 12.9823\n",
            "Epoch 12/100\n",
            "1/1 [==============================] - 0s 18ms/step - loss: 12.8889 - mae: 12.8889\n",
            "Epoch 13/100\n",
            "1/1 [==============================] - 0s 16ms/step - loss: 12.7955 - mae: 12.7955\n",
            "Epoch 14/100\n",
            "1/1 [==============================] - 0s 13ms/step - loss: 12.7020 - mae: 12.7020\n",
            "Epoch 15/100\n",
            "1/1 [==============================] - 0s 9ms/step - loss: 12.6083 - mae: 12.6083\n",
            "Epoch 16/100\n",
            "1/1 [==============================] - 0s 11ms/step - loss: 12.5146 - mae: 12.5146\n",
            "Epoch 17/100\n",
            "1/1 [==============================] - 0s 11ms/step - loss: 12.4207 - mae: 12.4207\n",
            "Epoch 18/100\n",
            "1/1 [==============================] - 0s 9ms/step - loss: 12.3266 - mae: 12.3266\n",
            "Epoch 19/100\n",
            "1/1 [==============================] - 0s 10ms/step - loss: 12.2324 - mae: 12.2324\n",
            "Epoch 20/100\n",
            "1/1 [==============================] - 0s 11ms/step - loss: 12.1381 - mae: 12.1381\n",
            "Epoch 21/100\n",
            "1/1 [==============================] - 0s 25ms/step - loss: 12.0435 - mae: 12.0435\n",
            "Epoch 22/100\n",
            "1/1 [==============================] - 0s 15ms/step - loss: 11.9487 - mae: 11.9487\n",
            "Epoch 23/100\n",
            "1/1 [==============================] - 0s 15ms/step - loss: 11.8538 - mae: 11.8538\n",
            "Epoch 24/100\n",
            "1/1 [==============================] - 0s 20ms/step - loss: 11.7585 - mae: 11.7585\n",
            "Epoch 25/100\n",
            "1/1 [==============================] - 0s 14ms/step - loss: 11.6631 - mae: 11.6631\n",
            "Epoch 26/100\n",
            "1/1 [==============================] - 0s 22ms/step - loss: 11.5674 - mae: 11.5674\n",
            "Epoch 27/100\n",
            "1/1 [==============================] - 0s 16ms/step - loss: 11.4714 - mae: 11.4714\n",
            "Epoch 28/100\n",
            "1/1 [==============================] - 0s 13ms/step - loss: 11.3751 - mae: 11.3751\n",
            "Epoch 29/100\n",
            "1/1 [==============================] - 0s 28ms/step - loss: 11.2786 - mae: 11.2786\n",
            "Epoch 30/100\n",
            "1/1 [==============================] - 0s 13ms/step - loss: 11.1817 - mae: 11.1817\n",
            "Epoch 31/100\n",
            "1/1 [==============================] - 0s 23ms/step - loss: 11.0844 - mae: 11.0844\n",
            "Epoch 32/100\n",
            "1/1 [==============================] - 0s 13ms/step - loss: 10.9869 - mae: 10.9869\n",
            "Epoch 33/100\n",
            "1/1 [==============================] - 0s 14ms/step - loss: 10.8889 - mae: 10.8889\n",
            "Epoch 34/100\n",
            "1/1 [==============================] - 0s 18ms/step - loss: 10.7906 - mae: 10.7906\n",
            "Epoch 35/100\n",
            "1/1 [==============================] - 0s 20ms/step - loss: 10.6918 - mae: 10.6918\n",
            "Epoch 36/100\n",
            "1/1 [==============================] - 0s 28ms/step - loss: 10.5927 - mae: 10.5927\n",
            "Epoch 37/100\n",
            "1/1 [==============================] - 0s 19ms/step - loss: 10.4931 - mae: 10.4931\n",
            "Epoch 38/100\n",
            "1/1 [==============================] - 0s 12ms/step - loss: 10.3930 - mae: 10.3930\n",
            "Epoch 39/100\n",
            "1/1 [==============================] - 0s 13ms/step - loss: 10.2925 - mae: 10.2925\n",
            "Epoch 40/100\n",
            "1/1 [==============================] - 0s 13ms/step - loss: 10.1914 - mae: 10.1914\n",
            "Epoch 41/100\n",
            "1/1 [==============================] - 0s 16ms/step - loss: 10.0899 - mae: 10.0899\n",
            "Epoch 42/100\n",
            "1/1 [==============================] - 0s 12ms/step - loss: 9.9878 - mae: 9.9878\n",
            "Epoch 43/100\n",
            "1/1 [==============================] - 0s 10ms/step - loss: 9.8852 - mae: 9.8852\n",
            "Epoch 44/100\n",
            "1/1 [==============================] - 0s 19ms/step - loss: 9.7821 - mae: 9.7821\n",
            "Epoch 45/100\n",
            "1/1 [==============================] - 0s 17ms/step - loss: 9.6783 - mae: 9.6783\n",
            "Epoch 46/100\n",
            "1/1 [==============================] - 0s 11ms/step - loss: 9.5740 - mae: 9.5740\n",
            "Epoch 47/100\n",
            "1/1 [==============================] - 0s 14ms/step - loss: 9.4690 - mae: 9.4690\n",
            "Epoch 48/100\n",
            "1/1 [==============================] - 0s 13ms/step - loss: 9.3634 - mae: 9.3634\n",
            "Epoch 49/100\n",
            "1/1 [==============================] - 0s 12ms/step - loss: 9.2571 - mae: 9.2571\n",
            "Epoch 50/100\n",
            "1/1 [==============================] - 0s 13ms/step - loss: 9.1502 - mae: 9.1502\n",
            "Epoch 51/100\n",
            "1/1 [==============================] - 0s 13ms/step - loss: 9.0426 - mae: 9.0426\n",
            "Epoch 52/100\n",
            "1/1 [==============================] - 0s 14ms/step - loss: 8.9343 - mae: 8.9343\n",
            "Epoch 53/100\n",
            "1/1 [==============================] - 0s 24ms/step - loss: 8.8252 - mae: 8.8252\n",
            "Epoch 54/100\n",
            "1/1 [==============================] - 0s 30ms/step - loss: 8.7154 - mae: 8.7154\n",
            "Epoch 55/100\n",
            "1/1 [==============================] - 0s 16ms/step - loss: 8.6049 - mae: 8.6049\n",
            "Epoch 56/100\n",
            "1/1 [==============================] - 0s 18ms/step - loss: 8.4936 - mae: 8.4936\n",
            "Epoch 57/100\n",
            "1/1 [==============================] - 0s 14ms/step - loss: 8.3814 - mae: 8.3814\n",
            "Epoch 58/100\n",
            "1/1 [==============================] - 0s 14ms/step - loss: 8.2685 - mae: 8.2685\n",
            "Epoch 59/100\n",
            "1/1 [==============================] - 0s 11ms/step - loss: 8.1547 - mae: 8.1547\n",
            "Epoch 60/100\n",
            "1/1 [==============================] - 0s 24ms/step - loss: 8.0401 - mae: 8.0401\n",
            "Epoch 61/100\n",
            "1/1 [==============================] - 0s 14ms/step - loss: 7.9246 - mae: 7.9246\n",
            "Epoch 62/100\n",
            "1/1 [==============================] - 0s 28ms/step - loss: 7.8083 - mae: 7.8083\n",
            "Epoch 63/100\n",
            "1/1 [==============================] - 0s 25ms/step - loss: 7.6910 - mae: 7.6910\n",
            "Epoch 64/100\n",
            "1/1 [==============================] - 0s 20ms/step - loss: 7.5728 - mae: 7.5728\n",
            "Epoch 65/100\n",
            "1/1 [==============================] - 0s 17ms/step - loss: 7.4537 - mae: 7.4537\n",
            "Epoch 66/100\n",
            "1/1 [==============================] - 0s 23ms/step - loss: 7.3336 - mae: 7.3336\n",
            "Epoch 67/100\n",
            "1/1 [==============================] - 0s 14ms/step - loss: 7.2126 - mae: 7.2126\n",
            "Epoch 68/100\n",
            "1/1 [==============================] - 0s 12ms/step - loss: 7.0906 - mae: 7.0906\n",
            "Epoch 69/100\n",
            "1/1 [==============================] - 0s 11ms/step - loss: 6.9676 - mae: 6.9676\n",
            "Epoch 70/100\n",
            "1/1 [==============================] - 0s 18ms/step - loss: 6.8435 - mae: 6.8435\n",
            "Epoch 71/100\n",
            "1/1 [==============================] - 0s 18ms/step - loss: 6.7235 - mae: 6.7235\n",
            "Epoch 72/100\n",
            "1/1 [==============================] - 0s 18ms/step - loss: 6.7086 - mae: 6.7086\n",
            "Epoch 73/100\n",
            "1/1 [==============================] - 0s 17ms/step - loss: 6.6941 - mae: 6.6941\n",
            "Epoch 74/100\n",
            "1/1 [==============================] - 0s 17ms/step - loss: 6.6798 - mae: 6.6798\n",
            "Epoch 75/100\n",
            "1/1 [==============================] - 0s 27ms/step - loss: 6.6658 - mae: 6.6658\n",
            "Epoch 76/100\n",
            "1/1 [==============================] - 0s 12ms/step - loss: 6.6519 - mae: 6.6519\n",
            "Epoch 77/100\n",
            "1/1 [==============================] - 0s 14ms/step - loss: 6.6383 - mae: 6.6383\n",
            "Epoch 78/100\n",
            "1/1 [==============================] - 0s 13ms/step - loss: 6.6248 - mae: 6.6248\n",
            "Epoch 79/100\n",
            "1/1 [==============================] - 0s 13ms/step - loss: 6.6221 - mae: 6.6221\n",
            "Epoch 80/100\n",
            "1/1 [==============================] - 0s 14ms/step - loss: 6.6428 - mae: 6.6428\n",
            "Epoch 81/100\n",
            "1/1 [==============================] - 0s 12ms/step - loss: 6.6539 - mae: 6.6539\n",
            "Epoch 82/100\n",
            "1/1 [==============================] - 0s 14ms/step - loss: 6.6561 - mae: 6.6561\n",
            "Epoch 83/100\n",
            "1/1 [==============================] - 0s 14ms/step - loss: 6.6505 - mae: 6.6505\n",
            "Epoch 84/100\n",
            "1/1 [==============================] - 0s 30ms/step - loss: 6.6377 - mae: 6.6377\n",
            "Epoch 85/100\n",
            "1/1 [==============================] - 0s 26ms/step - loss: 6.6186 - mae: 6.6186\n",
            "Epoch 86/100\n",
            "1/1 [==============================] - 0s 24ms/step - loss: 6.5937 - mae: 6.5937\n",
            "Epoch 87/100\n",
            "1/1 [==============================] - 0s 11ms/step - loss: 6.5637 - mae: 6.5637\n",
            "Epoch 88/100\n",
            "1/1 [==============================] - 0s 13ms/step - loss: 6.5292 - mae: 6.5292\n",
            "Epoch 89/100\n",
            "1/1 [==============================] - 0s 10ms/step - loss: 6.5123 - mae: 6.5123\n",
            "Epoch 90/100\n",
            "1/1 [==============================] - 0s 17ms/step - loss: 6.5041 - mae: 6.5041\n",
            "Epoch 91/100\n",
            "1/1 [==============================] - 0s 46ms/step - loss: 6.4955 - mae: 6.4955\n",
            "Epoch 92/100\n",
            "1/1 [==============================] - 0s 24ms/step - loss: 6.4866 - mae: 6.4866\n",
            "Epoch 93/100\n",
            "1/1 [==============================] - 0s 26ms/step - loss: 6.4774 - mae: 6.4774\n",
            "Epoch 94/100\n",
            "1/1 [==============================] - 0s 25ms/step - loss: 6.4679 - mae: 6.4679\n",
            "Epoch 95/100\n",
            "1/1 [==============================] - 0s 13ms/step - loss: 6.4581 - mae: 6.4581\n",
            "Epoch 96/100\n",
            "1/1 [==============================] - 0s 28ms/step - loss: 6.4481 - mae: 6.4481\n",
            "Epoch 97/100\n",
            "1/1 [==============================] - 0s 15ms/step - loss: 6.4379 - mae: 6.4379\n",
            "Epoch 98/100\n",
            "1/1 [==============================] - 0s 20ms/step - loss: 6.4275 - mae: 6.4275\n",
            "Epoch 99/100\n",
            "1/1 [==============================] - 0s 13ms/step - loss: 6.4169 - mae: 6.4169\n",
            "Epoch 100/100\n",
            "1/1 [==============================] - 0s 29ms/step - loss: 6.4061 - mae: 6.4061\n"
          ]
        },
        {
          "output_type": "execute_result",
          "data": {
            "text/plain": [
              "<keras.callbacks.History at 0x7f601916d5d0>"
            ]
          },
          "metadata": {},
          "execution_count": 14
        }
      ]
    },
    {
      "cell_type": "code",
      "source": [
        "y_pred=model.predict([11.])\n",
        "y_pred"
      ],
      "metadata": {
        "colab": {
          "base_uri": "https://localhost:8080/"
        },
        "id": "U1iTi82pHhgO",
        "outputId": "bf9f997d-dbdb-400f-f9ff-65b6a043f2cb"
      },
      "execution_count": null,
      "outputs": [
        {
          "output_type": "stream",
          "name": "stdout",
          "text": [
            "1/1 [==============================] - 0s 107ms/step\n"
          ]
        },
        {
          "output_type": "execute_result",
          "data": {
            "text/plain": [
              "array([[20.26717]], dtype=float32)"
            ]
          },
          "metadata": {},
          "execution_count": 15
        }
      ]
    },
    {
      "cell_type": "markdown",
      "source": [
        "## Evaluating Model\n",
        "\n",
        "Typical workflow when building a neural network\n",
        "\n",
        "`Build a model -> fit it-> evaluate it ->tweak the model-> fit it-> evaluate it ->tweak the model-> fit it-> evaluate it ->tweak the model....`\n"
      ],
      "metadata": {
        "id": "Gpo5Xdw6JdIf"
      }
    },
    {
      "cell_type": "markdown",
      "source": [
        "When evaluating a model, there are 3 words that one must know:\n",
        ">\"Visualize, Visualize and Visualize\"\n",
        "\n",
        "It is a good idea to visualize:\n",
        "* The data- what data are we working with? What does it look like?\n",
        "* The model itself- what does our model look like?\n",
        "* The training of model- how does a model perform while it learns?\n",
        "* The predictions of the model- how do the predictions of the model line up/ how correct are the predictions?\n"
      ],
      "metadata": {
        "id": "TgHzgfc6Ke0f"
      }
    },
    {
      "cell_type": "code",
      "source": [
        "# Making bigger dataset\n",
        "X = tf.range(-100,100,4)\n",
        "X"
      ],
      "metadata": {
        "colab": {
          "base_uri": "https://localhost:8080/"
        },
        "id": "A-cc68rIHrTd",
        "outputId": "016a132c-e3c0-4797-bd49-e8f442b847e2"
      },
      "execution_count": null,
      "outputs": [
        {
          "output_type": "execute_result",
          "data": {
            "text/plain": [
              "<tf.Tensor: shape=(50,), dtype=int32, numpy=\n",
              "array([-100,  -96,  -92,  -88,  -84,  -80,  -76,  -72,  -68,  -64,  -60,\n",
              "        -56,  -52,  -48,  -44,  -40,  -36,  -32,  -28,  -24,  -20,  -16,\n",
              "        -12,   -8,   -4,    0,    4,    8,   12,   16,   20,   24,   28,\n",
              "         32,   36,   40,   44,   48,   52,   56,   60,   64,   68,   72,\n",
              "         76,   80,   84,   88,   92,   96], dtype=int32)>"
            ]
          },
          "metadata": {},
          "execution_count": 16
        }
      ]
    },
    {
      "cell_type": "code",
      "source": [
        "y = X+10\n",
        "y"
      ],
      "metadata": {
        "colab": {
          "base_uri": "https://localhost:8080/"
        },
        "id": "BPEeObBELqjG",
        "outputId": "3494d69d-6537-4d06-e6f6-d5895325b859"
      },
      "execution_count": null,
      "outputs": [
        {
          "output_type": "execute_result",
          "data": {
            "text/plain": [
              "<tf.Tensor: shape=(50,), dtype=int32, numpy=\n",
              "array([-90, -86, -82, -78, -74, -70, -66, -62, -58, -54, -50, -46, -42,\n",
              "       -38, -34, -30, -26, -22, -18, -14, -10,  -6,  -2,   2,   6,  10,\n",
              "        14,  18,  22,  26,  30,  34,  38,  42,  46,  50,  54,  58,  62,\n",
              "        66,  70,  74,  78,  82,  86,  90,  94,  98, 102, 106], dtype=int32)>"
            ]
          },
          "metadata": {},
          "execution_count": 17
        }
      ]
    },
    {
      "cell_type": "code",
      "source": [
        "# Visualize data\n",
        "plt.scatter(X,y)"
      ],
      "metadata": {
        "colab": {
          "base_uri": "https://localhost:8080/",
          "height": 448
        },
        "id": "Tjs5Wb_uMFBZ",
        "outputId": "daf1d75e-0652-4dcb-b073-8dfa944e55c0"
      },
      "execution_count": null,
      "outputs": [
        {
          "output_type": "execute_result",
          "data": {
            "text/plain": [
              "<matplotlib.collections.PathCollection at 0x7f6018b97e20>"
            ]
          },
          "metadata": {},
          "execution_count": 18
        },
        {
          "output_type": "display_data",
          "data": {
            "text/plain": [
              "<Figure size 640x480 with 1 Axes>"
            ],
            "image/png": "[encoded data removed]"
          },
          "metadata": {}
        }
      ]
    },
    {
      "cell_type": "markdown",
      "source": [
        "## The 3 sets...\n",
        "* Training Set\n",
        "* Validation Set\n",
        "* Test Set"
      ],
      "metadata": {
        "id": "Xb2GDXf1LezB"
      }
    },
    {
      "cell_type": "code",
      "source": [
        "# Length of Samples\n",
        "len(X)"
      ],
      "metadata": {
        "colab": {
          "base_uri": "https://localhost:8080/"
        },
        "id": "aO3oAibEMNd0",
        "outputId": "7e808a05-2832-4d47-a3e8-13dac3f224fd"
      },
      "execution_count": null,
      "outputs": [
        {
          "output_type": "execute_result",
          "data": {
            "text/plain": [
              "50"
            ]
          },
          "metadata": {},
          "execution_count": 19
        }
      ]
    },
    {
      "cell_type": "code",
      "source": [
        "# Split data\n",
        "X_train = X[:40]\n",
        "y_train = y[:40]\n",
        "X_test = X[40:]\n",
        "y_test = y[40:]\n",
        "len(X_train), len(X_test), len(y_train), len(y_test)"
      ],
      "metadata": {
        "colab": {
          "base_uri": "https://localhost:8080/"
        },
        "id": "WyOZXG6ILUfG",
        "outputId": "9c9cf816-7f2c-4d6b-9d38-ad77feed0884"
      },
      "execution_count": null,
      "outputs": [
        {
          "output_type": "execute_result",
          "data": {
            "text/plain": [
              "(40, 10, 40, 10)"
            ]
          },
          "metadata": {},
          "execution_count": 20
        }
      ]
    },
    {
      "cell_type": "markdown",
      "source": [
        "### Visualizing the data\n",
        "\n",
        "Visualise training and testing data"
      ],
      "metadata": {
        "id": "vGdSdS5IMiLx"
      }
    },
    {
      "cell_type": "code",
      "source": [
        "plt.figure(figsize=(10,7))\n",
        "plt.scatter(X_train, y_train, c=\"b\", label=\"Training data\")\n",
        "plt.scatter(X_test, y_test, c=\"g\", label=\"Testing data\")\n",
        "plt.legend();"
      ],
      "metadata": {
        "colab": {
          "base_uri": "https://localhost:8080/",
          "height": 468
        },
        "id": "F5l1J5byMZqw",
        "outputId": "dc9373c5-0f72-4030-fb6d-dff66d80ea9c"
      },
      "execution_count": null,
      "outputs": [
        {
          "output_type": "display_data",
          "data": {
            "text/plain": [
              "<Figure size 1000x700 with 1 Axes>"
            ],
            "image/png": "[encoded data removed]"
          },
          "metadata": {}
        }
      ]
    },
    {
      "cell_type": "code",
      "source": [
        "# Building Neural network\n",
        "\n",
        "#1. Create a model\n",
        "model = tf.keras.Sequential([\n",
        "    #tf.keras.layers.Dense(100, activation=None),\n",
        "    tf.keras.layers.Dense(1)\n",
        "])\n",
        "\n",
        "#2. Compile the model\n",
        "model.compile(loss=tf.keras.losses.mae,\n",
        "              optimizer=tf.keras.optimizers.SGD(),#Adam(lr=0.01),\n",
        "              metrics=[\"mae\"])\n",
        "\n",
        "# Fit the model\n",
        "#model.fit(tf.expand_dims(X_train, axis=-1),y_train,epochs=100)"
      ],
      "metadata": {
        "id": "vB2PUO3ANGDI"
      },
      "execution_count": null,
      "outputs": []
    },
    {
      "cell_type": "code",
      "source": [
        "# Create a model which builds automatically by defining the input_shape argument\n",
        "#1. Create a model\n",
        "model = tf.keras.Sequential([\n",
        "    #tf.keras.layers.Dense(100, activation=None),\n",
        "    tf.keras.layers.Dense(1,input_shape=[1])\n",
        "])\n",
        "\n",
        "#2. Compile the model\n",
        "model.compile(loss=tf.keras.losses.mae,\n",
        "              optimizer=tf.keras.optimizers.SGD(),#Adam(lr=0.01),\n",
        "              metrics=[\"mae\"])"
      ],
      "metadata": {
        "id": "5k-REBVIOQSp"
      },
      "execution_count": null,
      "outputs": []
    },
    {
      "cell_type": "code",
      "source": [
        "model.summary()"
      ],
      "metadata": {
        "colab": {
          "base_uri": "https://localhost:8080/"
        },
        "id": "ImVqJr9icqEB",
        "outputId": "ff3c9502-8f35-4d62-fa48-a0d28fa1cc78"
      },
      "execution_count": null,
      "outputs": [
        {
          "output_type": "stream",
          "name": "stdout",
          "text": [
            "Model: \"sequential_5\"\n",
            "_________________________________________________________________\n",
            " Layer (type)                Output Shape              Param #   \n",
            "=================================================================\n",
            " dense_7 (Dense)             (None, 1)                 2         \n",
            "                                                                 \n",
            "=================================================================\n",
            "Total params: 2\n",
            "Trainable params: 2\n",
            "Non-trainable params: 0\n",
            "_________________________________________________________________\n"
          ]
        }
      ]
    },
    {
      "cell_type": "markdown",
      "source": [
        "* Total params: total number of params in model.\n",
        "* Trainable params: params(patterns) the model can update as it trains.\n",
        "* Non-trainable params: these parameters aren't updated during training (this is typical when you bring already learnt patterns or parameters from other models during **transfer learning**)"
      ],
      "metadata": {
        "id": "Hx7dcbrec_64"
      }
    },
    {
      "cell_type": "code",
      "source": [
        "model.fit(X_train,y_train,epochs=100,verbose=0)"
      ],
      "metadata": {
        "colab": {
          "base_uri": "https://localhost:8080/"
        },
        "id": "55lH1Cjacsnc",
        "outputId": "c3a7156a-ace5-458f-becb-5a34925f6915"
      },
      "execution_count": null,
      "outputs": [
        {
          "output_type": "execute_result",
          "data": {
            "text/plain": [
              "<keras.callbacks.History at 0x7f6018a63940>"
            ]
          },
          "metadata": {},
          "execution_count": 25
        }
      ]
    },
    {
      "cell_type": "code",
      "source": [
        "model.summary()"
      ],
      "metadata": {
        "colab": {
          "base_uri": "https://localhost:8080/"
        },
        "id": "X_CLVfrlNqiu",
        "outputId": "129fbd74-5fed-4f88-f71a-936f30aedaf4"
      },
      "execution_count": null,
      "outputs": [
        {
          "output_type": "stream",
          "name": "stdout",
          "text": [
            "Model: \"sequential_5\"\n",
            "_________________________________________________________________\n",
            " Layer (type)                Output Shape              Param #   \n",
            "=================================================================\n",
            " dense_7 (Dense)             (None, 1)                 2         \n",
            "                                                                 \n",
            "=================================================================\n",
            "Total params: 2\n",
            "Trainable params: 2\n",
            "Non-trainable params: 0\n",
            "_________________________________________________________________\n"
          ]
        }
      ]
    },
    {
      "cell_type": "code",
      "source": [
        "# Create a model which builds automatically by defining the input_shape argument\n",
        "#1. Create a model\n",
        "model = tf.keras.Sequential([\n",
        "    #tf.keras.layers.Dense(100, activation=None),\n",
        "    tf.keras.layers.Dense(10,input_shape=[1],name=\"input_layer\"),\n",
        "    tf.keras.layers.Dense(1,name='output_layer')\n",
        "],name='model_1')\n",
        "\n",
        "#2. Compile the model\n",
        "model.compile(loss=tf.keras.losses.mae,\n",
        "              optimizer=tf.keras.optimizers.SGD(),#Adam(lr=0.001),\n",
        "              metrics=[\"mae\"])"
      ],
      "metadata": {
        "id": "vGwsGWlHN0ra"
      },
      "execution_count": null,
      "outputs": []
    },
    {
      "cell_type": "code",
      "source": [
        "model.fit(X_train,y_train,epochs=100,verbose=1)"
      ],
      "metadata": {
        "colab": {
          "base_uri": "https://localhost:8080/"
        },
        "id": "rBdZMY05PSab",
        "outputId": "57cee018-adf2-478d-d47d-1813a66c4a41"
      },
      "execution_count": null,
      "outputs": [
        {
          "output_type": "stream",
          "name": "stdout",
          "text": [
            "Epoch 1/100\n",
            "2/2 [==============================] - 1s 15ms/step - loss: 45.8274 - mae: 45.8274\n",
            "Epoch 2/100\n",
            "2/2 [==============================] - 0s 13ms/step - loss: 29.6761 - mae: 29.6761\n",
            "Epoch 3/100\n",
            "2/2 [==============================] - 0s 14ms/step - loss: 17.9388 - mae: 17.9388\n",
            "Epoch 4/100\n",
            "2/2 [==============================] - 0s 17ms/step - loss: 13.1715 - mae: 13.1715\n",
            "Epoch 5/100\n",
            "2/2 [==============================] - 0s 17ms/step - loss: 14.5030 - mae: 14.5030\n",
            "Epoch 6/100\n",
            "2/2 [==============================] - 0s 19ms/step - loss: 11.5671 - mae: 11.5671\n",
            "Epoch 7/100\n",
            "2/2 [==============================] - 0s 14ms/step - loss: 12.6147 - mae: 12.6147\n",
            "Epoch 8/100\n",
            "2/2 [==============================] - 0s 13ms/step - loss: 11.0194 - mae: 11.0194\n",
            "Epoch 9/100\n",
            "2/2 [==============================] - 0s 11ms/step - loss: 39.5064 - mae: 39.5064\n",
            "Epoch 10/100\n",
            "2/2 [==============================] - 0s 14ms/step - loss: 27.0231 - mae: 27.0231\n",
            "Epoch 11/100\n",
            "2/2 [==============================] - 0s 13ms/step - loss: 11.0365 - mae: 11.0365\n",
            "Epoch 12/100\n",
            "2/2 [==============================] - 0s 12ms/step - loss: 24.4696 - mae: 24.4696\n",
            "Epoch 13/100\n",
            "2/2 [==============================] - 0s 20ms/step - loss: 19.1841 - mae: 19.1841\n",
            "Epoch 14/100\n",
            "2/2 [==============================] - 0s 12ms/step - loss: 23.3775 - mae: 23.3775\n",
            "Epoch 15/100\n",
            "2/2 [==============================] - 0s 13ms/step - loss: 15.2072 - mae: 15.2072\n",
            "Epoch 16/100\n",
            "2/2 [==============================] - 0s 12ms/step - loss: 11.3334 - mae: 11.3334\n",
            "Epoch 17/100\n",
            "2/2 [==============================] - 0s 12ms/step - loss: 23.1158 - mae: 23.1158\n",
            "Epoch 18/100\n",
            "2/2 [==============================] - 0s 7ms/step - loss: 11.7473 - mae: 11.7473\n",
            "Epoch 19/100\n",
            "2/2 [==============================] - 0s 14ms/step - loss: 16.4055 - mae: 16.4055\n",
            "Epoch 20/100\n",
            "2/2 [==============================] - 0s 12ms/step - loss: 8.2483 - mae: 8.2483\n",
            "Epoch 21/100\n",
            "2/2 [==============================] - 0s 15ms/step - loss: 14.4500 - mae: 14.4500\n",
            "Epoch 22/100\n",
            "2/2 [==============================] - 0s 13ms/step - loss: 12.8674 - mae: 12.8674\n",
            "Epoch 23/100\n",
            "2/2 [==============================] - 0s 8ms/step - loss: 15.5011 - mae: 15.5011\n",
            "Epoch 24/100\n",
            "2/2 [==============================] - 0s 13ms/step - loss: 15.2916 - mae: 15.2916\n",
            "Epoch 25/100\n",
            "2/2 [==============================] - 0s 14ms/step - loss: 14.3565 - mae: 14.3565\n",
            "Epoch 26/100\n",
            "2/2 [==============================] - 0s 15ms/step - loss: 19.3757 - mae: 19.3757\n",
            "Epoch 27/100\n",
            "2/2 [==============================] - 0s 14ms/step - loss: 11.4376 - mae: 11.4376\n",
            "Epoch 28/100\n",
            "2/2 [==============================] - 0s 13ms/step - loss: 28.9980 - mae: 28.9980\n",
            "Epoch 29/100\n",
            "2/2 [==============================] - 0s 17ms/step - loss: 9.2514 - mae: 9.2514\n",
            "Epoch 30/100\n",
            "2/2 [==============================] - 0s 11ms/step - loss: 29.7541 - mae: 29.7541\n",
            "Epoch 31/100\n",
            "2/2 [==============================] - 0s 14ms/step - loss: 53.9786 - mae: 53.9786\n",
            "Epoch 32/100\n",
            "2/2 [==============================] - 0s 10ms/step - loss: 9.5517 - mae: 9.5517\n",
            "Epoch 33/100\n",
            "2/2 [==============================] - 0s 11ms/step - loss: 12.1402 - mae: 12.1402\n",
            "Epoch 34/100\n",
            "2/2 [==============================] - 0s 10ms/step - loss: 23.8020 - mae: 23.8020\n",
            "Epoch 35/100\n",
            "2/2 [==============================] - 0s 12ms/step - loss: 12.6381 - mae: 12.6381\n",
            "Epoch 36/100\n",
            "2/2 [==============================] - 0s 13ms/step - loss: 21.5690 - mae: 21.5690\n",
            "Epoch 37/100\n",
            "2/2 [==============================] - 0s 19ms/step - loss: 11.3469 - mae: 11.3469\n",
            "Epoch 38/100\n",
            "2/2 [==============================] - 0s 13ms/step - loss: 13.4080 - mae: 13.4080\n",
            "Epoch 39/100\n",
            "2/2 [==============================] - 0s 19ms/step - loss: 10.7632 - mae: 10.7632\n",
            "Epoch 40/100\n",
            "2/2 [==============================] - 0s 17ms/step - loss: 16.5158 - mae: 16.5158\n",
            "Epoch 41/100\n",
            "2/2 [==============================] - 0s 22ms/step - loss: 10.9328 - mae: 10.9328\n",
            "Epoch 42/100\n",
            "2/2 [==============================] - 0s 12ms/step - loss: 9.2701 - mae: 9.2701\n",
            "Epoch 43/100\n",
            "2/2 [==============================] - 0s 20ms/step - loss: 9.5841 - mae: 9.5841\n",
            "Epoch 44/100\n",
            "2/2 [==============================] - 0s 17ms/step - loss: 27.8681 - mae: 27.8681\n",
            "Epoch 45/100\n",
            "2/2 [==============================] - 0s 8ms/step - loss: 11.2520 - mae: 11.2520\n",
            "Epoch 46/100\n",
            "2/2 [==============================] - 0s 15ms/step - loss: 13.8326 - mae: 13.8326\n",
            "Epoch 47/100\n",
            "2/2 [==============================] - 0s 14ms/step - loss: 11.9308 - mae: 11.9308\n",
            "Epoch 48/100\n",
            "2/2 [==============================] - 0s 16ms/step - loss: 16.9710 - mae: 16.9710\n",
            "Epoch 49/100\n",
            "2/2 [==============================] - 0s 7ms/step - loss: 9.7645 - mae: 9.7645\n",
            "Epoch 50/100\n",
            "2/2 [==============================] - 0s 25ms/step - loss: 14.1487 - mae: 14.1487\n",
            "Epoch 51/100\n",
            "2/2 [==============================] - 0s 18ms/step - loss: 11.7296 - mae: 11.7296\n",
            "Epoch 52/100\n",
            "2/2 [==============================] - 0s 13ms/step - loss: 31.3373 - mae: 31.3373\n",
            "Epoch 53/100\n",
            "2/2 [==============================] - 0s 9ms/step - loss: 14.7033 - mae: 14.7033\n",
            "Epoch 54/100\n",
            "2/2 [==============================] - 0s 34ms/step - loss: 24.5766 - mae: 24.5766\n",
            "Epoch 55/100\n",
            "2/2 [==============================] - 0s 26ms/step - loss: 23.8565 - mae: 23.8565\n",
            "Epoch 56/100\n",
            "2/2 [==============================] - 0s 20ms/step - loss: 11.1085 - mae: 11.1085\n",
            "Epoch 57/100\n",
            "2/2 [==============================] - 0s 21ms/step - loss: 13.0428 - mae: 13.0428\n",
            "Epoch 58/100\n",
            "2/2 [==============================] - 0s 10ms/step - loss: 9.7711 - mae: 9.7711\n",
            "Epoch 59/100\n",
            "2/2 [==============================] - 0s 14ms/step - loss: 13.2198 - mae: 13.2198\n",
            "Epoch 60/100\n",
            "2/2 [==============================] - 0s 44ms/step - loss: 10.8226 - mae: 10.8226\n",
            "Epoch 61/100\n",
            "2/2 [==============================] - 0s 18ms/step - loss: 13.3999 - mae: 13.3999\n",
            "Epoch 62/100\n",
            "2/2 [==============================] - 0s 20ms/step - loss: 17.3558 - mae: 17.3558\n",
            "Epoch 63/100\n",
            "2/2 [==============================] - 0s 19ms/step - loss: 9.1308 - mae: 9.1308\n",
            "Epoch 64/100\n",
            "2/2 [==============================] - 0s 30ms/step - loss: 17.9772 - mae: 17.9772\n",
            "Epoch 65/100\n",
            "2/2 [==============================] - 0s 12ms/step - loss: 10.6169 - mae: 10.6169\n",
            "Epoch 66/100\n",
            "2/2 [==============================] - 0s 18ms/step - loss: 21.5031 - mae: 21.5031\n",
            "Epoch 67/100\n",
            "2/2 [==============================] - 0s 15ms/step - loss: 10.6302 - mae: 10.6302\n",
            "Epoch 68/100\n",
            "2/2 [==============================] - 0s 14ms/step - loss: 14.8822 - mae: 14.8822\n",
            "Epoch 69/100\n",
            "2/2 [==============================] - 0s 18ms/step - loss: 10.7783 - mae: 10.7783\n",
            "Epoch 70/100\n",
            "2/2 [==============================] - 0s 15ms/step - loss: 12.8813 - mae: 12.8813\n",
            "Epoch 71/100\n",
            "2/2 [==============================] - 0s 10ms/step - loss: 13.3026 - mae: 13.3026\n",
            "Epoch 72/100\n",
            "2/2 [==============================] - 0s 22ms/step - loss: 20.1751 - mae: 20.1751\n",
            "Epoch 73/100\n",
            "2/2 [==============================] - 0s 12ms/step - loss: 9.7357 - mae: 9.7357\n",
            "Epoch 74/100\n",
            "2/2 [==============================] - 0s 13ms/step - loss: 27.4948 - mae: 27.4948\n",
            "Epoch 75/100\n",
            "2/2 [==============================] - 0s 16ms/step - loss: 10.0291 - mae: 10.0291\n",
            "Epoch 76/100\n",
            "2/2 [==============================] - 0s 19ms/step - loss: 12.9510 - mae: 12.9510\n",
            "Epoch 77/100\n",
            "2/2 [==============================] - 0s 17ms/step - loss: 17.9727 - mae: 17.9727\n",
            "Epoch 78/100\n",
            "2/2 [==============================] - 0s 9ms/step - loss: 8.9618 - mae: 8.9618\n",
            "Epoch 79/100\n",
            "2/2 [==============================] - 0s 11ms/step - loss: 28.8326 - mae: 28.8326\n",
            "Epoch 80/100\n",
            "2/2 [==============================] - 0s 27ms/step - loss: 31.1888 - mae: 31.1888\n",
            "Epoch 81/100\n",
            "2/2 [==============================] - 0s 13ms/step - loss: 13.5950 - mae: 13.5950\n",
            "Epoch 82/100\n",
            "2/2 [==============================] - 0s 19ms/step - loss: 15.8518 - mae: 15.8518\n",
            "Epoch 83/100\n",
            "2/2 [==============================] - 0s 13ms/step - loss: 9.1411 - mae: 9.1411\n",
            "Epoch 84/100\n",
            "2/2 [==============================] - 0s 10ms/step - loss: 8.1992 - mae: 8.1992\n",
            "Epoch 85/100\n",
            "2/2 [==============================] - 0s 10ms/step - loss: 18.8616 - mae: 18.8616\n",
            "Epoch 86/100\n",
            "2/2 [==============================] - 0s 9ms/step - loss: 22.0066 - mae: 22.0066\n",
            "Epoch 87/100\n",
            "2/2 [==============================] - 0s 15ms/step - loss: 11.2165 - mae: 11.2165\n",
            "Epoch 88/100\n",
            "2/2 [==============================] - 0s 13ms/step - loss: 25.9713 - mae: 25.9713\n",
            "Epoch 89/100\n",
            "2/2 [==============================] - 0s 35ms/step - loss: 9.5235 - mae: 9.5235\n",
            "Epoch 90/100\n",
            "2/2 [==============================] - 0s 40ms/step - loss: 18.2745 - mae: 18.2745\n",
            "Epoch 91/100\n",
            "2/2 [==============================] - 0s 40ms/step - loss: 10.3296 - mae: 10.3296\n",
            "Epoch 92/100\n",
            "2/2 [==============================] - 0s 19ms/step - loss: 17.5262 - mae: 17.5262\n",
            "Epoch 93/100\n",
            "2/2 [==============================] - 0s 23ms/step - loss: 6.8240 - mae: 6.8240\n",
            "Epoch 94/100\n",
            "2/2 [==============================] - 0s 25ms/step - loss: 17.6461 - mae: 17.6461\n",
            "Epoch 95/100\n",
            "2/2 [==============================] - 0s 23ms/step - loss: 17.3582 - mae: 17.3582\n",
            "Epoch 96/100\n",
            "2/2 [==============================] - 0s 25ms/step - loss: 11.5287 - mae: 11.5287\n",
            "Epoch 97/100\n",
            "2/2 [==============================] - 0s 23ms/step - loss: 18.2963 - mae: 18.2963\n",
            "Epoch 98/100\n",
            "2/2 [==============================] - 0s 27ms/step - loss: 9.7457 - mae: 9.7457\n",
            "Epoch 99/100\n",
            "2/2 [==============================] - 0s 15ms/step - loss: 16.9322 - mae: 16.9322\n",
            "Epoch 100/100\n",
            "2/2 [==============================] - 0s 15ms/step - loss: 17.8025 - mae: 17.8025\n"
          ]
        },
        {
          "output_type": "execute_result",
          "data": {
            "text/plain": [
              "<keras.callbacks.History at 0x7f6018a604f0>"
            ]
          },
          "metadata": {},
          "execution_count": 28
        }
      ]
    },
    {
      "cell_type": "code",
      "source": [
        "model.summary()"
      ],
      "metadata": {
        "colab": {
          "base_uri": "https://localhost:8080/"
        },
        "id": "QdGkZrTCOBlJ",
        "outputId": "2aee5d74-fb5c-4d97-b6d8-cb7975456257"
      },
      "execution_count": null,
      "outputs": [
        {
          "output_type": "stream",
          "name": "stdout",
          "text": [
            "Model: \"model_1\"\n",
            "_________________________________________________________________\n",
            " Layer (type)                Output Shape              Param #   \n",
            "=================================================================\n",
            " input_layer (Dense)         (None, 10)                20        \n",
            "                                                                 \n",
            " output_layer (Dense)        (None, 1)                 11        \n",
            "                                                                 \n",
            "=================================================================\n",
            "Total params: 31\n",
            "Trainable params: 31\n",
            "Non-trainable params: 0\n",
            "_________________________________________________________________\n"
          ]
        }
      ]
    },
    {
      "cell_type": "code",
      "source": [
        "from tensorflow.keras.utils import plot_model\n",
        "plot_model(model,show_shapes=True)"
      ],
      "metadata": {
        "colab": {
          "base_uri": "https://localhost:8080/",
          "height": 312
        },
        "id": "RcXK-lz4ODBY",
        "outputId": "d50405bd-2bd6-44a0-eed4-9aa85d695092"
      },
      "execution_count": null,
      "outputs": [
        {
          "output_type": "execute_result",
          "data": {
            "image/png": "[encoded data removed]",
            "text/plain": [
              "<IPython.core.display.Image object>"
            ]
          },
          "metadata": {},
          "execution_count": 30
        }
      ]
    },
    {
      "cell_type": "markdown",
      "source": [
        "### Visualize model predictions.\n",
        "y_test vs y_pred\n"
      ],
      "metadata": {
        "id": "LbdxvwMMQCLH"
      }
    },
    {
      "cell_type": "code",
      "source": [
        "y_pred = model.predict(X_test)\n",
        "y_pred"
      ],
      "metadata": {
        "colab": {
          "base_uri": "https://localhost:8080/"
        },
        "id": "O3BUFuU3OR-f",
        "outputId": "597730e2-a5e0-4a3f-b47f-fa8206795913"
      },
      "execution_count": null,
      "outputs": [
        {
          "output_type": "stream",
          "name": "stderr",
          "text": [
            "WARNING:tensorflow:5 out of the last 6 calls to <function Model.make_predict_function.<locals>.predict_function at 0x7f6018a485e0> triggered tf.function retracing. Tracing is expensive and the excessive number of tracings could be due to (1) creating @tf.function repeatedly in a loop, (2) passing tensors with different shapes, (3) passing Python objects instead of tensors. For (1), please define your @tf.function outside of the loop. For (2), @tf.function has reduce_retracing=True option that can avoid unnecessary retracing. For (3), please refer to https://www.tensorflow.org/guide/function#controlling_retracing and https://www.tensorflow.org/api_docs/python/tf/function for  more details.\n"
          ]
        },
        {
          "output_type": "stream",
          "name": "stdout",
          "text": [
            "1/1 [==============================] - 0s 87ms/step\n"
          ]
        },
        {
          "output_type": "execute_result",
          "data": {
            "text/plain": [
              "array([[34.921898],\n",
              "       [37.15353 ],\n",
              "       [39.385162],\n",
              "       [41.616795],\n",
              "       [43.848423],\n",
              "       [46.080055],\n",
              "       [48.311687],\n",
              "       [50.543316],\n",
              "       [52.774952],\n",
              "       [55.00658 ]], dtype=float32)"
            ]
          },
          "metadata": {},
          "execution_count": 31
        }
      ]
    },
    {
      "cell_type": "code",
      "source": [
        "y_test"
      ],
      "metadata": {
        "colab": {
          "base_uri": "https://localhost:8080/"
        },
        "id": "mhMOgB_PQQ5C",
        "outputId": "71f36bf0-b76e-4181-e2da-737ce8746477"
      },
      "execution_count": null,
      "outputs": [
        {
          "output_type": "execute_result",
          "data": {
            "text/plain": [
              "<tf.Tensor: shape=(10,), dtype=int32, numpy=array([ 70,  74,  78,  82,  86,  90,  94,  98, 102, 106], dtype=int32)>"
            ]
          },
          "metadata": {},
          "execution_count": 32
        }
      ]
    },
    {
      "cell_type": "code",
      "source": [
        "# Plotting function\n",
        "def plot_predictions(train_data=X_train,\n",
        "                     train_labels=y_train,\n",
        "                     test_data=X_test,\n",
        "                     test_labels=y_test,\n",
        "                     predictions=y_pred):\n",
        "  '''Plots y_test vs  y_pred'''\n",
        "  plt.figure(figsize=(10,7))\n",
        "  plt.scatter(train_data, train_labels, c=\"b\", label=\"Training data\")\n",
        "  plt.scatter(test_data, test_labels, c=\"g\", label=\"Testing data\")\n",
        "  plt.scatter(test_data, predictions, c=\"r\", label=\"Predictions\")\n",
        "  plt.legend();"
      ],
      "metadata": {
        "id": "yPvTkklvQWQN"
      },
      "execution_count": null,
      "outputs": []
    },
    {
      "cell_type": "code",
      "source": [
        "plot_predictions()"
      ],
      "metadata": {
        "colab": {
          "base_uri": "https://localhost:8080/",
          "height": 468
        },
        "id": "ci9HZWiiRphX",
        "outputId": "4db7f192-c518-43c3-d04e-3d06301aa60b"
      },
      "execution_count": null,
      "outputs": [
        {
          "output_type": "display_data",
          "data": {
            "text/plain": [
              "<Figure size 1000x700 with 1 Axes>"
            ],
            "image/png": "[encoded data removed]"
          },
          "metadata": {}
        }
      ]
    },
    {
      "cell_type": "markdown",
      "source": [
        "### Evaluating model predictions with regression evaluation matrix\n",
        "\n",
        "Depending on the problem, we will use different evaluation matrix\n",
        "\n",
        "Two main matrix used with regression:\n",
        "* MAE- mean absolute error(great starter matrix for a regression problem)\n",
        "* MSE- Mean Squared Error(When larger errors are more significant than smaller error)\n",
        "* Huber-Combination of MSE and MAE. Less sensitive to outliers than MSE."
      ],
      "metadata": {
        "id": "z50Mgrc1EBgX"
      }
    },
    {
      "cell_type": "code",
      "source": [
        "model.evaluate(X_test, y_test)"
      ],
      "metadata": {
        "colab": {
          "base_uri": "https://localhost:8080/"
        },
        "id": "CHTx9_Q0RrnN",
        "outputId": "b55bf684-5554-4516-a2d6-ba71270daede"
      },
      "execution_count": null,
      "outputs": [
        {
          "output_type": "stream",
          "name": "stdout",
          "text": [
            "1/1 [==============================] - 0s 297ms/step - loss: 43.0358 - mae: 43.0358\n"
          ]
        },
        {
          "output_type": "execute_result",
          "data": {
            "text/plain": [
              "[43.03575897216797, 43.03575897216797]"
            ]
          },
          "metadata": {},
          "execution_count": 35
        }
      ]
    },
    {
      "cell_type": "code",
      "source": [
        "tf.keras.losses.MAE(y_test,y_pred)"
      ],
      "metadata": {
        "colab": {
          "base_uri": "https://localhost:8080/"
        },
        "id": "k9LCcvwtGP6L",
        "outputId": "1fb187b1-ed04-416e-cefb-37d5d6cad7b6"
      },
      "execution_count": null,
      "outputs": [
        {
          "output_type": "execute_result",
          "data": {
            "text/plain": [
              "<tf.Tensor: shape=(10,), dtype=float32, numpy=\n",
              "array([53.078102, 50.84647 , 48.614838, 46.383205, 44.151577, 41.919945,\n",
              "       39.688313, 37.456684, 35.225048, 32.99342 ], dtype=float32)>"
            ]
          },
          "metadata": {},
          "execution_count": 36
        }
      ]
    },
    {
      "cell_type": "code",
      "source": [
        "tf.metrics.mean_absolute_error(y_test,y_pred)"
      ],
      "metadata": {
        "colab": {
          "base_uri": "https://localhost:8080/"
        },
        "id": "eLzEeXefGfqR",
        "outputId": "e1601ae6-dc1b-4106-8756-791ec0ebf12e"
      },
      "execution_count": null,
      "outputs": [
        {
          "output_type": "execute_result",
          "data": {
            "text/plain": [
              "<tf.Tensor: shape=(10,), dtype=float32, numpy=\n",
              "array([53.078102, 50.84647 , 48.614838, 46.383205, 44.151577, 41.919945,\n",
              "       39.688313, 37.456684, 35.225048, 32.99342 ], dtype=float32)>"
            ]
          },
          "metadata": {},
          "execution_count": 37
        }
      ]
    },
    {
      "cell_type": "code",
      "source": [
        "mae=tf.metrics.mean_absolute_error(y_test,tf.squeeze(y_pred))\n",
        "mae"
      ],
      "metadata": {
        "colab": {
          "base_uri": "https://localhost:8080/"
        },
        "id": "XalFvnL_GzCM",
        "outputId": "33011538-4246-45c7-bcf2-bb41f45f5ffb"
      },
      "execution_count": null,
      "outputs": [
        {
          "output_type": "execute_result",
          "data": {
            "text/plain": [
              "<tf.Tensor: shape=(), dtype=float32, numpy=43.03576>"
            ]
          },
          "metadata": {},
          "execution_count": 38
        }
      ]
    },
    {
      "cell_type": "code",
      "source": [
        "mse=tf.metrics.mean_squared_error(y_test,tf.squeeze(y_pred))\n",
        "mse"
      ],
      "metadata": {
        "colab": {
          "base_uri": "https://localhost:8080/"
        },
        "id": "y1aQlFaUHjlU",
        "outputId": "f450ca1a-8bff-4484-e502-21a0793f80b8"
      },
      "execution_count": null,
      "outputs": [
        {
          "output_type": "execute_result",
          "data": {
            "text/plain": [
              "<tf.Tensor: shape=(), dtype=float32, numpy=1877.8754>"
            ]
          },
          "metadata": {},
          "execution_count": 39
        }
      ]
    },
    {
      "cell_type": "markdown",
      "source": [
        "### Running experiments to improve model\n",
        "\n",
        "1. Get more data\n",
        "2. Make model larger and more complex\n",
        "3. Train for longer\n",
        "\n",
        "3 modelling experiments:\n",
        "\n",
        "1. `model_1` - 1 layer, 100 epochs.\n",
        "\n",
        "2. `model_2` - 2 layer, 100 epochs.\n",
        "\n",
        "3. `model_3` - 2 layers, 500 epochs."
      ],
      "metadata": {
        "id": "3d3vH0bLAll2"
      }
    },
    {
      "cell_type": "markdown",
      "source": [
        "# **Build `model_1`**"
      ],
      "metadata": {
        "id": "Rrj-oWmkCjzq"
      }
    },
    {
      "cell_type": "code",
      "source": [
        "# Setting random seed\n",
        "tf.random.set_seed(42)\n",
        "\n",
        "#1. Create the model\n",
        "model_1 = tf.keras.Sequential([\n",
        "    tf.keras.layers.Dense(1)\n",
        "])\n",
        "\n",
        "#2. Compile\n",
        "model_1.compile(loss=tf.keras.losses.mae,\n",
        "                optimizer=tf.keras.optimizers.SGD(),\n",
        "                metrics=['mae'])\n",
        "model_1.fit(tf.expand_dims(X_train,axis=-1),y_train, epochs=100)"
      ],
      "metadata": {
        "id": "I7Xk9rPSHqjY",
        "colab": {
          "base_uri": "https://localhost:8080/"
        },
        "outputId": "ddcae647-0436-461c-8fde-3a3ee4c60da1"
      },
      "execution_count": null,
      "outputs": [
        {
          "output_type": "stream",
          "name": "stdout",
          "text": [
            "Epoch 1/100\n",
            "2/2 [==============================] - 1s 18ms/step - loss: 52.2786 - mae: 52.2786\n",
            "Epoch 2/100\n",
            "2/2 [==============================] - 0s 14ms/step - loss: 18.8693 - mae: 18.8693\n",
            "Epoch 3/100\n",
            "2/2 [==============================] - 0s 11ms/step - loss: 10.5721 - mae: 10.5721\n",
            "Epoch 4/100\n",
            "2/2 [==============================] - 0s 13ms/step - loss: 9.6417 - mae: 9.6417\n",
            "Epoch 5/100\n",
            "2/2 [==============================] - 0s 13ms/step - loss: 10.5604 - mae: 10.5604\n",
            "Epoch 6/100\n",
            "2/2 [==============================] - 0s 10ms/step - loss: 9.7775 - mae: 9.7775\n",
            "Epoch 7/100\n",
            "2/2 [==============================] - 0s 29ms/step - loss: 8.8622 - mae: 8.8622\n",
            "Epoch 8/100\n",
            "2/2 [==============================] - 0s 16ms/step - loss: 9.0796 - mae: 9.0796\n",
            "Epoch 9/100\n",
            "2/2 [==============================] - 0s 8ms/step - loss: 19.4611 - mae: 19.4611\n",
            "Epoch 10/100\n",
            "2/2 [==============================] - 0s 7ms/step - loss: 10.5169 - mae: 10.5169\n",
            "Epoch 11/100\n",
            "2/2 [==============================] - 0s 15ms/step - loss: 8.5616 - mae: 8.5616\n",
            "Epoch 12/100\n",
            "2/2 [==============================] - 0s 15ms/step - loss: 11.0127 - mae: 11.0127\n",
            "Epoch 13/100\n",
            "2/2 [==============================] - 0s 8ms/step - loss: 7.5891 - mae: 7.5891\n",
            "Epoch 14/100\n",
            "2/2 [==============================] - 0s 8ms/step - loss: 15.9243 - mae: 15.9243\n",
            "Epoch 15/100\n",
            "2/2 [==============================] - 0s 9ms/step - loss: 12.9990 - mae: 12.9990\n",
            "Epoch 16/100\n",
            "2/2 [==============================] - 0s 8ms/step - loss: 7.9417 - mae: 7.9417\n",
            "Epoch 17/100\n",
            "2/2 [==============================] - 0s 11ms/step - loss: 11.1954 - mae: 11.1954\n",
            "Epoch 18/100\n",
            "2/2 [==============================] - 0s 16ms/step - loss: 10.3251 - mae: 10.3251\n",
            "Epoch 19/100\n",
            "2/2 [==============================] - 0s 8ms/step - loss: 19.4448 - mae: 19.4448\n",
            "Epoch 20/100\n",
            "2/2 [==============================] - 0s 17ms/step - loss: 16.1015 - mae: 16.1015\n",
            "Epoch 21/100\n",
            "2/2 [==============================] - 0s 7ms/step - loss: 12.0087 - mae: 12.0087\n",
            "Epoch 22/100\n",
            "2/2 [==============================] - 0s 7ms/step - loss: 8.6120 - mae: 8.6120\n",
            "Epoch 23/100\n",
            "2/2 [==============================] - 0s 15ms/step - loss: 9.7131 - mae: 9.7131\n",
            "Epoch 24/100\n",
            "2/2 [==============================] - 0s 20ms/step - loss: 10.9728 - mae: 10.9728\n",
            "Epoch 25/100\n",
            "2/2 [==============================] - 0s 10ms/step - loss: 9.1728 - mae: 9.1728\n",
            "Epoch 26/100\n",
            "2/2 [==============================] - 0s 10ms/step - loss: 13.2111 - mae: 13.2111\n",
            "Epoch 27/100\n",
            "2/2 [==============================] - 0s 7ms/step - loss: 10.6801 - mae: 10.6801\n",
            "Epoch 28/100\n",
            "2/2 [==============================] - 0s 9ms/step - loss: 12.9042 - mae: 12.9042\n",
            "Epoch 29/100\n",
            "2/2 [==============================] - 0s 9ms/step - loss: 9.5203 - mae: 9.5203\n",
            "Epoch 30/100\n",
            "2/2 [==============================] - 0s 10ms/step - loss: 16.4331 - mae: 16.4331\n",
            "Epoch 31/100\n",
            "2/2 [==============================] - 0s 18ms/step - loss: 23.5656 - mae: 23.5656\n",
            "Epoch 32/100\n",
            "2/2 [==============================] - 0s 7ms/step - loss: 7.6158 - mae: 7.6158\n",
            "Epoch 33/100\n",
            "2/2 [==============================] - 0s 27ms/step - loss: 9.3119 - mae: 9.3119\n",
            "Epoch 34/100\n",
            "2/2 [==============================] - 0s 8ms/step - loss: 13.6777 - mae: 13.6777\n",
            "Epoch 35/100\n",
            "2/2 [==============================] - 0s 9ms/step - loss: 11.1690 - mae: 11.1690\n",
            "Epoch 36/100\n",
            "2/2 [==============================] - 0s 8ms/step - loss: 13.3958 - mae: 13.3958\n",
            "Epoch 37/100\n",
            "2/2 [==============================] - 0s 18ms/step - loss: 9.4566 - mae: 9.4566\n",
            "Epoch 38/100\n",
            "2/2 [==============================] - 0s 14ms/step - loss: 10.1075 - mae: 10.1075\n",
            "Epoch 39/100\n",
            "2/2 [==============================] - 0s 11ms/step - loss: 8.9835 - mae: 8.9835\n",
            "Epoch 40/100\n",
            "2/2 [==============================] - 0s 11ms/step - loss: 9.6123 - mae: 9.6123\n",
            "Epoch 41/100\n",
            "2/2 [==============================] - 0s 8ms/step - loss: 10.5736 - mae: 10.5736\n",
            "Epoch 42/100\n",
            "2/2 [==============================] - 0s 9ms/step - loss: 10.6279 - mae: 10.6279\n",
            "Epoch 43/100\n",
            "2/2 [==============================] - 0s 14ms/step - loss: 7.2160 - mae: 7.2160\n",
            "Epoch 44/100\n",
            "2/2 [==============================] - 0s 10ms/step - loss: 8.0246 - mae: 8.0246\n",
            "Epoch 45/100\n",
            "2/2 [==============================] - 0s 9ms/step - loss: 9.8282 - mae: 9.8282\n",
            "Epoch 46/100\n",
            "2/2 [==============================] - 0s 13ms/step - loss: 8.9086 - mae: 8.9086\n",
            "Epoch 47/100\n",
            "2/2 [==============================] - 0s 15ms/step - loss: 7.5702 - mae: 7.5702\n",
            "Epoch 48/100\n",
            "2/2 [==============================] - 0s 9ms/step - loss: 8.5312 - mae: 8.5312\n",
            "Epoch 49/100\n",
            "2/2 [==============================] - 0s 22ms/step - loss: 10.0406 - mae: 10.0406\n",
            "Epoch 50/100\n",
            "2/2 [==============================] - 0s 8ms/step - loss: 8.9767 - mae: 8.9767\n",
            "Epoch 51/100\n",
            "2/2 [==============================] - 0s 10ms/step - loss: 10.7184 - mae: 10.7184\n",
            "Epoch 52/100\n",
            "2/2 [==============================] - 0s 7ms/step - loss: 15.2581 - mae: 15.2581\n",
            "Epoch 53/100\n",
            "2/2 [==============================] - 0s 8ms/step - loss: 14.2897 - mae: 14.2897\n",
            "Epoch 54/100\n",
            "2/2 [==============================] - 0s 8ms/step - loss: 21.5332 - mae: 21.5332\n",
            "Epoch 55/100\n",
            "2/2 [==============================] - 0s 23ms/step - loss: 16.0616 - mae: 16.0616\n",
            "Epoch 56/100\n",
            "2/2 [==============================] - 0s 8ms/step - loss: 10.2405 - mae: 10.2405\n",
            "Epoch 57/100\n",
            "2/2 [==============================] - 0s 7ms/step - loss: 9.8047 - mae: 9.8047\n",
            "Epoch 58/100\n",
            "2/2 [==============================] - 0s 7ms/step - loss: 9.0864 - mae: 9.0864\n",
            "Epoch 59/100\n",
            "2/2 [==============================] - 0s 19ms/step - loss: 8.2901 - mae: 8.2901\n",
            "Epoch 60/100\n",
            "2/2 [==============================] - 0s 8ms/step - loss: 9.3821 - mae: 9.3821\n",
            "Epoch 61/100\n",
            "2/2 [==============================] - 0s 10ms/step - loss: 11.2145 - mae: 11.2145\n",
            "Epoch 62/100\n",
            "2/2 [==============================] - 0s 7ms/step - loss: 12.0270 - mae: 12.0270\n",
            "Epoch 63/100\n",
            "2/2 [==============================] - 0s 11ms/step - loss: 7.2775 - mae: 7.2775\n",
            "Epoch 64/100\n",
            "2/2 [==============================] - 0s 7ms/step - loss: 12.4751 - mae: 12.4751\n",
            "Epoch 65/100\n",
            "2/2 [==============================] - 0s 10ms/step - loss: 10.5504 - mae: 10.5504\n",
            "Epoch 66/100\n",
            "2/2 [==============================] - 0s 7ms/step - loss: 15.5590 - mae: 15.5590\n",
            "Epoch 67/100\n",
            "2/2 [==============================] - 0s 14ms/step - loss: 9.9762 - mae: 9.9762\n",
            "Epoch 68/100\n",
            "2/2 [==============================] - 0s 8ms/step - loss: 8.7095 - mae: 8.7095\n",
            "Epoch 69/100\n",
            "2/2 [==============================] - 0s 8ms/step - loss: 13.4351 - mae: 13.4351\n",
            "Epoch 70/100\n",
            "2/2 [==============================] - 0s 7ms/step - loss: 7.4737 - mae: 7.4737\n",
            "Epoch 71/100\n",
            "2/2 [==============================] - 0s 8ms/step - loss: 12.2773 - mae: 12.2773\n",
            "Epoch 72/100\n",
            "2/2 [==============================] - 0s 8ms/step - loss: 8.5066 - mae: 8.5066\n",
            "Epoch 73/100\n",
            "2/2 [==============================] - 0s 9ms/step - loss: 6.8736 - mae: 6.8736\n",
            "Epoch 74/100\n",
            "2/2 [==============================] - 0s 9ms/step - loss: 11.1485 - mae: 11.1485\n",
            "Epoch 75/100\n",
            "2/2 [==============================] - 0s 9ms/step - loss: 9.3736 - mae: 9.3736\n",
            "Epoch 76/100\n",
            "2/2 [==============================] - 0s 8ms/step - loss: 10.8350 - mae: 10.8350\n",
            "Epoch 77/100\n",
            "2/2 [==============================] - 0s 11ms/step - loss: 14.7059 - mae: 14.7059\n",
            "Epoch 78/100\n",
            "2/2 [==============================] - 0s 24ms/step - loss: 11.1633 - mae: 11.1633\n",
            "Epoch 79/100\n",
            "2/2 [==============================] - 0s 17ms/step - loss: 14.7213 - mae: 14.7213\n",
            "Epoch 80/100\n",
            "2/2 [==============================] - 0s 11ms/step - loss: 8.9284 - mae: 8.9284\n",
            "Epoch 81/100\n",
            "2/2 [==============================] - 0s 11ms/step - loss: 10.7676 - mae: 10.7676\n",
            "Epoch 82/100\n",
            "2/2 [==============================] - 0s 12ms/step - loss: 8.4078 - mae: 8.4078\n",
            "Epoch 83/100\n",
            "2/2 [==============================] - 0s 17ms/step - loss: 9.2258 - mae: 9.2258\n",
            "Epoch 84/100\n",
            "2/2 [==============================] - 0s 15ms/step - loss: 8.9488 - mae: 8.9488\n",
            "Epoch 85/100\n",
            "2/2 [==============================] - 0s 11ms/step - loss: 13.1877 - mae: 13.1877\n",
            "Epoch 86/100\n",
            "2/2 [==============================] - 0s 8ms/step - loss: 13.7206 - mae: 13.7206\n",
            "Epoch 87/100\n",
            "2/2 [==============================] - 0s 12ms/step - loss: 13.2054 - mae: 13.2054\n",
            "Epoch 88/100\n",
            "2/2 [==============================] - 0s 13ms/step - loss: 11.5328 - mae: 11.5328\n",
            "Epoch 89/100\n",
            "2/2 [==============================] - 0s 15ms/step - loss: 7.8165 - mae: 7.8165\n",
            "Epoch 90/100\n",
            "2/2 [==============================] - 0s 7ms/step - loss: 10.9477 - mae: 10.9477\n",
            "Epoch 91/100\n",
            "2/2 [==============================] - 0s 8ms/step - loss: 6.7590 - mae: 6.7590\n",
            "Epoch 92/100\n",
            "2/2 [==============================] - 0s 8ms/step - loss: 10.1405 - mae: 10.1405\n",
            "Epoch 93/100\n",
            "2/2 [==============================] - 0s 8ms/step - loss: 7.6118 - mae: 7.6118\n",
            "Epoch 94/100\n",
            "2/2 [==============================] - 0s 9ms/step - loss: 9.2442 - mae: 9.2442\n",
            "Epoch 95/100\n",
            "2/2 [==============================] - 0s 9ms/step - loss: 10.8291 - mae: 10.8291\n",
            "Epoch 96/100\n",
            "2/2 [==============================] - 0s 10ms/step - loss: 10.3123 - mae: 10.3123\n",
            "Epoch 97/100\n",
            "2/2 [==============================] - 0s 9ms/step - loss: 7.6819 - mae: 7.6819\n",
            "Epoch 98/100\n",
            "2/2 [==============================] - 0s 12ms/step - loss: 8.6185 - mae: 8.6185\n",
            "Epoch 99/100\n",
            "2/2 [==============================] - 0s 8ms/step - loss: 9.3964 - mae: 9.3964\n",
            "Epoch 100/100\n",
            "2/2 [==============================] - 0s 9ms/step - loss: 8.8442 - mae: 8.8442\n"
          ]
        },
        {
          "output_type": "execute_result",
          "data": {
            "text/plain": [
              "<keras.callbacks.History at 0x7f600adab8b0>"
            ]
          },
          "metadata": {},
          "execution_count": 40
        }
      ]
    },
    {
      "cell_type": "code",
      "source": [
        "y_pred_1 = model_1.predict(X_test)\n",
        "plot_predictions(predictions=y_pred_1)"
      ],
      "metadata": {
        "colab": {
          "base_uri": "https://localhost:8080/",
          "height": 519
        },
        "id": "yUubSXTMIIrE",
        "outputId": "e0875e4c-d77a-454c-c582-c662655d3e49"
      },
      "execution_count": null,
      "outputs": [
        {
          "output_type": "stream",
          "name": "stderr",
          "text": [
            "WARNING:tensorflow:6 out of the last 7 calls to <function Model.make_predict_function.<locals>.predict_function at 0x7f600aef1510> triggered tf.function retracing. Tracing is expensive and the excessive number of tracings could be due to (1) creating @tf.function repeatedly in a loop, (2) passing tensors with different shapes, (3) passing Python objects instead of tensors. For (1), please define your @tf.function outside of the loop. For (2), @tf.function has reduce_retracing=True option that can avoid unnecessary retracing. For (3), please refer to https://www.tensorflow.org/guide/function#controlling_retracing and https://www.tensorflow.org/api_docs/python/tf/function for  more details.\n"
          ]
        },
        {
          "output_type": "stream",
          "name": "stdout",
          "text": [
            "1/1 [==============================] - 0s 156ms/step\n"
          ]
        },
        {
          "output_type": "display_data",
          "data": {
            "text/plain": [
              "<Figure size 1000x700 with 1 Axes>"
            ],
            "image/png": "[encoded data removed]"
          },
          "metadata": {}
        }
      ]
    },
    {
      "cell_type": "code",
      "source": [
        "def mae(y_true,y_pred):\n",
        "  return tf.metrics.mean_absolute_error(y_true=y_true,\n",
        "                                        y_pred=tf.squeeze(y_pred))\n",
        "def mse(y_true,y_pred):\n",
        "  return tf.metrics.mean_squared_error(y_true=y_true,\n",
        "                                       y_pred=tf.squeeze(y_pred))"
      ],
      "metadata": {
        "id": "9Ser11S7K9Iq"
      },
      "execution_count": null,
      "outputs": []
    },
    {
      "cell_type": "code",
      "source": [
        "mae_1=mae(y_test,y_pred_1)\n",
        "mse_1=mse(y_test,y_pred_1)\n",
        "mae_1,mse_1"
      ],
      "metadata": {
        "colab": {
          "base_uri": "https://localhost:8080/"
        },
        "id": "5hZRiPzcKPGU",
        "outputId": "2cc0c54c-ae25-4401-8aa1-58c2cbf2bfbc"
      },
      "execution_count": null,
      "outputs": [
        {
          "output_type": "execute_result",
          "data": {
            "text/plain": [
              "(<tf.Tensor: shape=(), dtype=float32, numpy=8.569835>,\n",
              " <tf.Tensor: shape=(), dtype=float32, numpy=79.92135>)"
            ]
          },
          "metadata": {},
          "execution_count": 43
        }
      ]
    },
    {
      "cell_type": "markdown",
      "source": [
        "### **Build `model_2`**"
      ],
      "metadata": {
        "id": "wySllaSaOJeo"
      }
    },
    {
      "cell_type": "code",
      "source": [
        "# Set random seed\n",
        "tf.random.set_seed(42)\n",
        "\n",
        "# 1. Create the model\n",
        "model_2 = tf.keras.Sequential([\n",
        "    tf.keras.layers.Dense(150),\n",
        "    tf.keras.layers.Dense(1)\n",
        "])\n",
        "\n",
        "# 2. Compile the model\n",
        "model_2.compile(loss=tf.keras.losses.mae,\n",
        "                optimizer=tf.keras.optimizers.SGD(),\n",
        "                metrics=['mse'])\n",
        "\n",
        "# 3. Fit the model\n",
        "model_2.fit(tf.expand_dims(X_train,axis=-1),y_train,epochs=100)"
      ],
      "metadata": {
        "colab": {
          "base_uri": "https://localhost:8080/"
        },
        "id": "D7zj82yFKd0f",
        "outputId": "edf58f03-9d7d-4907-9b96-ce0f4d2588e5"
      },
      "execution_count": null,
      "outputs": [
        {
          "output_type": "stream",
          "name": "stdout",
          "text": [
            "Epoch 1/100\n",
            "2/2 [==============================] - 1s 26ms/step - loss: 32.4510 - mse: 1520.4573\n",
            "Epoch 2/100\n",
            "2/2 [==============================] - 0s 9ms/step - loss: 27.3683 - mse: 970.1240\n",
            "Epoch 3/100\n",
            "2/2 [==============================] - 0s 8ms/step - loss: 31.4976 - mse: 1515.0027\n",
            "Epoch 4/100\n",
            "2/2 [==============================] - 0s 8ms/step - loss: 13.5287 - mse: 254.8149\n",
            "Epoch 5/100\n",
            "2/2 [==============================] - 0s 9ms/step - loss: 18.3205 - mse: 454.6894\n",
            "Epoch 6/100\n",
            "2/2 [==============================] - 0s 8ms/step - loss: 9.2603 - mse: 128.4368\n",
            "Epoch 7/100\n",
            "2/2 [==============================] - 0s 8ms/step - loss: 10.2664 - mse: 140.7711\n",
            "Epoch 8/100\n",
            "2/2 [==============================] - 0s 8ms/step - loss: 11.2310 - mse: 176.6781\n",
            "Epoch 9/100\n",
            "2/2 [==============================] - 0s 7ms/step - loss: 42.0387 - mse: 2820.7827\n",
            "Epoch 10/100\n",
            "2/2 [==============================] - 0s 7ms/step - loss: 29.2314 - mse: 1208.6301\n",
            "Epoch 11/100\n",
            "2/2 [==============================] - 0s 7ms/step - loss: 7.6794 - mse: 84.3127\n",
            "Epoch 12/100\n",
            "2/2 [==============================] - 0s 8ms/step - loss: 28.6332 - mse: 1121.7726\n",
            "Epoch 13/100\n",
            "2/2 [==============================] - 0s 8ms/step - loss: 11.4749 - mse: 144.7531\n",
            "Epoch 14/100\n",
            "2/2 [==============================] - 0s 7ms/step - loss: 30.0387 - mse: 1443.1759\n",
            "Epoch 15/100\n",
            "2/2 [==============================] - 0s 9ms/step - loss: 19.8524 - mse: 552.0138\n",
            "Epoch 16/100\n",
            "2/2 [==============================] - 0s 12ms/step - loss: 9.8755 - mse: 125.8573\n",
            "Epoch 17/100\n",
            "2/2 [==============================] - 0s 8ms/step - loss: 17.7410 - mse: 416.3253\n",
            "Epoch 18/100\n",
            "2/2 [==============================] - 0s 11ms/step - loss: 14.2169 - mse: 319.3830\n",
            "Epoch 19/100\n",
            "2/2 [==============================] - 0s 10ms/step - loss: 14.0596 - mse: 308.8475\n",
            "Epoch 20/100\n",
            "2/2 [==============================] - 0s 11ms/step - loss: 11.2529 - mse: 146.8644\n",
            "Epoch 21/100\n",
            "2/2 [==============================] - 0s 11ms/step - loss: 17.3892 - mse: 429.2646\n",
            "Epoch 22/100\n",
            "2/2 [==============================] - 0s 11ms/step - loss: 15.6247 - mse: 336.8812\n",
            "Epoch 23/100\n",
            "2/2 [==============================] - 0s 7ms/step - loss: 9.2294 - mse: 118.6801\n",
            "Epoch 24/100\n",
            "2/2 [==============================] - 0s 8ms/step - loss: 17.2201 - mse: 405.8206\n",
            "Epoch 25/100\n",
            "2/2 [==============================] - 0s 9ms/step - loss: 15.9064 - mse: 332.1440\n",
            "Epoch 26/100\n",
            "2/2 [==============================] - 0s 8ms/step - loss: 20.8564 - mse: 645.7665\n",
            "Epoch 27/100\n",
            "2/2 [==============================] - 0s 10ms/step - loss: 26.1285 - mse: 1066.8046\n",
            "Epoch 28/100\n",
            "2/2 [==============================] - 0s 12ms/step - loss: 18.6043 - mse: 548.1595\n",
            "Epoch 29/100\n",
            "2/2 [==============================] - 0s 8ms/step - loss: 9.2452 - mse: 96.9247\n",
            "Epoch 30/100\n",
            "2/2 [==============================] - 0s 8ms/step - loss: 29.2312 - mse: 1530.7461\n",
            "Epoch 31/100\n",
            "2/2 [==============================] - 0s 8ms/step - loss: 52.9591 - mse: 5017.6968\n",
            "Epoch 32/100\n",
            "2/2 [==============================] - 0s 8ms/step - loss: 11.9822 - mse: 210.8241\n",
            "Epoch 33/100\n",
            "2/2 [==============================] - 0s 7ms/step - loss: 15.6143 - mse: 336.3508\n",
            "Epoch 34/100\n",
            "2/2 [==============================] - 0s 8ms/step - loss: 12.6777 - mse: 213.6479\n",
            "Epoch 35/100\n",
            "2/2 [==============================] - 0s 7ms/step - loss: 9.2331 - mse: 92.6990\n",
            "Epoch 36/100\n",
            "2/2 [==============================] - 0s 9ms/step - loss: 16.6239 - mse: 402.2892\n",
            "Epoch 37/100\n",
            "2/2 [==============================] - 0s 7ms/step - loss: 11.0450 - mse: 192.3577\n",
            "Epoch 38/100\n",
            "2/2 [==============================] - 0s 8ms/step - loss: 18.1707 - mse: 434.1742\n",
            "Epoch 39/100\n",
            "2/2 [==============================] - 0s 8ms/step - loss: 19.1077 - mse: 530.2512\n",
            "Epoch 40/100\n",
            "2/2 [==============================] - 0s 7ms/step - loss: 20.4440 - mse: 610.7792\n",
            "Epoch 41/100\n",
            "2/2 [==============================] - 0s 8ms/step - loss: 14.8953 - mse: 278.8478\n",
            "Epoch 42/100\n",
            "2/2 [==============================] - 0s 11ms/step - loss: 12.2698 - mse: 185.9791\n",
            "Epoch 43/100\n",
            "2/2 [==============================] - 0s 18ms/step - loss: 10.7271 - mse: 166.5341\n",
            "Epoch 44/100\n",
            "2/2 [==============================] - 0s 10ms/step - loss: 22.9964 - mse: 828.1434\n",
            "Epoch 45/100\n",
            "2/2 [==============================] - 0s 9ms/step - loss: 10.3809 - mse: 128.8752\n",
            "Epoch 46/100\n",
            "2/2 [==============================] - 0s 7ms/step - loss: 11.7775 - mse: 181.2209\n",
            "Epoch 47/100\n",
            "2/2 [==============================] - 0s 9ms/step - loss: 9.6486 - mse: 153.8043\n",
            "Epoch 48/100\n",
            "2/2 [==============================] - 0s 17ms/step - loss: 17.2441 - mse: 403.3712\n",
            "Epoch 49/100\n",
            "2/2 [==============================] - 0s 7ms/step - loss: 9.5656 - mse: 99.6724\n",
            "Epoch 50/100\n",
            "2/2 [==============================] - 0s 14ms/step - loss: 13.8058 - mse: 259.6455\n",
            "Epoch 51/100\n",
            "2/2 [==============================] - 0s 15ms/step - loss: 11.5908 - mse: 154.5874\n",
            "Epoch 52/100\n",
            "2/2 [==============================] - 0s 8ms/step - loss: 30.5235 - mse: 1609.5698\n",
            "Epoch 53/100\n",
            "2/2 [==============================] - 0s 11ms/step - loss: 14.3407 - mse: 301.8835\n",
            "Epoch 54/100\n",
            "2/2 [==============================] - 0s 6ms/step - loss: 23.9479 - mse: 857.5466\n",
            "Epoch 55/100\n",
            "2/2 [==============================] - 0s 9ms/step - loss: 23.1683 - mse: 803.6696\n",
            "Epoch 56/100\n",
            "2/2 [==============================] - 0s 12ms/step - loss: 10.8755 - mse: 171.0035\n",
            "Epoch 57/100\n",
            "2/2 [==============================] - 0s 17ms/step - loss: 12.7336 - mse: 198.2807\n",
            "Epoch 58/100\n",
            "2/2 [==============================] - 0s 8ms/step - loss: 9.5935 - mse: 102.5073\n",
            "Epoch 59/100\n",
            "2/2 [==============================] - 0s 8ms/step - loss: 12.5076 - mse: 215.7494\n",
            "Epoch 60/100\n",
            "2/2 [==============================] - 0s 8ms/step - loss: 12.3113 - mse: 208.1630\n",
            "Epoch 61/100\n",
            "2/2 [==============================] - 0s 8ms/step - loss: 17.4439 - mse: 427.7717\n",
            "Epoch 62/100\n",
            "2/2 [==============================] - 0s 22ms/step - loss: 10.5981 - mse: 136.7626\n",
            "Epoch 63/100\n",
            "2/2 [==============================] - 0s 12ms/step - loss: 10.4846 - mse: 152.0329\n",
            "Epoch 64/100\n",
            "2/2 [==============================] - 0s 9ms/step - loss: 24.8240 - mse: 910.1000\n",
            "Epoch 65/100\n",
            "2/2 [==============================] - 0s 9ms/step - loss: 10.6712 - mse: 142.4353\n",
            "Epoch 66/100\n",
            "2/2 [==============================] - 0s 10ms/step - loss: 21.7629 - mse: 703.1328\n",
            "Epoch 67/100\n",
            "2/2 [==============================] - 0s 14ms/step - loss: 10.7074 - mse: 135.7878\n",
            "Epoch 68/100\n",
            "2/2 [==============================] - 0s 9ms/step - loss: 10.6351 - mse: 148.8869\n",
            "Epoch 69/100\n",
            "2/2 [==============================] - 0s 8ms/step - loss: 22.6715 - mse: 740.8084\n",
            "Epoch 70/100\n",
            "2/2 [==============================] - 0s 8ms/step - loss: 9.3353 - mse: 166.0584\n",
            "Epoch 71/100\n",
            "2/2 [==============================] - 0s 10ms/step - loss: 15.4417 - mse: 323.3507\n",
            "Epoch 72/100\n",
            "2/2 [==============================] - 0s 10ms/step - loss: 7.0155 - mse: 67.4270\n",
            "Epoch 73/100\n",
            "2/2 [==============================] - 0s 9ms/step - loss: 12.2074 - mse: 215.9692\n",
            "Epoch 74/100\n",
            "2/2 [==============================] - 0s 10ms/step - loss: 17.3448 - mse: 407.3881\n",
            "Epoch 75/100\n",
            "2/2 [==============================] - 0s 18ms/step - loss: 7.2141 - mse: 71.3602\n",
            "Epoch 76/100\n",
            "2/2 [==============================] - 0s 40ms/step - loss: 9.4528 - mse: 148.9902\n",
            "Epoch 77/100\n",
            "2/2 [==============================] - 0s 10ms/step - loss: 22.1711 - mse: 733.8705\n",
            "Epoch 78/100\n",
            "2/2 [==============================] - 0s 10ms/step - loss: 17.4830 - mse: 464.5905\n",
            "Epoch 79/100\n",
            "2/2 [==============================] - 0s 16ms/step - loss: 14.7142 - mse: 316.8101\n",
            "Epoch 80/100\n",
            "2/2 [==============================] - 0s 9ms/step - loss: 24.8964 - mse: 944.1539\n",
            "Epoch 81/100\n",
            "2/2 [==============================] - 0s 8ms/step - loss: 10.7878 - mse: 136.7592\n",
            "Epoch 82/100\n",
            "2/2 [==============================] - 0s 7ms/step - loss: 12.8176 - mse: 233.7227\n",
            "Epoch 83/100\n",
            "2/2 [==============================] - 0s 8ms/step - loss: 17.6119 - mse: 404.7664\n",
            "Epoch 84/100\n",
            "2/2 [==============================] - 0s 7ms/step - loss: 7.2912 - mse: 73.0222\n",
            "Epoch 85/100\n",
            "2/2 [==============================] - 0s 17ms/step - loss: 15.1051 - mse: 318.4444\n",
            "Epoch 86/100\n",
            "2/2 [==============================] - 0s 10ms/step - loss: 15.3966 - mse: 318.2596\n",
            "Epoch 87/100\n",
            "2/2 [==============================] - 0s 10ms/step - loss: 19.3330 - mse: 531.5858\n",
            "Epoch 88/100\n",
            "2/2 [==============================] - 0s 9ms/step - loss: 29.2334 - mse: 1233.3535\n",
            "Epoch 89/100\n",
            "2/2 [==============================] - 0s 8ms/step - loss: 10.0811 - mse: 123.9657\n",
            "Epoch 90/100\n",
            "2/2 [==============================] - 0s 9ms/step - loss: 21.0469 - mse: 634.1032\n",
            "Epoch 91/100\n",
            "2/2 [==============================] - 0s 8ms/step - loss: 10.4509 - mse: 163.6821\n",
            "Epoch 92/100\n",
            "2/2 [==============================] - 0s 7ms/step - loss: 17.9738 - mse: 441.9639\n",
            "Epoch 93/100\n",
            "2/2 [==============================] - 0s 8ms/step - loss: 6.5433 - mse: 61.1906\n",
            "Epoch 94/100\n",
            "2/2 [==============================] - 0s 7ms/step - loss: 11.1114 - mse: 152.6208\n",
            "Epoch 95/100\n",
            "2/2 [==============================] - 0s 11ms/step - loss: 24.3805 - mse: 891.5046\n",
            "Epoch 96/100\n",
            "2/2 [==============================] - 0s 9ms/step - loss: 10.7185 - mse: 172.2572\n",
            "Epoch 97/100\n",
            "2/2 [==============================] - 0s 12ms/step - loss: 15.3635 - mse: 357.8368\n",
            "Epoch 98/100\n",
            "2/2 [==============================] - 0s 16ms/step - loss: 8.2365 - mse: 110.6877\n",
            "Epoch 99/100\n",
            "2/2 [==============================] - 0s 15ms/step - loss: 16.5462 - mse: 384.4474\n",
            "Epoch 100/100\n",
            "2/2 [==============================] - 0s 16ms/step - loss: 14.3149 - mse: 296.1578\n"
          ]
        },
        {
          "output_type": "execute_result",
          "data": {
            "text/plain": [
              "<keras.callbacks.History at 0x7f6019af85e0>"
            ]
          },
          "metadata": {},
          "execution_count": 44
        }
      ]
    },
    {
      "cell_type": "code",
      "source": [
        "y_pred_2=model_2.predict(X_test)\n",
        "plot_predictions(predictions=y_pred_2)"
      ],
      "metadata": {
        "colab": {
          "base_uri": "https://localhost:8080/",
          "height": 481
        },
        "id": "T9x1WyQYPWGR",
        "outputId": "98473a14-3d21-4957-c5db-a932c49b95a7"
      },
      "execution_count": null,
      "outputs": [
        {
          "output_type": "stream",
          "name": "stdout",
          "text": [
            "1/1 [==============================] - 0s 315ms/step\n"
          ]
        },
        {
          "output_type": "display_data",
          "data": {
            "text/plain": [
              "<Figure size 1000x700 with 1 Axes>"
            ],
            "image/png": "[encoded data removed]"
          },
          "metadata": {}
        }
      ]
    },
    {
      "cell_type": "code",
      "source": [
        "# Calculate eval metrics\n",
        "mae_2=mae(y_test,y_pred_2)\n",
        "mse_2=mse(y_test,y_pred_2)"
      ],
      "metadata": {
        "id": "86Acj0-6PxXo"
      },
      "execution_count": null,
      "outputs": []
    },
    {
      "cell_type": "code",
      "source": [
        "mae_2,mse_2"
      ],
      "metadata": {
        "colab": {
          "base_uri": "https://localhost:8080/"
        },
        "id": "QtC68duCZvif",
        "outputId": "d83a4a6e-2d91-42ba-b9e6-cd3e96841d45"
      },
      "execution_count": null,
      "outputs": [
        {
          "output_type": "execute_result",
          "data": {
            "text/plain": [
              "(<tf.Tensor: shape=(), dtype=float32, numpy=10.94145>,\n",
              " <tf.Tensor: shape=(), dtype=float32, numpy=127.70085>)"
            ]
          },
          "metadata": {},
          "execution_count": 47
        }
      ]
    },
    {
      "cell_type": "markdown",
      "source": [
        "### **Build `model_3`**"
      ],
      "metadata": {
        "id": "5lPQCc1bZ2ri"
      }
    },
    {
      "cell_type": "code",
      "source": [
        "# Set random seed\n",
        "tf.random.set_seed(42)\n",
        "\n",
        "# 1. Create the model\n",
        "model_3 = tf.keras.Sequential([\n",
        "    tf.keras.layers.Dense(10),\n",
        "    tf.keras.layers.Dense(1)\n",
        "])\n",
        "\n",
        "# 2. Compile the model\n",
        "model_3.compile(loss=tf.keras.losses.mae,\n",
        "                optimizer=tf.keras.optimizers.SGD(),\n",
        "                metrics=['mse'])\n",
        "\n",
        "# 3. Fit the model\n",
        "model_3.fit(tf.expand_dims(X_train,axis=-1),y_train,epochs=500)"
      ],
      "metadata": {
        "colab": {
          "base_uri": "https://localhost:8080/"
        },
        "id": "4GhLeS2oZxcA",
        "outputId": "77d0d82a-cc93-4fab-a6fb-3a5fd0f9b960"
      },
      "execution_count": null,
      "outputs": [
        {
          "output_type": "stream",
          "name": "stdout",
          "text": [
            "Epoch 1/500\n",
            "2/2 [==============================] - 1s 12ms/step - loss: 52.1201 - mse: 4117.4810\n",
            "Epoch 2/500\n",
            "2/2 [==============================] - 0s 7ms/step - loss: 23.1061 - mse: 840.8115\n",
            "Epoch 3/500\n",
            "2/2 [==============================] - 0s 7ms/step - loss: 18.2631 - mse: 482.8129\n",
            "Epoch 4/500\n",
            "2/2 [==============================] - 0s 7ms/step - loss: 13.3439 - mse: 231.4339\n",
            "Epoch 5/500\n",
            "2/2 [==============================] - 0s 6ms/step - loss: 14.6966 - mse: 268.7094\n",
            "Epoch 6/500\n",
            "2/2 [==============================] - 0s 7ms/step - loss: 11.7031 - mse: 160.1199\n",
            "Epoch 7/500\n",
            "2/2 [==============================] - 0s 7ms/step - loss: 11.0468 - mse: 147.5951\n",
            "Epoch 8/500\n",
            "2/2 [==============================] - 0s 6ms/step - loss: 11.0506 - mse: 153.2756\n",
            "Epoch 9/500\n",
            "2/2 [==============================] - 0s 7ms/step - loss: 39.8611 - mse: 2494.9790\n",
            "Epoch 10/500\n",
            "2/2 [==============================] - 0s 7ms/step - loss: 27.3310 - mse: 1051.3624\n",
            "Epoch 11/500\n",
            "2/2 [==============================] - 0s 7ms/step - loss: 11.0286 - mse: 181.9742\n",
            "Epoch 12/500\n",
            "2/2 [==============================] - 0s 7ms/step - loss: 24.3662 - mse: 834.0551\n",
            "Epoch 13/500\n",
            "2/2 [==============================] - 0s 7ms/step - loss: 19.3640 - mse: 528.1457\n",
            "Epoch 14/500\n",
            "2/2 [==============================] - 0s 6ms/step - loss: 23.6206 - mse: 855.4836\n",
            "Epoch 15/500\n",
            "2/2 [==============================] - 0s 7ms/step - loss: 15.7175 - mse: 336.0477\n",
            "Epoch 16/500\n",
            "2/2 [==============================] - 0s 6ms/step - loss: 10.4220 - mse: 124.8147\n",
            "Epoch 17/500\n",
            "2/2 [==============================] - 0s 6ms/step - loss: 19.6315 - mse: 523.8277\n",
            "Epoch 18/500\n",
            "2/2 [==============================] - 0s 6ms/step - loss: 13.2726 - mse: 275.1540\n",
            "Epoch 19/500\n",
            "2/2 [==============================] - 0s 7ms/step - loss: 16.0341 - mse: 410.7190\n",
            "Epoch 20/500\n",
            "2/2 [==============================] - 0s 6ms/step - loss: 10.1992 - mse: 154.3347\n",
            "Epoch 21/500\n",
            "2/2 [==============================] - 0s 6ms/step - loss: 13.7403 - mse: 248.6726\n",
            "Epoch 22/500\n",
            "2/2 [==============================] - 0s 6ms/step - loss: 21.9358 - mse: 682.2965\n",
            "Epoch 23/500\n",
            "2/2 [==============================] - 0s 6ms/step - loss: 10.4630 - mse: 166.7482\n",
            "Epoch 24/500\n",
            "2/2 [==============================] - 0s 6ms/step - loss: 15.7565 - mse: 333.3236\n",
            "Epoch 25/500\n",
            "2/2 [==============================] - 0s 6ms/step - loss: 14.9080 - mse: 292.5157\n",
            "Epoch 26/500\n",
            "2/2 [==============================] - 0s 6ms/step - loss: 19.5382 - mse: 578.4928\n",
            "Epoch 27/500\n",
            "2/2 [==============================] - 0s 6ms/step - loss: 20.5079 - mse: 635.7454\n",
            "Epoch 28/500\n",
            "2/2 [==============================] - 0s 8ms/step - loss: 14.8886 - mse: 341.4630\n",
            "Epoch 29/500\n",
            "2/2 [==============================] - 0s 9ms/step - loss: 9.2691 - mse: 93.5710\n",
            "Epoch 30/500\n",
            "2/2 [==============================] - 0s 7ms/step - loss: 30.2402 - mse: 1668.8750\n",
            "Epoch 31/500\n",
            "2/2 [==============================] - 0s 7ms/step - loss: 54.9341 - mse: 5410.8638\n",
            "Epoch 32/500\n",
            "2/2 [==============================] - 0s 6ms/step - loss: 9.6806 - mse: 102.6299\n",
            "Epoch 33/500\n",
            "2/2 [==============================] - 0s 7ms/step - loss: 12.2867 - mse: 189.0191\n",
            "Epoch 34/500\n",
            "2/2 [==============================] - 0s 7ms/step - loss: 24.3506 - mse: 900.3592\n",
            "Epoch 35/500\n",
            "2/2 [==============================] - 0s 7ms/step - loss: 11.9765 - mse: 210.1163\n",
            "Epoch 36/500\n",
            "2/2 [==============================] - 0s 6ms/step - loss: 22.2438 - mse: 703.3978\n",
            "Epoch 37/500\n",
            "2/2 [==============================] - 0s 9ms/step - loss: 17.3344 - mse: 427.3049\n",
            "Epoch 38/500\n",
            "2/2 [==============================] - 0s 7ms/step - loss: 10.6576 - mse: 130.2198\n",
            "Epoch 39/500\n",
            "2/2 [==============================] - 0s 9ms/step - loss: 11.1728 - mse: 160.8505\n",
            "Epoch 40/500\n",
            "2/2 [==============================] - 0s 6ms/step - loss: 17.9280 - mse: 465.2653\n",
            "Epoch 41/500\n",
            "2/2 [==============================] - 0s 8ms/step - loss: 10.3827 - mse: 183.6329\n",
            "Epoch 42/500\n",
            "2/2 [==============================] - 0s 8ms/step - loss: 7.2812 - mse: 76.0532\n",
            "Epoch 43/500\n",
            "2/2 [==============================] - 0s 6ms/step - loss: 18.8885 - mse: 528.6984\n",
            "Epoch 44/500\n",
            "2/2 [==============================] - 0s 8ms/step - loss: 20.0285 - mse: 620.0508\n",
            "Epoch 45/500\n",
            "2/2 [==============================] - 0s 5ms/step - loss: 10.1035 - mse: 127.8556\n",
            "Epoch 46/500\n",
            "2/2 [==============================] - 0s 6ms/step - loss: 11.3512 - mse: 158.6559\n",
            "Epoch 47/500\n",
            "2/2 [==============================] - 0s 6ms/step - loss: 9.8393 - mse: 152.9552\n",
            "Epoch 48/500\n",
            "2/2 [==============================] - 0s 6ms/step - loss: 17.6481 - mse: 423.5159\n",
            "Epoch 49/500\n",
            "2/2 [==============================] - 0s 5ms/step - loss: 9.3152 - mse: 95.3741\n",
            "Epoch 50/500\n",
            "2/2 [==============================] - 0s 8ms/step - loss: 13.3435 - mse: 234.1667\n",
            "Epoch 51/500\n",
            "2/2 [==============================] - 0s 6ms/step - loss: 11.4250 - mse: 148.3072\n",
            "Epoch 52/500\n",
            "2/2 [==============================] - 0s 6ms/step - loss: 29.2903 - mse: 1470.2726\n",
            "Epoch 53/500\n",
            "2/2 [==============================] - 0s 6ms/step - loss: 16.6892 - mse: 412.2178\n",
            "Epoch 54/500\n",
            "2/2 [==============================] - 0s 7ms/step - loss: 21.6505 - mse: 690.7976\n",
            "Epoch 55/500\n",
            "2/2 [==============================] - 0s 6ms/step - loss: 22.0884 - mse: 729.5820\n",
            "Epoch 56/500\n",
            "2/2 [==============================] - 0s 7ms/step - loss: 11.2182 - mse: 171.5544\n",
            "Epoch 57/500\n",
            "2/2 [==============================] - 0s 5ms/step - loss: 13.1844 - mse: 216.6801\n",
            "Epoch 58/500\n",
            "2/2 [==============================] - 0s 6ms/step - loss: 9.8539 - mse: 107.1175\n",
            "Epoch 59/500\n",
            "2/2 [==============================] - 0s 5ms/step - loss: 13.3659 - mse: 252.2991\n",
            "Epoch 60/500\n",
            "2/2 [==============================] - 0s 7ms/step - loss: 10.9138 - mse: 140.5547\n",
            "Epoch 61/500\n",
            "2/2 [==============================] - 0s 5ms/step - loss: 13.5205 - mse: 243.8245\n",
            "Epoch 62/500\n",
            "2/2 [==============================] - 0s 6ms/step - loss: 17.5631 - mse: 470.8409\n",
            "Epoch 63/500\n",
            "2/2 [==============================] - 0s 6ms/step - loss: 9.1887 - mse: 88.0392\n",
            "Epoch 64/500\n",
            "2/2 [==============================] - 0s 6ms/step - loss: 18.4283 - mse: 493.5790\n",
            "Epoch 65/500\n",
            "2/2 [==============================] - 0s 7ms/step - loss: 10.1429 - mse: 115.5601\n",
            "Epoch 66/500\n",
            "2/2 [==============================] - 0s 8ms/step - loss: 24.2904 - mse: 890.7013\n",
            "Epoch 67/500\n",
            "2/2 [==============================] - 0s 7ms/step - loss: 10.9157 - mse: 143.4703\n",
            "Epoch 68/500\n",
            "2/2 [==============================] - 0s 11ms/step - loss: 10.7938 - mse: 159.8645\n",
            "Epoch 69/500\n",
            "2/2 [==============================] - 0s 7ms/step - loss: 23.2599 - mse: 782.1121\n",
            "Epoch 70/500\n",
            "2/2 [==============================] - 0s 7ms/step - loss: 8.8236 - mse: 143.7294\n",
            "Epoch 71/500\n",
            "2/2 [==============================] - 0s 7ms/step - loss: 15.9886 - mse: 347.9422\n",
            "Epoch 72/500\n",
            "2/2 [==============================] - 0s 7ms/step - loss: 8.1588 - mse: 109.9709\n",
            "Epoch 73/500\n",
            "2/2 [==============================] - 0s 6ms/step - loss: 9.4725 - mse: 153.3172\n",
            "Epoch 74/500\n",
            "2/2 [==============================] - 0s 6ms/step - loss: 28.1620 - mse: 1110.8514\n",
            "Epoch 75/500\n",
            "2/2 [==============================] - 0s 6ms/step - loss: 10.2083 - mse: 145.8764\n",
            "Epoch 76/500\n",
            "2/2 [==============================] - 0s 7ms/step - loss: 13.1563 - mse: 218.6808\n",
            "Epoch 77/500\n",
            "2/2 [==============================] - 0s 6ms/step - loss: 18.3664 - mse: 528.8080\n",
            "Epoch 78/500\n",
            "2/2 [==============================] - 0s 6ms/step - loss: 9.0289 - mse: 91.5019\n",
            "Epoch 79/500\n",
            "2/2 [==============================] - 0s 7ms/step - loss: 23.4019 - mse: 818.9527\n",
            "Epoch 80/500\n",
            "2/2 [==============================] - 0s 7ms/step - loss: 26.0659 - mse: 1043.5956\n",
            "Epoch 81/500\n",
            "2/2 [==============================] - 0s 6ms/step - loss: 11.3828 - mse: 157.7074\n",
            "Epoch 82/500\n",
            "2/2 [==============================] - 0s 6ms/step - loss: 12.5156 - mse: 228.1051\n",
            "Epoch 83/500\n",
            "2/2 [==============================] - 0s 7ms/step - loss: 17.2132 - mse: 385.4051\n",
            "Epoch 84/500\n",
            "2/2 [==============================] - 0s 7ms/step - loss: 6.6183 - mse: 65.1039\n",
            "Epoch 85/500\n",
            "2/2 [==============================] - 0s 6ms/step - loss: 20.2372 - mse: 572.5005\n",
            "Epoch 86/500\n",
            "2/2 [==============================] - 0s 8ms/step - loss: 10.1723 - mse: 115.3684\n",
            "Epoch 87/500\n",
            "2/2 [==============================] - 0s 6ms/step - loss: 24.2658 - mse: 823.6097\n",
            "Epoch 88/500\n",
            "2/2 [==============================] - 0s 6ms/step - loss: 18.9326 - mse: 509.2965\n",
            "Epoch 89/500\n",
            "2/2 [==============================] - 0s 7ms/step - loss: 7.6818 - mse: 84.1512\n",
            "Epoch 90/500\n",
            "2/2 [==============================] - 0s 7ms/step - loss: 17.3265 - mse: 430.2740\n",
            "Epoch 91/500\n",
            "2/2 [==============================] - 0s 8ms/step - loss: 12.4415 - mse: 226.3648\n",
            "Epoch 92/500\n",
            "2/2 [==============================] - 0s 8ms/step - loss: 24.8030 - mse: 897.4850\n",
            "Epoch 93/500\n",
            "2/2 [==============================] - 0s 7ms/step - loss: 15.4712 - mse: 365.4965\n",
            "Epoch 94/500\n",
            "2/2 [==============================] - 0s 8ms/step - loss: 9.7516 - mse: 120.3305\n",
            "Epoch 95/500\n",
            "2/2 [==============================] - 0s 8ms/step - loss: 18.3861 - mse: 498.6657\n",
            "Epoch 96/500\n",
            "2/2 [==============================] - 0s 8ms/step - loss: 10.3957 - mse: 179.8083\n",
            "Epoch 97/500\n",
            "2/2 [==============================] - 0s 7ms/step - loss: 14.1426 - mse: 300.1086\n",
            "Epoch 98/500\n",
            "2/2 [==============================] - 0s 6ms/step - loss: 9.6331 - mse: 137.3567\n",
            "Epoch 99/500\n",
            "2/2 [==============================] - 0s 7ms/step - loss: 11.3303 - mse: 163.4987\n",
            "Epoch 100/500\n",
            "2/2 [==============================] - 0s 8ms/step - loss: 29.2159 - mse: 1313.7147\n",
            "Epoch 101/500\n",
            "2/2 [==============================] - 0s 7ms/step - loss: 15.5426 - mse: 361.3661\n",
            "Epoch 102/500\n",
            "2/2 [==============================] - 0s 7ms/step - loss: 10.9349 - mse: 161.3013\n",
            "Epoch 103/500\n",
            "2/2 [==============================] - 0s 7ms/step - loss: 9.2615 - mse: 96.7474\n",
            "Epoch 104/500\n",
            "2/2 [==============================] - 0s 7ms/step - loss: 24.1199 - mse: 872.6495\n",
            "Epoch 105/500\n",
            "2/2 [==============================] - 0s 6ms/step - loss: 10.9818 - mse: 167.2809\n",
            "Epoch 106/500\n",
            "2/2 [==============================] - 0s 7ms/step - loss: 11.4201 - mse: 183.0652\n",
            "Epoch 107/500\n",
            "2/2 [==============================] - 0s 8ms/step - loss: 21.6435 - mse: 699.8060\n",
            "Epoch 108/500\n",
            "2/2 [==============================] - 0s 7ms/step - loss: 7.2690 - mse: 74.0763\n",
            "Epoch 109/500\n",
            "2/2 [==============================] - 0s 8ms/step - loss: 18.8681 - mse: 505.5921\n",
            "Epoch 110/500\n",
            "2/2 [==============================] - 0s 9ms/step - loss: 11.0856 - mse: 199.7114\n",
            "Epoch 111/500\n",
            "2/2 [==============================] - 0s 8ms/step - loss: 17.6505 - mse: 449.3431\n",
            "Epoch 112/500\n",
            "2/2 [==============================] - 0s 9ms/step - loss: 6.6234 - mse: 64.2949\n",
            "Epoch 113/500\n",
            "2/2 [==============================] - 0s 9ms/step - loss: 13.5136 - mse: 269.8683\n",
            "Epoch 114/500\n",
            "2/2 [==============================] - 0s 7ms/step - loss: 20.0011 - mse: 605.5376\n",
            "Epoch 115/500\n",
            "2/2 [==============================] - 0s 9ms/step - loss: 10.8834 - mse: 142.5482\n",
            "Epoch 116/500\n",
            "2/2 [==============================] - 0s 8ms/step - loss: 22.1737 - mse: 712.7900\n",
            "Epoch 117/500\n",
            "2/2 [==============================] - 0s 7ms/step - loss: 9.3098 - mse: 129.7606\n",
            "Epoch 118/500\n",
            "2/2 [==============================] - 0s 6ms/step - loss: 10.3152 - mse: 131.5192\n",
            "Epoch 119/500\n",
            "2/2 [==============================] - 0s 7ms/step - loss: 8.0645 - mse: 72.5545\n",
            "Epoch 120/500\n",
            "2/2 [==============================] - 0s 6ms/step - loss: 37.3681 - mse: 2173.5491\n",
            "Epoch 121/500\n",
            "2/2 [==============================] - 0s 10ms/step - loss: 10.6172 - mse: 165.1576\n",
            "Epoch 122/500\n",
            "2/2 [==============================] - 0s 6ms/step - loss: 28.0104 - mse: 1203.5625\n",
            "Epoch 123/500\n",
            "2/2 [==============================] - 0s 7ms/step - loss: 32.5264 - mse: 1553.6602\n",
            "Epoch 124/500\n",
            "2/2 [==============================] - 0s 9ms/step - loss: 19.3681 - mse: 556.3223\n",
            "Epoch 125/500\n",
            "2/2 [==============================] - 0s 5ms/step - loss: 6.4806 - mse: 60.6376\n",
            "Epoch 126/500\n",
            "2/2 [==============================] - 0s 7ms/step - loss: 26.5776 - mse: 1025.3185\n",
            "Epoch 127/500\n",
            "2/2 [==============================] - 0s 5ms/step - loss: 8.6020 - mse: 95.5523\n",
            "Epoch 128/500\n",
            "2/2 [==============================] - 0s 8ms/step - loss: 13.7322 - mse: 263.4982\n",
            "Epoch 129/500\n",
            "2/2 [==============================] - 0s 6ms/step - loss: 10.8725 - mse: 180.0037\n",
            "Epoch 130/500\n",
            "2/2 [==============================] - 0s 6ms/step - loss: 15.3410 - mse: 341.2686\n",
            "Epoch 131/500\n",
            "2/2 [==============================] - 0s 9ms/step - loss: 8.8765 - mse: 89.2664\n",
            "Epoch 132/500\n",
            "2/2 [==============================] - 0s 10ms/step - loss: 14.8233 - mse: 330.6075\n",
            "Epoch 133/500\n",
            "2/2 [==============================] - 0s 8ms/step - loss: 7.9735 - mse: 88.1857\n",
            "Epoch 134/500\n",
            "2/2 [==============================] - 0s 9ms/step - loss: 22.4846 - mse: 730.1181\n",
            "Epoch 135/500\n",
            "2/2 [==============================] - 0s 9ms/step - loss: 19.9325 - mse: 560.3851\n",
            "Epoch 136/500\n",
            "2/2 [==============================] - 0s 8ms/step - loss: 13.8392 - mse: 265.3079\n",
            "Epoch 137/500\n",
            "2/2 [==============================] - 0s 7ms/step - loss: 25.3330 - mse: 873.9399\n",
            "Epoch 138/500\n",
            "2/2 [==============================] - 0s 7ms/step - loss: 10.0245 - mse: 142.3161\n",
            "Epoch 139/500\n",
            "2/2 [==============================] - 0s 6ms/step - loss: 9.4886 - mse: 137.3330\n",
            "Epoch 140/500\n",
            "2/2 [==============================] - 0s 6ms/step - loss: 18.5386 - mse: 490.8664\n",
            "Epoch 141/500\n",
            "2/2 [==============================] - 0s 6ms/step - loss: 8.3402 - mse: 74.2792\n",
            "Epoch 142/500\n",
            "2/2 [==============================] - 0s 6ms/step - loss: 33.1868 - mse: 1907.2764\n",
            "Epoch 143/500\n",
            "2/2 [==============================] - 0s 8ms/step - loss: 23.3331 - mse: 762.5773\n",
            "Epoch 144/500\n",
            "2/2 [==============================] - 0s 9ms/step - loss: 10.5035 - mse: 184.0191\n",
            "Epoch 145/500\n",
            "2/2 [==============================] - 0s 12ms/step - loss: 25.8539 - mse: 903.8989\n",
            "Epoch 146/500\n",
            "2/2 [==============================] - 0s 6ms/step - loss: 9.9567 - mse: 131.1521\n",
            "Epoch 147/500\n",
            "2/2 [==============================] - 0s 6ms/step - loss: 14.7606 - mse: 291.0511\n",
            "Epoch 148/500\n",
            "2/2 [==============================] - 0s 7ms/step - loss: 17.8763 - mse: 440.7371\n",
            "Epoch 149/500\n",
            "2/2 [==============================] - 0s 6ms/step - loss: 8.4545 - mse: 106.4901\n",
            "Epoch 150/500\n",
            "2/2 [==============================] - 0s 7ms/step - loss: 7.6365 - mse: 66.7986\n",
            "Epoch 151/500\n",
            "2/2 [==============================] - 0s 6ms/step - loss: 18.7844 - mse: 511.6374\n",
            "Epoch 152/500\n",
            "2/2 [==============================] - 0s 6ms/step - loss: 10.4705 - mse: 136.0865\n",
            "Epoch 153/500\n",
            "2/2 [==============================] - 0s 7ms/step - loss: 30.2618 - mse: 1327.4869\n",
            "Epoch 154/500\n",
            "2/2 [==============================] - 0s 6ms/step - loss: 10.0253 - mse: 177.9939\n",
            "Epoch 155/500\n",
            "2/2 [==============================] - 0s 7ms/step - loss: 15.7729 - mse: 369.7945\n",
            "Epoch 156/500\n",
            "2/2 [==============================] - 0s 6ms/step - loss: 17.7156 - mse: 465.8422\n",
            "Epoch 157/500\n",
            "2/2 [==============================] - 0s 6ms/step - loss: 31.0006 - mse: 1543.4968\n",
            "Epoch 158/500\n",
            "2/2 [==============================] - 0s 6ms/step - loss: 10.2066 - mse: 138.6922\n",
            "Epoch 159/500\n",
            "2/2 [==============================] - 0s 7ms/step - loss: 8.6969 - mse: 98.7160\n",
            "Epoch 160/500\n",
            "2/2 [==============================] - 0s 9ms/step - loss: 20.6612 - mse: 613.5015\n",
            "Epoch 161/500\n",
            "2/2 [==============================] - 0s 10ms/step - loss: 11.7943 - mse: 205.2439\n",
            "Epoch 162/500\n",
            "2/2 [==============================] - 0s 9ms/step - loss: 21.6340 - mse: 674.4791\n",
            "Epoch 163/500\n",
            "2/2 [==============================] - 0s 7ms/step - loss: 19.3146 - mse: 537.1071\n",
            "Epoch 164/500\n",
            "2/2 [==============================] - 0s 13ms/step - loss: 11.0991 - mse: 179.7011\n",
            "Epoch 165/500\n",
            "2/2 [==============================] - 0s 7ms/step - loss: 9.6430 - mse: 180.5595\n",
            "Epoch 166/500\n",
            "2/2 [==============================] - 0s 6ms/step - loss: 21.5982 - mse: 682.3406\n",
            "Epoch 167/500\n",
            "2/2 [==============================] - 0s 6ms/step - loss: 26.2861 - mse: 1049.3297\n",
            "Epoch 168/500\n",
            "2/2 [==============================] - 0s 6ms/step - loss: 9.9183 - mse: 119.4144\n",
            "Epoch 169/500\n",
            "2/2 [==============================] - 0s 6ms/step - loss: 22.5156 - mse: 784.5140\n",
            "Epoch 170/500\n",
            "2/2 [==============================] - 0s 6ms/step - loss: 10.1919 - mse: 196.5208\n",
            "Epoch 171/500\n",
            "2/2 [==============================] - 0s 6ms/step - loss: 18.0858 - mse: 504.9225\n",
            "Epoch 172/500\n",
            "2/2 [==============================] - 0s 7ms/step - loss: 28.7505 - mse: 1298.2172\n",
            "Epoch 173/500\n",
            "2/2 [==============================] - 0s 7ms/step - loss: 16.4797 - mse: 430.3368\n",
            "Epoch 174/500\n",
            "2/2 [==============================] - 0s 7ms/step - loss: 11.2500 - mse: 200.3574\n",
            "Epoch 175/500\n",
            "2/2 [==============================] - 0s 8ms/step - loss: 27.6126 - mse: 1099.5109\n",
            "Epoch 176/500\n",
            "2/2 [==============================] - 0s 6ms/step - loss: 8.2992 - mse: 77.9944\n",
            "Epoch 177/500\n",
            "2/2 [==============================] - 0s 6ms/step - loss: 9.2982 - mse: 109.5570\n",
            "Epoch 178/500\n",
            "2/2 [==============================] - 0s 6ms/step - loss: 18.0356 - mse: 461.3014\n",
            "Epoch 179/500\n",
            "2/2 [==============================] - 0s 6ms/step - loss: 10.6680 - mse: 149.7009\n",
            "Epoch 180/500\n",
            "2/2 [==============================] - 0s 6ms/step - loss: 7.9373 - mse: 102.6197\n",
            "Epoch 181/500\n",
            "2/2 [==============================] - 0s 6ms/step - loss: 17.2787 - mse: 432.9553\n",
            "Epoch 182/500\n",
            "2/2 [==============================] - 0s 6ms/step - loss: 11.0106 - mse: 156.7782\n",
            "Epoch 183/500\n",
            "2/2 [==============================] - 0s 6ms/step - loss: 11.6540 - mse: 202.2965\n",
            "Epoch 184/500\n",
            "2/2 [==============================] - 0s 6ms/step - loss: 30.1381 - mse: 1362.0609\n",
            "Epoch 185/500\n",
            "2/2 [==============================] - 0s 6ms/step - loss: 8.2373 - mse: 130.4765\n",
            "Epoch 186/500\n",
            "2/2 [==============================] - 0s 6ms/step - loss: 18.7407 - mse: 515.3185\n",
            "Epoch 187/500\n",
            "2/2 [==============================] - 0s 6ms/step - loss: 8.8218 - mse: 146.0769\n",
            "Epoch 188/500\n",
            "2/2 [==============================] - 0s 6ms/step - loss: 23.7322 - mse: 822.5272\n",
            "Epoch 189/500\n",
            "2/2 [==============================] - 0s 6ms/step - loss: 9.4043 - mse: 115.1867\n",
            "Epoch 190/500\n",
            "2/2 [==============================] - 0s 6ms/step - loss: 17.0193 - mse: 396.7049\n",
            "Epoch 191/500\n",
            "2/2 [==============================] - 0s 6ms/step - loss: 8.6356 - mse: 138.1154\n",
            "Epoch 192/500\n",
            "2/2 [==============================] - 0s 6ms/step - loss: 15.2042 - mse: 304.5211\n",
            "Epoch 193/500\n",
            "2/2 [==============================] - 0s 6ms/step - loss: 30.0503 - mse: 1247.3416\n",
            "Epoch 194/500\n",
            "2/2 [==============================] - 0s 6ms/step - loss: 9.7041 - mse: 165.8687\n",
            "Epoch 195/500\n",
            "2/2 [==============================] - 0s 6ms/step - loss: 12.0552 - mse: 241.9647\n",
            "Epoch 196/500\n",
            "2/2 [==============================] - 0s 7ms/step - loss: 23.4380 - mse: 793.7229\n",
            "Epoch 197/500\n",
            "2/2 [==============================] - 0s 8ms/step - loss: 17.7710 - mse: 464.8843\n",
            "Epoch 198/500\n",
            "2/2 [==============================] - 0s 7ms/step - loss: 12.5806 - mse: 239.7571\n",
            "Epoch 199/500\n",
            "2/2 [==============================] - 0s 7ms/step - loss: 18.0241 - mse: 466.0703\n",
            "Epoch 200/500\n",
            "2/2 [==============================] - 0s 11ms/step - loss: 13.8595 - mse: 286.5092\n",
            "Epoch 201/500\n",
            "2/2 [==============================] - 0s 8ms/step - loss: 6.1183 - mse: 52.5726\n",
            "Epoch 202/500\n",
            "2/2 [==============================] - 0s 9ms/step - loss: 22.7962 - mse: 741.9147\n",
            "Epoch 203/500\n",
            "2/2 [==============================] - 0s 7ms/step - loss: 9.0208 - mse: 155.4465\n",
            "Epoch 204/500\n",
            "2/2 [==============================] - 0s 7ms/step - loss: 18.7512 - mse: 527.6769\n",
            "Epoch 205/500\n",
            "2/2 [==============================] - 0s 6ms/step - loss: 9.3998 - mse: 128.5198\n",
            "Epoch 206/500\n",
            "2/2 [==============================] - 0s 7ms/step - loss: 10.4653 - mse: 142.8100\n",
            "Epoch 207/500\n",
            "2/2 [==============================] - 0s 9ms/step - loss: 20.9305 - mse: 665.8828\n",
            "Epoch 208/500\n",
            "2/2 [==============================] - 0s 6ms/step - loss: 16.3866 - mse: 386.9770\n",
            "Epoch 209/500\n",
            "2/2 [==============================] - 0s 7ms/step - loss: 14.2530 - mse: 314.6902\n",
            "Epoch 210/500\n",
            "2/2 [==============================] - 0s 6ms/step - loss: 17.1887 - mse: 431.4450\n",
            "Epoch 211/500\n",
            "2/2 [==============================] - 0s 6ms/step - loss: 10.2730 - mse: 147.5208\n",
            "Epoch 212/500\n",
            "2/2 [==============================] - 0s 6ms/step - loss: 19.6115 - mse: 577.8734\n",
            "Epoch 213/500\n",
            "2/2 [==============================] - 0s 6ms/step - loss: 14.7353 - mse: 299.1961\n",
            "Epoch 214/500\n",
            "2/2 [==============================] - 0s 6ms/step - loss: 14.4007 - mse: 284.0045\n",
            "Epoch 215/500\n",
            "2/2 [==============================] - 0s 6ms/step - loss: 22.9260 - mse: 775.0060\n",
            "Epoch 216/500\n",
            "2/2 [==============================] - 0s 6ms/step - loss: 13.8260 - mse: 294.4299\n",
            "Epoch 217/500\n",
            "2/2 [==============================] - 0s 6ms/step - loss: 10.2927 - mse: 150.6880\n",
            "Epoch 218/500\n",
            "2/2 [==============================] - 0s 6ms/step - loss: 12.3250 - mse: 201.2831\n",
            "Epoch 219/500\n",
            "2/2 [==============================] - 0s 6ms/step - loss: 6.5693 - mse: 62.4371\n",
            "Epoch 220/500\n",
            "2/2 [==============================] - 0s 6ms/step - loss: 7.1878 - mse: 53.6466\n",
            "Epoch 221/500\n",
            "2/2 [==============================] - 0s 6ms/step - loss: 37.2933 - mse: 2376.7698\n",
            "Epoch 222/500\n",
            "2/2 [==============================] - 0s 5ms/step - loss: 37.0583 - mse: 2237.8540\n",
            "Epoch 223/500\n",
            "2/2 [==============================] - 0s 6ms/step - loss: 6.7014 - mse: 85.3053\n",
            "Epoch 224/500\n",
            "2/2 [==============================] - 0s 9ms/step - loss: 13.8697 - mse: 274.2664\n",
            "Epoch 225/500\n",
            "2/2 [==============================] - 0s 7ms/step - loss: 16.0491 - mse: 331.6178\n",
            "Epoch 226/500\n",
            "2/2 [==============================] - 0s 6ms/step - loss: 15.2611 - mse: 332.4401\n",
            "Epoch 227/500\n",
            "2/2 [==============================] - 0s 8ms/step - loss: 15.5950 - mse: 340.5672\n",
            "Epoch 228/500\n",
            "2/2 [==============================] - 0s 8ms/step - loss: 13.6509 - mse: 267.9006\n",
            "Epoch 229/500\n",
            "2/2 [==============================] - 0s 6ms/step - loss: 17.7448 - mse: 436.8970\n",
            "Epoch 230/500\n",
            "2/2 [==============================] - 0s 7ms/step - loss: 15.2283 - mse: 300.4239\n",
            "Epoch 231/500\n",
            "2/2 [==============================] - 0s 7ms/step - loss: 21.1447 - mse: 665.6822\n",
            "Epoch 232/500\n",
            "2/2 [==============================] - 0s 6ms/step - loss: 25.1447 - mse: 904.1006\n",
            "Epoch 233/500\n",
            "2/2 [==============================] - 0s 6ms/step - loss: 16.2349 - mse: 383.9339\n",
            "Epoch 234/500\n",
            "2/2 [==============================] - 0s 6ms/step - loss: 7.3275 - mse: 67.3342\n",
            "Epoch 235/500\n",
            "2/2 [==============================] - 0s 6ms/step - loss: 16.8626 - mse: 397.5959\n",
            "Epoch 236/500\n",
            "2/2 [==============================] - 0s 6ms/step - loss: 7.1506 - mse: 70.8165\n",
            "Epoch 237/500\n",
            "2/2 [==============================] - 0s 8ms/step - loss: 9.2004 - mse: 119.3896\n",
            "Epoch 238/500\n",
            "2/2 [==============================] - 0s 6ms/step - loss: 8.1270 - mse: 87.8101\n",
            "Epoch 239/500\n",
            "2/2 [==============================] - 0s 6ms/step - loss: 16.8128 - mse: 427.2789\n",
            "Epoch 240/500\n",
            "2/2 [==============================] - 0s 6ms/step - loss: 8.8445 - mse: 108.6336\n",
            "Epoch 241/500\n",
            "2/2 [==============================] - 0s 6ms/step - loss: 12.6573 - mse: 246.6922\n",
            "Epoch 242/500\n",
            "2/2 [==============================] - 0s 6ms/step - loss: 10.8217 - mse: 178.5302\n",
            "Epoch 243/500\n",
            "2/2 [==============================] - 0s 6ms/step - loss: 17.0487 - mse: 448.5220\n",
            "Epoch 244/500\n",
            "2/2 [==============================] - 0s 6ms/step - loss: 14.6125 - mse: 291.9626\n",
            "Epoch 245/500\n",
            "2/2 [==============================] - 0s 6ms/step - loss: 15.1703 - mse: 315.9109\n",
            "Epoch 246/500\n",
            "2/2 [==============================] - 0s 6ms/step - loss: 16.2724 - mse: 402.4998\n",
            "Epoch 247/500\n",
            "2/2 [==============================] - 0s 6ms/step - loss: 18.2982 - mse: 457.2423\n",
            "Epoch 248/500\n",
            "2/2 [==============================] - 0s 6ms/step - loss: 13.8230 - mse: 263.6208\n",
            "Epoch 249/500\n",
            "2/2 [==============================] - 0s 6ms/step - loss: 14.9005 - mse: 309.7668\n",
            "Epoch 250/500\n",
            "2/2 [==============================] - 0s 6ms/step - loss: 18.6211 - mse: 474.3834\n",
            "Epoch 251/500\n",
            "2/2 [==============================] - 0s 6ms/step - loss: 13.8861 - mse: 270.0186\n",
            "Epoch 252/500\n",
            "2/2 [==============================] - 0s 6ms/step - loss: 29.4957 - mse: 1218.7849\n",
            "Epoch 253/500\n",
            "2/2 [==============================] - 0s 6ms/step - loss: 8.2605 - mse: 105.6119\n",
            "Epoch 254/500\n",
            "2/2 [==============================] - 0s 6ms/step - loss: 11.6975 - mse: 208.3610\n",
            "Epoch 255/500\n",
            "2/2 [==============================] - 0s 6ms/step - loss: 15.5964 - mse: 334.1794\n",
            "Epoch 256/500\n",
            "2/2 [==============================] - 0s 6ms/step - loss: 9.7908 - mse: 135.8596\n",
            "Epoch 257/500\n",
            "2/2 [==============================] - 0s 6ms/step - loss: 14.2845 - mse: 312.8780\n",
            "Epoch 258/500\n",
            "2/2 [==============================] - 0s 7ms/step - loss: 5.8614 - mse: 49.2650\n",
            "Epoch 259/500\n",
            "2/2 [==============================] - 0s 7ms/step - loss: 14.9456 - mse: 363.9346\n",
            "Epoch 260/500\n",
            "2/2 [==============================] - 0s 7ms/step - loss: 19.9612 - mse: 589.2142\n",
            "Epoch 261/500\n",
            "2/2 [==============================] - 0s 7ms/step - loss: 5.8388 - mse: 61.2757\n",
            "Epoch 262/500\n",
            "2/2 [==============================] - 0s 6ms/step - loss: 18.6884 - mse: 490.7419\n",
            "Epoch 263/500\n",
            "2/2 [==============================] - 0s 6ms/step - loss: 10.7357 - mse: 227.6228\n",
            "Epoch 264/500\n",
            "2/2 [==============================] - 0s 7ms/step - loss: 18.1188 - mse: 488.6068\n",
            "Epoch 265/500\n",
            "2/2 [==============================] - 0s 7ms/step - loss: 14.4459 - mse: 312.0189\n",
            "Epoch 266/500\n",
            "2/2 [==============================] - 0s 7ms/step - loss: 11.0482 - mse: 236.3504\n",
            "Epoch 267/500\n",
            "2/2 [==============================] - 0s 6ms/step - loss: 6.0522 - mse: 60.8582\n",
            "Epoch 268/500\n",
            "2/2 [==============================] - 0s 6ms/step - loss: 18.6679 - mse: 529.5646\n",
            "Epoch 269/500\n",
            "2/2 [==============================] - 0s 6ms/step - loss: 42.3800 - mse: 2803.8120\n",
            "Epoch 270/500\n",
            "2/2 [==============================] - 0s 6ms/step - loss: 14.1632 - mse: 304.6501\n",
            "Epoch 271/500\n",
            "2/2 [==============================] - 0s 6ms/step - loss: 15.4586 - mse: 312.5634\n",
            "Epoch 272/500\n",
            "2/2 [==============================] - 0s 6ms/step - loss: 22.2743 - mse: 706.3292\n",
            "Epoch 273/500\n",
            "2/2 [==============================] - 0s 7ms/step - loss: 22.5030 - mse: 722.0081\n",
            "Epoch 274/500\n",
            "2/2 [==============================] - 0s 6ms/step - loss: 13.3791 - mse: 280.0260\n",
            "Epoch 275/500\n",
            "2/2 [==============================] - 0s 6ms/step - loss: 29.4413 - mse: 1233.6165\n",
            "Epoch 276/500\n",
            "2/2 [==============================] - 0s 6ms/step - loss: 8.1429 - mse: 138.9679\n",
            "Epoch 277/500\n",
            "2/2 [==============================] - 0s 6ms/step - loss: 30.6464 - mse: 1320.4374\n",
            "Epoch 278/500\n",
            "2/2 [==============================] - 0s 6ms/step - loss: 11.5009 - mse: 223.1074\n",
            "Epoch 279/500\n",
            "2/2 [==============================] - 0s 6ms/step - loss: 16.2372 - mse: 400.4856\n",
            "Epoch 280/500\n",
            "2/2 [==============================] - 0s 6ms/step - loss: 21.5104 - mse: 695.5019\n",
            "Epoch 281/500\n",
            "2/2 [==============================] - 0s 6ms/step - loss: 23.1084 - mse: 814.1221\n",
            "Epoch 282/500\n",
            "2/2 [==============================] - 0s 6ms/step - loss: 8.0812 - mse: 93.8430\n",
            "Epoch 283/500\n",
            "2/2 [==============================] - 0s 6ms/step - loss: 8.3495 - mse: 93.8160\n",
            "Epoch 284/500\n",
            "2/2 [==============================] - 0s 6ms/step - loss: 25.8430 - mse: 1011.7849\n",
            "Epoch 285/500\n",
            "2/2 [==============================] - 0s 7ms/step - loss: 14.3870 - mse: 328.7923\n",
            "Epoch 286/500\n",
            "2/2 [==============================] - 0s 8ms/step - loss: 4.5672 - mse: 30.0606\n",
            "Epoch 287/500\n",
            "2/2 [==============================] - 0s 7ms/step - loss: 12.9756 - mse: 242.0218\n",
            "Epoch 288/500\n",
            "2/2 [==============================] - 0s 6ms/step - loss: 24.7493 - mse: 884.5905\n",
            "Epoch 289/500\n",
            "2/2 [==============================] - 0s 6ms/step - loss: 9.7166 - mse: 141.9836\n",
            "Epoch 290/500\n",
            "2/2 [==============================] - 0s 6ms/step - loss: 11.7667 - mse: 220.0850\n",
            "Epoch 291/500\n",
            "2/2 [==============================] - 0s 6ms/step - loss: 10.1348 - mse: 182.1103\n",
            "Epoch 292/500\n",
            "2/2 [==============================] - 0s 6ms/step - loss: 16.7474 - mse: 356.5397\n",
            "Epoch 293/500\n",
            "2/2 [==============================] - 0s 7ms/step - loss: 17.5814 - mse: 488.0223\n",
            "Epoch 294/500\n",
            "2/2 [==============================] - 0s 6ms/step - loss: 29.9431 - mse: 1432.4092\n",
            "Epoch 295/500\n",
            "2/2 [==============================] - 0s 6ms/step - loss: 8.0614 - mse: 84.9373\n",
            "Epoch 296/500\n",
            "2/2 [==============================] - 0s 6ms/step - loss: 16.1786 - mse: 381.0561\n",
            "Epoch 297/500\n",
            "2/2 [==============================] - 0s 6ms/step - loss: 14.5010 - mse: 291.9850\n",
            "Epoch 298/500\n",
            "2/2 [==============================] - 0s 6ms/step - loss: 21.8837 - mse: 713.1627\n",
            "Epoch 299/500\n",
            "2/2 [==============================] - 0s 6ms/step - loss: 20.6646 - mse: 638.7872\n",
            "Epoch 300/500\n",
            "2/2 [==============================] - 0s 6ms/step - loss: 9.4224 - mse: 139.1446\n",
            "Epoch 301/500\n",
            "2/2 [==============================] - 0s 9ms/step - loss: 12.9783 - mse: 251.2203\n",
            "Epoch 302/500\n",
            "2/2 [==============================] - 0s 7ms/step - loss: 7.5274 - mse: 76.8540\n",
            "Epoch 303/500\n",
            "2/2 [==============================] - 0s 6ms/step - loss: 18.3975 - mse: 494.9488\n",
            "Epoch 304/500\n",
            "2/2 [==============================] - 0s 5ms/step - loss: 11.8574 - mse: 207.4998\n",
            "Epoch 305/500\n",
            "2/2 [==============================] - 0s 6ms/step - loss: 8.9997 - mse: 121.2919\n",
            "Epoch 306/500\n",
            "2/2 [==============================] - 0s 6ms/step - loss: 21.4705 - mse: 648.2823\n",
            "Epoch 307/500\n",
            "2/2 [==============================] - 0s 6ms/step - loss: 8.3282 - mse: 143.0275\n",
            "Epoch 308/500\n",
            "2/2 [==============================] - 0s 6ms/step - loss: 21.0534 - mse: 677.4488\n",
            "Epoch 309/500\n",
            "2/2 [==============================] - 0s 7ms/step - loss: 18.9985 - mse: 518.1730\n",
            "Epoch 310/500\n",
            "2/2 [==============================] - 0s 6ms/step - loss: 5.9628 - mse: 76.1166\n",
            "Epoch 311/500\n",
            "2/2 [==============================] - 0s 7ms/step - loss: 8.8503 - mse: 158.5195\n",
            "Epoch 312/500\n",
            "2/2 [==============================] - 0s 6ms/step - loss: 29.9558 - mse: 1239.3918\n",
            "Epoch 313/500\n",
            "2/2 [==============================] - 0s 6ms/step - loss: 7.7314 - mse: 105.8289\n",
            "Epoch 314/500\n",
            "2/2 [==============================] - 0s 6ms/step - loss: 9.9473 - mse: 240.1083\n",
            "Epoch 315/500\n",
            "2/2 [==============================] - 0s 6ms/step - loss: 23.7816 - mse: 820.9577\n",
            "Epoch 316/500\n",
            "2/2 [==============================] - 0s 6ms/step - loss: 16.3682 - mse: 403.8454\n",
            "Epoch 317/500\n",
            "2/2 [==============================] - 0s 6ms/step - loss: 20.9343 - mse: 597.2512\n",
            "Epoch 318/500\n",
            "2/2 [==============================] - 0s 7ms/step - loss: 9.3159 - mse: 122.7148\n",
            "Epoch 319/500\n",
            "2/2 [==============================] - 0s 7ms/step - loss: 11.8989 - mse: 236.1768\n",
            "Epoch 320/500\n",
            "2/2 [==============================] - 0s 10ms/step - loss: 12.5228 - mse: 259.3795\n",
            "Epoch 321/500\n",
            "2/2 [==============================] - 0s 7ms/step - loss: 5.3939 - mse: 63.2210\n",
            "Epoch 322/500\n",
            "2/2 [==============================] - 0s 7ms/step - loss: 14.1988 - mse: 275.1789\n",
            "Epoch 323/500\n",
            "2/2 [==============================] - 0s 6ms/step - loss: 18.6093 - mse: 534.1542\n",
            "Epoch 324/500\n",
            "2/2 [==============================] - 0s 7ms/step - loss: 18.0732 - mse: 488.3185\n",
            "Epoch 325/500\n",
            "2/2 [==============================] - 0s 6ms/step - loss: 7.2652 - mse: 119.1770\n",
            "Epoch 326/500\n",
            "2/2 [==============================] - 0s 7ms/step - loss: 22.1077 - mse: 720.7698\n",
            "Epoch 327/500\n",
            "2/2 [==============================] - 0s 7ms/step - loss: 22.0664 - mse: 686.7876\n",
            "Epoch 328/500\n",
            "2/2 [==============================] - 0s 7ms/step - loss: 13.2883 - mse: 252.3015\n",
            "Epoch 329/500\n",
            "2/2 [==============================] - 0s 8ms/step - loss: 16.2091 - mse: 396.1374\n",
            "Epoch 330/500\n",
            "2/2 [==============================] - 0s 8ms/step - loss: 7.4624 - mse: 80.0690\n",
            "Epoch 331/500\n",
            "2/2 [==============================] - 0s 7ms/step - loss: 23.0068 - mse: 816.6352\n",
            "Epoch 332/500\n",
            "2/2 [==============================] - 0s 7ms/step - loss: 13.6733 - mse: 282.5644\n",
            "Epoch 333/500\n",
            "2/2 [==============================] - 0s 6ms/step - loss: 10.7402 - mse: 186.7201\n",
            "Epoch 334/500\n",
            "2/2 [==============================] - 0s 6ms/step - loss: 7.0656 - mse: 133.6945\n",
            "Epoch 335/500\n",
            "2/2 [==============================] - 0s 6ms/step - loss: 13.0383 - mse: 277.7798\n",
            "Epoch 336/500\n",
            "2/2 [==============================] - 0s 6ms/step - loss: 32.3728 - mse: 1428.8287\n",
            "Epoch 337/500\n",
            "2/2 [==============================] - 0s 6ms/step - loss: 10.6183 - mse: 177.8562\n",
            "Epoch 338/500\n",
            "2/2 [==============================] - 0s 6ms/step - loss: 20.0694 - mse: 591.1705\n",
            "Epoch 339/500\n",
            "2/2 [==============================] - 0s 6ms/step - loss: 34.0038 - mse: 1728.3851\n",
            "Epoch 340/500\n",
            "2/2 [==============================] - 0s 6ms/step - loss: 8.7535 - mse: 107.3662\n",
            "Epoch 341/500\n",
            "2/2 [==============================] - 0s 6ms/step - loss: 21.6291 - mse: 654.5200\n",
            "Epoch 342/500\n",
            "2/2 [==============================] - 0s 6ms/step - loss: 13.9527 - mse: 261.5766\n",
            "Epoch 343/500\n",
            "2/2 [==============================] - 0s 6ms/step - loss: 11.8277 - mse: 184.5594\n",
            "Epoch 344/500\n",
            "2/2 [==============================] - 0s 6ms/step - loss: 10.7776 - mse: 223.8734\n",
            "Epoch 345/500\n",
            "2/2 [==============================] - 0s 6ms/step - loss: 30.9854 - mse: 1349.0978\n",
            "Epoch 346/500\n",
            "2/2 [==============================] - 0s 6ms/step - loss: 10.7217 - mse: 254.9787\n",
            "Epoch 347/500\n",
            "2/2 [==============================] - 0s 6ms/step - loss: 25.6980 - mse: 923.4997\n",
            "Epoch 348/500\n",
            "2/2 [==============================] - 0s 7ms/step - loss: 12.8588 - mse: 256.1231\n",
            "Epoch 349/500\n",
            "2/2 [==============================] - 0s 6ms/step - loss: 12.5103 - mse: 255.1552\n",
            "Epoch 350/500\n",
            "2/2 [==============================] - 0s 6ms/step - loss: 15.2532 - mse: 306.5981\n",
            "Epoch 351/500\n",
            "2/2 [==============================] - 0s 6ms/step - loss: 32.5292 - mse: 1486.7795\n",
            "Epoch 352/500\n",
            "2/2 [==============================] - 0s 6ms/step - loss: 13.5649 - mse: 264.4515\n",
            "Epoch 353/500\n",
            "2/2 [==============================] - 0s 6ms/step - loss: 17.4742 - mse: 463.7349\n",
            "Epoch 354/500\n",
            "2/2 [==============================] - 0s 6ms/step - loss: 11.2024 - mse: 245.5298\n",
            "Epoch 355/500\n",
            "2/2 [==============================] - 0s 7ms/step - loss: 26.4467 - mse: 1001.3657\n",
            "Epoch 356/500\n",
            "2/2 [==============================] - 0s 6ms/step - loss: 11.0344 - mse: 207.6455\n",
            "Epoch 357/500\n",
            "2/2 [==============================] - 0s 7ms/step - loss: 13.2766 - mse: 288.3221\n",
            "Epoch 358/500\n",
            "2/2 [==============================] - 0s 6ms/step - loss: 14.6934 - mse: 327.5656\n",
            "Epoch 359/500\n",
            "2/2 [==============================] - 0s 6ms/step - loss: 12.3813 - mse: 314.8336\n",
            "Epoch 360/500\n",
            "2/2 [==============================] - 0s 9ms/step - loss: 20.3707 - mse: 622.0842\n",
            "Epoch 361/500\n",
            "2/2 [==============================] - 0s 6ms/step - loss: 10.9248 - mse: 219.2332\n",
            "Epoch 362/500\n",
            "2/2 [==============================] - 0s 6ms/step - loss: 6.9144 - mse: 79.1278\n",
            "Epoch 363/500\n",
            "2/2 [==============================] - 0s 11ms/step - loss: 23.7434 - mse: 819.4627\n",
            "Epoch 364/500\n",
            "2/2 [==============================] - 0s 6ms/step - loss: 29.4339 - mse: 1256.6263\n",
            "Epoch 365/500\n",
            "2/2 [==============================] - 0s 6ms/step - loss: 8.3459 - mse: 107.8722\n",
            "Epoch 366/500\n",
            "2/2 [==============================] - 0s 6ms/step - loss: 6.2018 - mse: 50.8590\n",
            "Epoch 367/500\n",
            "2/2 [==============================] - 0s 7ms/step - loss: 34.3511 - mse: 1790.1282\n",
            "Epoch 368/500\n",
            "2/2 [==============================] - 0s 6ms/step - loss: 7.4073 - mse: 102.5056\n",
            "Epoch 369/500\n",
            "2/2 [==============================] - 0s 6ms/step - loss: 8.2396 - mse: 92.1754\n",
            "Epoch 370/500\n",
            "2/2 [==============================] - 0s 10ms/step - loss: 17.8930 - mse: 462.1768\n",
            "Epoch 371/500\n",
            "2/2 [==============================] - 0s 7ms/step - loss: 7.0856 - mse: 87.2393\n",
            "Epoch 372/500\n",
            "2/2 [==============================] - 0s 6ms/step - loss: 6.6989 - mse: 76.8413\n",
            "Epoch 373/500\n",
            "2/2 [==============================] - 0s 6ms/step - loss: 24.5075 - mse: 891.8499\n",
            "Epoch 374/500\n",
            "2/2 [==============================] - 0s 6ms/step - loss: 9.8410 - mse: 191.4253\n",
            "Epoch 375/500\n",
            "2/2 [==============================] - 0s 6ms/step - loss: 13.1559 - mse: 242.0868\n",
            "Epoch 376/500\n",
            "2/2 [==============================] - 0s 6ms/step - loss: 15.0376 - mse: 333.1312\n",
            "Epoch 377/500\n",
            "2/2 [==============================] - 0s 6ms/step - loss: 14.9497 - mse: 299.5986\n",
            "Epoch 378/500\n",
            "2/2 [==============================] - 0s 6ms/step - loss: 16.3960 - mse: 428.0472\n",
            "Epoch 379/500\n",
            "2/2 [==============================] - 0s 6ms/step - loss: 21.0722 - mse: 608.6562\n",
            "Epoch 380/500\n",
            "2/2 [==============================] - 0s 7ms/step - loss: 32.8497 - mse: 1612.4249\n",
            "Epoch 381/500\n",
            "2/2 [==============================] - 0s 6ms/step - loss: 8.1294 - mse: 97.9009\n",
            "Epoch 382/500\n",
            "2/2 [==============================] - 0s 6ms/step - loss: 12.5232 - mse: 259.8935\n",
            "Epoch 383/500\n",
            "2/2 [==============================] - 0s 6ms/step - loss: 7.2673 - mse: 102.4673\n",
            "Epoch 384/500\n",
            "2/2 [==============================] - 0s 6ms/step - loss: 6.5534 - mse: 68.0870\n",
            "Epoch 385/500\n",
            "2/2 [==============================] - 0s 6ms/step - loss: 11.6554 - mse: 255.3471\n",
            "Epoch 386/500\n",
            "2/2 [==============================] - 0s 6ms/step - loss: 19.9824 - mse: 611.6351\n",
            "Epoch 387/500\n",
            "2/2 [==============================] - 0s 6ms/step - loss: 24.3657 - mse: 860.4781\n",
            "Epoch 388/500\n",
            "2/2 [==============================] - 0s 6ms/step - loss: 7.7544 - mse: 90.8595\n",
            "Epoch 389/500\n",
            "2/2 [==============================] - 0s 6ms/step - loss: 14.2170 - mse: 306.7393\n",
            "Epoch 390/500\n",
            "2/2 [==============================] - 0s 6ms/step - loss: 5.6211 - mse: 60.5961\n",
            "Epoch 391/500\n",
            "2/2 [==============================] - 0s 6ms/step - loss: 17.7975 - mse: 470.9727\n",
            "Epoch 392/500\n",
            "2/2 [==============================] - 0s 6ms/step - loss: 16.5904 - mse: 441.3719\n",
            "Epoch 393/500\n",
            "2/2 [==============================] - 0s 6ms/step - loss: 9.3993 - mse: 227.8626\n",
            "Epoch 394/500\n",
            "2/2 [==============================] - 0s 6ms/step - loss: 14.1817 - mse: 276.0692\n",
            "Epoch 395/500\n",
            "2/2 [==============================] - 0s 6ms/step - loss: 28.6038 - mse: 1134.7438\n",
            "Epoch 396/500\n",
            "2/2 [==============================] - 0s 6ms/step - loss: 8.4174 - mse: 112.6784\n",
            "Epoch 397/500\n",
            "2/2 [==============================] - 0s 8ms/step - loss: 10.7047 - mse: 209.1647\n",
            "Epoch 398/500\n",
            "2/2 [==============================] - 0s 6ms/step - loss: 7.5465 - mse: 83.4701\n",
            "Epoch 399/500\n",
            "2/2 [==============================] - 0s 9ms/step - loss: 15.7622 - mse: 375.5316\n",
            "Epoch 400/500\n",
            "2/2 [==============================] - 0s 8ms/step - loss: 6.8887 - mse: 63.5037\n",
            "Epoch 401/500\n",
            "2/2 [==============================] - 0s 8ms/step - loss: 8.1193 - mse: 116.5620\n",
            "Epoch 402/500\n",
            "2/2 [==============================] - 0s 6ms/step - loss: 16.6169 - mse: 397.0481\n",
            "Epoch 403/500\n",
            "2/2 [==============================] - 0s 10ms/step - loss: 12.3853 - mse: 298.1785\n",
            "Epoch 404/500\n",
            "2/2 [==============================] - 0s 7ms/step - loss: 22.9241 - mse: 736.7464\n",
            "Epoch 405/500\n",
            "2/2 [==============================] - 0s 6ms/step - loss: 18.1320 - mse: 503.6770\n",
            "Epoch 406/500\n",
            "2/2 [==============================] - 0s 6ms/step - loss: 7.1654 - mse: 77.5544\n",
            "Epoch 407/500\n",
            "2/2 [==============================] - 0s 7ms/step - loss: 12.6901 - mse: 271.4289\n",
            "Epoch 408/500\n",
            "2/2 [==============================] - 0s 6ms/step - loss: 5.7597 - mse: 42.2983\n",
            "Epoch 409/500\n",
            "2/2 [==============================] - 0s 7ms/step - loss: 31.1590 - mse: 1505.9530\n",
            "Epoch 410/500\n",
            "2/2 [==============================] - 0s 6ms/step - loss: 9.3178 - mse: 221.2857\n",
            "Epoch 411/500\n",
            "2/2 [==============================] - 0s 6ms/step - loss: 14.9143 - mse: 287.4593\n",
            "Epoch 412/500\n",
            "2/2 [==============================] - 0s 6ms/step - loss: 21.7949 - mse: 725.1274\n",
            "Epoch 413/500\n",
            "2/2 [==============================] - 0s 6ms/step - loss: 12.5630 - mse: 246.0628\n",
            "Epoch 414/500\n",
            "2/2 [==============================] - 0s 6ms/step - loss: 6.1463 - mse: 88.1250\n",
            "Epoch 415/500\n",
            "2/2 [==============================] - 0s 6ms/step - loss: 13.2530 - mse: 240.6383\n",
            "Epoch 416/500\n",
            "2/2 [==============================] - 0s 7ms/step - loss: 27.4871 - mse: 1042.0066\n",
            "Epoch 417/500\n",
            "2/2 [==============================] - 0s 7ms/step - loss: 10.5017 - mse: 204.4486\n",
            "Epoch 418/500\n",
            "2/2 [==============================] - 0s 9ms/step - loss: 12.8885 - mse: 238.4629\n",
            "Epoch 419/500\n",
            "2/2 [==============================] - 0s 11ms/step - loss: 15.9402 - mse: 378.3132\n",
            "Epoch 420/500\n",
            "2/2 [==============================] - 0s 11ms/step - loss: 24.8417 - mse: 854.7738\n",
            "Epoch 421/500\n",
            "2/2 [==============================] - 0s 6ms/step - loss: 17.1733 - mse: 435.5820\n",
            "Epoch 422/500\n",
            "2/2 [==============================] - 0s 9ms/step - loss: 7.8878 - mse: 154.0881\n",
            "Epoch 423/500\n",
            "2/2 [==============================] - 0s 7ms/step - loss: 25.4813 - mse: 913.8287\n",
            "Epoch 424/500\n",
            "2/2 [==============================] - 0s 8ms/step - loss: 14.8785 - mse: 362.2270\n",
            "Epoch 425/500\n",
            "2/2 [==============================] - 0s 8ms/step - loss: 7.1601 - mse: 75.3273\n",
            "Epoch 426/500\n",
            "2/2 [==============================] - 0s 8ms/step - loss: 20.0475 - mse: 556.4152\n",
            "Epoch 427/500\n",
            "2/2 [==============================] - 0s 9ms/step - loss: 6.3042 - mse: 87.1160\n",
            "Epoch 428/500\n",
            "2/2 [==============================] - 0s 8ms/step - loss: 12.5656 - mse: 269.2224\n",
            "Epoch 429/500\n",
            "2/2 [==============================] - 0s 6ms/step - loss: 11.9874 - mse: 227.8355\n",
            "Epoch 430/500\n",
            "2/2 [==============================] - 0s 6ms/step - loss: 10.7215 - mse: 222.5535\n",
            "Epoch 431/500\n",
            "2/2 [==============================] - 0s 6ms/step - loss: 12.2824 - mse: 273.1617\n",
            "Epoch 432/500\n",
            "2/2 [==============================] - 0s 6ms/step - loss: 7.7849 - mse: 93.2155\n",
            "Epoch 433/500\n",
            "2/2 [==============================] - 0s 6ms/step - loss: 15.0071 - mse: 350.4597\n",
            "Epoch 434/500\n",
            "2/2 [==============================] - 0s 8ms/step - loss: 18.2000 - mse: 482.0000\n",
            "Epoch 435/500\n",
            "2/2 [==============================] - 0s 10ms/step - loss: 9.0191 - mse: 203.3392\n",
            "Epoch 436/500\n",
            "2/2 [==============================] - 0s 7ms/step - loss: 28.2650 - mse: 1170.6155\n",
            "Epoch 437/500\n",
            "2/2 [==============================] - 0s 8ms/step - loss: 4.6172 - mse: 36.0475\n",
            "Epoch 438/500\n",
            "2/2 [==============================] - 0s 6ms/step - loss: 14.2035 - mse: 316.0524\n",
            "Epoch 439/500\n",
            "2/2 [==============================] - 0s 6ms/step - loss: 32.5262 - mse: 1468.9099\n",
            "Epoch 440/500\n",
            "2/2 [==============================] - 0s 6ms/step - loss: 13.2498 - mse: 252.8322\n",
            "Epoch 441/500\n",
            "2/2 [==============================] - 0s 5ms/step - loss: 16.3312 - mse: 383.8925\n",
            "Epoch 442/500\n",
            "2/2 [==============================] - 0s 6ms/step - loss: 19.8266 - mse: 621.7166\n",
            "Epoch 443/500\n",
            "2/2 [==============================] - 0s 6ms/step - loss: 24.1729 - mse: 826.3773\n",
            "Epoch 444/500\n",
            "2/2 [==============================] - 0s 6ms/step - loss: 11.4861 - mse: 216.6964\n",
            "Epoch 445/500\n",
            "2/2 [==============================] - 0s 6ms/step - loss: 14.8038 - mse: 309.8821\n",
            "Epoch 446/500\n",
            "2/2 [==============================] - 0s 7ms/step - loss: 17.8314 - mse: 504.1301\n",
            "Epoch 447/500\n",
            "2/2 [==============================] - 0s 6ms/step - loss: 5.6882 - mse: 52.6539\n",
            "Epoch 448/500\n",
            "2/2 [==============================] - 0s 6ms/step - loss: 9.5893 - mse: 233.4685\n",
            "Epoch 449/500\n",
            "2/2 [==============================] - 0s 6ms/step - loss: 14.2359 - mse: 283.7673\n",
            "Epoch 450/500\n",
            "2/2 [==============================] - 0s 6ms/step - loss: 17.0076 - mse: 439.8336\n",
            "Epoch 451/500\n",
            "2/2 [==============================] - 0s 6ms/step - loss: 14.4039 - mse: 313.9993\n",
            "Epoch 452/500\n",
            "2/2 [==============================] - 0s 6ms/step - loss: 30.8181 - mse: 1345.5996\n",
            "Epoch 453/500\n",
            "2/2 [==============================] - 0s 6ms/step - loss: 9.1499 - mse: 239.9087\n",
            "Epoch 454/500\n",
            "2/2 [==============================] - 0s 6ms/step - loss: 27.1811 - mse: 1034.3600\n",
            "Epoch 455/500\n",
            "2/2 [==============================] - 0s 6ms/step - loss: 11.4555 - mse: 234.3345\n",
            "Epoch 456/500\n",
            "2/2 [==============================] - 0s 6ms/step - loss: 15.5739 - mse: 328.7876\n",
            "Epoch 457/500\n",
            "2/2 [==============================] - 0s 6ms/step - loss: 19.4909 - mse: 563.3026\n",
            "Epoch 458/500\n",
            "2/2 [==============================] - 0s 6ms/step - loss: 22.5671 - mse: 750.3481\n",
            "Epoch 459/500\n",
            "2/2 [==============================] - 0s 6ms/step - loss: 16.0320 - mse: 367.8433\n",
            "Epoch 460/500\n",
            "2/2 [==============================] - 0s 5ms/step - loss: 5.4172 - mse: 73.6316\n",
            "Epoch 461/500\n",
            "2/2 [==============================] - 0s 9ms/step - loss: 17.5836 - mse: 446.8688\n",
            "Epoch 462/500\n",
            "2/2 [==============================] - 0s 6ms/step - loss: 14.2570 - mse: 300.3344\n",
            "Epoch 463/500\n",
            "2/2 [==============================] - 0s 6ms/step - loss: 21.3732 - mse: 682.4713\n",
            "Epoch 464/500\n",
            "2/2 [==============================] - 0s 6ms/step - loss: 22.9754 - mse: 731.3900\n",
            "Epoch 465/500\n",
            "2/2 [==============================] - 0s 6ms/step - loss: 12.4582 - mse: 254.0753\n",
            "Epoch 466/500\n",
            "2/2 [==============================] - 0s 6ms/step - loss: 9.4028 - mse: 256.1359\n",
            "Epoch 467/500\n",
            "2/2 [==============================] - 0s 6ms/step - loss: 21.5419 - mse: 718.1722\n",
            "Epoch 468/500\n",
            "2/2 [==============================] - 0s 6ms/step - loss: 23.8411 - mse: 801.0036\n",
            "Epoch 469/500\n",
            "2/2 [==============================] - 0s 6ms/step - loss: 21.2563 - mse: 641.3776\n",
            "Epoch 470/500\n",
            "2/2 [==============================] - 0s 6ms/step - loss: 9.7178 - mse: 183.4314\n",
            "Epoch 471/500\n",
            "2/2 [==============================] - 0s 6ms/step - loss: 15.9659 - mse: 390.9102\n",
            "Epoch 472/500\n",
            "2/2 [==============================] - 0s 6ms/step - loss: 14.9323 - mse: 305.8848\n",
            "Epoch 473/500\n",
            "2/2 [==============================] - 0s 6ms/step - loss: 18.2922 - mse: 521.4279\n",
            "Epoch 474/500\n",
            "2/2 [==============================] - 0s 6ms/step - loss: 41.9641 - mse: 2776.5322\n",
            "Epoch 475/500\n",
            "2/2 [==============================] - 0s 6ms/step - loss: 17.8768 - mse: 455.6392\n",
            "Epoch 476/500\n",
            "2/2 [==============================] - 0s 6ms/step - loss: 13.2355 - mse: 243.6916\n",
            "Epoch 477/500\n",
            "2/2 [==============================] - 0s 6ms/step - loss: 29.2986 - mse: 1200.3330\n",
            "Epoch 478/500\n",
            "2/2 [==============================] - 0s 6ms/step - loss: 5.8115 - mse: 75.0802\n",
            "Epoch 479/500\n",
            "2/2 [==============================] - 0s 6ms/step - loss: 7.1761 - mse: 144.9381\n",
            "Epoch 480/500\n",
            "2/2 [==============================] - 0s 6ms/step - loss: 19.1729 - mse: 575.6064\n",
            "Epoch 481/500\n",
            "2/2 [==============================] - 0s 9ms/step - loss: 13.1876 - mse: 285.4492\n",
            "Epoch 482/500\n",
            "2/2 [==============================] - 0s 6ms/step - loss: 6.9179 - mse: 94.3275\n",
            "Epoch 483/500\n",
            "2/2 [==============================] - 0s 6ms/step - loss: 13.3074 - mse: 278.4114\n",
            "Epoch 484/500\n",
            "2/2 [==============================] - 0s 6ms/step - loss: 14.2151 - mse: 303.0943\n",
            "Epoch 485/500\n",
            "2/2 [==============================] - 0s 5ms/step - loss: 9.2988 - mse: 260.0011\n",
            "Epoch 486/500\n",
            "2/2 [==============================] - 0s 6ms/step - loss: 18.4474 - mse: 519.1950\n",
            "Epoch 487/500\n",
            "2/2 [==============================] - 0s 6ms/step - loss: 6.3004 - mse: 73.8216\n",
            "Epoch 488/500\n",
            "2/2 [==============================] - 0s 6ms/step - loss: 29.6727 - mse: 1291.5192\n",
            "Epoch 489/500\n",
            "2/2 [==============================] - 0s 6ms/step - loss: 12.7224 - mse: 239.8577\n",
            "Epoch 490/500\n",
            "2/2 [==============================] - 0s 5ms/step - loss: 13.1395 - mse: 248.3545\n",
            "Epoch 491/500\n",
            "2/2 [==============================] - 0s 6ms/step - loss: 24.4218 - mse: 886.6840\n",
            "Epoch 492/500\n",
            "2/2 [==============================] - 0s 6ms/step - loss: 18.5018 - mse: 485.3777\n",
            "Epoch 493/500\n",
            "2/2 [==============================] - 0s 7ms/step - loss: 4.7960 - mse: 51.7816\n",
            "Epoch 494/500\n",
            "2/2 [==============================] - 0s 6ms/step - loss: 11.8726 - mse: 221.6832\n",
            "Epoch 495/500\n",
            "2/2 [==============================] - 0s 6ms/step - loss: 13.7840 - mse: 256.1389\n",
            "Epoch 496/500\n",
            "2/2 [==============================] - 0s 6ms/step - loss: 12.9589 - mse: 243.2028\n",
            "Epoch 497/500\n",
            "2/2 [==============================] - 0s 6ms/step - loss: 18.1370 - mse: 539.6443\n",
            "Epoch 498/500\n",
            "2/2 [==============================] - 0s 6ms/step - loss: 22.4182 - mse: 732.3931\n",
            "Epoch 499/500\n",
            "2/2 [==============================] - 0s 6ms/step - loss: 8.2599 - mse: 107.9854\n",
            "Epoch 500/500\n",
            "2/2 [==============================] - 0s 6ms/step - loss: 14.0626 - mse: 258.2314\n"
          ]
        },
        {
          "output_type": "execute_result",
          "data": {
            "text/plain": [
              "<keras.callbacks.History at 0x7f6019857fd0>"
            ]
          },
          "metadata": {},
          "execution_count": 48
        }
      ]
    },
    {
      "cell_type": "code",
      "source": [
        "y_pred_3=model_3.predict(X_test)\n",
        "plot_predictions(predictions=y_pred_3)"
      ],
      "metadata": {
        "colab": {
          "base_uri": "https://localhost:8080/",
          "height": 486
        },
        "id": "kTAStMj_aKQY",
        "outputId": "a1bcc962-a2a2-4dc4-f0df-d7d5947e4576"
      },
      "execution_count": null,
      "outputs": [
        {
          "output_type": "stream",
          "name": "stdout",
          "text": [
            "1/1 [==============================] - 0s 51ms/step\n"
          ]
        },
        {
          "output_type": "display_data",
          "data": {
            "text/plain": [
              "<Figure size 1000x700 with 1 Axes>"
            ],
            "image/png": "[encoded data removed]"
          },
          "metadata": {}
        }
      ]
    },
    {
      "cell_type": "code",
      "source": [
        "mae_3=mae(y_test,y_pred_3)\n",
        "mse_3=mse(y_test,y_pred_3)\n",
        "mae_3,mse_3"
      ],
      "metadata": {
        "colab": {
          "base_uri": "https://localhost:8080/"
        },
        "id": "TzQPQ3weabxK",
        "outputId": "f86f5459-7660-471e-d52f-a741698835b9"
      },
      "execution_count": null,
      "outputs": [
        {
          "output_type": "execute_result",
          "data": {
            "text/plain": [
              "(<tf.Tensor: shape=(), dtype=float32, numpy=67.431175>,\n",
              " <tf.Tensor: shape=(), dtype=float32, numpy=4630.0376>)"
            ]
          },
          "metadata": {},
          "execution_count": 50
        }
      ]
    },
    {
      "cell_type": "markdown",
      "source": [
        "### Comparing results of our experiment\n",
        "Comparing results of our models\n"
      ],
      "metadata": {
        "id": "hROuqRpYcoIR"
      }
    },
    {
      "cell_type": "code",
      "source": [
        "import pandas as pd\n",
        "model_results = [[\"model_1\",mae_1.numpy(),mse_1.numpy()],\n",
        "                [\"model_2\",mae_2.numpy(),mse_2.numpy()],\n",
        "                [\"model_3\",mae_3.numpy(),mse_3.numpy()]]\n",
        "\n",
        "all_results = pd.DataFrame(model_results,columns=[\"Model\",\"mae\",\"mse\"])\n",
        "all_results"
      ],
      "metadata": {
        "colab": {
          "base_uri": "https://localhost:8080/",
          "height": 143
        },
        "id": "Uc3zHDC6ahTr",
        "outputId": "02b139a0-afcd-47cd-cff1-785abb197f08"
      },
      "execution_count": null,
      "outputs": [
        {
          "output_type": "execute_result",
          "data": {
            "text/plain": [
              "     Model        mae          mse\n",
              "0  model_1   8.569835    79.921349\n",
              "1  model_2  10.941450   127.700851\n",
              "2  model_3  67.431175  4630.037598"
            ],
            "text/html": [
              "\n",
              "\n",
              "  <div id=\"df-1f7722aa-5f17-4105-9385-b6b496c7f2a2\">\n",
              "    <div class=\"colab-df-container\">\n",
              "      <div>\n",
              "<style scoped>\n",
              "    .dataframe tbody tr th:only-of-type {\n",
              "        vertical-align: middle;\n",
              "    }\n",
              "\n",
              "    .dataframe tbody tr th {\n",
              "        vertical-align: top;\n",
              "    }\n",
              "\n",
              "    .dataframe thead th {\n",
              "        text-align: right;\n",
              "    }\n",
              "</style>\n",
              "<table border=\"1\" class=\"dataframe\">\n",
              "  <thead>\n",
              "    <tr style=\"text-align: right;\">\n",
              "      <th></th>\n",
              "      <th>Model</th>\n",
              "      <th>mae</th>\n",
              "      <th>mse</th>\n",
              "    </tr>\n",
              "  </thead>\n",
              "  <tbody>\n",
              "    <tr>\n",
              "      <th>0</th>\n",
              "      <td>model_1</td>\n",
              "      <td>8.569835</td>\n",
              "      <td>79.921349</td>\n",
              "    </tr>\n",
              "    <tr>\n",
              "      <th>1</th>\n",
              "      <td>model_2</td>\n",
              "      <td>10.941450</td>\n",
              "      <td>127.700851</td>\n",
              "    </tr>\n",
              "    <tr>\n",
              "      <th>2</th>\n",
              "      <td>model_3</td>\n",
              "      <td>67.431175</td>\n",
              "      <td>4630.037598</td>\n",
              "    </tr>\n",
              "  </tbody>\n",
              "</table>\n",
              "</div>\n",
              "      <button class=\"colab-df-convert\" onclick=\"convertToInteractive('df-1f7722aa-5f17-4105-9385-b6b496c7f2a2')\"\n",
              "              title=\"Convert this dataframe to an interactive table.\"\n",
              "              style=\"display:none;\">\n",
              "\n",
              "  <svg xmlns=\"http://www.w3.org/2000/svg\" height=\"24px\"viewBox=\"0 0 24 24\"\n",
              "       width=\"24px\">\n",
              "    <path d=\"M0 0h24v24H0V0z\" fill=\"none\"/>\n",
              "    <path d=\"M18.56 5.44l.94 2.06.94-2.06 2.06-.94-2.06-.94-.94-2.06-.94 2.06-2.06.94zm-11 1L8.5 8.5l.94-2.06 2.06-.94-2.06-.94L8.5 2.5l-.94 2.06-2.06.94zm10 10l.94 2.06.94-2.06 2.06-.94-2.06-.94-.94-2.06-.94 2.06-2.06.94z\"/><path d=\"M17.41 7.96l-1.37-1.37c-.4-.4-.92-.59-1.43-.59-.52 0-1.04.2-1.43.59L10.3 9.45l-7.72 7.72c-.78.78-.78 2.05 0 2.83L4 21.41c.39.39.9.59 1.41.59.51 0 1.02-.2 1.41-.59l7.78-7.78 2.81-2.81c.8-.78.8-2.07 0-2.86zM5.41 20L4 18.59l7.72-7.72 1.47 1.35L5.41 20z\"/>\n",
              "  </svg>\n",
              "      </button>\n",
              "\n",
              "\n",
              "\n",
              "    <div id=\"df-a09a6749-20ad-4094-9e5e-4e8dd245dac5\">\n",
              "      <button class=\"colab-df-quickchart\" onclick=\"quickchart('df-a09a6749-20ad-4094-9e5e-4e8dd245dac5')\"\n",
              "              title=\"Suggest charts.\"\n",
              "              style=\"display:none;\">\n",
              "\n",
              "<svg xmlns=\"http://www.w3.org/2000/svg\" height=\"24px\"viewBox=\"0 0 24 24\"\n",
              "     width=\"24px\">\n",
              "    <g>\n",
              "        <path d=\"M19 3H5c-1.1 0-2 .9-2 2v14c0 1.1.9 2 2 2h14c1.1 0 2-.9 2-2V5c0-1.1-.9-2-2-2zM9 17H7v-7h2v7zm4 0h-2V7h2v10zm4 0h-2v-4h2v4z\"/>\n",
              "    </g>\n",
              "</svg>\n",
              "      </button>\n",
              "    </div>\n",
              "\n",
              "<style>\n",
              "  .colab-df-quickchart {\n",
              "    background-color: #E8F0FE;\n",
              "    border: none;\n",
              "    border-radius: 50%;\n",
              "    cursor: pointer;\n",
              "    display: none;\n",
              "    fill: #1967D2;\n",
              "    height: 32px;\n",
              "    padding: 0 0 0 0;\n",
              "    width: 32px;\n",
              "  }\n",
              "\n",
              "  .colab-df-quickchart:hover {\n",
              "    background-color: #E2EBFA;\n",
              "    box-shadow: 0px 1px 2px rgba(60, 64, 67, 0.3), 0px 1px 3px 1px rgba(60, 64, 67, 0.15);\n",
              "    fill: #174EA6;\n",
              "  }\n",
              "\n",
              "  [theme=dark] .colab-df-quickchart {\n",
              "    background-color: #3B4455;\n",
              "    fill: #D2E3FC;\n",
              "  }\n",
              "\n",
              "  [theme=dark] .colab-df-quickchart:hover {\n",
              "    background-color: #434B5C;\n",
              "    box-shadow: 0px 1px 3px 1px rgba(0, 0, 0, 0.15);\n",
              "    filter: drop-shadow(0px 1px 2px rgba(0, 0, 0, 0.3));\n",
              "    fill: #FFFFFF;\n",
              "  }\n",
              "</style>\n",
              "\n",
              "    <script>\n",
              "      async function quickchart(key) {\n",
              "        const containerElement = document.querySelector('#' + key);\n",
              "        const charts = await google.colab.kernel.invokeFunction(\n",
              "            'suggestCharts', [key], {});\n",
              "      }\n",
              "    </script>\n",
              "\n",
              "      <script>\n",
              "\n",
              "function displayQuickchartButton(domScope) {\n",
              "  let quickchartButtonEl =\n",
              "    domScope.querySelector('#df-a09a6749-20ad-4094-9e5e-4e8dd245dac5 button.colab-df-quickchart');\n",
              "  quickchartButtonEl.style.display =\n",
              "    google.colab.kernel.accessAllowed ? 'block' : 'none';\n",
              "}\n",
              "\n",
              "        displayQuickchartButton(document);\n",
              "      </script>\n",
              "      <style>\n",
              "    .colab-df-container {\n",
              "      display:flex;\n",
              "      flex-wrap:wrap;\n",
              "      gap: 12px;\n",
              "    }\n",
              "\n",
              "    .colab-df-convert {\n",
              "      background-color: #E8F0FE;\n",
              "      border: none;\n",
              "      border-radius: 50%;\n",
              "      cursor: pointer;\n",
              "      display: none;\n",
              "      fill: #1967D2;\n",
              "      height: 32px;\n",
              "      padding: 0 0 0 0;\n",
              "      width: 32px;\n",
              "    }\n",
              "\n",
              "    .colab-df-convert:hover {\n",
              "      background-color: #E2EBFA;\n",
              "      box-shadow: 0px 1px 2px rgba(60, 64, 67, 0.3), 0px 1px 3px 1px rgba(60, 64, 67, 0.15);\n",
              "      fill: #174EA6;\n",
              "    }\n",
              "\n",
              "    [theme=dark] .colab-df-convert {\n",
              "      background-color: #3B4455;\n",
              "      fill: #D2E3FC;\n",
              "    }\n",
              "\n",
              "    [theme=dark] .colab-df-convert:hover {\n",
              "      background-color: #434B5C;\n",
              "      box-shadow: 0px 1px 3px 1px rgba(0, 0, 0, 0.15);\n",
              "      filter: drop-shadow(0px 1px 2px rgba(0, 0, 0, 0.3));\n",
              "      fill: #FFFFFF;\n",
              "    }\n",
              "  </style>\n",
              "\n",
              "      <script>\n",
              "        const buttonEl =\n",
              "          document.querySelector('#df-1f7722aa-5f17-4105-9385-b6b496c7f2a2 button.colab-df-convert');\n",
              "        buttonEl.style.display =\n",
              "          google.colab.kernel.accessAllowed ? 'block' : 'none';\n",
              "\n",
              "        async function convertToInteractive(key) {\n",
              "          const element = document.querySelector('#df-1f7722aa-5f17-4105-9385-b6b496c7f2a2');\n",
              "          const dataTable =\n",
              "            await google.colab.kernel.invokeFunction('convertToInteractive',\n",
              "                                                     [key], {});\n",
              "          if (!dataTable) return;\n",
              "\n",
              "          const docLinkHtml = 'Like what you see? Visit the ' +\n",
              "            '<a target=\"_blank\" href=https://colab.research.google.com/notebooks/data_table.ipynb>data table notebook</a>'\n",
              "            + ' to learn more about interactive tables.';\n",
              "          element.innerHTML = '';\n",
              "          dataTable['output_type'] = 'display_data';\n",
              "          await google.colab.output.renderOutput(dataTable, element);\n",
              "          const docLink = document.createElement('div');\n",
              "          docLink.innerHTML = docLinkHtml;\n",
              "          element.appendChild(docLink);\n",
              "        }\n",
              "      </script>\n",
              "    </div>\n",
              "  </div>\n"
            ]
          },
          "metadata": {},
          "execution_count": 51
        }
      ]
    },
    {
      "cell_type": "markdown",
      "source": [
        "`model_2` is best\n"
      ],
      "metadata": {
        "id": "zo90m_iCgCJt"
      }
    },
    {
      "cell_type": "code",
      "source": [
        "model_2.summary()"
      ],
      "metadata": {
        "colab": {
          "base_uri": "https://localhost:8080/"
        },
        "id": "o1j-lQore1py",
        "outputId": "0c300e87-d776-488d-9829-b4762a15bfd4"
      },
      "execution_count": null,
      "outputs": [
        {
          "output_type": "stream",
          "name": "stdout",
          "text": [
            "Model: \"sequential_7\"\n",
            "_________________________________________________________________\n",
            " Layer (type)                Output Shape              Param #   \n",
            "=================================================================\n",
            " dense_9 (Dense)             (None, 150)               300       \n",
            "                                                                 \n",
            " dense_10 (Dense)            (None, 1)                 151       \n",
            "                                                                 \n",
            "=================================================================\n",
            "Total params: 451\n",
            "Trainable params: 451\n",
            "Non-trainable params: 0\n",
            "_________________________________________________________________\n"
          ]
        }
      ]
    },
    {
      "cell_type": "markdown",
      "source": [
        "## Machine Learning Practitioner's Motto:\n",
        "\n",
        "> **\"Experiment, Experiment and Experiment\"**"
      ],
      "metadata": {
        "id": "HRAqf4EXgU_D"
      }
    },
    {
      "cell_type": "markdown",
      "source": [
        "## Tracking your Experiments.\n",
        "\n",
        "Tools to keep track of results of our experiments:\n",
        "\n",
        "* TensorBoard\n",
        "* Weights & Biases(plugs straight into tensorboard)"
      ],
      "metadata": {
        "id": "jXjY74IDgv7q"
      }
    },
    {
      "cell_type": "markdown",
      "source": [
        "### Saving our models\n",
        "Saving models helps to use them wherever we like\n",
        "\n",
        "2 formats we can save our models to:\n",
        "\n",
        "1. SaveModel Format\n",
        "2. HDF5 format"
      ],
      "metadata": {
        "id": "4_-Dqv4xjU2w"
      }
    },
    {
      "cell_type": "code",
      "source": [
        "# SaveModel format\n",
        "\n",
        "model_2.save(\"bestRes_course_00\")"
      ],
      "metadata": {
        "colab": {
          "base_uri": "https://localhost:8080/"
        },
        "id": "LmV5YkjZgJK7",
        "outputId": "22d1b0c5-c604-4db9-cc1b-422b6fc2f8c4"
      },
      "execution_count": null,
      "outputs": [
        {
          "output_type": "stream",
          "name": "stderr",
          "text": [
            "WARNING:absl:Found untraced functions such as _update_step_xla while saving (showing 1 of 1). These functions will not be directly callable after loading.\n"
          ]
        }
      ]
    },
    {
      "cell_type": "code",
      "source": [
        "model_2.save(\"bestRes_course_00_hdf5.h5\")"
      ],
      "metadata": {
        "id": "xSA1TGlVls_6"
      },
      "execution_count": null,
      "outputs": []
    },
    {
      "cell_type": "code",
      "source": [
        "load_SaveModel_Format = tf.keras.models.load_model(\"/content/bestRes_course_00\")\n",
        "load_SaveModel_Format.summary()"
      ],
      "metadata": {
        "colab": {
          "base_uri": "https://localhost:8080/"
        },
        "id": "_juyPZfJl-62",
        "outputId": "b4856505-3323-459b-a331-d9248c4aab8e"
      },
      "execution_count": null,
      "outputs": [
        {
          "output_type": "stream",
          "name": "stdout",
          "text": [
            "Model: \"sequential_7\"\n",
            "_________________________________________________________________\n",
            " Layer (type)                Output Shape              Param #   \n",
            "=================================================================\n",
            " dense_9 (Dense)             (None, 150)               300       \n",
            "                                                                 \n",
            " dense_10 (Dense)            (None, 1)                 151       \n",
            "                                                                 \n",
            "=================================================================\n",
            "Total params: 451\n",
            "Trainable params: 451\n",
            "Non-trainable params: 0\n",
            "_________________________________________________________________\n"
          ]
        }
      ]
    },
    {
      "cell_type": "code",
      "source": [
        "model_2_preds=model_2.predict(X_test)\n",
        "load_SaveModel_Format_preds=load_SaveModel_Format.predict(X_test)"
      ],
      "metadata": {
        "colab": {
          "base_uri": "https://localhost:8080/"
        },
        "id": "56BUPdeMuLHN",
        "outputId": "57c7b4e6-f4ee-40eb-9632-d36605aaadaa"
      },
      "execution_count": null,
      "outputs": [
        {
          "output_type": "stream",
          "name": "stdout",
          "text": [
            "1/1 [==============================] - 0s 34ms/step\n",
            "1/1 [==============================] - 0s 51ms/step\n"
          ]
        }
      ]
    },
    {
      "cell_type": "code",
      "source": [
        "model_2_preds==load_SaveModel_Format_preds"
      ],
      "metadata": {
        "colab": {
          "base_uri": "https://localhost:8080/"
        },
        "id": "HVpd6mx6ukRV",
        "outputId": "639b1b36-9217-4084-9234-7139ae47c001"
      },
      "execution_count": null,
      "outputs": [
        {
          "output_type": "execute_result",
          "data": {
            "text/plain": [
              "array([[ True],\n",
              "       [ True],\n",
              "       [ True],\n",
              "       [ True],\n",
              "       [ True],\n",
              "       [ True],\n",
              "       [ True],\n",
              "       [ True],\n",
              "       [ True],\n",
              "       [ True]])"
            ]
          },
          "metadata": {},
          "execution_count": 57
        }
      ]
    },
    {
      "cell_type": "code",
      "source": [
        "# Load h5 format model\n",
        "load_h5_Format = tf.keras.models.load_model(\"/content/bestRes_course_00_hdf5.h5\")\n",
        "load_h5_Format.summary()"
      ],
      "metadata": {
        "colab": {
          "base_uri": "https://localhost:8080/"
        },
        "id": "Kcw8YPQzuqVr",
        "outputId": "5ac96a6a-633b-4da4-a6ed-7548d2406f92"
      },
      "execution_count": null,
      "outputs": [
        {
          "output_type": "stream",
          "name": "stdout",
          "text": [
            "Model: \"sequential_7\"\n",
            "_________________________________________________________________\n",
            " Layer (type)                Output Shape              Param #   \n",
            "=================================================================\n",
            " dense_9 (Dense)             (None, 150)               300       \n",
            "                                                                 \n",
            " dense_10 (Dense)            (None, 1)                 151       \n",
            "                                                                 \n",
            "=================================================================\n",
            "Total params: 451\n",
            "Trainable params: 451\n",
            "Non-trainable params: 0\n",
            "_________________________________________________________________\n"
          ]
        }
      ]
    },
    {
      "cell_type": "code",
      "source": [
        "load_h5_Format_preds = load_h5_Format.predict(X_test)\n",
        "model_2_preds == load_h5_Format_preds"
      ],
      "metadata": {
        "colab": {
          "base_uri": "https://localhost:8080/"
        },
        "id": "J3dKvZ8fvZI5",
        "outputId": "61c2b4ec-8be7-49a4-b9bb-c55ea38681ed"
      },
      "execution_count": null,
      "outputs": [
        {
          "output_type": "stream",
          "name": "stdout",
          "text": [
            "1/1 [==============================] - 0s 52ms/step\n"
          ]
        },
        {
          "output_type": "execute_result",
          "data": {
            "text/plain": [
              "array([[ True],\n",
              "       [ True],\n",
              "       [ True],\n",
              "       [ True],\n",
              "       [ True],\n",
              "       [ True],\n",
              "       [ True],\n",
              "       [ True],\n",
              "       [ True],\n",
              "       [ True]])"
            ]
          },
          "metadata": {},
          "execution_count": 59
        }
      ]
    },
    {
      "cell_type": "markdown",
      "source": [
        "### Downloading Model\n",
        "1. Download from files tab.\n",
        "2. use Code\n",
        "3. Save it to google drive"
      ],
      "metadata": {
        "id": "44OT9s9szdUL"
      }
    },
    {
      "cell_type": "code",
      "source": [
        "# Download files form google colab\n",
        "from google.colab import files\n",
        "files.download(\"/content/bestRes_course_00\")"
      ],
      "metadata": {
        "colab": {
          "base_uri": "https://localhost:8080/",
          "height": 34
        },
        "id": "Mn5pR4myvmuE",
        "outputId": "e07d771c-ca9c-45cc-ff7a-c59d8e6bf10b"
      },
      "execution_count": null,
      "outputs": [
        {
          "output_type": "display_data",
          "data": {
            "text/plain": [
              "<IPython.core.display.Javascript object>"
            ],
            "application/javascript": [
              "\n",
              "    async function download(id, filename, size) {\n",
              "      if (!google.colab.kernel.accessAllowed) {\n",
              "        return;\n",
              "      }\n",
              "      const div = document.createElement('div');\n",
              "      const label = document.createElement('label');\n",
              "      label.textContent = `Downloading \"${filename}\": `;\n",
              "      div.appendChild(label);\n",
              "      const progress = document.createElement('progress');\n",
              "      progress.max = size;\n",
              "      div.appendChild(progress);\n",
              "      document.body.appendChild(div);\n",
              "\n",
              "      const buffers = [];\n",
              "      let downloaded = 0;\n",
              "\n",
              "      const channel = await google.colab.kernel.comms.open(id);\n",
              "      // Send a message to notify the kernel that we're ready.\n",
              "      channel.send({})\n",
              "\n",
              "      for await (const message of channel.messages) {\n",
              "        // Send a message to notify the kernel that we're ready.\n",
              "        channel.send({})\n",
              "        if (message.buffers) {\n",
              "          for (const buffer of message.buffers) {\n",
              "            buffers.push(buffer);\n",
              "            downloaded += buffer.byteLength;\n",
              "            progress.value = downloaded;\n",
              "          }\n",
              "        }\n",
              "      }\n",
              "      const blob = new Blob(buffers, {type: 'application/binary'});\n",
              "      const a = document.createElement('a');\n",
              "      a.href = window.URL.createObjectURL(blob);\n",
              "      a.download = filename;\n",
              "      div.appendChild(a);\n",
              "      a.click();\n",
              "      div.remove();\n",
              "    }\n",
              "  "
            ]
          },
          "metadata": {}
        },
        {
          "output_type": "display_data",
          "data": {
            "text/plain": [
              "<IPython.core.display.Javascript object>"
            ],
            "application/javascript": [
              "download(\"download_a6e5ee60-a431-455a-a8d4-ada0c65ab53d\", \"bestRes_course_00\", 4096)"
            ]
          },
          "metadata": {}
        }
      ]
    },
    {
      "cell_type": "code",
      "source": [
        "# Saving to Drive\n",
        "!cp /content/bestRes_course_00_hdf5.h5 /content/drive/MyDrive/Tensorflow_Course"
      ],
      "metadata": {
        "id": "gszw2w_yz5Af"
      },
      "execution_count": null,
      "outputs": []
    },
    {
      "cell_type": "code",
      "source": [
        "!ls /content/drive/MyDrive/Tensorflow_Course"
      ],
      "metadata": {
        "colab": {
          "base_uri": "https://localhost:8080/"
        },
        "id": "3FzdSR-w1E7v",
        "outputId": "f815e4f7-ca9e-4461-db67-2fe36b36c5a5"
      },
      "execution_count": null,
      "outputs": [
        {
          "output_type": "stream",
          "name": "stdout",
          "text": [
            "bestRes_course_00_hdf5.h5\n"
          ]
        }
      ]
    },
    {
      "cell_type": "markdown",
      "source": [
        "### Bigger Dataset"
      ],
      "metadata": {
        "id": "_6v9Vvr150Mh"
      }
    },
    {
      "cell_type": "code",
      "source": [
        "import tensorflow as tf\n",
        "import pandas as pd\n",
        "import matplotlib.pyplot as plt\n"
      ],
      "metadata": {
        "id": "4fOO5SCl1IOS"
      },
      "execution_count": null,
      "outputs": []
    },
    {
      "cell_type": "code",
      "source": [
        "insurance = pd.read_csv(\"https://raw.githubusercontent.com/stedy/Machine-Learning-with-R-datasets/master/insurance.csv\")\n",
        "insurance"
      ],
      "metadata": {
        "colab": {
          "base_uri": "https://localhost:8080/",
          "height": 423
        },
        "id": "A7HXv8yX7am-",
        "outputId": "801d6dd3-9699-42c1-83dd-a057be6694ca"
      },
      "execution_count": null,
      "outputs": [
        {
          "output_type": "execute_result",
          "data": {
            "text/plain": [
              "      age     sex     bmi  children smoker     region      charges\n",
              "0      19  female  27.900         0    yes  southwest  16884.92400\n",
              "1      18    male  33.770         1     no  southeast   1725.55230\n",
              "2      28    male  33.000         3     no  southeast   4449.46200\n",
              "3      33    male  22.705         0     no  northwest  21984.47061\n",
              "4      32    male  28.880         0     no  northwest   3866.85520\n",
              "...   ...     ...     ...       ...    ...        ...          ...\n",
              "1333   50    male  30.970         3     no  northwest  10600.54830\n",
              "1334   18  female  31.920         0     no  northeast   2205.98080\n",
              "1335   18  female  36.850         0     no  southeast   1629.83350\n",
              "1336   21  female  25.800         0     no  southwest   2007.94500\n",
              "1337   61  female  29.070         0    yes  northwest  29141.36030\n",
              "\n",
              "[1338 rows x 7 columns]"
            ],
            "text/html": [
              "\n",
              "\n",
              "  <div id=\"df-5f10edde-cd0c-4296-99c7-39f328362f9d\">\n",
              "    <div class=\"colab-df-container\">\n",
              "      <div>\n",
              "<style scoped>\n",
              "    .dataframe tbody tr th:only-of-type {\n",
              "        vertical-align: middle;\n",
              "    }\n",
              "\n",
              "    .dataframe tbody tr th {\n",
              "        vertical-align: top;\n",
              "    }\n",
              "\n",
              "    .dataframe thead th {\n",
              "        text-align: right;\n",
              "    }\n",
              "</style>\n",
              "<table border=\"1\" class=\"dataframe\">\n",
              "  <thead>\n",
              "    <tr style=\"text-align: right;\">\n",
              "      <th></th>\n",
              "      <th>age</th>\n",
              "      <th>sex</th>\n",
              "      <th>bmi</th>\n",
              "      <th>children</th>\n",
              "      <th>smoker</th>\n",
              "      <th>region</th>\n",
              "      <th>charges</th>\n",
              "    </tr>\n",
              "  </thead>\n",
              "  <tbody>\n",
              "    <tr>\n",
              "      <th>0</th>\n",
              "      <td>19</td>\n",
              "      <td>female</td>\n",
              "      <td>27.900</td>\n",
              "      <td>0</td>\n",
              "      <td>yes</td>\n",
              "      <td>southwest</td>\n",
              "      <td>16884.92400</td>\n",
              "    </tr>\n",
              "    <tr>\n",
              "      <th>1</th>\n",
              "      <td>18</td>\n",
              "      <td>male</td>\n",
              "      <td>33.770</td>\n",
              "      <td>1</td>\n",
              "      <td>no</td>\n",
              "      <td>southeast</td>\n",
              "      <td>1725.55230</td>\n",
              "    </tr>\n",
              "    <tr>\n",
              "      <th>2</th>\n",
              "      <td>28</td>\n",
              "      <td>male</td>\n",
              "      <td>33.000</td>\n",
              "      <td>3</td>\n",
              "      <td>no</td>\n",
              "      <td>southeast</td>\n",
              "      <td>4449.46200</td>\n",
              "    </tr>\n",
              "    <tr>\n",
              "      <th>3</th>\n",
              "      <td>33</td>\n",
              "      <td>male</td>\n",
              "      <td>22.705</td>\n",
              "      <td>0</td>\n",
              "      <td>no</td>\n",
              "      <td>northwest</td>\n",
              "      <td>21984.47061</td>\n",
              "    </tr>\n",
              "    <tr>\n",
              "      <th>4</th>\n",
              "      <td>32</td>\n",
              "      <td>male</td>\n",
              "      <td>28.880</td>\n",
              "      <td>0</td>\n",
              "      <td>no</td>\n",
              "      <td>northwest</td>\n",
              "      <td>3866.85520</td>\n",
              "    </tr>\n",
              "    <tr>\n",
              "      <th>...</th>\n",
              "      <td>...</td>\n",
              "      <td>...</td>\n",
              "      <td>...</td>\n",
              "      <td>...</td>\n",
              "      <td>...</td>\n",
              "      <td>...</td>\n",
              "      <td>...</td>\n",
              "    </tr>\n",
              "    <tr>\n",
              "      <th>1333</th>\n",
              "      <td>50</td>\n",
              "      <td>male</td>\n",
              "      <td>30.970</td>\n",
              "      <td>3</td>\n",
              "      <td>no</td>\n",
              "      <td>northwest</td>\n",
              "      <td>10600.54830</td>\n",
              "    </tr>\n",
              "    <tr>\n",
              "      <th>1334</th>\n",
              "      <td>18</td>\n",
              "      <td>female</td>\n",
              "      <td>31.920</td>\n",
              "      <td>0</td>\n",
              "      <td>no</td>\n",
              "      <td>northeast</td>\n",
              "      <td>2205.98080</td>\n",
              "    </tr>\n",
              "    <tr>\n",
              "      <th>1335</th>\n",
              "      <td>18</td>\n",
              "      <td>female</td>\n",
              "      <td>36.850</td>\n",
              "      <td>0</td>\n",
              "      <td>no</td>\n",
              "      <td>southeast</td>\n",
              "      <td>1629.83350</td>\n",
              "    </tr>\n",
              "    <tr>\n",
              "      <th>1336</th>\n",
              "      <td>21</td>\n",
              "      <td>female</td>\n",
              "      <td>25.800</td>\n",
              "      <td>0</td>\n",
              "      <td>no</td>\n",
              "      <td>southwest</td>\n",
              "      <td>2007.94500</td>\n",
              "    </tr>\n",
              "    <tr>\n",
              "      <th>1337</th>\n",
              "      <td>61</td>\n",
              "      <td>female</td>\n",
              "      <td>29.070</td>\n",
              "      <td>0</td>\n",
              "      <td>yes</td>\n",
              "      <td>northwest</td>\n",
              "      <td>29141.36030</td>\n",
              "    </tr>\n",
              "  </tbody>\n",
              "</table>\n",
              "<p>1338 rows × 7 columns</p>\n",
              "</div>\n",
              "      <button class=\"colab-df-convert\" onclick=\"convertToInteractive('df-5f10edde-cd0c-4296-99c7-39f328362f9d')\"\n",
              "              title=\"Convert this dataframe to an interactive table.\"\n",
              "              style=\"display:none;\">\n",
              "\n",
              "  <svg xmlns=\"http://www.w3.org/2000/svg\" height=\"24px\"viewBox=\"0 0 24 24\"\n",
              "       width=\"24px\">\n",
              "    <path d=\"M0 0h24v24H0V0z\" fill=\"none\"/>\n",
              "    <path d=\"M18.56 5.44l.94 2.06.94-2.06 2.06-.94-2.06-.94-.94-2.06-.94 2.06-2.06.94zm-11 1L8.5 8.5l.94-2.06 2.06-.94-2.06-.94L8.5 2.5l-.94 2.06-2.06.94zm10 10l.94 2.06.94-2.06 2.06-.94-2.06-.94-.94-2.06-.94 2.06-2.06.94z\"/><path d=\"M17.41 7.96l-1.37-1.37c-.4-.4-.92-.59-1.43-.59-.52 0-1.04.2-1.43.59L10.3 9.45l-7.72 7.72c-.78.78-.78 2.05 0 2.83L4 21.41c.39.39.9.59 1.41.59.51 0 1.02-.2 1.41-.59l7.78-7.78 2.81-2.81c.8-.78.8-2.07 0-2.86zM5.41 20L4 18.59l7.72-7.72 1.47 1.35L5.41 20z\"/>\n",
              "  </svg>\n",
              "      </button>\n",
              "\n",
              "\n",
              "\n",
              "    <div id=\"df-470692b9-76a7-4a4c-9491-6b6b22fce845\">\n",
              "      <button class=\"colab-df-quickchart\" onclick=\"quickchart('df-470692b9-76a7-4a4c-9491-6b6b22fce845')\"\n",
              "              title=\"Suggest charts.\"\n",
              "              style=\"display:none;\">\n",
              "\n",
              "<svg xmlns=\"http://www.w3.org/2000/svg\" height=\"24px\"viewBox=\"0 0 24 24\"\n",
              "     width=\"24px\">\n",
              "    <g>\n",
              "        <path d=\"M19 3H5c-1.1 0-2 .9-2 2v14c0 1.1.9 2 2 2h14c1.1 0 2-.9 2-2V5c0-1.1-.9-2-2-2zM9 17H7v-7h2v7zm4 0h-2V7h2v10zm4 0h-2v-4h2v4z\"/>\n",
              "    </g>\n",
              "</svg>\n",
              "      </button>\n",
              "    </div>\n",
              "\n",
              "<style>\n",
              "  .colab-df-quickchart {\n",
              "    background-color: #E8F0FE;\n",
              "    border: none;\n",
              "    border-radius: 50%;\n",
              "    cursor: pointer;\n",
              "    display: none;\n",
              "    fill: #1967D2;\n",
              "    height: 32px;\n",
              "    padding: 0 0 0 0;\n",
              "    width: 32px;\n",
              "  }\n",
              "\n",
              "  .colab-df-quickchart:hover {\n",
              "    background-color: #E2EBFA;\n",
              "    box-shadow: 0px 1px 2px rgba(60, 64, 67, 0.3), 0px 1px 3px 1px rgba(60, 64, 67, 0.15);\n",
              "    fill: #174EA6;\n",
              "  }\n",
              "\n",
              "  [theme=dark] .colab-df-quickchart {\n",
              "    background-color: #3B4455;\n",
              "    fill: #D2E3FC;\n",
              "  }\n",
              "\n",
              "  [theme=dark] .colab-df-quickchart:hover {\n",
              "    background-color: #434B5C;\n",
              "    box-shadow: 0px 1px 3px 1px rgba(0, 0, 0, 0.15);\n",
              "    filter: drop-shadow(0px 1px 2px rgba(0, 0, 0, 0.3));\n",
              "    fill: #FFFFFF;\n",
              "  }\n",
              "</style>\n",
              "\n",
              "    <script>\n",
              "      async function quickchart(key) {\n",
              "        const containerElement = document.querySelector('#' + key);\n",
              "        const charts = await google.colab.kernel.invokeFunction(\n",
              "            'suggestCharts', [key], {});\n",
              "      }\n",
              "    </script>\n",
              "\n",
              "      <script>\n",
              "\n",
              "function displayQuickchartButton(domScope) {\n",
              "  let quickchartButtonEl =\n",
              "    domScope.querySelector('#df-470692b9-76a7-4a4c-9491-6b6b22fce845 button.colab-df-quickchart');\n",
              "  quickchartButtonEl.style.display =\n",
              "    google.colab.kernel.accessAllowed ? 'block' : 'none';\n",
              "}\n",
              "\n",
              "        displayQuickchartButton(document);\n",
              "      </script>\n",
              "      <style>\n",
              "    .colab-df-container {\n",
              "      display:flex;\n",
              "      flex-wrap:wrap;\n",
              "      gap: 12px;\n",
              "    }\n",
              "\n",
              "    .colab-df-convert {\n",
              "      background-color: #E8F0FE;\n",
              "      border: none;\n",
              "      border-radius: 50%;\n",
              "      cursor: pointer;\n",
              "      display: none;\n",
              "      fill: #1967D2;\n",
              "      height: 32px;\n",
              "      padding: 0 0 0 0;\n",
              "      width: 32px;\n",
              "    }\n",
              "\n",
              "    .colab-df-convert:hover {\n",
              "      background-color: #E2EBFA;\n",
              "      box-shadow: 0px 1px 2px rgba(60, 64, 67, 0.3), 0px 1px 3px 1px rgba(60, 64, 67, 0.15);\n",
              "      fill: #174EA6;\n",
              "    }\n",
              "\n",
              "    [theme=dark] .colab-df-convert {\n",
              "      background-color: #3B4455;\n",
              "      fill: #D2E3FC;\n",
              "    }\n",
              "\n",
              "    [theme=dark] .colab-df-convert:hover {\n",
              "      background-color: #434B5C;\n",
              "      box-shadow: 0px 1px 3px 1px rgba(0, 0, 0, 0.15);\n",
              "      filter: drop-shadow(0px 1px 2px rgba(0, 0, 0, 0.3));\n",
              "      fill: #FFFFFF;\n",
              "    }\n",
              "  </style>\n",
              "\n",
              "      <script>\n",
              "        const buttonEl =\n",
              "          document.querySelector('#df-5f10edde-cd0c-4296-99c7-39f328362f9d button.colab-df-convert');\n",
              "        buttonEl.style.display =\n",
              "          google.colab.kernel.accessAllowed ? 'block' : 'none';\n",
              "\n",
              "        async function convertToInteractive(key) {\n",
              "          const element = document.querySelector('#df-5f10edde-cd0c-4296-99c7-39f328362f9d');\n",
              "          const dataTable =\n",
              "            await google.colab.kernel.invokeFunction('convertToInteractive',\n",
              "                                                     [key], {});\n",
              "          if (!dataTable) return;\n",
              "\n",
              "          const docLinkHtml = 'Like what you see? Visit the ' +\n",
              "            '<a target=\"_blank\" href=https://colab.research.google.com/notebooks/data_table.ipynb>data table notebook</a>'\n",
              "            + ' to learn more about interactive tables.';\n",
              "          element.innerHTML = '';\n",
              "          dataTable['output_type'] = 'display_data';\n",
              "          await google.colab.output.renderOutput(dataTable, element);\n",
              "          const docLink = document.createElement('div');\n",
              "          docLink.innerHTML = docLinkHtml;\n",
              "          element.appendChild(docLink);\n",
              "        }\n",
              "      </script>\n",
              "    </div>\n",
              "  </div>\n"
            ]
          },
          "metadata": {},
          "execution_count": 64
        }
      ]
    },
    {
      "cell_type": "code",
      "source": [
        "insurance['smoker'].value_counts()"
      ],
      "metadata": {
        "colab": {
          "base_uri": "https://localhost:8080/"
        },
        "id": "c9jnPt9p_S-t",
        "outputId": "352abf57-0a0d-47a3-9c18-c3ff8b12df84"
      },
      "execution_count": null,
      "outputs": [
        {
          "output_type": "execute_result",
          "data": {
            "text/plain": [
              "no     1064\n",
              "yes     274\n",
              "Name: smoker, dtype: int64"
            ]
          },
          "metadata": {},
          "execution_count": 68
        }
      ]
    },
    {
      "cell_type": "code",
      "source": [
        "insurance_one_hot=pd.get_dummies(insurance)\n",
        "insurance_one_hot.head()"
      ],
      "metadata": {
        "colab": {
          "base_uri": "https://localhost:8080/",
          "height": 270
        },
        "id": "UqnB6smV_q5N",
        "outputId": "276c963e-aa88-4f99-bc72-a0bd29a22152"
      },
      "execution_count": null,
      "outputs": [
        {
          "output_type": "execute_result",
          "data": {
            "text/plain": [
              "   age     bmi  children      charges  sex_female  sex_male  smoker_no  \\\n",
              "0   19  27.900         0  16884.92400           1         0          0   \n",
              "1   18  33.770         1   1725.55230           0         1          1   \n",
              "2   28  33.000         3   4449.46200           0         1          1   \n",
              "3   33  22.705         0  21984.47061           0         1          1   \n",
              "4   32  28.880         0   3866.85520           0         1          1   \n",
              "\n",
              "   smoker_yes  region_northeast  region_northwest  region_southeast  \\\n",
              "0           1                 0                 0                 0   \n",
              "1           0                 0                 0                 1   \n",
              "2           0                 0                 0                 1   \n",
              "3           0                 0                 1                 0   \n",
              "4           0                 0                 1                 0   \n",
              "\n",
              "   region_southwest  \n",
              "0                 1  \n",
              "1                 0  \n",
              "2                 0  \n",
              "3                 0  \n",
              "4                 0  "
            ],
            "text/html": [
              "\n",
              "\n",
              "  <div id=\"df-83809976-cb0c-4d4d-a331-4cb31d8086f5\">\n",
              "    <div class=\"colab-df-container\">\n",
              "      <div>\n",
              "<style scoped>\n",
              "    .dataframe tbody tr th:only-of-type {\n",
              "        vertical-align: middle;\n",
              "    }\n",
              "\n",
              "    .dataframe tbody tr th {\n",
              "        vertical-align: top;\n",
              "    }\n",
              "\n",
              "    .dataframe thead th {\n",
              "        text-align: right;\n",
              "    }\n",
              "</style>\n",
              "<table border=\"1\" class=\"dataframe\">\n",
              "  <thead>\n",
              "    <tr style=\"text-align: right;\">\n",
              "      <th></th>\n",
              "      <th>age</th>\n",
              "      <th>bmi</th>\n",
              "      <th>children</th>\n",
              "      <th>charges</th>\n",
              "      <th>sex_female</th>\n",
              "      <th>sex_male</th>\n",
              "      <th>smoker_no</th>\n",
              "      <th>smoker_yes</th>\n",
              "      <th>region_northeast</th>\n",
              "      <th>region_northwest</th>\n",
              "      <th>region_southeast</th>\n",
              "      <th>region_southwest</th>\n",
              "    </tr>\n",
              "  </thead>\n",
              "  <tbody>\n",
              "    <tr>\n",
              "      <th>0</th>\n",
              "      <td>19</td>\n",
              "      <td>27.900</td>\n",
              "      <td>0</td>\n",
              "      <td>16884.92400</td>\n",
              "      <td>1</td>\n",
              "      <td>0</td>\n",
              "      <td>0</td>\n",
              "      <td>1</td>\n",
              "      <td>0</td>\n",
              "      <td>0</td>\n",
              "      <td>0</td>\n",
              "      <td>1</td>\n",
              "    </tr>\n",
              "    <tr>\n",
              "      <th>1</th>\n",
              "      <td>18</td>\n",
              "      <td>33.770</td>\n",
              "      <td>1</td>\n",
              "      <td>1725.55230</td>\n",
              "      <td>0</td>\n",
              "      <td>1</td>\n",
              "      <td>1</td>\n",
              "      <td>0</td>\n",
              "      <td>0</td>\n",
              "      <td>0</td>\n",
              "      <td>1</td>\n",
              "      <td>0</td>\n",
              "    </tr>\n",
              "    <tr>\n",
              "      <th>2</th>\n",
              "      <td>28</td>\n",
              "      <td>33.000</td>\n",
              "      <td>3</td>\n",
              "      <td>4449.46200</td>\n",
              "      <td>0</td>\n",
              "      <td>1</td>\n",
              "      <td>1</td>\n",
              "      <td>0</td>\n",
              "      <td>0</td>\n",
              "      <td>0</td>\n",
              "      <td>1</td>\n",
              "      <td>0</td>\n",
              "    </tr>\n",
              "    <tr>\n",
              "      <th>3</th>\n",
              "      <td>33</td>\n",
              "      <td>22.705</td>\n",
              "      <td>0</td>\n",
              "      <td>21984.47061</td>\n",
              "      <td>0</td>\n",
              "      <td>1</td>\n",
              "      <td>1</td>\n",
              "      <td>0</td>\n",
              "      <td>0</td>\n",
              "      <td>1</td>\n",
              "      <td>0</td>\n",
              "      <td>0</td>\n",
              "    </tr>\n",
              "    <tr>\n",
              "      <th>4</th>\n",
              "      <td>32</td>\n",
              "      <td>28.880</td>\n",
              "      <td>0</td>\n",
              "      <td>3866.85520</td>\n",
              "      <td>0</td>\n",
              "      <td>1</td>\n",
              "      <td>1</td>\n",
              "      <td>0</td>\n",
              "      <td>0</td>\n",
              "      <td>1</td>\n",
              "      <td>0</td>\n",
              "      <td>0</td>\n",
              "    </tr>\n",
              "  </tbody>\n",
              "</table>\n",
              "</div>\n",
              "      <button class=\"colab-df-convert\" onclick=\"convertToInteractive('df-83809976-cb0c-4d4d-a331-4cb31d8086f5')\"\n",
              "              title=\"Convert this dataframe to an interactive table.\"\n",
              "              style=\"display:none;\">\n",
              "\n",
              "  <svg xmlns=\"http://www.w3.org/2000/svg\" height=\"24px\"viewBox=\"0 0 24 24\"\n",
              "       width=\"24px\">\n",
              "    <path d=\"M0 0h24v24H0V0z\" fill=\"none\"/>\n",
              "    <path d=\"M18.56 5.44l.94 2.06.94-2.06 2.06-.94-2.06-.94-.94-2.06-.94 2.06-2.06.94zm-11 1L8.5 8.5l.94-2.06 2.06-.94-2.06-.94L8.5 2.5l-.94 2.06-2.06.94zm10 10l.94 2.06.94-2.06 2.06-.94-2.06-.94-.94-2.06-.94 2.06-2.06.94z\"/><path d=\"M17.41 7.96l-1.37-1.37c-.4-.4-.92-.59-1.43-.59-.52 0-1.04.2-1.43.59L10.3 9.45l-7.72 7.72c-.78.78-.78 2.05 0 2.83L4 21.41c.39.39.9.59 1.41.59.51 0 1.02-.2 1.41-.59l7.78-7.78 2.81-2.81c.8-.78.8-2.07 0-2.86zM5.41 20L4 18.59l7.72-7.72 1.47 1.35L5.41 20z\"/>\n",
              "  </svg>\n",
              "      </button>\n",
              "\n",
              "\n",
              "\n",
              "    <div id=\"df-a7c83563-e6d3-4596-9b19-2d41eef1b116\">\n",
              "      <button class=\"colab-df-quickchart\" onclick=\"quickchart('df-a7c83563-e6d3-4596-9b19-2d41eef1b116')\"\n",
              "              title=\"Suggest charts.\"\n",
              "              style=\"display:none;\">\n",
              "\n",
              "<svg xmlns=\"http://www.w3.org/2000/svg\" height=\"24px\"viewBox=\"0 0 24 24\"\n",
              "     width=\"24px\">\n",
              "    <g>\n",
              "        <path d=\"M19 3H5c-1.1 0-2 .9-2 2v14c0 1.1.9 2 2 2h14c1.1 0 2-.9 2-2V5c0-1.1-.9-2-2-2zM9 17H7v-7h2v7zm4 0h-2V7h2v10zm4 0h-2v-4h2v4z\"/>\n",
              "    </g>\n",
              "</svg>\n",
              "      </button>\n",
              "    </div>\n",
              "\n",
              "<style>\n",
              "  .colab-df-quickchart {\n",
              "    background-color: #E8F0FE;\n",
              "    border: none;\n",
              "    border-radius: 50%;\n",
              "    cursor: pointer;\n",
              "    display: none;\n",
              "    fill: #1967D2;\n",
              "    height: 32px;\n",
              "    padding: 0 0 0 0;\n",
              "    width: 32px;\n",
              "  }\n",
              "\n",
              "  .colab-df-quickchart:hover {\n",
              "    background-color: #E2EBFA;\n",
              "    box-shadow: 0px 1px 2px rgba(60, 64, 67, 0.3), 0px 1px 3px 1px rgba(60, 64, 67, 0.15);\n",
              "    fill: #174EA6;\n",
              "  }\n",
              "\n",
              "  [theme=dark] .colab-df-quickchart {\n",
              "    background-color: #3B4455;\n",
              "    fill: #D2E3FC;\n",
              "  }\n",
              "\n",
              "  [theme=dark] .colab-df-quickchart:hover {\n",
              "    background-color: #434B5C;\n",
              "    box-shadow: 0px 1px 3px 1px rgba(0, 0, 0, 0.15);\n",
              "    filter: drop-shadow(0px 1px 2px rgba(0, 0, 0, 0.3));\n",
              "    fill: #FFFFFF;\n",
              "  }\n",
              "</style>\n",
              "\n",
              "    <script>\n",
              "      async function quickchart(key) {\n",
              "        const containerElement = document.querySelector('#' + key);\n",
              "        const charts = await google.colab.kernel.invokeFunction(\n",
              "            'suggestCharts', [key], {});\n",
              "      }\n",
              "    </script>\n",
              "\n",
              "      <script>\n",
              "\n",
              "function displayQuickchartButton(domScope) {\n",
              "  let quickchartButtonEl =\n",
              "    domScope.querySelector('#df-a7c83563-e6d3-4596-9b19-2d41eef1b116 button.colab-df-quickchart');\n",
              "  quickchartButtonEl.style.display =\n",
              "    google.colab.kernel.accessAllowed ? 'block' : 'none';\n",
              "}\n",
              "\n",
              "        displayQuickchartButton(document);\n",
              "      </script>\n",
              "      <style>\n",
              "    .colab-df-container {\n",
              "      display:flex;\n",
              "      flex-wrap:wrap;\n",
              "      gap: 12px;\n",
              "    }\n",
              "\n",
              "    .colab-df-convert {\n",
              "      background-color: #E8F0FE;\n",
              "      border: none;\n",
              "      border-radius: 50%;\n",
              "      cursor: pointer;\n",
              "      display: none;\n",
              "      fill: #1967D2;\n",
              "      height: 32px;\n",
              "      padding: 0 0 0 0;\n",
              "      width: 32px;\n",
              "    }\n",
              "\n",
              "    .colab-df-convert:hover {\n",
              "      background-color: #E2EBFA;\n",
              "      box-shadow: 0px 1px 2px rgba(60, 64, 67, 0.3), 0px 1px 3px 1px rgba(60, 64, 67, 0.15);\n",
              "      fill: #174EA6;\n",
              "    }\n",
              "\n",
              "    [theme=dark] .colab-df-convert {\n",
              "      background-color: #3B4455;\n",
              "      fill: #D2E3FC;\n",
              "    }\n",
              "\n",
              "    [theme=dark] .colab-df-convert:hover {\n",
              "      background-color: #434B5C;\n",
              "      box-shadow: 0px 1px 3px 1px rgba(0, 0, 0, 0.15);\n",
              "      filter: drop-shadow(0px 1px 2px rgba(0, 0, 0, 0.3));\n",
              "      fill: #FFFFFF;\n",
              "    }\n",
              "  </style>\n",
              "\n",
              "      <script>\n",
              "        const buttonEl =\n",
              "          document.querySelector('#df-83809976-cb0c-4d4d-a331-4cb31d8086f5 button.colab-df-convert');\n",
              "        buttonEl.style.display =\n",
              "          google.colab.kernel.accessAllowed ? 'block' : 'none';\n",
              "\n",
              "        async function convertToInteractive(key) {\n",
              "          const element = document.querySelector('#df-83809976-cb0c-4d4d-a331-4cb31d8086f5');\n",
              "          const dataTable =\n",
              "            await google.colab.kernel.invokeFunction('convertToInteractive',\n",
              "                                                     [key], {});\n",
              "          if (!dataTable) return;\n",
              "\n",
              "          const docLinkHtml = 'Like what you see? Visit the ' +\n",
              "            '<a target=\"_blank\" href=https://colab.research.google.com/notebooks/data_table.ipynb>data table notebook</a>'\n",
              "            + ' to learn more about interactive tables.';\n",
              "          element.innerHTML = '';\n",
              "          dataTable['output_type'] = 'display_data';\n",
              "          await google.colab.output.renderOutput(dataTable, element);\n",
              "          const docLink = document.createElement('div');\n",
              "          docLink.innerHTML = docLinkHtml;\n",
              "          element.appendChild(docLink);\n",
              "        }\n",
              "      </script>\n",
              "    </div>\n",
              "  </div>\n"
            ]
          },
          "metadata": {},
          "execution_count": 70
        }
      ]
    },
    {
      "cell_type": "code",
      "source": [
        "# Create X and y values(features and labels)\n",
        "X = insurance_one_hot.drop(\"charges\",axis=1)\n",
        "y = insurance_one_hot['charges']"
      ],
      "metadata": {
        "id": "be3OStBRBSKh"
      },
      "execution_count": null,
      "outputs": []
    },
    {
      "cell_type": "code",
      "source": [
        "X.head()"
      ],
      "metadata": {
        "colab": {
          "base_uri": "https://localhost:8080/",
          "height": 270
        },
        "id": "lGIsODA6D3uz",
        "outputId": "5fbd9951-aebb-4851-a0fc-14ef955d87cf"
      },
      "execution_count": null,
      "outputs": [
        {
          "output_type": "execute_result",
          "data": {
            "text/plain": [
              "   age     bmi  children  sex_female  sex_male  smoker_no  smoker_yes  \\\n",
              "0   19  27.900         0           1         0          0           1   \n",
              "1   18  33.770         1           0         1          1           0   \n",
              "2   28  33.000         3           0         1          1           0   \n",
              "3   33  22.705         0           0         1          1           0   \n",
              "4   32  28.880         0           0         1          1           0   \n",
              "\n",
              "   region_northeast  region_northwest  region_southeast  region_southwest  \n",
              "0                 0                 0                 0                 1  \n",
              "1                 0                 0                 1                 0  \n",
              "2                 0                 0                 1                 0  \n",
              "3                 0                 1                 0                 0  \n",
              "4                 0                 1                 0                 0  "
            ],
            "text/html": [
              "\n",
              "\n",
              "  <div id=\"df-89d52c48-fef3-4eb3-bde3-86c1d4be6e3a\">\n",
              "    <div class=\"colab-df-container\">\n",
              "      <div>\n",
              "<style scoped>\n",
              "    .dataframe tbody tr th:only-of-type {\n",
              "        vertical-align: middle;\n",
              "    }\n",
              "\n",
              "    .dataframe tbody tr th {\n",
              "        vertical-align: top;\n",
              "    }\n",
              "\n",
              "    .dataframe thead th {\n",
              "        text-align: right;\n",
              "    }\n",
              "</style>\n",
              "<table border=\"1\" class=\"dataframe\">\n",
              "  <thead>\n",
              "    <tr style=\"text-align: right;\">\n",
              "      <th></th>\n",
              "      <th>age</th>\n",
              "      <th>bmi</th>\n",
              "      <th>children</th>\n",
              "      <th>sex_female</th>\n",
              "      <th>sex_male</th>\n",
              "      <th>smoker_no</th>\n",
              "      <th>smoker_yes</th>\n",
              "      <th>region_northeast</th>\n",
              "      <th>region_northwest</th>\n",
              "      <th>region_southeast</th>\n",
              "      <th>region_southwest</th>\n",
              "    </tr>\n",
              "  </thead>\n",
              "  <tbody>\n",
              "    <tr>\n",
              "      <th>0</th>\n",
              "      <td>19</td>\n",
              "      <td>27.900</td>\n",
              "      <td>0</td>\n",
              "      <td>1</td>\n",
              "      <td>0</td>\n",
              "      <td>0</td>\n",
              "      <td>1</td>\n",
              "      <td>0</td>\n",
              "      <td>0</td>\n",
              "      <td>0</td>\n",
              "      <td>1</td>\n",
              "    </tr>\n",
              "    <tr>\n",
              "      <th>1</th>\n",
              "      <td>18</td>\n",
              "      <td>33.770</td>\n",
              "      <td>1</td>\n",
              "      <td>0</td>\n",
              "      <td>1</td>\n",
              "      <td>1</td>\n",
              "      <td>0</td>\n",
              "      <td>0</td>\n",
              "      <td>0</td>\n",
              "      <td>1</td>\n",
              "      <td>0</td>\n",
              "    </tr>\n",
              "    <tr>\n",
              "      <th>2</th>\n",
              "      <td>28</td>\n",
              "      <td>33.000</td>\n",
              "      <td>3</td>\n",
              "      <td>0</td>\n",
              "      <td>1</td>\n",
              "      <td>1</td>\n",
              "      <td>0</td>\n",
              "      <td>0</td>\n",
              "      <td>0</td>\n",
              "      <td>1</td>\n",
              "      <td>0</td>\n",
              "    </tr>\n",
              "    <tr>\n",
              "      <th>3</th>\n",
              "      <td>33</td>\n",
              "      <td>22.705</td>\n",
              "      <td>0</td>\n",
              "      <td>0</td>\n",
              "      <td>1</td>\n",
              "      <td>1</td>\n",
              "      <td>0</td>\n",
              "      <td>0</td>\n",
              "      <td>1</td>\n",
              "      <td>0</td>\n",
              "      <td>0</td>\n",
              "    </tr>\n",
              "    <tr>\n",
              "      <th>4</th>\n",
              "      <td>32</td>\n",
              "      <td>28.880</td>\n",
              "      <td>0</td>\n",
              "      <td>0</td>\n",
              "      <td>1</td>\n",
              "      <td>1</td>\n",
              "      <td>0</td>\n",
              "      <td>0</td>\n",
              "      <td>1</td>\n",
              "      <td>0</td>\n",
              "      <td>0</td>\n",
              "    </tr>\n",
              "  </tbody>\n",
              "</table>\n",
              "</div>\n",
              "      <button class=\"colab-df-convert\" onclick=\"convertToInteractive('df-89d52c48-fef3-4eb3-bde3-86c1d4be6e3a')\"\n",
              "              title=\"Convert this dataframe to an interactive table.\"\n",
              "              style=\"display:none;\">\n",
              "\n",
              "  <svg xmlns=\"http://www.w3.org/2000/svg\" height=\"24px\"viewBox=\"0 0 24 24\"\n",
              "       width=\"24px\">\n",
              "    <path d=\"M0 0h24v24H0V0z\" fill=\"none\"/>\n",
              "    <path d=\"M18.56 5.44l.94 2.06.94-2.06 2.06-.94-2.06-.94-.94-2.06-.94 2.06-2.06.94zm-11 1L8.5 8.5l.94-2.06 2.06-.94-2.06-.94L8.5 2.5l-.94 2.06-2.06.94zm10 10l.94 2.06.94-2.06 2.06-.94-2.06-.94-.94-2.06-.94 2.06-2.06.94z\"/><path d=\"M17.41 7.96l-1.37-1.37c-.4-.4-.92-.59-1.43-.59-.52 0-1.04.2-1.43.59L10.3 9.45l-7.72 7.72c-.78.78-.78 2.05 0 2.83L4 21.41c.39.39.9.59 1.41.59.51 0 1.02-.2 1.41-.59l7.78-7.78 2.81-2.81c.8-.78.8-2.07 0-2.86zM5.41 20L4 18.59l7.72-7.72 1.47 1.35L5.41 20z\"/>\n",
              "  </svg>\n",
              "      </button>\n",
              "\n",
              "\n",
              "\n",
              "    <div id=\"df-fd3f6c3e-9331-45fd-80f8-9235e17083a0\">\n",
              "      <button class=\"colab-df-quickchart\" onclick=\"quickchart('df-fd3f6c3e-9331-45fd-80f8-9235e17083a0')\"\n",
              "              title=\"Suggest charts.\"\n",
              "              style=\"display:none;\">\n",
              "\n",
              "<svg xmlns=\"http://www.w3.org/2000/svg\" height=\"24px\"viewBox=\"0 0 24 24\"\n",
              "     width=\"24px\">\n",
              "    <g>\n",
              "        <path d=\"M19 3H5c-1.1 0-2 .9-2 2v14c0 1.1.9 2 2 2h14c1.1 0 2-.9 2-2V5c0-1.1-.9-2-2-2zM9 17H7v-7h2v7zm4 0h-2V7h2v10zm4 0h-2v-4h2v4z\"/>\n",
              "    </g>\n",
              "</svg>\n",
              "      </button>\n",
              "    </div>\n",
              "\n",
              "<style>\n",
              "  .colab-df-quickchart {\n",
              "    background-color: #E8F0FE;\n",
              "    border: none;\n",
              "    border-radius: 50%;\n",
              "    cursor: pointer;\n",
              "    display: none;\n",
              "    fill: #1967D2;\n",
              "    height: 32px;\n",
              "    padding: 0 0 0 0;\n",
              "    width: 32px;\n",
              "  }\n",
              "\n",
              "  .colab-df-quickchart:hover {\n",
              "    background-color: #E2EBFA;\n",
              "    box-shadow: 0px 1px 2px rgba(60, 64, 67, 0.3), 0px 1px 3px 1px rgba(60, 64, 67, 0.15);\n",
              "    fill: #174EA6;\n",
              "  }\n",
              "\n",
              "  [theme=dark] .colab-df-quickchart {\n",
              "    background-color: #3B4455;\n",
              "    fill: #D2E3FC;\n",
              "  }\n",
              "\n",
              "  [theme=dark] .colab-df-quickchart:hover {\n",
              "    background-color: #434B5C;\n",
              "    box-shadow: 0px 1px 3px 1px rgba(0, 0, 0, 0.15);\n",
              "    filter: drop-shadow(0px 1px 2px rgba(0, 0, 0, 0.3));\n",
              "    fill: #FFFFFF;\n",
              "  }\n",
              "</style>\n",
              "\n",
              "    <script>\n",
              "      async function quickchart(key) {\n",
              "        const containerElement = document.querySelector('#' + key);\n",
              "        const charts = await google.colab.kernel.invokeFunction(\n",
              "            'suggestCharts', [key], {});\n",
              "      }\n",
              "    </script>\n",
              "\n",
              "      <script>\n",
              "\n",
              "function displayQuickchartButton(domScope) {\n",
              "  let quickchartButtonEl =\n",
              "    domScope.querySelector('#df-fd3f6c3e-9331-45fd-80f8-9235e17083a0 button.colab-df-quickchart');\n",
              "  quickchartButtonEl.style.display =\n",
              "    google.colab.kernel.accessAllowed ? 'block' : 'none';\n",
              "}\n",
              "\n",
              "        displayQuickchartButton(document);\n",
              "      </script>\n",
              "      <style>\n",
              "    .colab-df-container {\n",
              "      display:flex;\n",
              "      flex-wrap:wrap;\n",
              "      gap: 12px;\n",
              "    }\n",
              "\n",
              "    .colab-df-convert {\n",
              "      background-color: #E8F0FE;\n",
              "      border: none;\n",
              "      border-radius: 50%;\n",
              "      cursor: pointer;\n",
              "      display: none;\n",
              "      fill: #1967D2;\n",
              "      height: 32px;\n",
              "      padding: 0 0 0 0;\n",
              "      width: 32px;\n",
              "    }\n",
              "\n",
              "    .colab-df-convert:hover {\n",
              "      background-color: #E2EBFA;\n",
              "      box-shadow: 0px 1px 2px rgba(60, 64, 67, 0.3), 0px 1px 3px 1px rgba(60, 64, 67, 0.15);\n",
              "      fill: #174EA6;\n",
              "    }\n",
              "\n",
              "    [theme=dark] .colab-df-convert {\n",
              "      background-color: #3B4455;\n",
              "      fill: #D2E3FC;\n",
              "    }\n",
              "\n",
              "    [theme=dark] .colab-df-convert:hover {\n",
              "      background-color: #434B5C;\n",
              "      box-shadow: 0px 1px 3px 1px rgba(0, 0, 0, 0.15);\n",
              "      filter: drop-shadow(0px 1px 2px rgba(0, 0, 0, 0.3));\n",
              "      fill: #FFFFFF;\n",
              "    }\n",
              "  </style>\n",
              "\n",
              "      <script>\n",
              "        const buttonEl =\n",
              "          document.querySelector('#df-89d52c48-fef3-4eb3-bde3-86c1d4be6e3a button.colab-df-convert');\n",
              "        buttonEl.style.display =\n",
              "          google.colab.kernel.accessAllowed ? 'block' : 'none';\n",
              "\n",
              "        async function convertToInteractive(key) {\n",
              "          const element = document.querySelector('#df-89d52c48-fef3-4eb3-bde3-86c1d4be6e3a');\n",
              "          const dataTable =\n",
              "            await google.colab.kernel.invokeFunction('convertToInteractive',\n",
              "                                                     [key], {});\n",
              "          if (!dataTable) return;\n",
              "\n",
              "          const docLinkHtml = 'Like what you see? Visit the ' +\n",
              "            '<a target=\"_blank\" href=https://colab.research.google.com/notebooks/data_table.ipynb>data table notebook</a>'\n",
              "            + ' to learn more about interactive tables.';\n",
              "          element.innerHTML = '';\n",
              "          dataTable['output_type'] = 'display_data';\n",
              "          await google.colab.output.renderOutput(dataTable, element);\n",
              "          const docLink = document.createElement('div');\n",
              "          docLink.innerHTML = docLinkHtml;\n",
              "          element.appendChild(docLink);\n",
              "        }\n",
              "      </script>\n",
              "    </div>\n",
              "  </div>\n"
            ]
          },
          "metadata": {},
          "execution_count": 73
        }
      ]
    },
    {
      "cell_type": "code",
      "source": [
        "y.head()"
      ],
      "metadata": {
        "colab": {
          "base_uri": "https://localhost:8080/"
        },
        "id": "xR35dVV1D7OK",
        "outputId": "e11621dd-16b0-4b9b-faba-7cbea3835fa0"
      },
      "execution_count": null,
      "outputs": [
        {
          "output_type": "execute_result",
          "data": {
            "text/plain": [
              "0    16884.92400\n",
              "1     1725.55230\n",
              "2     4449.46200\n",
              "3    21984.47061\n",
              "4     3866.85520\n",
              "Name: charges, dtype: float64"
            ]
          },
          "metadata": {},
          "execution_count": 74
        }
      ]
    },
    {
      "cell_type": "code",
      "source": [
        "# Create training and test sets\n",
        "from sklearn.model_selection import train_test_split\n",
        "X_train, X_test, y_train, y_test = train_test_split(X, y, test_size=0.2, random_state=42)\n",
        "len(X),len(X_train),len(X_test)"
      ],
      "metadata": {
        "colab": {
          "base_uri": "https://localhost:8080/"
        },
        "id": "rfOmHprKDmcV",
        "outputId": "3dd8723b-c3d5-48ca-b285-3dff811eb56a"
      },
      "execution_count": null,
      "outputs": [
        {
          "output_type": "execute_result",
          "data": {
            "text/plain": [
              "(1338, 1070, 268)"
            ]
          },
          "metadata": {},
          "execution_count": 75
        }
      ]
    },
    {
      "cell_type": "code",
      "source": [
        "# Build a neural network(sort of like model_2 above)\n",
        "\n",
        "#1. Create a model\n",
        "tf.random.set_seed(42)\n",
        "insurance_model = tf.keras.Sequential([\n",
        "    tf.keras.layers.Dense(10),\n",
        "    tf.keras.layers.Dense(1)\n",
        "])\n",
        "\n",
        "#2. Compile The model\n",
        "insurance_model.compile(loss=tf.keras.losses.mae,\n",
        "                        optimizer=tf.keras.optimizers.SGD(),\n",
        "                        metrics=['mae'])\n",
        "\n",
        "#3. Fit the model\n",
        "insurance_model.fit(X_train,y_train,epochs=100)"
      ],
      "metadata": {
        "colab": {
          "base_uri": "https://localhost:8080/"
        },
        "id": "RMTaXs50DooO",
        "outputId": "3e87d1ff-7970-4e4f-ce9b-2161b7f472ed"
      },
      "execution_count": null,
      "outputs": [
        {
          "output_type": "stream",
          "name": "stdout",
          "text": [
            "Epoch 1/100\n",
            "34/34 [==============================] - 2s 3ms/step - loss: 8608.0098 - mae: 8608.0098\n",
            "Epoch 2/100\n",
            "34/34 [==============================] - 0s 1ms/step - loss: 7879.1953 - mae: 7879.1953\n",
            "Epoch 3/100\n",
            "34/34 [==============================] - 0s 2ms/step - loss: 7603.7974 - mae: 7603.7974\n",
            "Epoch 4/100\n",
            "34/34 [==============================] - 0s 2ms/step - loss: 7542.9590 - mae: 7542.9590\n",
            "Epoch 5/100\n",
            "34/34 [==============================] - 0s 2ms/step - loss: 7785.7266 - mae: 7785.7266\n",
            "Epoch 6/100\n",
            "34/34 [==============================] - 0s 3ms/step - loss: 7601.9927 - mae: 7601.9927\n",
            "Epoch 7/100\n",
            "34/34 [==============================] - 0s 4ms/step - loss: 7630.2051 - mae: 7630.2051\n",
            "Epoch 8/100\n",
            "34/34 [==============================] - 0s 3ms/step - loss: 7742.8823 - mae: 7742.8823\n",
            "Epoch 9/100\n",
            "34/34 [==============================] - 0s 3ms/step - loss: 7502.4263 - mae: 7502.4263\n",
            "Epoch 10/100\n",
            "34/34 [==============================] - 0s 2ms/step - loss: 7718.7119 - mae: 7718.7119\n",
            "Epoch 11/100\n",
            "34/34 [==============================] - 0s 2ms/step - loss: 7510.4087 - mae: 7510.4087\n",
            "Epoch 12/100\n",
            "34/34 [==============================] - 0s 2ms/step - loss: 7573.9038 - mae: 7573.9038\n",
            "Epoch 13/100\n",
            "34/34 [==============================] - 0s 3ms/step - loss: 7773.8350 - mae: 7773.8350\n",
            "Epoch 14/100\n",
            "34/34 [==============================] - 0s 3ms/step - loss: 7809.4019 - mae: 7809.4019\n",
            "Epoch 15/100\n",
            "34/34 [==============================] - 0s 2ms/step - loss: 7559.6455 - mae: 7559.6455\n",
            "Epoch 16/100\n",
            "34/34 [==============================] - 0s 3ms/step - loss: 7688.6001 - mae: 7688.6001\n",
            "Epoch 17/100\n",
            "34/34 [==============================] - 0s 2ms/step - loss: 7562.4619 - mae: 7562.4619\n",
            "Epoch 18/100\n",
            "34/34 [==============================] - 0s 3ms/step - loss: 7808.6543 - mae: 7808.6543\n",
            "Epoch 19/100\n",
            "34/34 [==============================] - 0s 2ms/step - loss: 7643.2085 - mae: 7643.2085\n",
            "Epoch 20/100\n",
            "34/34 [==============================] - 0s 2ms/step - loss: 7868.3188 - mae: 7868.3188\n",
            "Epoch 21/100\n",
            "34/34 [==============================] - 0s 3ms/step - loss: 7529.5215 - mae: 7529.5215\n",
            "Epoch 22/100\n",
            "34/34 [==============================] - 0s 3ms/step - loss: 7871.8271 - mae: 7871.8271\n",
            "Epoch 23/100\n",
            "34/34 [==============================] - 0s 3ms/step - loss: 7703.5806 - mae: 7703.5806\n",
            "Epoch 24/100\n",
            "34/34 [==============================] - 0s 2ms/step - loss: 7507.1768 - mae: 7507.1768\n",
            "Epoch 25/100\n",
            "34/34 [==============================] - 0s 3ms/step - loss: 7636.1675 - mae: 7636.1675\n",
            "Epoch 26/100\n",
            "34/34 [==============================] - 0s 3ms/step - loss: 7722.8560 - mae: 7722.8560\n",
            "Epoch 27/100\n",
            "34/34 [==============================] - 0s 4ms/step - loss: 7698.5366 - mae: 7698.5366\n",
            "Epoch 28/100\n",
            "34/34 [==============================] - 0s 3ms/step - loss: 7387.4160 - mae: 7387.4160\n",
            "Epoch 29/100\n",
            "34/34 [==============================] - 0s 3ms/step - loss: 7674.2461 - mae: 7674.2461\n",
            "Epoch 30/100\n",
            "34/34 [==============================] - 0s 1ms/step - loss: 7517.2261 - mae: 7517.2261\n",
            "Epoch 31/100\n",
            "34/34 [==============================] - 0s 1ms/step - loss: 7719.1543 - mae: 7719.1543\n",
            "Epoch 32/100\n",
            "34/34 [==============================] - 0s 1ms/step - loss: 7492.4834 - mae: 7492.4834\n",
            "Epoch 33/100\n",
            "34/34 [==============================] - 0s 1ms/step - loss: 7385.0308 - mae: 7385.0308\n",
            "Epoch 34/100\n",
            "34/34 [==============================] - 0s 1ms/step - loss: 7505.3379 - mae: 7505.3379\n",
            "Epoch 35/100\n",
            "34/34 [==============================] - 0s 2ms/step - loss: 7593.7490 - mae: 7593.7490\n",
            "Epoch 36/100\n",
            "34/34 [==============================] - 0s 1ms/step - loss: 7517.3867 - mae: 7517.3867\n",
            "Epoch 37/100\n",
            "34/34 [==============================] - 0s 2ms/step - loss: 7664.0713 - mae: 7664.0713\n",
            "Epoch 38/100\n",
            "34/34 [==============================] - 0s 2ms/step - loss: 7551.8550 - mae: 7551.8550\n",
            "Epoch 39/100\n",
            "34/34 [==============================] - 0s 1ms/step - loss: 7534.8394 - mae: 7534.8394\n",
            "Epoch 40/100\n",
            "34/34 [==============================] - 0s 2ms/step - loss: 7427.7241 - mae: 7427.7241\n",
            "Epoch 41/100\n",
            "34/34 [==============================] - 0s 2ms/step - loss: 7732.9775 - mae: 7732.9775\n",
            "Epoch 42/100\n",
            "34/34 [==============================] - 0s 1ms/step - loss: 7528.0054 - mae: 7528.0054\n",
            "Epoch 43/100\n",
            "34/34 [==============================] - 0s 2ms/step - loss: 7619.8330 - mae: 7619.8330\n",
            "Epoch 44/100\n",
            "34/34 [==============================] - 0s 1ms/step - loss: 7398.5034 - mae: 7398.5034\n",
            "Epoch 45/100\n",
            "34/34 [==============================] - 0s 1ms/step - loss: 7519.3652 - mae: 7519.3652\n",
            "Epoch 46/100\n",
            "34/34 [==============================] - 0s 1ms/step - loss: 7453.4341 - mae: 7453.4341\n",
            "Epoch 47/100\n",
            "34/34 [==============================] - 0s 2ms/step - loss: 7348.8667 - mae: 7348.8667\n",
            "Epoch 48/100\n",
            "34/34 [==============================] - 0s 1ms/step - loss: 7499.1270 - mae: 7499.1270\n",
            "Epoch 49/100\n",
            "34/34 [==============================] - 0s 1ms/step - loss: 7546.1807 - mae: 7546.1807\n",
            "Epoch 50/100\n",
            "34/34 [==============================] - 0s 1ms/step - loss: 7508.3750 - mae: 7508.3750\n",
            "Epoch 51/100\n",
            "34/34 [==============================] - 0s 1ms/step - loss: 7404.8716 - mae: 7404.8716\n",
            "Epoch 52/100\n",
            "34/34 [==============================] - 0s 1ms/step - loss: 7544.1646 - mae: 7544.1646\n",
            "Epoch 53/100\n",
            "34/34 [==============================] - 0s 2ms/step - loss: 7537.1772 - mae: 7537.1772\n",
            "Epoch 54/100\n",
            "34/34 [==============================] - 0s 2ms/step - loss: 7281.4312 - mae: 7281.4312\n",
            "Epoch 55/100\n",
            "34/34 [==============================] - 0s 2ms/step - loss: 7292.7979 - mae: 7292.7979\n",
            "Epoch 56/100\n",
            "34/34 [==============================] - 0s 2ms/step - loss: 7259.6069 - mae: 7259.6069\n",
            "Epoch 57/100\n",
            "34/34 [==============================] - 0s 1ms/step - loss: 7449.4907 - mae: 7449.4907\n",
            "Epoch 58/100\n",
            "34/34 [==============================] - 0s 1ms/step - loss: 7466.0352 - mae: 7466.0352\n",
            "Epoch 59/100\n",
            "34/34 [==============================] - 0s 2ms/step - loss: 7453.3984 - mae: 7453.3984\n",
            "Epoch 60/100\n",
            "34/34 [==============================] - 0s 1ms/step - loss: 7470.5488 - mae: 7470.5488\n",
            "Epoch 61/100\n",
            "34/34 [==============================] - 0s 1ms/step - loss: 7585.2446 - mae: 7585.2446\n",
            "Epoch 62/100\n",
            "34/34 [==============================] - 0s 2ms/step - loss: 7416.9326 - mae: 7416.9326\n",
            "Epoch 63/100\n",
            "34/34 [==============================] - 0s 1ms/step - loss: 7371.8696 - mae: 7371.8696\n",
            "Epoch 64/100\n",
            "34/34 [==============================] - 0s 2ms/step - loss: 7399.0083 - mae: 7399.0083\n",
            "Epoch 65/100\n",
            "34/34 [==============================] - 0s 2ms/step - loss: 7439.3652 - mae: 7439.3652\n",
            "Epoch 66/100\n",
            "34/34 [==============================] - 0s 2ms/step - loss: 7191.4663 - mae: 7191.4663\n",
            "Epoch 67/100\n",
            "34/34 [==============================] - 0s 2ms/step - loss: 7096.7070 - mae: 7096.7070\n",
            "Epoch 68/100\n",
            "34/34 [==============================] - 0s 2ms/step - loss: 7461.9814 - mae: 7461.9814\n",
            "Epoch 69/100\n",
            "34/34 [==============================] - 0s 2ms/step - loss: 7560.5669 - mae: 7560.5669\n",
            "Epoch 70/100\n",
            "34/34 [==============================] - 0s 2ms/step - loss: 7596.2051 - mae: 7596.2051\n",
            "Epoch 71/100\n",
            "34/34 [==============================] - 0s 2ms/step - loss: 7074.5317 - mae: 7074.5317\n",
            "Epoch 72/100\n",
            "34/34 [==============================] - 0s 2ms/step - loss: 7142.7388 - mae: 7142.7388\n",
            "Epoch 73/100\n",
            "34/34 [==============================] - 0s 2ms/step - loss: 7331.2778 - mae: 7331.2778\n",
            "Epoch 74/100\n",
            "34/34 [==============================] - 0s 2ms/step - loss: 7501.9028 - mae: 7501.9028\n",
            "Epoch 75/100\n",
            "34/34 [==============================] - 0s 2ms/step - loss: 7305.9873 - mae: 7305.9873\n",
            "Epoch 76/100\n",
            "34/34 [==============================] - 0s 2ms/step - loss: 7008.6343 - mae: 7008.6343\n",
            "Epoch 77/100\n",
            "34/34 [==============================] - 0s 2ms/step - loss: 7180.5898 - mae: 7180.5898\n",
            "Epoch 78/100\n",
            "34/34 [==============================] - 0s 2ms/step - loss: 7327.1938 - mae: 7327.1938\n",
            "Epoch 79/100\n",
            "34/34 [==============================] - 0s 2ms/step - loss: 7399.1587 - mae: 7399.1587\n",
            "Epoch 80/100\n",
            "34/34 [==============================] - 0s 2ms/step - loss: 7216.1548 - mae: 7216.1548\n",
            "Epoch 81/100\n",
            "34/34 [==============================] - 0s 2ms/step - loss: 7274.1030 - mae: 7274.1030\n",
            "Epoch 82/100\n",
            "34/34 [==============================] - 0s 2ms/step - loss: 7171.6460 - mae: 7171.6460\n",
            "Epoch 83/100\n",
            "34/34 [==============================] - 0s 2ms/step - loss: 7445.9668 - mae: 7445.9668\n",
            "Epoch 84/100\n",
            "34/34 [==============================] - 0s 2ms/step - loss: 7045.6240 - mae: 7045.6240\n",
            "Epoch 85/100\n",
            "34/34 [==============================] - 0s 2ms/step - loss: 7720.7871 - mae: 7720.7871\n",
            "Epoch 86/100\n",
            "34/34 [==============================] - 0s 2ms/step - loss: 7532.6440 - mae: 7532.6440\n",
            "Epoch 87/100\n",
            "34/34 [==============================] - 0s 2ms/step - loss: 7295.1987 - mae: 7295.1987\n",
            "Epoch 88/100\n",
            "34/34 [==============================] - 0s 2ms/step - loss: 7385.0815 - mae: 7385.0815\n",
            "Epoch 89/100\n",
            "34/34 [==============================] - 0s 2ms/step - loss: 7210.4492 - mae: 7210.4492\n",
            "Epoch 90/100\n",
            "34/34 [==============================] - 0s 2ms/step - loss: 6958.5107 - mae: 6958.5107\n",
            "Epoch 91/100\n",
            "34/34 [==============================] - 0s 2ms/step - loss: 7172.5098 - mae: 7172.5098\n",
            "Epoch 92/100\n",
            "34/34 [==============================] - 0s 2ms/step - loss: 7267.8721 - mae: 7267.8721\n",
            "Epoch 93/100\n",
            "34/34 [==============================] - 0s 2ms/step - loss: 7498.1167 - mae: 7498.1167\n",
            "Epoch 94/100\n",
            "34/34 [==============================] - 0s 3ms/step - loss: 7268.6411 - mae: 7268.6411\n",
            "Epoch 95/100\n",
            "34/34 [==============================] - 0s 2ms/step - loss: 7496.2520 - mae: 7496.2520\n",
            "Epoch 96/100\n",
            "34/34 [==============================] - 0s 2ms/step - loss: 7240.4409 - mae: 7240.4409\n",
            "Epoch 97/100\n",
            "34/34 [==============================] - 0s 3ms/step - loss: 7213.8643 - mae: 7213.8643\n",
            "Epoch 98/100\n",
            "34/34 [==============================] - 0s 2ms/step - loss: 7442.5625 - mae: 7442.5625\n",
            "Epoch 99/100\n",
            "34/34 [==============================] - 0s 2ms/step - loss: 7337.7676 - mae: 7337.7676\n",
            "Epoch 100/100\n",
            "34/34 [==============================] - 0s 2ms/step - loss: 7325.9326 - mae: 7325.9326\n"
          ]
        },
        {
          "output_type": "execute_result",
          "data": {
            "text/plain": [
              "<keras.callbacks.History at 0x7f6003d2d390>"
            ]
          },
          "metadata": {},
          "execution_count": 77
        }
      ]
    },
    {
      "cell_type": "code",
      "source": [
        "# Performance\n",
        "insurance_model.evaluate(X_test,y_test)"
      ],
      "metadata": {
        "id": "aCg5YOXnQMFn",
        "colab": {
          "base_uri": "https://localhost:8080/"
        },
        "outputId": "8115654d-3765-43e5-8ec7-aedd4b660a84"
      },
      "execution_count": 78,
      "outputs": [
        {
          "output_type": "stream",
          "name": "stdout",
          "text": [
            "9/9 [==============================] - 0s 6ms/step - loss: 8357.8740 - mae: 8357.8740\n"
          ]
        },
        {
          "output_type": "execute_result",
          "data": {
            "text/plain": [
              "[8357.8740234375, 8357.8740234375]"
            ]
          },
          "metadata": {},
          "execution_count": 78
        }
      ]
    },
    {
      "cell_type": "code",
      "source": [
        "y_train.median(),y_train.mean()"
      ],
      "metadata": {
        "colab": {
          "base_uri": "https://localhost:8080/"
        },
        "id": "WTkQDOS0ngOI",
        "outputId": "b84bcab5-a783-432a-8737-3377918d6b8b"
      },
      "execution_count": 79,
      "outputs": [
        {
          "output_type": "execute_result",
          "data": {
            "text/plain": [
              "(9575.4421, 13346.089736364485)"
            ]
          },
          "metadata": {},
          "execution_count": 79
        }
      ]
    },
    {
      "cell_type": "markdown",
      "source": [
        "### Improving Model performance\n",
        "\n",
        "To try to improve model\n",
        "1. Add extra layer\n",
        "2. Train longer\n",
        "3. optimizer change"
      ],
      "metadata": {
        "id": "jE2yyiMXoAsX"
      }
    },
    {
      "cell_type": "markdown",
      "source": [
        "Adding layers"
      ],
      "metadata": {
        "id": "lyTlNGClqmtx"
      }
    },
    {
      "cell_type": "code",
      "source": [
        "#1. Create a model\n",
        "tf.random.set_seed(42)\n",
        "insurance_model_2 = tf.keras.Sequential([\n",
        "    tf.keras.layers.Dense(100),\n",
        "    tf.keras.layers.Dense(10),\n",
        "    tf.keras.layers.Dense(1)\n",
        "])\n",
        "\n",
        "#2. Compile The model\n",
        "insurance_model_2.compile(loss=tf.keras.losses.mae,\n",
        "                        optimizer=tf.keras.optimizers.Adam(),\n",
        "                        metrics=['mae'])\n",
        "\n",
        "#3. Fit the model\n",
        "insurance_model_2.fit(X_train,y_train,epochs=100)"
      ],
      "metadata": {
        "colab": {
          "base_uri": "https://localhost:8080/"
        },
        "id": "35ezhbojn9uV",
        "outputId": "ffa65dcf-a0f4-4cbe-9412-0f4086ac0cca"
      },
      "execution_count": 84,
      "outputs": [
        {
          "output_type": "stream",
          "name": "stdout",
          "text": [
            "Epoch 1/100\n",
            "34/34 [==============================] - 2s 3ms/step - loss: 13301.5059 - mae: 13301.5059\n",
            "Epoch 2/100\n",
            "34/34 [==============================] - 0s 3ms/step - loss: 13153.8525 - mae: 13153.8525\n",
            "Epoch 3/100\n",
            "34/34 [==============================] - 0s 3ms/step - loss: 12853.0322 - mae: 12853.0322\n",
            "Epoch 4/100\n",
            "34/34 [==============================] - 0s 3ms/step - loss: 12253.6426 - mae: 12253.6426\n",
            "Epoch 5/100\n",
            "34/34 [==============================] - 0s 2ms/step - loss: 11209.8242 - mae: 11209.8242\n",
            "Epoch 6/100\n",
            "34/34 [==============================] - 0s 2ms/step - loss: 9778.2275 - mae: 9778.2275\n",
            "Epoch 7/100\n",
            "34/34 [==============================] - 0s 2ms/step - loss: 8362.2979 - mae: 8362.2979\n",
            "Epoch 8/100\n",
            "34/34 [==============================] - 0s 2ms/step - loss: 7588.7300 - mae: 7588.7300\n",
            "Epoch 9/100\n",
            "34/34 [==============================] - 0s 2ms/step - loss: 7436.6992 - mae: 7436.6992\n",
            "Epoch 10/100\n",
            "34/34 [==============================] - 0s 2ms/step - loss: 7414.1719 - mae: 7414.1719\n",
            "Epoch 11/100\n",
            "34/34 [==============================] - 0s 2ms/step - loss: 7395.6680 - mae: 7395.6680\n",
            "Epoch 12/100\n",
            "34/34 [==============================] - 0s 2ms/step - loss: 7374.1182 - mae: 7374.1182\n",
            "Epoch 13/100\n",
            "34/34 [==============================] - 0s 2ms/step - loss: 7354.1514 - mae: 7354.1514\n",
            "Epoch 14/100\n",
            "34/34 [==============================] - 0s 2ms/step - loss: 7332.3462 - mae: 7332.3462\n",
            "Epoch 15/100\n",
            "34/34 [==============================] - 0s 2ms/step - loss: 7313.7759 - mae: 7313.7759\n",
            "Epoch 16/100\n",
            "34/34 [==============================] - 0s 2ms/step - loss: 7292.2251 - mae: 7292.2251\n",
            "Epoch 17/100\n",
            "34/34 [==============================] - 0s 2ms/step - loss: 7272.5151 - mae: 7272.5151\n",
            "Epoch 18/100\n",
            "34/34 [==============================] - 0s 2ms/step - loss: 7249.7612 - mae: 7249.7612\n",
            "Epoch 19/100\n",
            "34/34 [==============================] - 0s 2ms/step - loss: 7227.9912 - mae: 7227.9912\n",
            "Epoch 20/100\n",
            "34/34 [==============================] - 0s 2ms/step - loss: 7205.1431 - mae: 7205.1431\n",
            "Epoch 21/100\n",
            "34/34 [==============================] - 0s 2ms/step - loss: 7187.5186 - mae: 7187.5186\n",
            "Epoch 22/100\n",
            "34/34 [==============================] - 0s 2ms/step - loss: 7159.9321 - mae: 7159.9321\n",
            "Epoch 23/100\n",
            "34/34 [==============================] - 0s 2ms/step - loss: 7135.6904 - mae: 7135.6904\n",
            "Epoch 24/100\n",
            "34/34 [==============================] - 0s 2ms/step - loss: 7111.5688 - mae: 7111.5688\n",
            "Epoch 25/100\n",
            "34/34 [==============================] - 0s 2ms/step - loss: 7094.1274 - mae: 7094.1274\n",
            "Epoch 26/100\n",
            "34/34 [==============================] - 0s 2ms/step - loss: 7062.8203 - mae: 7062.8203\n",
            "Epoch 27/100\n",
            "34/34 [==============================] - 0s 2ms/step - loss: 7035.0312 - mae: 7035.0312\n",
            "Epoch 28/100\n",
            "34/34 [==============================] - 0s 2ms/step - loss: 7007.5771 - mae: 7007.5771\n",
            "Epoch 29/100\n",
            "34/34 [==============================] - 0s 2ms/step - loss: 6979.9888 - mae: 6979.9888\n",
            "Epoch 30/100\n",
            "34/34 [==============================] - 0s 2ms/step - loss: 6953.6396 - mae: 6953.6396\n",
            "Epoch 31/100\n",
            "34/34 [==============================] - 0s 2ms/step - loss: 6922.7871 - mae: 6922.7871\n",
            "Epoch 32/100\n",
            "34/34 [==============================] - 0s 2ms/step - loss: 6895.8569 - mae: 6895.8569\n",
            "Epoch 33/100\n",
            "34/34 [==============================] - 0s 2ms/step - loss: 6864.5708 - mae: 6864.5708\n",
            "Epoch 34/100\n",
            "34/34 [==============================] - 0s 2ms/step - loss: 6833.3306 - mae: 6833.3306\n",
            "Epoch 35/100\n",
            "34/34 [==============================] - 0s 2ms/step - loss: 6800.8267 - mae: 6800.8267\n",
            "Epoch 36/100\n",
            "34/34 [==============================] - 0s 2ms/step - loss: 6766.7783 - mae: 6766.7783\n",
            "Epoch 37/100\n",
            "34/34 [==============================] - 0s 2ms/step - loss: 6731.2344 - mae: 6731.2344\n",
            "Epoch 38/100\n",
            "34/34 [==============================] - 0s 2ms/step - loss: 6699.4375 - mae: 6699.4375\n",
            "Epoch 39/100\n",
            "34/34 [==============================] - 0s 2ms/step - loss: 6661.1860 - mae: 6661.1860\n",
            "Epoch 40/100\n",
            "34/34 [==============================] - 0s 2ms/step - loss: 6626.3140 - mae: 6626.3140\n",
            "Epoch 41/100\n",
            "34/34 [==============================] - 0s 2ms/step - loss: 6592.0396 - mae: 6592.0396\n",
            "Epoch 42/100\n",
            "34/34 [==============================] - 0s 2ms/step - loss: 6565.6255 - mae: 6565.6255\n",
            "Epoch 43/100\n",
            "34/34 [==============================] - 0s 2ms/step - loss: 6534.5034 - mae: 6534.5034\n",
            "Epoch 44/100\n",
            "34/34 [==============================] - 0s 2ms/step - loss: 6510.6577 - mae: 6510.6577\n",
            "Epoch 45/100\n",
            "34/34 [==============================] - 0s 2ms/step - loss: 6495.6401 - mae: 6495.6401\n",
            "Epoch 46/100\n",
            "34/34 [==============================] - 0s 2ms/step - loss: 6478.4932 - mae: 6478.4932\n",
            "Epoch 47/100\n",
            "34/34 [==============================] - 0s 2ms/step - loss: 6461.1294 - mae: 6461.1294\n",
            "Epoch 48/100\n",
            "34/34 [==============================] - 0s 2ms/step - loss: 6445.9282 - mae: 6445.9282\n",
            "Epoch 49/100\n",
            "34/34 [==============================] - 0s 2ms/step - loss: 6432.9868 - mae: 6432.9868\n",
            "Epoch 50/100\n",
            "34/34 [==============================] - 0s 2ms/step - loss: 6418.9663 - mae: 6418.9663\n",
            "Epoch 51/100\n",
            "34/34 [==============================] - 0s 2ms/step - loss: 6404.7310 - mae: 6404.7310\n",
            "Epoch 52/100\n",
            "34/34 [==============================] - 0s 2ms/step - loss: 6393.1235 - mae: 6393.1235\n",
            "Epoch 53/100\n",
            "34/34 [==============================] - 0s 2ms/step - loss: 6379.4404 - mae: 6379.4404\n",
            "Epoch 54/100\n",
            "34/34 [==============================] - 0s 2ms/step - loss: 6366.0181 - mae: 6366.0181\n",
            "Epoch 55/100\n",
            "34/34 [==============================] - 0s 2ms/step - loss: 6352.3008 - mae: 6352.3008\n",
            "Epoch 56/100\n",
            "34/34 [==============================] - 0s 2ms/step - loss: 6337.5825 - mae: 6337.5825\n",
            "Epoch 57/100\n",
            "34/34 [==============================] - 0s 2ms/step - loss: 6325.2930 - mae: 6325.2930\n",
            "Epoch 58/100\n",
            "34/34 [==============================] - 0s 2ms/step - loss: 6310.5391 - mae: 6310.5391\n",
            "Epoch 59/100\n",
            "34/34 [==============================] - 0s 2ms/step - loss: 6295.9937 - mae: 6295.9937\n",
            "Epoch 60/100\n",
            "34/34 [==============================] - 0s 2ms/step - loss: 6284.8809 - mae: 6284.8809\n",
            "Epoch 61/100\n",
            "34/34 [==============================] - 0s 2ms/step - loss: 6265.0049 - mae: 6265.0049\n",
            "Epoch 62/100\n",
            "34/34 [==============================] - 0s 2ms/step - loss: 6252.8857 - mae: 6252.8857\n",
            "Epoch 63/100\n",
            "34/34 [==============================] - 0s 2ms/step - loss: 6234.2861 - mae: 6234.2861\n",
            "Epoch 64/100\n",
            "34/34 [==============================] - 0s 2ms/step - loss: 6217.2290 - mae: 6217.2290\n",
            "Epoch 65/100\n",
            "34/34 [==============================] - 0s 2ms/step - loss: 6200.2549 - mae: 6200.2549\n",
            "Epoch 66/100\n",
            "34/34 [==============================] - 0s 2ms/step - loss: 6182.7959 - mae: 6182.7959\n",
            "Epoch 67/100\n",
            "34/34 [==============================] - 0s 2ms/step - loss: 6170.1943 - mae: 6170.1943\n",
            "Epoch 68/100\n",
            "34/34 [==============================] - 0s 2ms/step - loss: 6147.2544 - mae: 6147.2544\n",
            "Epoch 69/100\n",
            "34/34 [==============================] - 0s 2ms/step - loss: 6131.1411 - mae: 6131.1411\n",
            "Epoch 70/100\n",
            "34/34 [==============================] - 0s 2ms/step - loss: 6110.4844 - mae: 6110.4844\n",
            "Epoch 71/100\n",
            "34/34 [==============================] - 0s 2ms/step - loss: 6090.6426 - mae: 6090.6426\n",
            "Epoch 72/100\n",
            "34/34 [==============================] - 0s 2ms/step - loss: 6071.5674 - mae: 6071.5674\n",
            "Epoch 73/100\n",
            "34/34 [==============================] - 0s 2ms/step - loss: 6057.1812 - mae: 6057.1812\n",
            "Epoch 74/100\n",
            "34/34 [==============================] - 0s 2ms/step - loss: 6028.8218 - mae: 6028.8218\n",
            "Epoch 75/100\n",
            "34/34 [==============================] - 0s 2ms/step - loss: 6006.0269 - mae: 6006.0269\n",
            "Epoch 76/100\n",
            "34/34 [==============================] - 0s 2ms/step - loss: 5992.4341 - mae: 5992.4341\n",
            "Epoch 77/100\n",
            "34/34 [==============================] - 0s 2ms/step - loss: 5959.4121 - mae: 5959.4121\n",
            "Epoch 78/100\n",
            "34/34 [==============================] - 0s 2ms/step - loss: 5936.2808 - mae: 5936.2808\n",
            "Epoch 79/100\n",
            "34/34 [==============================] - 0s 2ms/step - loss: 5911.5459 - mae: 5911.5459\n",
            "Epoch 80/100\n",
            "34/34 [==============================] - 0s 2ms/step - loss: 5883.7188 - mae: 5883.7188\n",
            "Epoch 81/100\n",
            "34/34 [==============================] - 0s 2ms/step - loss: 5857.0112 - mae: 5857.0112\n",
            "Epoch 82/100\n",
            "34/34 [==============================] - 0s 2ms/step - loss: 5828.8340 - mae: 5828.8340\n",
            "Epoch 83/100\n",
            "34/34 [==============================] - 0s 2ms/step - loss: 5799.9893 - mae: 5799.9893\n",
            "Epoch 84/100\n",
            "34/34 [==============================] - 0s 2ms/step - loss: 5766.3872 - mae: 5766.3872\n",
            "Epoch 85/100\n",
            "34/34 [==============================] - 0s 2ms/step - loss: 5739.5879 - mae: 5739.5879\n",
            "Epoch 86/100\n",
            "34/34 [==============================] - 0s 2ms/step - loss: 5704.3066 - mae: 5704.3066\n",
            "Epoch 87/100\n",
            "34/34 [==============================] - 0s 2ms/step - loss: 5666.7324 - mae: 5666.7324\n",
            "Epoch 88/100\n",
            "34/34 [==============================] - 0s 2ms/step - loss: 5630.8584 - mae: 5630.8584\n",
            "Epoch 89/100\n",
            "34/34 [==============================] - 0s 2ms/step - loss: 5592.5488 - mae: 5592.5488\n",
            "Epoch 90/100\n",
            "34/34 [==============================] - 0s 2ms/step - loss: 5550.0640 - mae: 5550.0640\n",
            "Epoch 91/100\n",
            "34/34 [==============================] - 0s 2ms/step - loss: 5514.2026 - mae: 5514.2026\n",
            "Epoch 92/100\n",
            "34/34 [==============================] - 0s 2ms/step - loss: 5463.4160 - mae: 5463.4160\n",
            "Epoch 93/100\n",
            "34/34 [==============================] - 0s 2ms/step - loss: 5421.2456 - mae: 5421.2456\n",
            "Epoch 94/100\n",
            "34/34 [==============================] - 0s 2ms/step - loss: 5374.3926 - mae: 5374.3926\n",
            "Epoch 95/100\n",
            "34/34 [==============================] - 0s 2ms/step - loss: 5320.4326 - mae: 5320.4326\n",
            "Epoch 96/100\n",
            "34/34 [==============================] - 0s 2ms/step - loss: 5274.7388 - mae: 5274.7388\n",
            "Epoch 97/100\n",
            "34/34 [==============================] - 0s 2ms/step - loss: 5220.2661 - mae: 5220.2661\n",
            "Epoch 98/100\n",
            "34/34 [==============================] - 0s 2ms/step - loss: 5156.7876 - mae: 5156.7876\n",
            "Epoch 99/100\n",
            "34/34 [==============================] - 0s 2ms/step - loss: 5098.1372 - mae: 5098.1372\n",
            "Epoch 100/100\n",
            "34/34 [==============================] - 0s 2ms/step - loss: 5041.0586 - mae: 5041.0586\n"
          ]
        },
        {
          "output_type": "execute_result",
          "data": {
            "text/plain": [
              "<keras.callbacks.History at 0x7f60038f1240>"
            ]
          },
          "metadata": {},
          "execution_count": 84
        }
      ]
    },
    {
      "cell_type": "code",
      "source": [
        "# Evaluate the larger model\n",
        "insurance_model_2.evaluate(X_test,y_test)"
      ],
      "metadata": {
        "colab": {
          "base_uri": "https://localhost:8080/"
        },
        "id": "NEshX81Zsjf_",
        "outputId": "bf041bcd-ae04-4995-e273-6ba73f32175e"
      },
      "execution_count": 85,
      "outputs": [
        {
          "output_type": "stream",
          "name": "stdout",
          "text": [
            "9/9 [==============================] - 0s 2ms/step - loss: 4908.6152 - mae: 4908.6152\n"
          ]
        },
        {
          "output_type": "execute_result",
          "data": {
            "text/plain": [
              "[4908.615234375, 4908.615234375]"
            ]
          },
          "metadata": {},
          "execution_count": 85
        }
      ]
    },
    {
      "cell_type": "code",
      "source": [
        "#1. Create a model\n",
        "tf.random.set_seed(42)\n",
        "insurance_model_3 = tf.keras.Sequential([\n",
        "    tf.keras.layers.Dense(100),\n",
        "    tf.keras.layers.Dense(10),\n",
        "    tf.keras.layers.Dense(1)\n",
        "])\n",
        "\n",
        "#2. Compile The model\n",
        "insurance_model_3.compile(loss=tf.keras.losses.mae,\n",
        "                        optimizer=tf.keras.optimizers.Adam(),\n",
        "                        metrics=['mae'])\n",
        "\n",
        "#3. Fit the model\n",
        "history=insurance_model_3.fit(X_train,y_train,epochs=200)"
      ],
      "metadata": {
        "colab": {
          "base_uri": "https://localhost:8080/"
        },
        "id": "YcxJhy8mssQM",
        "outputId": "155a7a81-89d0-4022-bda6-c85bd6b28cd0"
      },
      "execution_count": 88,
      "outputs": [
        {
          "output_type": "stream",
          "name": "stdout",
          "text": [
            "Epoch 1/200\n",
            "34/34 [==============================] - 1s 2ms/step - loss: 13291.7627 - mae: 13291.7627\n",
            "Epoch 2/200\n",
            "34/34 [==============================] - 0s 2ms/step - loss: 13136.6328 - mae: 13136.6328\n",
            "Epoch 3/200\n",
            "34/34 [==============================] - 0s 2ms/step - loss: 12809.3652 - mae: 12809.3652\n",
            "Epoch 4/200\n",
            "34/34 [==============================] - 0s 2ms/step - loss: 12161.9404 - mae: 12161.9404\n",
            "Epoch 5/200\n",
            "34/34 [==============================] - 0s 2ms/step - loss: 11062.9023 - mae: 11062.9023\n",
            "Epoch 6/200\n",
            "34/34 [==============================] - 0s 2ms/step - loss: 9629.6924 - mae: 9629.6924\n",
            "Epoch 7/200\n",
            "34/34 [==============================] - 0s 2ms/step - loss: 8283.5586 - mae: 8283.5586\n",
            "Epoch 8/200\n",
            "34/34 [==============================] - 0s 2ms/step - loss: 7580.6519 - mae: 7580.6519\n",
            "Epoch 9/200\n",
            "34/34 [==============================] - 0s 2ms/step - loss: 7450.8198 - mae: 7450.8198\n",
            "Epoch 10/200\n",
            "34/34 [==============================] - 0s 2ms/step - loss: 7429.0806 - mae: 7429.0806\n",
            "Epoch 11/200\n",
            "34/34 [==============================] - 0s 2ms/step - loss: 7410.0947 - mae: 7410.0947\n",
            "Epoch 12/200\n",
            "34/34 [==============================] - 0s 2ms/step - loss: 7387.8901 - mae: 7387.8901\n",
            "Epoch 13/200\n",
            "34/34 [==============================] - 0s 2ms/step - loss: 7367.3525 - mae: 7367.3525\n",
            "Epoch 14/200\n",
            "34/34 [==============================] - 0s 2ms/step - loss: 7344.8564 - mae: 7344.8564\n",
            "Epoch 15/200\n",
            "34/34 [==============================] - 0s 2ms/step - loss: 7325.6104 - mae: 7325.6104\n",
            "Epoch 16/200\n",
            "34/34 [==============================] - 0s 2ms/step - loss: 7302.9854 - mae: 7302.9854\n",
            "Epoch 17/200\n",
            "34/34 [==============================] - 0s 2ms/step - loss: 7282.7451 - mae: 7282.7451\n",
            "Epoch 18/200\n",
            "34/34 [==============================] - 0s 2ms/step - loss: 7259.0610 - mae: 7259.0610\n",
            "Epoch 19/200\n",
            "34/34 [==============================] - 0s 2ms/step - loss: 7236.7236 - mae: 7236.7236\n",
            "Epoch 20/200\n",
            "34/34 [==============================] - 0s 2ms/step - loss: 7213.4126 - mae: 7213.4126\n",
            "Epoch 21/200\n",
            "34/34 [==============================] - 0s 2ms/step - loss: 7193.6021 - mae: 7193.6021\n",
            "Epoch 22/200\n",
            "34/34 [==============================] - 0s 2ms/step - loss: 7167.2007 - mae: 7167.2007\n",
            "Epoch 23/200\n",
            "34/34 [==============================] - 0s 2ms/step - loss: 7142.3052 - mae: 7142.3052\n",
            "Epoch 24/200\n",
            "34/34 [==============================] - 0s 2ms/step - loss: 7117.4902 - mae: 7117.4902\n",
            "Epoch 25/200\n",
            "34/34 [==============================] - 0s 2ms/step - loss: 7099.2192 - mae: 7099.2192\n",
            "Epoch 26/200\n",
            "34/34 [==============================] - 0s 2ms/step - loss: 7067.7012 - mae: 7067.7012\n",
            "Epoch 27/200\n",
            "34/34 [==============================] - 0s 2ms/step - loss: 7038.7852 - mae: 7038.7852\n",
            "Epoch 28/200\n",
            "34/34 [==============================] - 0s 2ms/step - loss: 7010.6069 - mae: 7010.6069\n",
            "Epoch 29/200\n",
            "34/34 [==============================] - 0s 2ms/step - loss: 6982.4058 - mae: 6982.4058\n",
            "Epoch 30/200\n",
            "34/34 [==============================] - 0s 2ms/step - loss: 6954.9746 - mae: 6954.9746\n",
            "Epoch 31/200\n",
            "34/34 [==============================] - 0s 2ms/step - loss: 6923.2729 - mae: 6923.2729\n",
            "Epoch 32/200\n",
            "34/34 [==============================] - 0s 2ms/step - loss: 6895.6558 - mae: 6895.6558\n",
            "Epoch 33/200\n",
            "34/34 [==============================] - 0s 2ms/step - loss: 6863.5308 - mae: 6863.5308\n",
            "Epoch 34/200\n",
            "34/34 [==============================] - 0s 2ms/step - loss: 6831.3496 - mae: 6831.3496\n",
            "Epoch 35/200\n",
            "34/34 [==============================] - 0s 2ms/step - loss: 6797.7148 - mae: 6797.7148\n",
            "Epoch 36/200\n",
            "34/34 [==============================] - 0s 2ms/step - loss: 6762.7485 - mae: 6762.7485\n",
            "Epoch 37/200\n",
            "34/34 [==============================] - 0s 2ms/step - loss: 6726.0054 - mae: 6726.0054\n",
            "Epoch 38/200\n",
            "34/34 [==============================] - 0s 2ms/step - loss: 6694.0210 - mae: 6694.0210\n",
            "Epoch 39/200\n",
            "34/34 [==============================] - 0s 2ms/step - loss: 6654.8408 - mae: 6654.8408\n",
            "Epoch 40/200\n",
            "34/34 [==============================] - 0s 2ms/step - loss: 6619.3984 - mae: 6619.3984\n",
            "Epoch 41/200\n",
            "34/34 [==============================] - 0s 2ms/step - loss: 6585.1831 - mae: 6585.1831\n",
            "Epoch 42/200\n",
            "34/34 [==============================] - 0s 2ms/step - loss: 6557.5166 - mae: 6557.5166\n",
            "Epoch 43/200\n",
            "34/34 [==============================] - 0s 2ms/step - loss: 6527.4644 - mae: 6527.4644\n",
            "Epoch 44/200\n",
            "34/34 [==============================] - 0s 2ms/step - loss: 6503.0210 - mae: 6503.0210\n",
            "Epoch 45/200\n",
            "34/34 [==============================] - 0s 2ms/step - loss: 6488.5884 - mae: 6488.5884\n",
            "Epoch 46/200\n",
            "34/34 [==============================] - 0s 2ms/step - loss: 6471.8208 - mae: 6471.8208\n",
            "Epoch 47/200\n",
            "34/34 [==============================] - 0s 3ms/step - loss: 6453.4248 - mae: 6453.4248\n",
            "Epoch 48/200\n",
            "34/34 [==============================] - 0s 3ms/step - loss: 6438.8594 - mae: 6438.8594\n",
            "Epoch 49/200\n",
            "34/34 [==============================] - 0s 3ms/step - loss: 6425.8345 - mae: 6425.8345\n",
            "Epoch 50/200\n",
            "34/34 [==============================] - 0s 3ms/step - loss: 6411.4536 - mae: 6411.4536\n",
            "Epoch 51/200\n",
            "34/34 [==============================] - 0s 3ms/step - loss: 6396.9985 - mae: 6396.9985\n",
            "Epoch 52/200\n",
            "34/34 [==============================] - 0s 3ms/step - loss: 6385.1797 - mae: 6385.1797\n",
            "Epoch 53/200\n",
            "34/34 [==============================] - 0s 3ms/step - loss: 6371.5425 - mae: 6371.5425\n",
            "Epoch 54/200\n",
            "34/34 [==============================] - 0s 3ms/step - loss: 6357.4702 - mae: 6357.4702\n",
            "Epoch 55/200\n",
            "34/34 [==============================] - 0s 3ms/step - loss: 6343.9570 - mae: 6343.9570\n",
            "Epoch 56/200\n",
            "34/34 [==============================] - 0s 3ms/step - loss: 6329.3643 - mae: 6329.3643\n",
            "Epoch 57/200\n",
            "34/34 [==============================] - 0s 3ms/step - loss: 6316.2256 - mae: 6316.2256\n",
            "Epoch 58/200\n",
            "34/34 [==============================] - 0s 3ms/step - loss: 6301.5815 - mae: 6301.5815\n",
            "Epoch 59/200\n",
            "34/34 [==============================] - 0s 3ms/step - loss: 6286.7534 - mae: 6286.7534\n",
            "Epoch 60/200\n",
            "34/34 [==============================] - 0s 2ms/step - loss: 6275.7363 - mae: 6275.7363\n",
            "Epoch 61/200\n",
            "34/34 [==============================] - 0s 3ms/step - loss: 6255.8530 - mae: 6255.8530\n",
            "Epoch 62/200\n",
            "34/34 [==============================] - 0s 3ms/step - loss: 6242.8965 - mae: 6242.8965\n",
            "Epoch 63/200\n",
            "34/34 [==============================] - 0s 3ms/step - loss: 6223.9497 - mae: 6223.9497\n",
            "Epoch 64/200\n",
            "34/34 [==============================] - 0s 3ms/step - loss: 6207.3774 - mae: 6207.3774\n",
            "Epoch 65/200\n",
            "34/34 [==============================] - 0s 2ms/step - loss: 6189.4170 - mae: 6189.4170\n",
            "Epoch 66/200\n",
            "34/34 [==============================] - 0s 3ms/step - loss: 6171.9331 - mae: 6171.9331\n",
            "Epoch 67/200\n",
            "34/34 [==============================] - 0s 3ms/step - loss: 6158.9756 - mae: 6158.9756\n",
            "Epoch 68/200\n",
            "34/34 [==============================] - 0s 2ms/step - loss: 6136.2124 - mae: 6136.2124\n",
            "Epoch 69/200\n",
            "34/34 [==============================] - 0s 3ms/step - loss: 6119.0718 - mae: 6119.0718\n",
            "Epoch 70/200\n",
            "34/34 [==============================] - 0s 3ms/step - loss: 6098.2065 - mae: 6098.2065\n",
            "Epoch 71/200\n",
            "34/34 [==============================] - 0s 3ms/step - loss: 6078.3696 - mae: 6078.3696\n",
            "Epoch 72/200\n",
            "34/34 [==============================] - 0s 3ms/step - loss: 6058.6025 - mae: 6058.6025\n",
            "Epoch 73/200\n",
            "34/34 [==============================] - 0s 3ms/step - loss: 6044.3970 - mae: 6044.3970\n",
            "Epoch 74/200\n",
            "34/34 [==============================] - 0s 3ms/step - loss: 6015.2788 - mae: 6015.2788\n",
            "Epoch 75/200\n",
            "34/34 [==============================] - 0s 3ms/step - loss: 5992.9487 - mae: 5992.9487\n",
            "Epoch 76/200\n",
            "34/34 [==============================] - 0s 3ms/step - loss: 5978.6411 - mae: 5978.6411\n",
            "Epoch 77/200\n",
            "34/34 [==============================] - 0s 3ms/step - loss: 5945.3848 - mae: 5945.3848\n",
            "Epoch 78/200\n",
            "34/34 [==============================] - 0s 3ms/step - loss: 5921.6270 - mae: 5921.6270\n",
            "Epoch 79/200\n",
            "34/34 [==============================] - 0s 3ms/step - loss: 5896.2793 - mae: 5896.2793\n",
            "Epoch 80/200\n",
            "34/34 [==============================] - 0s 3ms/step - loss: 5868.4082 - mae: 5868.4082\n",
            "Epoch 81/200\n",
            "34/34 [==============================] - 0s 2ms/step - loss: 5842.2295 - mae: 5842.2295\n",
            "Epoch 82/200\n",
            "34/34 [==============================] - 0s 2ms/step - loss: 5812.5317 - mae: 5812.5317\n",
            "Epoch 83/200\n",
            "34/34 [==============================] - 0s 3ms/step - loss: 5783.8154 - mae: 5783.8154\n",
            "Epoch 84/200\n",
            "34/34 [==============================] - 0s 3ms/step - loss: 5750.0337 - mae: 5750.0337\n",
            "Epoch 85/200\n",
            "34/34 [==============================] - 0s 3ms/step - loss: 5722.5918 - mae: 5722.5918\n",
            "Epoch 86/200\n",
            "34/34 [==============================] - 0s 3ms/step - loss: 5688.2842 - mae: 5688.2842\n",
            "Epoch 87/200\n",
            "34/34 [==============================] - 0s 3ms/step - loss: 5650.2090 - mae: 5650.2090\n",
            "Epoch 88/200\n",
            "34/34 [==============================] - 0s 3ms/step - loss: 5614.0513 - mae: 5614.0513\n",
            "Epoch 89/200\n",
            "34/34 [==============================] - 0s 3ms/step - loss: 5574.5010 - mae: 5574.5010\n",
            "Epoch 90/200\n",
            "34/34 [==============================] - 0s 3ms/step - loss: 5532.1997 - mae: 5532.1997\n",
            "Epoch 91/200\n",
            "34/34 [==============================] - 0s 3ms/step - loss: 5495.9570 - mae: 5495.9570\n",
            "Epoch 92/200\n",
            "34/34 [==============================] - 0s 3ms/step - loss: 5444.9414 - mae: 5444.9414\n",
            "Epoch 93/200\n",
            "34/34 [==============================] - 0s 3ms/step - loss: 5401.7734 - mae: 5401.7734\n",
            "Epoch 94/200\n",
            "34/34 [==============================] - 0s 3ms/step - loss: 5354.4473 - mae: 5354.4473\n",
            "Epoch 95/200\n",
            "34/34 [==============================] - 0s 2ms/step - loss: 5302.2339 - mae: 5302.2339\n",
            "Epoch 96/200\n",
            "34/34 [==============================] - 0s 3ms/step - loss: 5254.9419 - mae: 5254.9419\n",
            "Epoch 97/200\n",
            "34/34 [==============================] - 0s 2ms/step - loss: 5199.6792 - mae: 5199.6792\n",
            "Epoch 98/200\n",
            "34/34 [==============================] - 0s 2ms/step - loss: 5136.1357 - mae: 5136.1357\n",
            "Epoch 99/200\n",
            "34/34 [==============================] - 0s 2ms/step - loss: 5076.6274 - mae: 5076.6274\n",
            "Epoch 100/200\n",
            "34/34 [==============================] - 0s 2ms/step - loss: 5020.7827 - mae: 5020.7827\n",
            "Epoch 101/200\n",
            "34/34 [==============================] - 0s 2ms/step - loss: 4948.5083 - mae: 4948.5083\n",
            "Epoch 102/200\n",
            "34/34 [==============================] - 0s 2ms/step - loss: 4875.0820 - mae: 4875.0820\n",
            "Epoch 103/200\n",
            "34/34 [==============================] - 0s 2ms/step - loss: 4805.5679 - mae: 4805.5679\n",
            "Epoch 104/200\n",
            "34/34 [==============================] - 0s 2ms/step - loss: 4725.8623 - mae: 4725.8623\n",
            "Epoch 105/200\n",
            "34/34 [==============================] - 0s 2ms/step - loss: 4640.1250 - mae: 4640.1250\n",
            "Epoch 106/200\n",
            "34/34 [==============================] - 0s 2ms/step - loss: 4556.6689 - mae: 4556.6689\n",
            "Epoch 107/200\n",
            "34/34 [==============================] - 0s 2ms/step - loss: 4471.9907 - mae: 4471.9907\n",
            "Epoch 108/200\n",
            "34/34 [==============================] - 0s 2ms/step - loss: 4384.6167 - mae: 4384.6167\n",
            "Epoch 109/200\n",
            "34/34 [==============================] - 0s 2ms/step - loss: 4300.5811 - mae: 4300.5811\n",
            "Epoch 110/200\n",
            "34/34 [==============================] - 0s 2ms/step - loss: 4220.0762 - mae: 4220.0762\n",
            "Epoch 111/200\n",
            "34/34 [==============================] - 0s 2ms/step - loss: 4141.4004 - mae: 4141.4004\n",
            "Epoch 112/200\n",
            "34/34 [==============================] - 0s 2ms/step - loss: 4075.5403 - mae: 4075.5403\n",
            "Epoch 113/200\n",
            "34/34 [==============================] - 0s 2ms/step - loss: 4014.1978 - mae: 4014.1978\n",
            "Epoch 114/200\n",
            "34/34 [==============================] - 0s 2ms/step - loss: 3972.4412 - mae: 3972.4412\n",
            "Epoch 115/200\n",
            "34/34 [==============================] - 0s 2ms/step - loss: 3931.3430 - mae: 3931.3430\n",
            "Epoch 116/200\n",
            "34/34 [==============================] - 0s 2ms/step - loss: 3908.0935 - mae: 3908.0935\n",
            "Epoch 117/200\n",
            "34/34 [==============================] - 0s 2ms/step - loss: 3887.3948 - mae: 3887.3948\n",
            "Epoch 118/200\n",
            "34/34 [==============================] - 0s 2ms/step - loss: 3864.4512 - mae: 3864.4512\n",
            "Epoch 119/200\n",
            "34/34 [==============================] - 0s 2ms/step - loss: 3848.3467 - mae: 3848.3467\n",
            "Epoch 120/200\n",
            "34/34 [==============================] - 0s 2ms/step - loss: 3831.3066 - mae: 3831.3066\n",
            "Epoch 121/200\n",
            "34/34 [==============================] - 0s 2ms/step - loss: 3825.8660 - mae: 3825.8660\n",
            "Epoch 122/200\n",
            "34/34 [==============================] - 0s 2ms/step - loss: 3818.5605 - mae: 3818.5605\n",
            "Epoch 123/200\n",
            "34/34 [==============================] - 0s 2ms/step - loss: 3811.0347 - mae: 3811.0347\n",
            "Epoch 124/200\n",
            "34/34 [==============================] - 0s 2ms/step - loss: 3803.6223 - mae: 3803.6223\n",
            "Epoch 125/200\n",
            "34/34 [==============================] - 0s 2ms/step - loss: 3794.3962 - mae: 3794.3962\n",
            "Epoch 126/200\n",
            "34/34 [==============================] - 0s 2ms/step - loss: 3805.0527 - mae: 3805.0527\n",
            "Epoch 127/200\n",
            "34/34 [==============================] - 0s 2ms/step - loss: 3797.3010 - mae: 3797.3010\n",
            "Epoch 128/200\n",
            "34/34 [==============================] - 0s 2ms/step - loss: 3790.6257 - mae: 3790.6257\n",
            "Epoch 129/200\n",
            "34/34 [==============================] - 0s 2ms/step - loss: 3799.0015 - mae: 3799.0015\n",
            "Epoch 130/200\n",
            "34/34 [==============================] - 0s 2ms/step - loss: 3791.9712 - mae: 3791.9712\n",
            "Epoch 131/200\n",
            "34/34 [==============================] - 0s 2ms/step - loss: 3780.3320 - mae: 3780.3320\n",
            "Epoch 132/200\n",
            "34/34 [==============================] - 0s 2ms/step - loss: 3774.4392 - mae: 3774.4392\n",
            "Epoch 133/200\n",
            "34/34 [==============================] - 0s 2ms/step - loss: 3769.8386 - mae: 3769.8386\n",
            "Epoch 134/200\n",
            "34/34 [==============================] - 0s 2ms/step - loss: 3769.5696 - mae: 3769.5696\n",
            "Epoch 135/200\n",
            "34/34 [==============================] - 0s 2ms/step - loss: 3766.2810 - mae: 3766.2810\n",
            "Epoch 136/200\n",
            "34/34 [==============================] - 0s 2ms/step - loss: 3765.3201 - mae: 3765.3201\n",
            "Epoch 137/200\n",
            "34/34 [==============================] - 0s 2ms/step - loss: 3772.9534 - mae: 3772.9534\n",
            "Epoch 138/200\n",
            "34/34 [==============================] - 0s 2ms/step - loss: 3779.9419 - mae: 3779.9419\n",
            "Epoch 139/200\n",
            "34/34 [==============================] - 0s 2ms/step - loss: 3760.8772 - mae: 3760.8772\n",
            "Epoch 140/200\n",
            "34/34 [==============================] - 0s 2ms/step - loss: 3761.3220 - mae: 3761.3220\n",
            "Epoch 141/200\n",
            "34/34 [==============================] - 0s 2ms/step - loss: 3762.9509 - mae: 3762.9509\n",
            "Epoch 142/200\n",
            "34/34 [==============================] - 0s 2ms/step - loss: 3762.4250 - mae: 3762.4250\n",
            "Epoch 143/200\n",
            "34/34 [==============================] - 0s 2ms/step - loss: 3753.4351 - mae: 3753.4351\n",
            "Epoch 144/200\n",
            "34/34 [==============================] - 0s 2ms/step - loss: 3750.3750 - mae: 3750.3750\n",
            "Epoch 145/200\n",
            "34/34 [==============================] - 0s 2ms/step - loss: 3750.6030 - mae: 3750.6030\n",
            "Epoch 146/200\n",
            "34/34 [==============================] - 0s 2ms/step - loss: 3753.8950 - mae: 3753.8950\n",
            "Epoch 147/200\n",
            "34/34 [==============================] - 0s 2ms/step - loss: 3752.1211 - mae: 3752.1211\n",
            "Epoch 148/200\n",
            "34/34 [==============================] - 0s 2ms/step - loss: 3755.1956 - mae: 3755.1956\n",
            "Epoch 149/200\n",
            "34/34 [==============================] - 0s 2ms/step - loss: 3743.0923 - mae: 3743.0923\n",
            "Epoch 150/200\n",
            "34/34 [==============================] - 0s 2ms/step - loss: 3738.0017 - mae: 3738.0017\n",
            "Epoch 151/200\n",
            "34/34 [==============================] - 0s 2ms/step - loss: 3741.1931 - mae: 3741.1931\n",
            "Epoch 152/200\n",
            "34/34 [==============================] - 0s 2ms/step - loss: 3742.4863 - mae: 3742.4863\n",
            "Epoch 153/200\n",
            "34/34 [==============================] - 0s 2ms/step - loss: 3741.4875 - mae: 3741.4875\n",
            "Epoch 154/200\n",
            "34/34 [==============================] - 0s 2ms/step - loss: 3736.6853 - mae: 3736.6853\n",
            "Epoch 155/200\n",
            "34/34 [==============================] - 0s 2ms/step - loss: 3739.7578 - mae: 3739.7578\n",
            "Epoch 156/200\n",
            "34/34 [==============================] - 0s 2ms/step - loss: 3735.9443 - mae: 3735.9443\n",
            "Epoch 157/200\n",
            "34/34 [==============================] - 0s 2ms/step - loss: 3732.0295 - mae: 3732.0295\n",
            "Epoch 158/200\n",
            "34/34 [==============================] - 0s 2ms/step - loss: 3728.7773 - mae: 3728.7773\n",
            "Epoch 159/200\n",
            "34/34 [==============================] - 0s 2ms/step - loss: 3726.3340 - mae: 3726.3340\n",
            "Epoch 160/200\n",
            "34/34 [==============================] - 0s 2ms/step - loss: 3732.7346 - mae: 3732.7346\n",
            "Epoch 161/200\n",
            "34/34 [==============================] - 0s 2ms/step - loss: 3727.2021 - mae: 3727.2021\n",
            "Epoch 162/200\n",
            "34/34 [==============================] - 0s 2ms/step - loss: 3724.8872 - mae: 3724.8872\n",
            "Epoch 163/200\n",
            "34/34 [==============================] - 0s 2ms/step - loss: 3722.7925 - mae: 3722.7925\n",
            "Epoch 164/200\n",
            "34/34 [==============================] - 0s 2ms/step - loss: 3726.3579 - mae: 3726.3579\n",
            "Epoch 165/200\n",
            "34/34 [==============================] - 0s 2ms/step - loss: 3715.6182 - mae: 3715.6182\n",
            "Epoch 166/200\n",
            "34/34 [==============================] - 0s 2ms/step - loss: 3720.3057 - mae: 3720.3057\n",
            "Epoch 167/200\n",
            "34/34 [==============================] - 0s 2ms/step - loss: 3719.5137 - mae: 3719.5137\n",
            "Epoch 168/200\n",
            "34/34 [==============================] - 0s 2ms/step - loss: 3715.6609 - mae: 3715.6609\n",
            "Epoch 169/200\n",
            "34/34 [==============================] - 0s 2ms/step - loss: 3714.3943 - mae: 3714.3943\n",
            "Epoch 170/200\n",
            "34/34 [==============================] - 0s 2ms/step - loss: 3708.1055 - mae: 3708.1055\n",
            "Epoch 171/200\n",
            "34/34 [==============================] - 0s 2ms/step - loss: 3707.7625 - mae: 3707.7625\n",
            "Epoch 172/200\n",
            "34/34 [==============================] - 0s 2ms/step - loss: 3708.7683 - mae: 3708.7683\n",
            "Epoch 173/200\n",
            "34/34 [==============================] - 0s 2ms/step - loss: 3705.5413 - mae: 3705.5413\n",
            "Epoch 174/200\n",
            "34/34 [==============================] - 0s 2ms/step - loss: 3709.8423 - mae: 3709.8423\n",
            "Epoch 175/200\n",
            "34/34 [==============================] - 0s 2ms/step - loss: 3709.7749 - mae: 3709.7749\n",
            "Epoch 176/200\n",
            "34/34 [==============================] - 0s 2ms/step - loss: 3706.2864 - mae: 3706.2864\n",
            "Epoch 177/200\n",
            "34/34 [==============================] - 0s 2ms/step - loss: 3699.5237 - mae: 3699.5237\n",
            "Epoch 178/200\n",
            "34/34 [==============================] - 0s 2ms/step - loss: 3694.9658 - mae: 3694.9658\n",
            "Epoch 179/200\n",
            "34/34 [==============================] - 0s 2ms/step - loss: 3706.6851 - mae: 3706.6851\n",
            "Epoch 180/200\n",
            "34/34 [==============================] - 0s 2ms/step - loss: 3710.5959 - mae: 3710.5959\n",
            "Epoch 181/200\n",
            "34/34 [==============================] - 0s 2ms/step - loss: 3696.1089 - mae: 3696.1089\n",
            "Epoch 182/200\n",
            "34/34 [==============================] - 0s 2ms/step - loss: 3693.5881 - mae: 3693.5881\n",
            "Epoch 183/200\n",
            "34/34 [==============================] - 0s 2ms/step - loss: 3691.7908 - mae: 3691.7908\n",
            "Epoch 184/200\n",
            "34/34 [==============================] - 0s 2ms/step - loss: 3698.6409 - mae: 3698.6409\n",
            "Epoch 185/200\n",
            "34/34 [==============================] - 0s 2ms/step - loss: 3692.4163 - mae: 3692.4163\n",
            "Epoch 186/200\n",
            "34/34 [==============================] - 0s 2ms/step - loss: 3695.8667 - mae: 3695.8667\n",
            "Epoch 187/200\n",
            "34/34 [==============================] - 0s 2ms/step - loss: 3688.5781 - mae: 3688.5781\n",
            "Epoch 188/200\n",
            "34/34 [==============================] - 0s 2ms/step - loss: 3693.3926 - mae: 3693.3926\n",
            "Epoch 189/200\n",
            "34/34 [==============================] - 0s 2ms/step - loss: 3683.7646 - mae: 3683.7646\n",
            "Epoch 190/200\n",
            "34/34 [==============================] - 0s 2ms/step - loss: 3683.3530 - mae: 3683.3530\n",
            "Epoch 191/200\n",
            "34/34 [==============================] - 0s 2ms/step - loss: 3700.7920 - mae: 3700.7920\n",
            "Epoch 192/200\n",
            "34/34 [==============================] - 0s 2ms/step - loss: 3685.0945 - mae: 3685.0945\n",
            "Epoch 193/200\n",
            "34/34 [==============================] - 0s 2ms/step - loss: 3674.4397 - mae: 3674.4397\n",
            "Epoch 194/200\n",
            "34/34 [==============================] - 0s 2ms/step - loss: 3675.7107 - mae: 3675.7107\n",
            "Epoch 195/200\n",
            "34/34 [==============================] - 0s 2ms/step - loss: 3673.1533 - mae: 3673.1533\n",
            "Epoch 196/200\n",
            "34/34 [==============================] - 0s 2ms/step - loss: 3681.5837 - mae: 3681.5837\n",
            "Epoch 197/200\n",
            "34/34 [==============================] - 0s 2ms/step - loss: 3667.6387 - mae: 3667.6387\n",
            "Epoch 198/200\n",
            "34/34 [==============================] - 0s 2ms/step - loss: 3675.7861 - mae: 3675.7861\n",
            "Epoch 199/200\n",
            "34/34 [==============================] - 0s 2ms/step - loss: 3680.6404 - mae: 3680.6404\n",
            "Epoch 200/200\n",
            "34/34 [==============================] - 0s 2ms/step - loss: 3667.4351 - mae: 3667.4351\n"
          ]
        }
      ]
    },
    {
      "cell_type": "code",
      "source": [
        "insurance_model_3.evaluate(X_test,y_test)"
      ],
      "metadata": {
        "colab": {
          "base_uri": "https://localhost:8080/"
        },
        "id": "A6q_V6ap5vje",
        "outputId": "77e836bb-ed95-44fd-bb13-dca03b47556a"
      },
      "execution_count": 89,
      "outputs": [
        {
          "output_type": "stream",
          "name": "stdout",
          "text": [
            "9/9 [==============================] - 0s 2ms/step - loss: 3491.0452 - mae: 3491.0452\n"
          ]
        },
        {
          "output_type": "execute_result",
          "data": {
            "text/plain": [
              "[3491.045166015625, 3491.045166015625]"
            ]
          },
          "metadata": {},
          "execution_count": 89
        }
      ]
    },
    {
      "cell_type": "code",
      "source": [
        "pd.DataFrame(history.history).plot()\n",
        "plt.ylabel(\"loss\")\n",
        "plt.xlabel('epochs')"
      ],
      "metadata": {
        "colab": {
          "base_uri": "https://localhost:8080/",
          "height": 467
        },
        "id": "9wJNmzPPAG5e",
        "outputId": "d41ccf47-e335-4099-afb1-f8dffe13bdbb"
      },
      "execution_count": 90,
      "outputs": [
        {
          "output_type": "execute_result",
          "data": {
            "text/plain": [
              "Text(0.5, 0, 'epochs')"
            ]
          },
          "metadata": {},
          "execution_count": 90
        },
        {
          "output_type": "display_data",
          "data": {
            "text/plain": [
              "<Figure size 640x480 with 1 Axes>"
            ],
            "image/png": "[encoded data removed]"
          },
          "metadata": {}
        }
      ]
    },
    {
      "cell_type": "code",
      "source": [],
      "metadata": {
        "id": "a97AH_WUAmcy"
      },
      "execution_count": 90,
      "outputs": []
    }
  ]
}