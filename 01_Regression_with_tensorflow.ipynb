{
  "nbformat": 4,
  "nbformat_minor": 0,
  "metadata": {
    "colab": {
      "provenance": [],
      "authorship_tag": "ABX9TyPWLIT0otJUuJSxzjXEsEV+",
      "include_colab_link": true
    },
    "kernelspec": {
      "name": "python3",
      "display_name": "Python 3"
    },
    "language_info": {
      "name": "python"
    }
  },
  "cells": [
    {
      "cell_type": "markdown",
      "metadata": {
        "id": "view-in-github",
        "colab_type": "text"
      },
      "source": [
        "<a href=\"https://colab.research.google.com/github/AdamayB/Tensorflow_Zero_to_Mastery/blob/main/01_Regression_with_tensorflow.ipynb\" target=\"_parent\"><img src=\"https://colab.research.google.com/assets/colab-badge.svg\" alt=\"Open In Colab\"/></a>"
      ]
    },
    {
      "cell_type": "markdown",
      "source": [
        "# Introduction to Regression with Neural Network using TensorFlow"
      ],
      "metadata": {
        "id": "dY76J5OJiQPL"
      }
    },
    {
      "cell_type": "code",
      "source": [
        "import tensorflow as tf\n",
        "print(tf.__version__)"
      ],
      "metadata": {
        "colab": {
          "base_uri": "https://localhost:8080/"
        },
        "id": "CpwoxTYDibc1",
        "outputId": "f367d59b-9158-43b9-822b-b08a752a3861"
      },
      "execution_count": 1,
      "outputs": [
        {
          "output_type": "stream",
          "name": "stdout",
          "text": [
            "2.12.0\n"
          ]
        }
      ]
    },
    {
      "cell_type": "markdown",
      "source": [
        "# Create data"
      ],
      "metadata": {
        "id": "dKfWizd5i51t"
      }
    },
    {
      "cell_type": "code",
      "source": [
        "import numpy as np\n",
        "import matplotlib.pyplot as plt\n",
        "\n",
        "# Create features\n",
        "X = np.array([-7,-4,-1,2,5,8,11,14])\n",
        "\n",
        "# Create labels\n",
        "y = np.array([3.0, 6.0, 9.0, 12.0, 15.0, 18.0, 21.0, 24.0]);\n",
        "\n",
        "# Visualize\n",
        "plt.scatter(X,y);"
      ],
      "metadata": {
        "colab": {
          "base_uri": "https://localhost:8080/",
          "height": 435
        },
        "id": "FstlEFY2ipNF",
        "outputId": "58d9c5f0-b60f-4254-802a-815b7ea4acc3"
      },
      "execution_count": 2,
      "outputs": [
        {
          "output_type": "display_data",
          "data": {
            "text/plain": [
              "<Figure size 640x480 with 1 Axes>"
            ],
            "image/png": "[encoded data removed]"
          },
          "metadata": {}
        }
      ]
    },
    {
      "cell_type": "markdown",
      "source": [
        "# Input and Output shape"
      ],
      "metadata": {
        "id": "aSaPC1GDkSMb"
      }
    },
    {
      "cell_type": "code",
      "source": [
        "input_shape = X.shape\n",
        "output_shape = y.shape\n",
        "input_shape, output_shape"
      ],
      "metadata": {
        "colab": {
          "base_uri": "https://localhost:8080/"
        },
        "id": "ibtf6oe4kW1A",
        "outputId": "8b0b587f-2c88-4667-eb8a-f3d5935ab5a5"
      },
      "execution_count": 3,
      "outputs": [
        {
          "output_type": "execute_result",
          "data": {
            "text/plain": [
              "((8,), (8,))"
            ]
          },
          "metadata": {},
          "execution_count": 3
        }
      ]
    },
    {
      "cell_type": "code",
      "source": [
        "# Turn NumPy arrays to tensors\n",
        "X = tf.constant(X)\n",
        "y = tf.constant(y)\n",
        "X,y"
      ],
      "metadata": {
        "colab": {
          "base_uri": "https://localhost:8080/"
        },
        "id": "FHpBbVWoky2Y",
        "outputId": "24e5c14a-b234-4141-8296-9b9abb62f185"
      },
      "execution_count": 4,
      "outputs": [
        {
          "output_type": "execute_result",
          "data": {
            "text/plain": [
              "(<tf.Tensor: shape=(8,), dtype=int64, numpy=array([-7, -4, -1,  2,  5,  8, 11, 14])>,\n",
              " <tf.Tensor: shape=(8,), dtype=float64, numpy=array([ 3.,  6.,  9., 12., 15., 18., 21., 24.])>)"
            ]
          },
          "metadata": {},
          "execution_count": 4
        }
      ]
    },
    {
      "cell_type": "markdown",
      "source": [
        "## Steps in modelling with TensorFlow\n",
        "\n",
        "1. Creating a model\n",
        "2. Compiling model- define loss function and optimizer and evaluation matrix\n",
        "3. Fitting the model\n",
        "\n"
      ],
      "metadata": {
        "id": "DDbXV8Owp6rP"
      }
    },
    {
      "cell_type": "markdown",
      "source": [],
      "metadata": {
        "id": "l12FCGtK5bPE"
      }
    },
    {
      "cell_type": "code",
      "source": [
        "tf.random.set_seed(42)\n",
        "\n",
        "#1. Create a model\n",
        "model = tf.keras.Sequential([\n",
        "    tf.keras.layers.Dense(1)\n",
        "])\n",
        "\n",
        "#2. Compile the model\n",
        "model.compile(loss=tf.keras.losses.mae,\n",
        "              optimizer=tf.keras.optimizers.SGD(), #stochastic gradient descent)\n",
        "              metrics=[\"mae\"])\n",
        "\n",
        "# Fit the model\n",
        "model.fit(tf.expand_dims(X, axis=-1),y,epochs=5)\n",
        "\n"
      ],
      "metadata": {
        "colab": {
          "base_uri": "https://localhost:8080/"
        },
        "id": "s82Eu3dCpufF",
        "outputId": "2496c2d1-351f-49c6-b90b-10db0f5188ac"
      },
      "execution_count": 5,
      "outputs": [
        {
          "output_type": "stream",
          "name": "stdout",
          "text": [
            "Epoch 1/5\n",
            "1/1 [==============================] - 1s 753ms/step - loss: 8.4833 - mae: 8.4833\n",
            "Epoch 2/5\n",
            "1/1 [==============================] - 0s 10ms/step - loss: 8.3508 - mae: 8.3508\n",
            "Epoch 3/5\n",
            "1/1 [==============================] - 0s 12ms/step - loss: 8.2183 - mae: 8.2183\n",
            "Epoch 4/5\n",
            "1/1 [==============================] - 0s 10ms/step - loss: 8.0858 - mae: 8.0858\n",
            "Epoch 5/5\n",
            "1/1 [==============================] - 0s 12ms/step - loss: 7.9533 - mae: 7.9533\n"
          ]
        },
        {
          "output_type": "execute_result",
          "data": {
            "text/plain": [
              "<keras.callbacks.History at 0x7f9af0613c70>"
            ]
          },
          "metadata": {},
          "execution_count": 5
        }
      ]
    },
    {
      "cell_type": "code",
      "source": [
        "# Trying to make a prediction\n",
        "model.predict([17.0])"
      ],
      "metadata": {
        "colab": {
          "base_uri": "https://localhost:8080/"
        },
        "id": "HsBEK1M16WDK",
        "outputId": "1ef3b219-6923-4712-d1b9-22f966b38513"
      },
      "execution_count": 6,
      "outputs": [
        {
          "output_type": "stream",
          "name": "stdout",
          "text": [
            "1/1 [==============================] - 0s 111ms/step\n"
          ]
        },
        {
          "output_type": "execute_result",
          "data": {
            "text/plain": [
              "array([[27.392056]], dtype=float32)"
            ]
          },
          "metadata": {},
          "execution_count": 6
        }
      ]
    },
    {
      "cell_type": "code",
      "source": [
        "y_pred=model.predict([99.0])"
      ],
      "metadata": {
        "colab": {
          "base_uri": "https://localhost:8080/"
        },
        "id": "diyoiGzk6d2p",
        "outputId": "208776bf-fdeb-4e94-b544-617b8e1fdf3c"
      },
      "execution_count": 7,
      "outputs": [
        {
          "output_type": "stream",
          "name": "stdout",
          "text": [
            "1/1 [==============================] - 0s 44ms/step\n"
          ]
        }
      ]
    },
    {
      "cell_type": "code",
      "source": [
        "y_pred"
      ],
      "metadata": {
        "colab": {
          "base_uri": "https://localhost:8080/"
        },
        "id": "GlVXP6Xo6lUT",
        "outputId": "ef1e229c-7a28-4da8-edad-76a9542e0007"
      },
      "execution_count": 8,
      "outputs": [
        {
          "output_type": "execute_result",
          "data": {
            "text/plain": [
              "array([[159.27727]], dtype=float32)"
            ]
          },
          "metadata": {},
          "execution_count": 8
        }
      ]
    },
    {
      "cell_type": "code",
      "source": [
        "y_pred+7.9409"
      ],
      "metadata": {
        "colab": {
          "base_uri": "https://localhost:8080/"
        },
        "id": "XxEYEKi-64ub",
        "outputId": "11efefa5-aed9-4ad0-f046-2f4f7eb50b3c"
      },
      "execution_count": 9,
      "outputs": [
        {
          "output_type": "execute_result",
          "data": {
            "text/plain": [
              "array([[167.21817]], dtype=float32)"
            ]
          },
          "metadata": {},
          "execution_count": 9
        }
      ]
    },
    {
      "cell_type": "markdown",
      "source": [
        "## Improving model\n",
        "Improving by altering steps while creating model\n",
        "\n",
        "1. **Creating Model:** Increase number of dense layers and change activation method\n",
        "2. **Compiling Model:** change optimization function and change learning rate of the optimization function\n",
        "3. **Fitting Model:**Increase number of epochs or provide more data\n"
      ],
      "metadata": {
        "id": "e2rjGxVe7bs1"
      }
    },
    {
      "cell_type": "code",
      "source": [
        "# Rebuilding\n",
        "\n",
        "#1. Create a model\n",
        "model = tf.keras.Sequential([\n",
        "    tf.keras.layers.Dense(1)\n",
        "])\n",
        "\n",
        "#2. Compile the model\n",
        "model.compile(loss=tf.keras.losses.mae,\n",
        "              optimizer=tf.keras.optimizers.SGD(), #stochastic gradient descent)\n",
        "              metrics=[\"mae\"])\n",
        "\n",
        "# Fit the model\n",
        "model.fit(tf.expand_dims(X, axis=-1),y,epochs=100)"
      ],
      "metadata": {
        "colab": {
          "base_uri": "https://localhost:8080/"
        },
        "id": "1hONwUO3685k",
        "outputId": "b659edfb-d422-406f-f50c-1827c9790899"
      },
      "execution_count": 10,
      "outputs": [
        {
          "output_type": "stream",
          "name": "stdout",
          "text": [
            "Epoch 1/100\n",
            "1/1 [==============================] - 0s 351ms/step - loss: 9.3267 - mae: 9.3267\n",
            "Epoch 2/100\n",
            "1/1 [==============================] - 0s 11ms/step - loss: 9.1942 - mae: 9.1942\n",
            "Epoch 3/100\n",
            "1/1 [==============================] - 0s 12ms/step - loss: 9.0617 - mae: 9.0617\n",
            "Epoch 4/100\n",
            "1/1 [==============================] - 0s 9ms/step - loss: 8.9292 - mae: 8.9292\n",
            "Epoch 5/100\n",
            "1/1 [==============================] - 0s 12ms/step - loss: 8.7967 - mae: 8.7967\n",
            "Epoch 6/100\n",
            "1/1 [==============================] - 0s 12ms/step - loss: 8.6642 - mae: 8.6642\n",
            "Epoch 7/100\n",
            "1/1 [==============================] - 0s 13ms/step - loss: 8.5317 - mae: 8.5317\n",
            "Epoch 8/100\n",
            "1/1 [==============================] - 0s 12ms/step - loss: 8.3992 - mae: 8.3992\n",
            "Epoch 9/100\n",
            "1/1 [==============================] - 0s 12ms/step - loss: 8.2667 - mae: 8.2667\n",
            "Epoch 10/100\n",
            "1/1 [==============================] - 0s 12ms/step - loss: 8.1342 - mae: 8.1342\n",
            "Epoch 11/100\n",
            "1/1 [==============================] - 0s 12ms/step - loss: 8.0017 - mae: 8.0017\n",
            "Epoch 12/100\n",
            "1/1 [==============================] - 0s 10ms/step - loss: 7.8692 - mae: 7.8692\n",
            "Epoch 13/100\n",
            "1/1 [==============================] - 0s 9ms/step - loss: 7.7367 - mae: 7.7367\n",
            "Epoch 14/100\n",
            "1/1 [==============================] - 0s 13ms/step - loss: 7.6042 - mae: 7.6042\n",
            "Epoch 15/100\n",
            "1/1 [==============================] - 0s 10ms/step - loss: 7.4717 - mae: 7.4717\n",
            "Epoch 16/100\n",
            "1/1 [==============================] - 0s 10ms/step - loss: 7.3875 - mae: 7.3875\n",
            "Epoch 17/100\n",
            "1/1 [==============================] - 0s 12ms/step - loss: 7.3819 - mae: 7.3819\n",
            "Epoch 18/100\n",
            "1/1 [==============================] - 0s 10ms/step - loss: 7.3763 - mae: 7.3763\n",
            "Epoch 19/100\n",
            "1/1 [==============================] - 0s 9ms/step - loss: 7.3706 - mae: 7.3706\n",
            "Epoch 20/100\n",
            "1/1 [==============================] - 0s 15ms/step - loss: 7.3650 - mae: 7.3650\n",
            "Epoch 21/100\n",
            "1/1 [==============================] - 0s 13ms/step - loss: 7.3594 - mae: 7.3594\n",
            "Epoch 22/100\n",
            "1/1 [==============================] - 0s 9ms/step - loss: 7.3538 - mae: 7.3538\n",
            "Epoch 23/100\n",
            "1/1 [==============================] - 0s 10ms/step - loss: 7.3481 - mae: 7.3481\n",
            "Epoch 24/100\n",
            "1/1 [==============================] - 0s 8ms/step - loss: 7.3425 - mae: 7.3425\n",
            "Epoch 25/100\n",
            "1/1 [==============================] - 0s 9ms/step - loss: 7.3369 - mae: 7.3369\n",
            "Epoch 26/100\n",
            "1/1 [==============================] - 0s 14ms/step - loss: 7.3313 - mae: 7.3313\n",
            "Epoch 27/100\n",
            "1/1 [==============================] - 0s 9ms/step - loss: 7.3256 - mae: 7.3256\n",
            "Epoch 28/100\n",
            "1/1 [==============================] - 0s 10ms/step - loss: 7.3200 - mae: 7.3200\n",
            "Epoch 29/100\n",
            "1/1 [==============================] - 0s 11ms/step - loss: 7.3144 - mae: 7.3144\n",
            "Epoch 30/100\n",
            "1/1 [==============================] - 0s 9ms/step - loss: 7.3088 - mae: 7.3088\n",
            "Epoch 31/100\n",
            "1/1 [==============================] - 0s 9ms/step - loss: 7.3031 - mae: 7.3031\n",
            "Epoch 32/100\n",
            "1/1 [==============================] - 0s 9ms/step - loss: 7.2975 - mae: 7.2975\n",
            "Epoch 33/100\n",
            "1/1 [==============================] - 0s 10ms/step - loss: 7.2919 - mae: 7.2919\n",
            "Epoch 34/100\n",
            "1/1 [==============================] - 0s 10ms/step - loss: 7.2863 - mae: 7.2863\n",
            "Epoch 35/100\n",
            "1/1 [==============================] - 0s 11ms/step - loss: 7.2806 - mae: 7.2806\n",
            "Epoch 36/100\n",
            "1/1 [==============================] - 0s 11ms/step - loss: 7.2750 - mae: 7.2750\n",
            "Epoch 37/100\n",
            "1/1 [==============================] - 0s 11ms/step - loss: 7.2694 - mae: 7.2694\n",
            "Epoch 38/100\n",
            "1/1 [==============================] - 0s 9ms/step - loss: 7.2638 - mae: 7.2638\n",
            "Epoch 39/100\n",
            "1/1 [==============================] - 0s 10ms/step - loss: 7.2581 - mae: 7.2581\n",
            "Epoch 40/100\n",
            "1/1 [==============================] - 0s 10ms/step - loss: 7.2525 - mae: 7.2525\n",
            "Epoch 41/100\n",
            "1/1 [==============================] - 0s 10ms/step - loss: 7.2469 - mae: 7.2469\n",
            "Epoch 42/100\n",
            "1/1 [==============================] - 0s 10ms/step - loss: 7.2413 - mae: 7.2413\n",
            "Epoch 43/100\n",
            "1/1 [==============================] - 0s 10ms/step - loss: 7.2356 - mae: 7.2356\n",
            "Epoch 44/100\n",
            "1/1 [==============================] - 0s 10ms/step - loss: 7.2300 - mae: 7.2300\n",
            "Epoch 45/100\n",
            "1/1 [==============================] - 0s 9ms/step - loss: 7.2244 - mae: 7.2244\n",
            "Epoch 46/100\n",
            "1/1 [==============================] - 0s 10ms/step - loss: 7.2188 - mae: 7.2188\n",
            "Epoch 47/100\n",
            "1/1 [==============================] - 0s 11ms/step - loss: 7.2131 - mae: 7.2131\n",
            "Epoch 48/100\n",
            "1/1 [==============================] - 0s 16ms/step - loss: 7.2075 - mae: 7.2075\n",
            "Epoch 49/100\n",
            "1/1 [==============================] - 0s 10ms/step - loss: 7.2019 - mae: 7.2019\n",
            "Epoch 50/100\n",
            "1/1 [==============================] - 0s 10ms/step - loss: 7.1963 - mae: 7.1963\n",
            "Epoch 51/100\n",
            "1/1 [==============================] - 0s 10ms/step - loss: 7.1906 - mae: 7.1906\n",
            "Epoch 52/100\n",
            "1/1 [==============================] - 0s 10ms/step - loss: 7.1850 - mae: 7.1850\n",
            "Epoch 53/100\n",
            "1/1 [==============================] - 0s 9ms/step - loss: 7.1794 - mae: 7.1794\n",
            "Epoch 54/100\n",
            "1/1 [==============================] - 0s 10ms/step - loss: 7.1738 - mae: 7.1738\n",
            "Epoch 55/100\n",
            "1/1 [==============================] - 0s 10ms/step - loss: 7.1681 - mae: 7.1681\n",
            "Epoch 56/100\n",
            "1/1 [==============================] - 0s 9ms/step - loss: 7.1625 - mae: 7.1625\n",
            "Epoch 57/100\n",
            "1/1 [==============================] - 0s 10ms/step - loss: 7.1569 - mae: 7.1569\n",
            "Epoch 58/100\n",
            "1/1 [==============================] - 0s 10ms/step - loss: 7.1512 - mae: 7.1512\n",
            "Epoch 59/100\n",
            "1/1 [==============================] - 0s 10ms/step - loss: 7.1456 - mae: 7.1456\n",
            "Epoch 60/100\n",
            "1/1 [==============================] - 0s 10ms/step - loss: 7.1400 - mae: 7.1400\n",
            "Epoch 61/100\n",
            "1/1 [==============================] - 0s 10ms/step - loss: 7.1344 - mae: 7.1344\n",
            "Epoch 62/100\n",
            "1/1 [==============================] - 0s 11ms/step - loss: 7.1287 - mae: 7.1287\n",
            "Epoch 63/100\n",
            "1/1 [==============================] - 0s 10ms/step - loss: 7.1231 - mae: 7.1231\n",
            "Epoch 64/100\n",
            "1/1 [==============================] - 0s 10ms/step - loss: 7.1175 - mae: 7.1175\n",
            "Epoch 65/100\n",
            "1/1 [==============================] - 0s 10ms/step - loss: 7.1119 - mae: 7.1119\n",
            "Epoch 66/100\n",
            "1/1 [==============================] - 0s 10ms/step - loss: 7.1063 - mae: 7.1063\n",
            "Epoch 67/100\n",
            "1/1 [==============================] - 0s 10ms/step - loss: 7.1006 - mae: 7.1006\n",
            "Epoch 68/100\n",
            "1/1 [==============================] - 0s 11ms/step - loss: 7.0950 - mae: 7.0950\n",
            "Epoch 69/100\n",
            "1/1 [==============================] - 0s 11ms/step - loss: 7.0894 - mae: 7.0894\n",
            "Epoch 70/100\n",
            "1/1 [==============================] - 0s 10ms/step - loss: 7.0838 - mae: 7.0838\n",
            "Epoch 71/100\n",
            "1/1 [==============================] - 0s 10ms/step - loss: 7.0781 - mae: 7.0781\n",
            "Epoch 72/100\n",
            "1/1 [==============================] - 0s 10ms/step - loss: 7.0725 - mae: 7.0725\n",
            "Epoch 73/100\n",
            "1/1 [==============================] - 0s 11ms/step - loss: 7.0669 - mae: 7.0669\n",
            "Epoch 74/100\n",
            "1/1 [==============================] - 0s 10ms/step - loss: 7.0613 - mae: 7.0613\n",
            "Epoch 75/100\n",
            "1/1 [==============================] - 0s 10ms/step - loss: 7.0556 - mae: 7.0556\n",
            "Epoch 76/100\n",
            "1/1 [==============================] - 0s 10ms/step - loss: 7.0500 - mae: 7.0500\n",
            "Epoch 77/100\n",
            "1/1 [==============================] - 0s 10ms/step - loss: 7.0444 - mae: 7.0444\n",
            "Epoch 78/100\n",
            "1/1 [==============================] - 0s 11ms/step - loss: 7.0388 - mae: 7.0388\n",
            "Epoch 79/100\n",
            "1/1 [==============================] - 0s 10ms/step - loss: 7.0331 - mae: 7.0331\n",
            "Epoch 80/100\n",
            "1/1 [==============================] - 0s 9ms/step - loss: 7.0275 - mae: 7.0275\n",
            "Epoch 81/100\n",
            "1/1 [==============================] - 0s 10ms/step - loss: 7.0219 - mae: 7.0219\n",
            "Epoch 82/100\n",
            "1/1 [==============================] - 0s 9ms/step - loss: 7.0163 - mae: 7.0163\n",
            "Epoch 83/100\n",
            "1/1 [==============================] - 0s 11ms/step - loss: 7.0106 - mae: 7.0106\n",
            "Epoch 84/100\n",
            "1/1 [==============================] - 0s 10ms/step - loss: 7.0050 - mae: 7.0050\n",
            "Epoch 85/100\n",
            "1/1 [==============================] - 0s 9ms/step - loss: 6.9994 - mae: 6.9994\n",
            "Epoch 86/100\n",
            "1/1 [==============================] - 0s 10ms/step - loss: 6.9938 - mae: 6.9938\n",
            "Epoch 87/100\n",
            "1/1 [==============================] - 0s 10ms/step - loss: 6.9881 - mae: 6.9881\n",
            "Epoch 88/100\n",
            "1/1 [==============================] - 0s 10ms/step - loss: 6.9825 - mae: 6.9825\n",
            "Epoch 89/100\n",
            "1/1 [==============================] - 0s 9ms/step - loss: 6.9769 - mae: 6.9769\n",
            "Epoch 90/100\n",
            "1/1 [==============================] - 0s 9ms/step - loss: 6.9713 - mae: 6.9713\n",
            "Epoch 91/100\n",
            "1/1 [==============================] - 0s 10ms/step - loss: 6.9656 - mae: 6.9656\n",
            "Epoch 92/100\n",
            "1/1 [==============================] - 0s 10ms/step - loss: 6.9600 - mae: 6.9600\n",
            "Epoch 93/100\n",
            "1/1 [==============================] - 0s 11ms/step - loss: 6.9544 - mae: 6.9544\n",
            "Epoch 94/100\n",
            "1/1 [==============================] - 0s 13ms/step - loss: 6.9488 - mae: 6.9488\n",
            "Epoch 95/100\n",
            "1/1 [==============================] - 0s 15ms/step - loss: 6.9431 - mae: 6.9431\n",
            "Epoch 96/100\n",
            "1/1 [==============================] - 0s 14ms/step - loss: 6.9375 - mae: 6.9375\n",
            "Epoch 97/100\n",
            "1/1 [==============================] - 0s 13ms/step - loss: 6.9319 - mae: 6.9319\n",
            "Epoch 98/100\n",
            "1/1 [==============================] - 0s 12ms/step - loss: 6.9263 - mae: 6.9263\n",
            "Epoch 99/100\n",
            "1/1 [==============================] - 0s 9ms/step - loss: 6.9206 - mae: 6.9206\n",
            "Epoch 100/100\n",
            "1/1 [==============================] - 0s 9ms/step - loss: 6.9150 - mae: 6.9150\n"
          ]
        },
        {
          "output_type": "execute_result",
          "data": {
            "text/plain": [
              "<keras.callbacks.History at 0x7f9af02b7eb0>"
            ]
          },
          "metadata": {},
          "execution_count": 10
        }
      ]
    },
    {
      "cell_type": "code",
      "source": [
        "y_pred=model.predict([9.0])\n",
        "y_pred"
      ],
      "metadata": {
        "colab": {
          "base_uri": "https://localhost:8080/"
        },
        "id": "0UdJzH1nAEA_",
        "outputId": "9dca0bc5-b959-47fd-da77-e5e2faa36b23"
      },
      "execution_count": 11,
      "outputs": [
        {
          "output_type": "stream",
          "name": "stdout",
          "text": [
            "1/1 [==============================] - 0s 73ms/step\n"
          ]
        },
        {
          "output_type": "execute_result",
          "data": {
            "text/plain": [
              "array([[16.243946]], dtype=float32)"
            ]
          },
          "metadata": {},
          "execution_count": 11
        }
      ]
    },
    {
      "cell_type": "code",
      "source": [
        "# Making more adjustments\n",
        "# adding extra layer\n",
        "# Rebuilding\n",
        "\n",
        "#1. Create a model\n",
        "model = tf.keras.Sequential([\n",
        "    tf.keras.layers.Dense(100, activation='relu'),\n",
        "    tf.keras.layers.Dense(1)\n",
        "])\n",
        "\n",
        "#2. Compile the model\n",
        "model.compile(loss=tf.keras.losses.mae,\n",
        "              optimizer=tf.keras.optimizers.SGD(), #stochastic gradient descent)\n",
        "              metrics=[\"mae\"])\n",
        "\n",
        "# Fit the model\n",
        "model.fit(tf.expand_dims(X, axis=-1),y,epochs=100)"
      ],
      "metadata": {
        "colab": {
          "base_uri": "https://localhost:8080/"
        },
        "id": "6Jabaf63AQla",
        "outputId": "fd7505c4-f06e-4505-b22e-1e72e17db95e"
      },
      "execution_count": 12,
      "outputs": [
        {
          "output_type": "stream",
          "name": "stdout",
          "text": [
            "Epoch 1/100\n",
            "1/1 [==============================] - 0s 474ms/step - loss: 14.2512 - mae: 14.2512\n",
            "Epoch 2/100\n",
            "1/1 [==============================] - 0s 13ms/step - loss: 13.4956 - mae: 13.4956\n",
            "Epoch 3/100\n",
            "1/1 [==============================] - 0s 10ms/step - loss: 12.7528 - mae: 12.7528\n",
            "Epoch 4/100\n",
            "1/1 [==============================] - 0s 12ms/step - loss: 12.0041 - mae: 12.0041\n",
            "Epoch 5/100\n",
            "1/1 [==============================] - 0s 10ms/step - loss: 11.2473 - mae: 11.2473\n",
            "Epoch 6/100\n",
            "1/1 [==============================] - 0s 10ms/step - loss: 10.4866 - mae: 10.4866\n",
            "Epoch 7/100\n",
            "1/1 [==============================] - 0s 10ms/step - loss: 9.7211 - mae: 9.7211\n",
            "Epoch 8/100\n",
            "1/1 [==============================] - 0s 11ms/step - loss: 8.9270 - mae: 8.9270\n",
            "Epoch 9/100\n",
            "1/1 [==============================] - 0s 11ms/step - loss: 8.0935 - mae: 8.0935\n",
            "Epoch 10/100\n",
            "1/1 [==============================] - 0s 10ms/step - loss: 7.2208 - mae: 7.2208\n",
            "Epoch 11/100\n",
            "1/1 [==============================] - 0s 10ms/step - loss: 6.2927 - mae: 6.2927\n",
            "Epoch 12/100\n",
            "1/1 [==============================] - 0s 10ms/step - loss: 5.3044 - mae: 5.3044\n",
            "Epoch 13/100\n",
            "1/1 [==============================] - 0s 10ms/step - loss: 4.4067 - mae: 4.4067\n",
            "Epoch 14/100\n",
            "1/1 [==============================] - 0s 15ms/step - loss: 4.2622 - mae: 4.2622\n",
            "Epoch 15/100\n",
            "1/1 [==============================] - 0s 12ms/step - loss: 4.1157 - mae: 4.1157\n",
            "Epoch 16/100\n",
            "1/1 [==============================] - 0s 11ms/step - loss: 4.1261 - mae: 4.1261\n",
            "Epoch 17/100\n",
            "1/1 [==============================] - 0s 10ms/step - loss: 4.0134 - mae: 4.0134\n",
            "Epoch 18/100\n",
            "1/1 [==============================] - 0s 9ms/step - loss: 4.0469 - mae: 4.0469\n",
            "Epoch 19/100\n",
            "1/1 [==============================] - 0s 10ms/step - loss: 3.9397 - mae: 3.9397\n",
            "Epoch 20/100\n",
            "1/1 [==============================] - 0s 10ms/step - loss: 3.9421 - mae: 3.9421\n",
            "Epoch 21/100\n",
            "1/1 [==============================] - 0s 10ms/step - loss: 3.9130 - mae: 3.9130\n",
            "Epoch 22/100\n",
            "1/1 [==============================] - 0s 10ms/step - loss: 3.9217 - mae: 3.9217\n",
            "Epoch 23/100\n",
            "1/1 [==============================] - 0s 10ms/step - loss: 3.9275 - mae: 3.9275\n",
            "Epoch 24/100\n",
            "1/1 [==============================] - 0s 10ms/step - loss: 3.8949 - mae: 3.8949\n",
            "Epoch 25/100\n",
            "1/1 [==============================] - 0s 10ms/step - loss: 3.9360 - mae: 3.9360\n",
            "Epoch 26/100\n",
            "1/1 [==============================] - 0s 11ms/step - loss: 3.8680 - mae: 3.8680\n",
            "Epoch 27/100\n",
            "1/1 [==============================] - 0s 10ms/step - loss: 3.9445 - mae: 3.9445\n",
            "Epoch 28/100\n",
            "1/1 [==============================] - 0s 9ms/step - loss: 3.8719 - mae: 3.8719\n",
            "Epoch 29/100\n",
            "1/1 [==============================] - 0s 12ms/step - loss: 3.9213 - mae: 3.9213\n",
            "Epoch 30/100\n",
            "1/1 [==============================] - 0s 10ms/step - loss: 3.8842 - mae: 3.8842\n",
            "Epoch 31/100\n",
            "1/1 [==============================] - 0s 10ms/step - loss: 3.9006 - mae: 3.9006\n",
            "Epoch 32/100\n",
            "1/1 [==============================] - 0s 14ms/step - loss: 3.8957 - mae: 3.8957\n",
            "Epoch 33/100\n",
            "1/1 [==============================] - 0s 10ms/step - loss: 3.8736 - mae: 3.8736\n",
            "Epoch 34/100\n",
            "1/1 [==============================] - 0s 9ms/step - loss: 3.9043 - mae: 3.9043\n",
            "Epoch 35/100\n",
            "1/1 [==============================] - 0s 11ms/step - loss: 3.8464 - mae: 3.8464\n",
            "Epoch 36/100\n",
            "1/1 [==============================] - 0s 10ms/step - loss: 3.9131 - mae: 3.9131\n",
            "Epoch 37/100\n",
            "1/1 [==============================] - 0s 10ms/step - loss: 3.8409 - mae: 3.8409\n",
            "Epoch 38/100\n",
            "1/1 [==============================] - 0s 10ms/step - loss: 3.9004 - mae: 3.9004\n",
            "Epoch 39/100\n",
            "1/1 [==============================] - 0s 10ms/step - loss: 3.8563 - mae: 3.8563\n",
            "Epoch 40/100\n",
            "1/1 [==============================] - 0s 10ms/step - loss: 3.8782 - mae: 3.8782\n",
            "Epoch 41/100\n",
            "1/1 [==============================] - 0s 10ms/step - loss: 3.8650 - mae: 3.8650\n",
            "Epoch 42/100\n",
            "1/1 [==============================] - 0s 11ms/step - loss: 3.8509 - mae: 3.8509\n",
            "Epoch 43/100\n",
            "1/1 [==============================] - 0s 10ms/step - loss: 3.8739 - mae: 3.8739\n",
            "Epoch 44/100\n",
            "1/1 [==============================] - 0s 10ms/step - loss: 3.8235 - mae: 3.8235\n",
            "Epoch 45/100\n",
            "1/1 [==============================] - 0s 11ms/step - loss: 3.8828 - mae: 3.8828\n",
            "Epoch 46/100\n",
            "1/1 [==============================] - 0s 12ms/step - loss: 3.8110 - mae: 3.8110\n",
            "Epoch 47/100\n",
            "1/1 [==============================] - 0s 10ms/step - loss: 3.8802 - mae: 3.8802\n",
            "Epoch 48/100\n",
            "1/1 [==============================] - 0s 10ms/step - loss: 3.8265 - mae: 3.8265\n",
            "Epoch 49/100\n",
            "1/1 [==============================] - 0s 10ms/step - loss: 3.8546 - mae: 3.8546\n",
            "Epoch 50/100\n",
            "1/1 [==============================] - 0s 11ms/step - loss: 3.8355 - mae: 3.8355\n",
            "Epoch 51/100\n",
            "1/1 [==============================] - 0s 10ms/step - loss: 3.8270 - mae: 3.8270\n",
            "Epoch 52/100\n",
            "1/1 [==============================] - 0s 11ms/step - loss: 3.8445 - mae: 3.8445\n",
            "Epoch 53/100\n",
            "1/1 [==============================] - 0s 11ms/step - loss: 3.7993 - mae: 3.7993\n",
            "Epoch 54/100\n",
            "1/1 [==============================] - 0s 9ms/step - loss: 3.8537 - mae: 3.8537\n",
            "Epoch 55/100\n",
            "1/1 [==============================] - 0s 9ms/step - loss: 3.7829 - mae: 3.7829\n",
            "Epoch 56/100\n",
            "1/1 [==============================] - 0s 9ms/step - loss: 3.8573 - mae: 3.8573\n",
            "Epoch 57/100\n",
            "1/1 [==============================] - 0s 9ms/step - loss: 3.7979 - mae: 3.7979\n",
            "Epoch 58/100\n",
            "1/1 [==============================] - 0s 10ms/step - loss: 3.8296 - mae: 3.8296\n",
            "Epoch 59/100\n",
            "1/1 [==============================] - 0s 9ms/step - loss: 3.8070 - mae: 3.8070\n",
            "Epoch 60/100\n",
            "1/1 [==============================] - 0s 10ms/step - loss: 3.8018 - mae: 3.8018\n",
            "Epoch 61/100\n",
            "1/1 [==============================] - 0s 9ms/step - loss: 3.8163 - mae: 3.8163\n",
            "Epoch 62/100\n",
            "1/1 [==============================] - 0s 9ms/step - loss: 3.7737 - mae: 3.7737\n",
            "Epoch 63/100\n",
            "1/1 [==============================] - 0s 9ms/step - loss: 3.8257 - mae: 3.8257\n",
            "Epoch 64/100\n",
            "1/1 [==============================] - 0s 9ms/step - loss: 3.7580 - mae: 3.7580\n",
            "Epoch 65/100\n",
            "1/1 [==============================] - 0s 9ms/step - loss: 3.8315 - mae: 3.8315\n",
            "Epoch 66/100\n",
            "1/1 [==============================] - 0s 9ms/step - loss: 3.7702 - mae: 3.7702\n",
            "Epoch 67/100\n",
            "1/1 [==============================] - 0s 10ms/step - loss: 3.8035 - mae: 3.8035\n",
            "Epoch 68/100\n",
            "1/1 [==============================] - 0s 10ms/step - loss: 3.7796 - mae: 3.7796\n",
            "Epoch 69/100\n",
            "1/1 [==============================] - 0s 10ms/step - loss: 3.7753 - mae: 3.7753\n",
            "Epoch 70/100\n",
            "1/1 [==============================] - 0s 9ms/step - loss: 3.7890 - mae: 3.7890\n",
            "Epoch 71/100\n",
            "1/1 [==============================] - 0s 9ms/step - loss: 3.7471 - mae: 3.7471\n",
            "Epoch 72/100\n",
            "1/1 [==============================] - 0s 13ms/step - loss: 3.7985 - mae: 3.7985\n",
            "Epoch 73/100\n",
            "1/1 [==============================] - 0s 9ms/step - loss: 3.7340 - mae: 3.7340\n",
            "Epoch 74/100\n",
            "1/1 [==============================] - 0s 10ms/step - loss: 3.8044 - mae: 3.8044\n",
            "Epoch 75/100\n",
            "1/1 [==============================] - 0s 14ms/step - loss: 3.7435 - mae: 3.7435\n",
            "Epoch 76/100\n",
            "1/1 [==============================] - 0s 9ms/step - loss: 3.7761 - mae: 3.7761\n",
            "Epoch 77/100\n",
            "1/1 [==============================] - 0s 9ms/step - loss: 3.7531 - mae: 3.7531\n",
            "Epoch 78/100\n",
            "1/1 [==============================] - 0s 11ms/step - loss: 3.7476 - mae: 3.7476\n",
            "Epoch 79/100\n",
            "1/1 [==============================] - 0s 11ms/step - loss: 3.7628 - mae: 3.7628\n",
            "Epoch 80/100\n",
            "1/1 [==============================] - 0s 10ms/step - loss: 3.7191 - mae: 3.7191\n",
            "Epoch 81/100\n",
            "1/1 [==============================] - 0s 10ms/step - loss: 3.7751 - mae: 3.7751\n",
            "Epoch 82/100\n",
            "1/1 [==============================] - 0s 11ms/step - loss: 3.7083 - mae: 3.7083\n",
            "Epoch 83/100\n",
            "1/1 [==============================] - 0s 12ms/step - loss: 3.7760 - mae: 3.7760\n",
            "Epoch 84/100\n",
            "1/1 [==============================] - 0s 12ms/step - loss: 3.7179 - mae: 3.7179\n",
            "Epoch 85/100\n",
            "1/1 [==============================] - 0s 11ms/step - loss: 3.7474 - mae: 3.7474\n",
            "Epoch 86/100\n",
            "1/1 [==============================] - 0s 14ms/step - loss: 3.7276 - mae: 3.7276\n",
            "Epoch 87/100\n",
            "1/1 [==============================] - 0s 11ms/step - loss: 3.7186 - mae: 3.7186\n",
            "Epoch 88/100\n",
            "1/1 [==============================] - 0s 10ms/step - loss: 3.7375 - mae: 3.7375\n",
            "Epoch 89/100\n",
            "1/1 [==============================] - 0s 11ms/step - loss: 3.6897 - mae: 3.6897\n",
            "Epoch 90/100\n",
            "1/1 [==============================] - 0s 9ms/step - loss: 3.7527 - mae: 3.7527\n",
            "Epoch 91/100\n",
            "1/1 [==============================] - 0s 9ms/step - loss: 3.6833 - mae: 3.6833\n",
            "Epoch 92/100\n",
            "1/1 [==============================] - 0s 9ms/step - loss: 3.7463 - mae: 3.7463\n",
            "Epoch 93/100\n",
            "1/1 [==============================] - 0s 9ms/step - loss: 3.6931 - mae: 3.6931\n",
            "Epoch 94/100\n",
            "1/1 [==============================] - 0s 9ms/step - loss: 3.7174 - mae: 3.7174\n",
            "Epoch 95/100\n",
            "1/1 [==============================] - 0s 10ms/step - loss: 3.7031 - mae: 3.7031\n",
            "Epoch 96/100\n",
            "1/1 [==============================] - 0s 10ms/step - loss: 3.6883 - mae: 3.6883\n",
            "Epoch 97/100\n",
            "1/1 [==============================] - 0s 10ms/step - loss: 3.7131 - mae: 3.7131\n",
            "Epoch 98/100\n",
            "1/1 [==============================] - 0s 10ms/step - loss: 3.6609 - mae: 3.6609\n",
            "Epoch 99/100\n",
            "1/1 [==============================] - 0s 11ms/step - loss: 3.7298 - mae: 3.7298\n",
            "Epoch 100/100\n",
            "1/1 [==============================] - 0s 10ms/step - loss: 3.6592 - mae: 3.6592\n"
          ]
        },
        {
          "output_type": "execute_result",
          "data": {
            "text/plain": [
              "<keras.callbacks.History at 0x7f9af0122140>"
            ]
          },
          "metadata": {},
          "execution_count": 12
        }
      ]
    },
    {
      "cell_type": "code",
      "source": [
        "y_pred=model.predict([17.0])\n",
        "y_pred"
      ],
      "metadata": {
        "colab": {
          "base_uri": "https://localhost:8080/"
        },
        "id": "aVqmj1_JBo6b",
        "outputId": "6b1bbf6d-166b-460d-fb9c-3b030f9cf686"
      },
      "execution_count": 13,
      "outputs": [
        {
          "output_type": "stream",
          "name": "stdout",
          "text": [
            "1/1 [==============================] - 0s 80ms/step\n"
          ]
        },
        {
          "output_type": "execute_result",
          "data": {
            "text/plain": [
              "array([[31.111338]], dtype=float32)"
            ]
          },
          "metadata": {},
          "execution_count": 13
        }
      ]
    },
    {
      "cell_type": "code",
      "source": [],
      "metadata": {
        "id": "j9DWF3upBrSl"
      },
      "execution_count": 13,
      "outputs": []
    },
    {
      "cell_type": "markdown",
      "source": [
        "## Common ways to improve a deep model(Go Step By Step):\n",
        "* Adding layers\n",
        "* Increase the number of hidden units\n",
        "* Change the activation functions\n",
        "* Change the optimization function\n",
        "* Change Learning rate(Most important hyperparamter to change)\n",
        "* Fitting on more data\n",
        "* Fittin longer"
      ],
      "metadata": {
        "id": "mlsPqCivGpR5"
      }
    },
    {
      "cell_type": "code",
      "source": [
        "# Rebuilding\n",
        "\n",
        "#1. Create a model\n",
        "model = tf.keras.Sequential([\n",
        "    tf.keras.layers.Dense(100, activation=None),\n",
        "    tf.keras.layers.Dense(1)\n",
        "])\n",
        "\n",
        "#2. Compile the model\n",
        "model.compile(loss=tf.keras.losses.mae,\n",
        "              optimizer=tf.keras.optimizers.Adam(lr=0.01),\n",
        "              metrics=[\"mae\"])\n",
        "\n",
        "# Fit the model\n",
        "model.fit(tf.expand_dims(X, axis=-1),y,epochs=100)"
      ],
      "metadata": {
        "colab": {
          "base_uri": "https://localhost:8080/"
        },
        "id": "PmyOErguB698",
        "outputId": "4a85754e-fcc2-49a1-e625-837d56c06343"
      },
      "execution_count": 14,
      "outputs": [
        {
          "output_type": "stream",
          "name": "stderr",
          "text": [
            "WARNING:absl:`lr` is deprecated in Keras optimizer, please use `learning_rate` or use the legacy optimizer, e.g.,tf.keras.optimizers.legacy.Adam.\n"
          ]
        },
        {
          "output_type": "stream",
          "name": "stdout",
          "text": [
            "Epoch 1/100\n",
            "1/1 [==============================] - 1s 961ms/step - loss: 12.0025 - mae: 12.0025\n",
            "Epoch 2/100\n",
            "1/1 [==============================] - 0s 16ms/step - loss: 11.8974 - mae: 11.8974\n",
            "Epoch 3/100\n",
            "1/1 [==============================] - 0s 12ms/step - loss: 11.7921 - mae: 11.7921\n",
            "Epoch 4/100\n",
            "1/1 [==============================] - 0s 24ms/step - loss: 11.6867 - mae: 11.6867\n",
            "Epoch 5/100\n",
            "1/1 [==============================] - 0s 20ms/step - loss: 11.5812 - mae: 11.5812\n",
            "Epoch 6/100\n",
            "1/1 [==============================] - 0s 22ms/step - loss: 11.4756 - mae: 11.4756\n",
            "Epoch 7/100\n",
            "1/1 [==============================] - 0s 43ms/step - loss: 11.3698 - mae: 11.3698\n",
            "Epoch 8/100\n",
            "1/1 [==============================] - 0s 19ms/step - loss: 11.2638 - mae: 11.2638\n",
            "Epoch 9/100\n",
            "1/1 [==============================] - 0s 21ms/step - loss: 11.1577 - mae: 11.1577\n",
            "Epoch 10/100\n",
            "1/1 [==============================] - 0s 25ms/step - loss: 11.0514 - mae: 11.0514\n",
            "Epoch 11/100\n",
            "1/1 [==============================] - 0s 26ms/step - loss: 10.9449 - mae: 10.9449\n",
            "Epoch 12/100\n",
            "1/1 [==============================] - 0s 17ms/step - loss: 10.8382 - mae: 10.8382\n",
            "Epoch 13/100\n",
            "1/1 [==============================] - 0s 18ms/step - loss: 10.7313 - mae: 10.7313\n",
            "Epoch 14/100\n",
            "1/1 [==============================] - 0s 21ms/step - loss: 10.6241 - mae: 10.6241\n",
            "Epoch 15/100\n",
            "1/1 [==============================] - 0s 20ms/step - loss: 10.5166 - mae: 10.5166\n",
            "Epoch 16/100\n",
            "1/1 [==============================] - 0s 11ms/step - loss: 10.4088 - mae: 10.4088\n",
            "Epoch 17/100\n",
            "1/1 [==============================] - 0s 20ms/step - loss: 10.3007 - mae: 10.3007\n",
            "Epoch 18/100\n",
            "1/1 [==============================] - 0s 35ms/step - loss: 10.1922 - mae: 10.1922\n",
            "Epoch 19/100\n",
            "1/1 [==============================] - 0s 22ms/step - loss: 10.0834 - mae: 10.0834\n",
            "Epoch 20/100\n",
            "1/1 [==============================] - 0s 22ms/step - loss: 9.9742 - mae: 9.9742\n",
            "Epoch 21/100\n",
            "1/1 [==============================] - 0s 36ms/step - loss: 9.8646 - mae: 9.8646\n",
            "Epoch 22/100\n",
            "1/1 [==============================] - 0s 27ms/step - loss: 9.7546 - mae: 9.7546\n",
            "Epoch 23/100\n",
            "1/1 [==============================] - 0s 26ms/step - loss: 9.6442 - mae: 9.6442\n",
            "Epoch 24/100\n",
            "1/1 [==============================] - 0s 25ms/step - loss: 9.5333 - mae: 9.5333\n",
            "Epoch 25/100\n",
            "1/1 [==============================] - 0s 17ms/step - loss: 9.4219 - mae: 9.4219\n",
            "Epoch 26/100\n",
            "1/1 [==============================] - 0s 22ms/step - loss: 9.3101 - mae: 9.3101\n",
            "Epoch 27/100\n",
            "1/1 [==============================] - 0s 26ms/step - loss: 9.1978 - mae: 9.1978\n",
            "Epoch 28/100\n",
            "1/1 [==============================] - 0s 24ms/step - loss: 9.0849 - mae: 9.0849\n",
            "Epoch 29/100\n",
            "1/1 [==============================] - 0s 22ms/step - loss: 8.9715 - mae: 8.9715\n",
            "Epoch 30/100\n",
            "1/1 [==============================] - 0s 25ms/step - loss: 8.8576 - mae: 8.8576\n",
            "Epoch 31/100\n",
            "1/1 [==============================] - 0s 14ms/step - loss: 8.7430 - mae: 8.7430\n",
            "Epoch 32/100\n",
            "1/1 [==============================] - 0s 19ms/step - loss: 8.6279 - mae: 8.6279\n",
            "Epoch 33/100\n",
            "1/1 [==============================] - 0s 31ms/step - loss: 8.5122 - mae: 8.5122\n",
            "Epoch 34/100\n",
            "1/1 [==============================] - 0s 16ms/step - loss: 8.3958 - mae: 8.3958\n",
            "Epoch 35/100\n",
            "1/1 [==============================] - 0s 14ms/step - loss: 8.2788 - mae: 8.2788\n",
            "Epoch 36/100\n",
            "1/1 [==============================] - 0s 12ms/step - loss: 8.1612 - mae: 8.1612\n",
            "Epoch 37/100\n",
            "1/1 [==============================] - 0s 11ms/step - loss: 8.0428 - mae: 8.0428\n",
            "Epoch 38/100\n",
            "1/1 [==============================] - 0s 13ms/step - loss: 7.9238 - mae: 7.9238\n",
            "Epoch 39/100\n",
            "1/1 [==============================] - 0s 14ms/step - loss: 7.8040 - mae: 7.8040\n",
            "Epoch 40/100\n",
            "1/1 [==============================] - 0s 24ms/step - loss: 7.6836 - mae: 7.6836\n",
            "Epoch 41/100\n",
            "1/1 [==============================] - 0s 13ms/step - loss: 7.5623 - mae: 7.5623\n",
            "Epoch 42/100\n",
            "1/1 [==============================] - 0s 22ms/step - loss: 7.4403 - mae: 7.4403\n",
            "Epoch 43/100\n",
            "1/1 [==============================] - 0s 16ms/step - loss: 7.3175 - mae: 7.3175\n",
            "Epoch 44/100\n",
            "1/1 [==============================] - 0s 11ms/step - loss: 7.1940 - mae: 7.1940\n",
            "Epoch 45/100\n",
            "1/1 [==============================] - 0s 19ms/step - loss: 7.0696 - mae: 7.0696\n",
            "Epoch 46/100\n",
            "1/1 [==============================] - 0s 17ms/step - loss: 6.9583 - mae: 6.9583\n",
            "Epoch 47/100\n",
            "1/1 [==============================] - 0s 32ms/step - loss: 6.9443 - mae: 6.9443\n",
            "Epoch 48/100\n",
            "1/1 [==============================] - 0s 18ms/step - loss: 6.9305 - mae: 6.9305\n",
            "Epoch 49/100\n",
            "1/1 [==============================] - 0s 15ms/step - loss: 6.9170 - mae: 6.9170\n",
            "Epoch 50/100\n",
            "1/1 [==============================] - 0s 14ms/step - loss: 6.9036 - mae: 6.9036\n",
            "Epoch 51/100\n",
            "1/1 [==============================] - 0s 16ms/step - loss: 6.8904 - mae: 6.8904\n",
            "Epoch 52/100\n",
            "1/1 [==============================] - 0s 19ms/step - loss: 6.8773 - mae: 6.8773\n",
            "Epoch 53/100\n",
            "1/1 [==============================] - 0s 18ms/step - loss: 6.8643 - mae: 6.8643\n",
            "Epoch 54/100\n",
            "1/1 [==============================] - 0s 14ms/step - loss: 6.8577 - mae: 6.8577\n",
            "Epoch 55/100\n",
            "1/1 [==============================] - 0s 17ms/step - loss: 6.8789 - mae: 6.8789\n",
            "Epoch 56/100\n",
            "1/1 [==============================] - 0s 13ms/step - loss: 6.8900 - mae: 6.8900\n",
            "Epoch 57/100\n",
            "1/1 [==============================] - 0s 15ms/step - loss: 6.8919 - mae: 6.8919\n",
            "Epoch 58/100\n",
            "1/1 [==============================] - 0s 18ms/step - loss: 6.8856 - mae: 6.8856\n",
            "Epoch 59/100\n",
            "1/1 [==============================] - 0s 22ms/step - loss: 6.8719 - mae: 6.8719\n",
            "Epoch 60/100\n",
            "1/1 [==============================] - 0s 35ms/step - loss: 6.8515 - mae: 6.8515\n",
            "Epoch 61/100\n",
            "1/1 [==============================] - 0s 10ms/step - loss: 6.8251 - mae: 6.8251\n",
            "Epoch 62/100\n",
            "1/1 [==============================] - 0s 50ms/step - loss: 6.7934 - mae: 6.7934\n",
            "Epoch 63/100\n",
            "1/1 [==============================] - 0s 29ms/step - loss: 6.7595 - mae: 6.7595\n",
            "Epoch 64/100\n",
            "1/1 [==============================] - 0s 44ms/step - loss: 6.7506 - mae: 6.7506\n",
            "Epoch 65/100\n",
            "1/1 [==============================] - 0s 25ms/step - loss: 6.7414 - mae: 6.7414\n",
            "Epoch 66/100\n",
            "1/1 [==============================] - 0s 20ms/step - loss: 6.7320 - mae: 6.7320\n",
            "Epoch 67/100\n",
            "1/1 [==============================] - 0s 19ms/step - loss: 6.7222 - mae: 6.7222\n",
            "Epoch 68/100\n",
            "1/1 [==============================] - 0s 28ms/step - loss: 6.7123 - mae: 6.7123\n",
            "Epoch 69/100\n",
            "1/1 [==============================] - 0s 29ms/step - loss: 6.7021 - mae: 6.7021\n",
            "Epoch 70/100\n",
            "1/1 [==============================] - 0s 19ms/step - loss: 6.6918 - mae: 6.6918\n",
            "Epoch 71/100\n",
            "1/1 [==============================] - 0s 27ms/step - loss: 6.6813 - mae: 6.6813\n",
            "Epoch 72/100\n",
            "1/1 [==============================] - 0s 24ms/step - loss: 6.6705 - mae: 6.6705\n",
            "Epoch 73/100\n",
            "1/1 [==============================] - 0s 25ms/step - loss: 6.6597 - mae: 6.6597\n",
            "Epoch 74/100\n",
            "1/1 [==============================] - 0s 11ms/step - loss: 6.6486 - mae: 6.6486\n",
            "Epoch 75/100\n",
            "1/1 [==============================] - 0s 24ms/step - loss: 6.6374 - mae: 6.6374\n",
            "Epoch 76/100\n",
            "1/1 [==============================] - 0s 22ms/step - loss: 6.6261 - mae: 6.6261\n",
            "Epoch 77/100\n",
            "1/1 [==============================] - 0s 30ms/step - loss: 6.6147 - mae: 6.6147\n",
            "Epoch 78/100\n",
            "1/1 [==============================] - 0s 18ms/step - loss: 6.6031 - mae: 6.6031\n",
            "Epoch 79/100\n",
            "1/1 [==============================] - 0s 21ms/step - loss: 6.5914 - mae: 6.5914\n",
            "Epoch 80/100\n",
            "1/1 [==============================] - 0s 25ms/step - loss: 6.5795 - mae: 6.5795\n",
            "Epoch 81/100\n",
            "1/1 [==============================] - 0s 24ms/step - loss: 6.5676 - mae: 6.5676\n",
            "Epoch 82/100\n",
            "1/1 [==============================] - 0s 19ms/step - loss: 6.5555 - mae: 6.5555\n",
            "Epoch 83/100\n",
            "1/1 [==============================] - 0s 28ms/step - loss: 6.5434 - mae: 6.5434\n",
            "Epoch 84/100\n",
            "1/1 [==============================] - 0s 24ms/step - loss: 6.5311 - mae: 6.5311\n",
            "Epoch 85/100\n",
            "1/1 [==============================] - 0s 19ms/step - loss: 6.5187 - mae: 6.5187\n",
            "Epoch 86/100\n",
            "1/1 [==============================] - 0s 23ms/step - loss: 6.5062 - mae: 6.5062\n",
            "Epoch 87/100\n",
            "1/1 [==============================] - 0s 26ms/step - loss: 6.4936 - mae: 6.4936\n",
            "Epoch 88/100\n",
            "1/1 [==============================] - 0s 25ms/step - loss: 6.4810 - mae: 6.4810\n",
            "Epoch 89/100\n",
            "1/1 [==============================] - 0s 42ms/step - loss: 6.4682 - mae: 6.4682\n",
            "Epoch 90/100\n",
            "1/1 [==============================] - 0s 34ms/step - loss: 6.4553 - mae: 6.4553\n",
            "Epoch 91/100\n",
            "1/1 [==============================] - 0s 33ms/step - loss: 6.4423 - mae: 6.4423\n",
            "Epoch 92/100\n",
            "1/1 [==============================] - 0s 23ms/step - loss: 6.4292 - mae: 6.4292\n",
            "Epoch 93/100\n",
            "1/1 [==============================] - 0s 20ms/step - loss: 6.4160 - mae: 6.4160\n",
            "Epoch 94/100\n",
            "1/1 [==============================] - 0s 17ms/step - loss: 6.4027 - mae: 6.4027\n",
            "Epoch 95/100\n",
            "1/1 [==============================] - 0s 21ms/step - loss: 6.3893 - mae: 6.3893\n",
            "Epoch 96/100\n",
            "1/1 [==============================] - 0s 22ms/step - loss: 6.3758 - mae: 6.3758\n",
            "Epoch 97/100\n",
            "1/1 [==============================] - 0s 25ms/step - loss: 6.3623 - mae: 6.3623\n",
            "Epoch 98/100\n",
            "1/1 [==============================] - 0s 22ms/step - loss: 6.3486 - mae: 6.3486\n",
            "Epoch 99/100\n",
            "1/1 [==============================] - 0s 25ms/step - loss: 6.3348 - mae: 6.3348\n",
            "Epoch 100/100\n",
            "1/1 [==============================] - 0s 21ms/step - loss: 6.3209 - mae: 6.3209\n"
          ]
        },
        {
          "output_type": "execute_result",
          "data": {
            "text/plain": [
              "<keras.callbacks.History at 0x7f9ae071b880>"
            ]
          },
          "metadata": {},
          "execution_count": 14
        }
      ]
    },
    {
      "cell_type": "code",
      "source": [
        "y_pred=model.predict([11.])\n",
        "y_pred"
      ],
      "metadata": {
        "colab": {
          "base_uri": "https://localhost:8080/"
        },
        "id": "U1iTi82pHhgO",
        "outputId": "5f943381-4532-4b86-8761-04d9c30b49f1"
      },
      "execution_count": 15,
      "outputs": [
        {
          "output_type": "stream",
          "name": "stdout",
          "text": [
            "1/1 [==============================] - 0s 162ms/step\n"
          ]
        },
        {
          "output_type": "execute_result",
          "data": {
            "text/plain": [
              "array([[20.824976]], dtype=float32)"
            ]
          },
          "metadata": {},
          "execution_count": 15
        }
      ]
    },
    {
      "cell_type": "markdown",
      "source": [
        "## Evaluating Model\n",
        "\n",
        "Typical workflow when building a neural network\n",
        "\n",
        "`Build a model -> fit it-> evaluate it ->tweak the model-> fit it-> evaluate it ->tweak the model-> fit it-> evaluate it ->tweak the model....`\n"
      ],
      "metadata": {
        "id": "Gpo5Xdw6JdIf"
      }
    },
    {
      "cell_type": "markdown",
      "source": [
        "When evaluating a model, there are 3 words that one must know:\n",
        ">\"Visualize, Visualize and Visualize\"\n",
        "\n",
        "It is a good idea to visualize:\n",
        "* The data- what data are we working with? What does it look like?\n",
        "* The model itself- what does our model look like?\n",
        "* The training of model- how does a model perform while it learns?\n",
        "* The predictions of the model- how do the predictions of the model line up/ how correct are the predictions?\n"
      ],
      "metadata": {
        "id": "TgHzgfc6Ke0f"
      }
    },
    {
      "cell_type": "code",
      "source": [
        "# Making bigger dataset\n",
        "X = tf.range(-100,100,4)\n",
        "X"
      ],
      "metadata": {
        "colab": {
          "base_uri": "https://localhost:8080/"
        },
        "id": "A-cc68rIHrTd",
        "outputId": "7fc9f4c7-29a1-46fd-adaa-c457a104d9c9"
      },
      "execution_count": 16,
      "outputs": [
        {
          "output_type": "execute_result",
          "data": {
            "text/plain": [
              "<tf.Tensor: shape=(50,), dtype=int32, numpy=\n",
              "array([-100,  -96,  -92,  -88,  -84,  -80,  -76,  -72,  -68,  -64,  -60,\n",
              "        -56,  -52,  -48,  -44,  -40,  -36,  -32,  -28,  -24,  -20,  -16,\n",
              "        -12,   -8,   -4,    0,    4,    8,   12,   16,   20,   24,   28,\n",
              "         32,   36,   40,   44,   48,   52,   56,   60,   64,   68,   72,\n",
              "         76,   80,   84,   88,   92,   96], dtype=int32)>"
            ]
          },
          "metadata": {},
          "execution_count": 16
        }
      ]
    },
    {
      "cell_type": "code",
      "source": [
        "y = X+10\n",
        "y"
      ],
      "metadata": {
        "colab": {
          "base_uri": "https://localhost:8080/"
        },
        "id": "BPEeObBELqjG",
        "outputId": "5f51dc69-3f38-42f0-aa91-3bab025b2f6c"
      },
      "execution_count": 17,
      "outputs": [
        {
          "output_type": "execute_result",
          "data": {
            "text/plain": [
              "<tf.Tensor: shape=(50,), dtype=int32, numpy=\n",
              "array([-90, -86, -82, -78, -74, -70, -66, -62, -58, -54, -50, -46, -42,\n",
              "       -38, -34, -30, -26, -22, -18, -14, -10,  -6,  -2,   2,   6,  10,\n",
              "        14,  18,  22,  26,  30,  34,  38,  42,  46,  50,  54,  58,  62,\n",
              "        66,  70,  74,  78,  82,  86,  90,  94,  98, 102, 106], dtype=int32)>"
            ]
          },
          "metadata": {},
          "execution_count": 17
        }
      ]
    },
    {
      "cell_type": "code",
      "source": [
        "# Visualize data\n",
        "plt.scatter(X,y)"
      ],
      "metadata": {
        "colab": {
          "base_uri": "https://localhost:8080/",
          "height": 448
        },
        "id": "Tjs5Wb_uMFBZ",
        "outputId": "070bed0e-710c-4bd7-f5d9-d8b64c653232"
      },
      "execution_count": 18,
      "outputs": [
        {
          "output_type": "execute_result",
          "data": {
            "text/plain": [
              "<matplotlib.collections.PathCollection at 0x7f9ae1756440>"
            ]
          },
          "metadata": {},
          "execution_count": 18
        },
        {
          "output_type": "display_data",
          "data": {
            "text/plain": [
              "<Figure size 640x480 with 1 Axes>"
            ],
            "image/png": "[encoded data removed]"
          },
          "metadata": {}
        }
      ]
    },
    {
      "cell_type": "markdown",
      "source": [
        "## The 3 sets...\n",
        "* Training Set\n",
        "* Validation Set\n",
        "* Test Set"
      ],
      "metadata": {
        "id": "Xb2GDXf1LezB"
      }
    },
    {
      "cell_type": "code",
      "source": [
        "# Length of Samples\n",
        "len(X)"
      ],
      "metadata": {
        "colab": {
          "base_uri": "https://localhost:8080/"
        },
        "id": "aO3oAibEMNd0",
        "outputId": "5ba46f80-92db-47ac-b7f4-53fa2f9bab54"
      },
      "execution_count": 19,
      "outputs": [
        {
          "output_type": "execute_result",
          "data": {
            "text/plain": [
              "50"
            ]
          },
          "metadata": {},
          "execution_count": 19
        }
      ]
    },
    {
      "cell_type": "code",
      "source": [
        "# Split data\n",
        "X_train = X[:40]\n",
        "y_train = y[:40]\n",
        "X_test = X[40:]\n",
        "y_test = y[40:]\n",
        "len(X_train), len(X_test), len(y_train), len(y_test)"
      ],
      "metadata": {
        "colab": {
          "base_uri": "https://localhost:8080/"
        },
        "id": "WyOZXG6ILUfG",
        "outputId": "76f1fd2d-1990-4b92-a16a-00bd1d32edb5"
      },
      "execution_count": 52,
      "outputs": [
        {
          "output_type": "execute_result",
          "data": {
            "text/plain": [
              "(40, 10, 40, 10)"
            ]
          },
          "metadata": {},
          "execution_count": 52
        }
      ]
    },
    {
      "cell_type": "markdown",
      "source": [
        "### Visualizing the data\n",
        "\n",
        "Visualise training and testing data"
      ],
      "metadata": {
        "id": "vGdSdS5IMiLx"
      }
    },
    {
      "cell_type": "code",
      "source": [
        "plt.figure(figsize=(10,7))\n",
        "plt.scatter(X_train, y_train, c=\"b\", label=\"Training data\")\n",
        "plt.scatter(X_test, y_test, c=\"g\", label=\"Testing data\")\n",
        "plt.legend();"
      ],
      "metadata": {
        "colab": {
          "base_uri": "https://localhost:8080/",
          "height": 599
        },
        "id": "F5l1J5byMZqw",
        "outputId": "ad7ea588-c00c-459a-97ae-1ac1b187ac8e"
      },
      "execution_count": 21,
      "outputs": [
        {
          "output_type": "display_data",
          "data": {
            "text/plain": [
              "<Figure size 1000x700 with 1 Axes>"
            ],
            "image/png": "[encoded data removed]"
          },
          "metadata": {}
        }
      ]
    },
    {
      "cell_type": "code",
      "source": [
        "# Building Neural network\n",
        "\n",
        "#1. Create a model\n",
        "model = tf.keras.Sequential([\n",
        "    #tf.keras.layers.Dense(100, activation=None),\n",
        "    tf.keras.layers.Dense(1)\n",
        "])\n",
        "\n",
        "#2. Compile the model\n",
        "model.compile(loss=tf.keras.losses.mae,\n",
        "              optimizer=tf.keras.optimizers.SGD(),#Adam(lr=0.01),\n",
        "              metrics=[\"mae\"])\n",
        "\n",
        "# Fit the model\n",
        "#model.fit(tf.expand_dims(X_train, axis=-1),y_train,epochs=100)"
      ],
      "metadata": {
        "id": "vB2PUO3ANGDI"
      },
      "execution_count": 22,
      "outputs": []
    },
    {
      "cell_type": "code",
      "source": [
        "# Create a model which builds automatically by defining the input_shape argument\n",
        "#1. Create a model\n",
        "model = tf.keras.Sequential([\n",
        "    #tf.keras.layers.Dense(100, activation=None),\n",
        "    tf.keras.layers.Dense(1,input_shape=[1])\n",
        "])\n",
        "\n",
        "#2. Compile the model\n",
        "model.compile(loss=tf.keras.losses.mae,\n",
        "              optimizer=tf.keras.optimizers.SGD(),#Adam(lr=0.01),\n",
        "              metrics=[\"mae\"])"
      ],
      "metadata": {
        "id": "5k-REBVIOQSp"
      },
      "execution_count": 23,
      "outputs": []
    },
    {
      "cell_type": "code",
      "source": [
        "model.summary()"
      ],
      "metadata": {
        "colab": {
          "base_uri": "https://localhost:8080/"
        },
        "id": "ImVqJr9icqEB",
        "outputId": "888d6672-88ec-4848-891c-ece3bd87dea0"
      },
      "execution_count": 24,
      "outputs": [
        {
          "output_type": "stream",
          "name": "stdout",
          "text": [
            "Model: \"sequential_5\"\n",
            "_________________________________________________________________\n",
            " Layer (type)                Output Shape              Param #   \n",
            "=================================================================\n",
            " dense_7 (Dense)             (None, 1)                 2         \n",
            "                                                                 \n",
            "=================================================================\n",
            "Total params: 2\n",
            "Trainable params: 2\n",
            "Non-trainable params: 0\n",
            "_________________________________________________________________\n"
          ]
        }
      ]
    },
    {
      "cell_type": "markdown",
      "source": [
        "* Total params: total number of params in model.\n",
        "* Trainable params: params(patterns) the model can update as it trains.\n",
        "* Non-trainable params: these parameters aren't updated during training (this is typical when you bring already learnt patterns or parameters from other models during **transfer learning**)"
      ],
      "metadata": {
        "id": "Hx7dcbrec_64"
      }
    },
    {
      "cell_type": "code",
      "source": [
        "model.fit(X_train,y_train,epochs=100,verbose=0)"
      ],
      "metadata": {
        "colab": {
          "base_uri": "https://localhost:8080/"
        },
        "id": "55lH1Cjacsnc",
        "outputId": "99dbabcc-1c90-4ef7-d681-1d3fee3f131d"
      },
      "execution_count": 25,
      "outputs": [
        {
          "output_type": "execute_result",
          "data": {
            "text/plain": [
              "<keras.callbacks.History at 0x7f9ae2f6e530>"
            ]
          },
          "metadata": {},
          "execution_count": 25
        }
      ]
    },
    {
      "cell_type": "code",
      "source": [
        "model.summary()"
      ],
      "metadata": {
        "colab": {
          "base_uri": "https://localhost:8080/"
        },
        "id": "X_CLVfrlNqiu",
        "outputId": "40646874-792b-45e4-eb02-1d2d90621ba9"
      },
      "execution_count": 26,
      "outputs": [
        {
          "output_type": "stream",
          "name": "stdout",
          "text": [
            "Model: \"sequential_5\"\n",
            "_________________________________________________________________\n",
            " Layer (type)                Output Shape              Param #   \n",
            "=================================================================\n",
            " dense_7 (Dense)             (None, 1)                 2         \n",
            "                                                                 \n",
            "=================================================================\n",
            "Total params: 2\n",
            "Trainable params: 2\n",
            "Non-trainable params: 0\n",
            "_________________________________________________________________\n"
          ]
        }
      ]
    },
    {
      "cell_type": "code",
      "source": [
        "# Create a model which builds automatically by defining the input_shape argument\n",
        "#1. Create a model\n",
        "model = tf.keras.Sequential([\n",
        "    #tf.keras.layers.Dense(100, activation=None),\n",
        "    tf.keras.layers.Dense(10,input_shape=[1],name=\"input_layer\"),\n",
        "    tf.keras.layers.Dense(1,name='output_layer')\n",
        "],name='model_1')\n",
        "\n",
        "#2. Compile the model\n",
        "model.compile(loss=tf.keras.losses.mae,\n",
        "              optimizer=tf.keras.optimizers.SGD(),#Adam(lr=0.001),\n",
        "              metrics=[\"mae\"])"
      ],
      "metadata": {
        "id": "vGwsGWlHN0ra"
      },
      "execution_count": 40,
      "outputs": []
    },
    {
      "cell_type": "code",
      "source": [
        "model.fit(X_train,y_train,epochs=100,verbose=1)"
      ],
      "metadata": {
        "colab": {
          "base_uri": "https://localhost:8080/"
        },
        "id": "rBdZMY05PSab",
        "outputId": "f30aec8c-0e28-4e9f-a808-5e388d79e4f1"
      },
      "execution_count": 41,
      "outputs": [
        {
          "output_type": "stream",
          "name": "stdout",
          "text": [
            "Epoch 1/100\n",
            "2/2 [==============================] - 1s 11ms/step - loss: 82.8735 - mae: 82.8735\n",
            "Epoch 2/100\n",
            "2/2 [==============================] - 0s 14ms/step - loss: 11.4983 - mae: 11.4983\n",
            "Epoch 3/100\n",
            "2/2 [==============================] - 0s 13ms/step - loss: 29.5809 - mae: 29.5809\n",
            "Epoch 4/100\n",
            "2/2 [==============================] - 0s 15ms/step - loss: 13.9697 - mae: 13.9697\n",
            "Epoch 5/100\n",
            "2/2 [==============================] - 0s 16ms/step - loss: 15.5020 - mae: 15.5020\n",
            "Epoch 6/100\n",
            "2/2 [==============================] - 0s 8ms/step - loss: 12.2985 - mae: 12.2985\n",
            "Epoch 7/100\n",
            "2/2 [==============================] - 0s 9ms/step - loss: 11.5827 - mae: 11.5827\n",
            "Epoch 8/100\n",
            "2/2 [==============================] - 0s 9ms/step - loss: 11.2416 - mae: 11.2416\n",
            "Epoch 9/100\n",
            "2/2 [==============================] - 0s 12ms/step - loss: 42.2862 - mae: 42.2862\n",
            "Epoch 10/100\n",
            "2/2 [==============================] - 0s 12ms/step - loss: 29.4479 - mae: 29.4479\n",
            "Epoch 11/100\n",
            "2/2 [==============================] - 0s 12ms/step - loss: 7.7089 - mae: 7.7089\n",
            "Epoch 12/100\n",
            "2/2 [==============================] - 0s 12ms/step - loss: 28.5640 - mae: 28.5640\n",
            "Epoch 13/100\n",
            "2/2 [==============================] - 0s 8ms/step - loss: 11.5004 - mae: 11.5004\n",
            "Epoch 14/100\n",
            "2/2 [==============================] - 0s 7ms/step - loss: 30.2448 - mae: 30.2448\n",
            "Epoch 15/100\n",
            "2/2 [==============================] - 0s 8ms/step - loss: 20.0093 - mae: 20.0093\n",
            "Epoch 16/100\n",
            "2/2 [==============================] - 0s 7ms/step - loss: 9.9160 - mae: 9.9160\n",
            "Epoch 17/100\n",
            "2/2 [==============================] - 0s 8ms/step - loss: 17.8489 - mae: 17.8489\n",
            "Epoch 18/100\n",
            "2/2 [==============================] - 0s 8ms/step - loss: 14.3279 - mae: 14.3279\n",
            "Epoch 19/100\n",
            "2/2 [==============================] - 0s 8ms/step - loss: 14.4322 - mae: 14.4322\n",
            "Epoch 20/100\n",
            "2/2 [==============================] - 0s 8ms/step - loss: 10.4608 - mae: 10.4608\n",
            "Epoch 21/100\n",
            "2/2 [==============================] - 0s 10ms/step - loss: 15.2145 - mae: 15.2145\n",
            "Epoch 22/100\n",
            "2/2 [==============================] - 0s 8ms/step - loss: 15.5544 - mae: 15.5544\n",
            "Epoch 23/100\n",
            "2/2 [==============================] - 0s 9ms/step - loss: 9.2334 - mae: 9.2334\n",
            "Epoch 24/100\n",
            "2/2 [==============================] - 0s 7ms/step - loss: 17.2460 - mae: 17.2460\n",
            "Epoch 25/100\n",
            "2/2 [==============================] - 0s 8ms/step - loss: 15.9243 - mae: 15.9243\n",
            "Epoch 26/100\n",
            "2/2 [==============================] - 0s 9ms/step - loss: 20.8985 - mae: 20.8985\n",
            "Epoch 27/100\n",
            "2/2 [==============================] - 0s 7ms/step - loss: 26.0340 - mae: 26.0340\n",
            "Epoch 28/100\n",
            "2/2 [==============================] - 0s 8ms/step - loss: 18.5224 - mae: 18.5224\n",
            "Epoch 29/100\n",
            "2/2 [==============================] - 0s 9ms/step - loss: 9.2414 - mae: 9.2414\n",
            "Epoch 30/100\n",
            "2/2 [==============================] - 0s 7ms/step - loss: 29.1452 - mae: 29.1452\n",
            "Epoch 31/100\n",
            "2/2 [==============================] - 0s 9ms/step - loss: 52.7939 - mae: 52.7939\n",
            "Epoch 32/100\n",
            "2/2 [==============================] - 0s 7ms/step - loss: 11.9470 - mae: 11.9470\n",
            "Epoch 33/100\n",
            "2/2 [==============================] - 0s 7ms/step - loss: 15.5578 - mae: 15.5578\n",
            "Epoch 34/100\n",
            "2/2 [==============================] - 0s 18ms/step - loss: 12.6379 - mae: 12.6379\n",
            "Epoch 35/100\n",
            "2/2 [==============================] - 0s 9ms/step - loss: 9.2145 - mae: 9.2145\n",
            "Epoch 36/100\n",
            "2/2 [==============================] - 0s 7ms/step - loss: 16.5575 - mae: 16.5575\n",
            "Epoch 37/100\n",
            "2/2 [==============================] - 0s 12ms/step - loss: 11.0613 - mae: 11.0613\n",
            "Epoch 38/100\n",
            "2/2 [==============================] - 0s 13ms/step - loss: 18.1885 - mae: 18.1885\n",
            "Epoch 39/100\n",
            "2/2 [==============================] - 0s 8ms/step - loss: 19.1231 - mae: 19.1231\n",
            "Epoch 40/100\n",
            "2/2 [==============================] - 0s 8ms/step - loss: 20.4719 - mae: 20.4719\n",
            "Epoch 41/100\n",
            "2/2 [==============================] - 0s 8ms/step - loss: 14.8574 - mae: 14.8574\n",
            "Epoch 42/100\n",
            "2/2 [==============================] - 0s 10ms/step - loss: 12.2415 - mae: 12.2415\n",
            "Epoch 43/100\n",
            "2/2 [==============================] - 0s 7ms/step - loss: 10.7108 - mae: 10.7108\n",
            "Epoch 44/100\n",
            "2/2 [==============================] - 0s 8ms/step - loss: 22.9269 - mae: 22.9269\n",
            "Epoch 45/100\n",
            "2/2 [==============================] - 0s 7ms/step - loss: 10.3587 - mae: 10.3587\n",
            "Epoch 46/100\n",
            "2/2 [==============================] - 0s 7ms/step - loss: 11.7460 - mae: 11.7460\n",
            "Epoch 47/100\n",
            "2/2 [==============================] - 0s 8ms/step - loss: 9.6586 - mae: 9.6586\n",
            "Epoch 48/100\n",
            "2/2 [==============================] - 0s 7ms/step - loss: 17.2673 - mae: 17.2673\n",
            "Epoch 49/100\n",
            "2/2 [==============================] - 0s 7ms/step - loss: 9.5478 - mae: 9.5478\n",
            "Epoch 50/100\n",
            "2/2 [==============================] - 0s 7ms/step - loss: 13.7761 - mae: 13.7761\n",
            "Epoch 51/100\n",
            "2/2 [==============================] - 0s 7ms/step - loss: 11.5784 - mae: 11.5784\n",
            "Epoch 52/100\n",
            "2/2 [==============================] - 0s 7ms/step - loss: 30.4589 - mae: 30.4589\n",
            "Epoch 53/100\n",
            "2/2 [==============================] - 0s 7ms/step - loss: 14.3113 - mae: 14.3113\n",
            "Epoch 54/100\n",
            "2/2 [==============================] - 0s 7ms/step - loss: 23.8980 - mae: 23.8980\n",
            "Epoch 55/100\n",
            "2/2 [==============================] - 0s 8ms/step - loss: 23.1137 - mae: 23.1137\n",
            "Epoch 56/100\n",
            "2/2 [==============================] - 0s 8ms/step - loss: 10.8564 - mae: 10.8564\n",
            "Epoch 57/100\n",
            "2/2 [==============================] - 0s 7ms/step - loss: 12.7093 - mae: 12.7093\n",
            "Epoch 58/100\n",
            "2/2 [==============================] - 0s 7ms/step - loss: 9.5797 - mae: 9.5797\n",
            "Epoch 59/100\n",
            "2/2 [==============================] - 0s 7ms/step - loss: 12.4868 - mae: 12.4868\n",
            "Epoch 60/100\n",
            "2/2 [==============================] - 0s 7ms/step - loss: 11.8973 - mae: 11.8973\n",
            "Epoch 61/100\n",
            "2/2 [==============================] - 0s 7ms/step - loss: 16.9858 - mae: 16.9858\n",
            "Epoch 62/100\n",
            "2/2 [==============================] - 0s 8ms/step - loss: 10.3953 - mae: 10.3953\n",
            "Epoch 63/100\n",
            "2/2 [==============================] - 0s 10ms/step - loss: 10.3485 - mae: 10.3485\n",
            "Epoch 64/100\n",
            "2/2 [==============================] - 0s 8ms/step - loss: 24.2201 - mae: 24.2201\n",
            "Epoch 65/100\n",
            "2/2 [==============================] - 0s 13ms/step - loss: 10.5294 - mae: 10.5294\n",
            "Epoch 66/100\n",
            "2/2 [==============================] - 0s 8ms/step - loss: 21.2313 - mae: 21.2313\n",
            "Epoch 67/100\n",
            "2/2 [==============================] - 0s 13ms/step - loss: 10.5290 - mae: 10.5290\n",
            "Epoch 68/100\n",
            "2/2 [==============================] - 0s 8ms/step - loss: 14.3902 - mae: 14.3902\n",
            "Epoch 69/100\n",
            "2/2 [==============================] - 0s 8ms/step - loss: 10.6232 - mae: 10.6232\n",
            "Epoch 70/100\n",
            "2/2 [==============================] - 0s 8ms/step - loss: 12.7100 - mae: 12.7100\n",
            "Epoch 71/100\n",
            "2/2 [==============================] - 0s 7ms/step - loss: 13.1405 - mae: 13.1405\n",
            "Epoch 72/100\n",
            "2/2 [==============================] - 0s 8ms/step - loss: 19.6676 - mae: 19.6676\n",
            "Epoch 73/100\n",
            "2/2 [==============================] - 0s 8ms/step - loss: 11.2024 - mae: 11.2024\n",
            "Epoch 74/100\n",
            "2/2 [==============================] - 0s 9ms/step - loss: 21.9636 - mae: 21.9636\n",
            "Epoch 75/100\n",
            "2/2 [==============================] - 0s 8ms/step - loss: 7.1850 - mae: 7.1850\n",
            "Epoch 76/100\n",
            "2/2 [==============================] - 0s 8ms/step - loss: 9.4102 - mae: 9.4102\n",
            "Epoch 77/100\n",
            "2/2 [==============================] - 0s 9ms/step - loss: 22.0241 - mae: 22.0241\n",
            "Epoch 78/100\n",
            "2/2 [==============================] - 0s 9ms/step - loss: 17.7456 - mae: 17.7456\n",
            "Epoch 79/100\n",
            "2/2 [==============================] - 0s 8ms/step - loss: 14.8915 - mae: 14.8915\n",
            "Epoch 80/100\n",
            "2/2 [==============================] - 0s 10ms/step - loss: 25.2452 - mae: 25.2452\n",
            "Epoch 81/100\n",
            "2/2 [==============================] - 0s 11ms/step - loss: 10.9569 - mae: 10.9569\n",
            "Epoch 82/100\n",
            "2/2 [==============================] - 0s 11ms/step - loss: 12.7217 - mae: 12.7217\n",
            "Epoch 83/100\n",
            "2/2 [==============================] - 0s 9ms/step - loss: 17.4836 - mae: 17.4836\n",
            "Epoch 84/100\n",
            "2/2 [==============================] - 0s 10ms/step - loss: 7.2792 - mae: 7.2792\n",
            "Epoch 85/100\n",
            "2/2 [==============================] - 0s 9ms/step - loss: 15.0122 - mae: 15.0122\n",
            "Epoch 86/100\n",
            "2/2 [==============================] - 0s 8ms/step - loss: 15.3242 - mae: 15.3242\n",
            "Epoch 87/100\n",
            "2/2 [==============================] - 0s 9ms/step - loss: 19.1828 - mae: 19.1828\n",
            "Epoch 88/100\n",
            "2/2 [==============================] - 0s 12ms/step - loss: 29.6288 - mae: 29.6288\n",
            "Epoch 89/100\n",
            "2/2 [==============================] - 0s 9ms/step - loss: 10.1508 - mae: 10.1508\n",
            "Epoch 90/100\n",
            "2/2 [==============================] - 0s 9ms/step - loss: 21.3649 - mae: 21.3649\n",
            "Epoch 91/100\n",
            "2/2 [==============================] - 0s 9ms/step - loss: 10.5380 - mae: 10.5380\n",
            "Epoch 92/100\n",
            "2/2 [==============================] - 0s 11ms/step - loss: 18.2554 - mae: 18.2554\n",
            "Epoch 93/100\n",
            "2/2 [==============================] - 0s 10ms/step - loss: 6.8135 - mae: 6.8135\n",
            "Epoch 94/100\n",
            "2/2 [==============================] - 0s 11ms/step - loss: 13.0345 - mae: 13.0345\n",
            "Epoch 95/100\n",
            "2/2 [==============================] - 0s 12ms/step - loss: 18.4485 - mae: 18.4485\n",
            "Epoch 96/100\n",
            "2/2 [==============================] - 0s 10ms/step - loss: 10.3642 - mae: 10.3642\n",
            "Epoch 97/100\n",
            "2/2 [==============================] - 0s 8ms/step - loss: 14.4569 - mae: 14.4569\n",
            "Epoch 98/100\n",
            "2/2 [==============================] - 0s 8ms/step - loss: 6.5744 - mae: 6.5744\n",
            "Epoch 99/100\n",
            "2/2 [==============================] - 0s 10ms/step - loss: 12.5860 - mae: 12.5860\n",
            "Epoch 100/100\n",
            "2/2 [==============================] - 0s 9ms/step - loss: 19.3904 - mae: 19.3904\n"
          ]
        },
        {
          "output_type": "execute_result",
          "data": {
            "text/plain": [
              "<keras.callbacks.History at 0x7f9ae2d51660>"
            ]
          },
          "metadata": {},
          "execution_count": 41
        }
      ]
    },
    {
      "cell_type": "code",
      "source": [
        "model.summary()"
      ],
      "metadata": {
        "colab": {
          "base_uri": "https://localhost:8080/"
        },
        "id": "QdGkZrTCOBlJ",
        "outputId": "c360c9db-edc5-4f0b-dd7b-d2b5d7fd537f"
      },
      "execution_count": 29,
      "outputs": [
        {
          "output_type": "stream",
          "name": "stdout",
          "text": [
            "Model: \"model_1\"\n",
            "_________________________________________________________________\n",
            " Layer (type)                Output Shape              Param #   \n",
            "=================================================================\n",
            " input_layer (Dense)         (None, 100)               200       \n",
            "                                                                 \n",
            " output_layer (Dense)        (None, 1)                 101       \n",
            "                                                                 \n",
            "=================================================================\n",
            "Total params: 301\n",
            "Trainable params: 301\n",
            "Non-trainable params: 0\n",
            "_________________________________________________________________\n"
          ]
        }
      ]
    },
    {
      "cell_type": "code",
      "source": [
        "from tensorflow.keras.utils import plot_model\n",
        "plot_model(model,show_shapes=True)"
      ],
      "metadata": {
        "colab": {
          "base_uri": "https://localhost:8080/",
          "height": 312
        },
        "id": "RcXK-lz4ODBY",
        "outputId": "022e0447-5f25-4d2c-e7e8-44bcbe786b86"
      },
      "execution_count": 30,
      "outputs": [
        {
          "output_type": "execute_result",
          "data": {
            "image/png": "[encoded data removed]",
            "text/plain": [
              "<IPython.core.display.Image object>"
            ]
          },
          "metadata": {},
          "execution_count": 30
        }
      ]
    },
    {
      "cell_type": "markdown",
      "source": [
        "### Visualize model predictions.\n",
        "y_test vs y_pred\n"
      ],
      "metadata": {
        "id": "LbdxvwMMQCLH"
      }
    },
    {
      "cell_type": "code",
      "source": [
        "y_pred = model.predict(X_test)\n",
        "y_pred"
      ],
      "metadata": {
        "colab": {
          "base_uri": "https://localhost:8080/"
        },
        "id": "O3BUFuU3OR-f",
        "outputId": "bf6d8d0e-73e8-4e00-a636-560e5516a39b"
      },
      "execution_count": 42,
      "outputs": [
        {
          "output_type": "stream",
          "name": "stderr",
          "text": [
            "WARNING:tensorflow:6 out of the last 7 calls to <function Model.make_predict_function.<locals>.predict_function at 0x7f9ae2f05870> triggered tf.function retracing. Tracing is expensive and the excessive number of tracings could be due to (1) creating @tf.function repeatedly in a loop, (2) passing tensors with different shapes, (3) passing Python objects instead of tensors. For (1), please define your @tf.function outside of the loop. For (2), @tf.function has reduce_retracing=True option that can avoid unnecessary retracing. For (3), please refer to https://www.tensorflow.org/guide/function#controlling_retracing and https://www.tensorflow.org/api_docs/python/tf/function for  more details.\n"
          ]
        },
        {
          "output_type": "stream",
          "name": "stdout",
          "text": [
            "1/1 [==============================] - 0s 62ms/step\n"
          ]
        },
        {
          "output_type": "execute_result",
          "data": {
            "text/plain": [
              "array([[ 78.40806 ],\n",
              "       [ 83.516174],\n",
              "       [ 88.62428 ],\n",
              "       [ 93.73239 ],\n",
              "       [ 98.840515],\n",
              "       [103.94862 ],\n",
              "       [109.05675 ],\n",
              "       [114.164856],\n",
              "       [119.27297 ],\n",
              "       [124.38108 ]], dtype=float32)"
            ]
          },
          "metadata": {},
          "execution_count": 42
        }
      ]
    },
    {
      "cell_type": "code",
      "source": [
        "y_test"
      ],
      "metadata": {
        "colab": {
          "base_uri": "https://localhost:8080/"
        },
        "id": "mhMOgB_PQQ5C",
        "outputId": "7f6e69e4-8c87-48f7-c471-d4702f41c18c"
      },
      "execution_count": 43,
      "outputs": [
        {
          "output_type": "execute_result",
          "data": {
            "text/plain": [
              "<tf.Tensor: shape=(10,), dtype=int32, numpy=array([ 70,  74,  78,  82,  86,  90,  94,  98, 102, 106], dtype=int32)>"
            ]
          },
          "metadata": {},
          "execution_count": 43
        }
      ]
    },
    {
      "cell_type": "code",
      "source": [
        "# Plotting function\n",
        "def plot_predictions(train_data=X_train,\n",
        "                     train_labels=y_train,\n",
        "                     test_data=X_test,\n",
        "                     test_labels=y_test,\n",
        "                     predictions=y_pred):\n",
        "  '''Plots y_test vs  y_pred'''\n",
        "  plt.figure(figsize=(10,7))\n",
        "  plt.scatter(train_data, train_labels, c=\"b\", label=\"Training data\")\n",
        "  plt.scatter(test_data, test_labels, c=\"g\", label=\"Testing data\")\n",
        "  plt.scatter(test_data, predictions, c=\"r\", label=\"Predictions\")\n",
        "  plt.legend();"
      ],
      "metadata": {
        "id": "yPvTkklvQWQN"
      },
      "execution_count": 44,
      "outputs": []
    },
    {
      "cell_type": "code",
      "source": [
        "plot_predictions()"
      ],
      "metadata": {
        "colab": {
          "base_uri": "https://localhost:8080/",
          "height": 599
        },
        "id": "ci9HZWiiRphX",
        "outputId": "8b17ad02-bebb-4052-8190-5f653d58b646"
      },
      "execution_count": 45,
      "outputs": [
        {
          "output_type": "display_data",
          "data": {
            "text/plain": [
              "<Figure size 1000x700 with 1 Axes>"
            ],
            "image/png": "[encoded data removed]"
          },
          "metadata": {}
        }
      ]
    },
    {
      "cell_type": "markdown",
      "source": [
        "### Evaluating model predictions with regression evaluation matrix\n",
        "\n",
        "Depending on the problem, we will use different evaluation matrix\n",
        "\n",
        "Two main matrix used with regression:\n",
        "* MAE- mean absolute error(great starter matrix for a regression problem)\n",
        "* MSE- Mean Squared Error(When larger errors are more significant than smaller error)\n",
        "* Huber-Combination of MSE and MAE. Less sensitive to outliers than MSE."
      ],
      "metadata": {
        "id": "z50Mgrc1EBgX"
      }
    },
    {
      "cell_type": "code",
      "source": [
        "model.evaluate(X_test, y_test)"
      ],
      "metadata": {
        "colab": {
          "base_uri": "https://localhost:8080/"
        },
        "id": "CHTx9_Q0RrnN",
        "outputId": "7995de15-3b40-4508-80d6-6f7bc89377b5"
      },
      "execution_count": 46,
      "outputs": [
        {
          "output_type": "stream",
          "name": "stdout",
          "text": [
            "1/1 [==============================] - 0s 119ms/step - loss: 13.3946 - mae: 13.3946\n"
          ]
        },
        {
          "output_type": "execute_result",
          "data": {
            "text/plain": [
              "[13.394567489624023, 13.394567489624023]"
            ]
          },
          "metadata": {},
          "execution_count": 46
        }
      ]
    },
    {
      "cell_type": "code",
      "source": [
        "tf.keras.losses.MAE(y_test,y_pred)"
      ],
      "metadata": {
        "colab": {
          "base_uri": "https://localhost:8080/"
        },
        "id": "k9LCcvwtGP6L",
        "outputId": "6450b655-bbdd-4b04-d38b-434a301beb2a"
      },
      "execution_count": 47,
      "outputs": [
        {
          "output_type": "execute_result",
          "data": {
            "text/plain": [
              "<tf.Tensor: shape=(10,), dtype=float32, numpy=\n",
              "array([12.236776, 10.496765, 10.      , 10.746478, 12.904309, 16.358898,\n",
              "       21.056747, 26.164856, 31.272974, 36.38108 ], dtype=float32)>"
            ]
          },
          "metadata": {},
          "execution_count": 47
        }
      ]
    },
    {
      "cell_type": "code",
      "source": [
        "tf.metrics.mean_absolute_error(y_test,y_pred)"
      ],
      "metadata": {
        "colab": {
          "base_uri": "https://localhost:8080/"
        },
        "id": "eLzEeXefGfqR",
        "outputId": "15e86c81-a1f0-4b48-89eb-08b38523f3c1"
      },
      "execution_count": 48,
      "outputs": [
        {
          "output_type": "execute_result",
          "data": {
            "text/plain": [
              "<tf.Tensor: shape=(10,), dtype=float32, numpy=\n",
              "array([12.236776, 10.496765, 10.      , 10.746478, 12.904309, 16.358898,\n",
              "       21.056747, 26.164856, 31.272974, 36.38108 ], dtype=float32)>"
            ]
          },
          "metadata": {},
          "execution_count": 48
        }
      ]
    },
    {
      "cell_type": "code",
      "source": [
        "mae=tf.metrics.mean_absolute_error(y_test,tf.squeeze(y_pred))\n",
        "mae"
      ],
      "metadata": {
        "colab": {
          "base_uri": "https://localhost:8080/"
        },
        "id": "XalFvnL_GzCM",
        "outputId": "b10520c2-7ff7-4864-fcdf-d3b226f4f77e"
      },
      "execution_count": 49,
      "outputs": [
        {
          "output_type": "execute_result",
          "data": {
            "text/plain": [
              "<tf.Tensor: shape=(), dtype=float32, numpy=13.394571>"
            ]
          },
          "metadata": {},
          "execution_count": 49
        }
      ]
    },
    {
      "cell_type": "code",
      "source": [
        "mse=tf.metrics.mean_squared_error(y_test,tf.squeeze(y_pred))\n",
        "mse"
      ],
      "metadata": {
        "colab": {
          "base_uri": "https://localhost:8080/"
        },
        "id": "y1aQlFaUHjlU",
        "outputId": "404c08c8-105f-48e6-8ec3-41b06d64c0c8"
      },
      "execution_count": 50,
      "outputs": [
        {
          "output_type": "execute_result",
          "data": {
            "text/plain": [
              "<tf.Tensor: shape=(), dtype=float32, numpy=189.54483>"
            ]
          },
          "metadata": {},
          "execution_count": 50
        }
      ]
    },
    {
      "cell_type": "markdown",
      "source": [
        "### Running experiments to improve model\n",
        "\n",
        "1. Get more data\n",
        "2. Make model larger and more complex\n",
        "3. Train for longer\n",
        "\n",
        "3 modelling experiments:\n",
        "\n",
        "1. `model_1` - 1 layer, 100 epochs.\n",
        "\n",
        "2. `model_2` - 2 layer, 100 epochs.\n",
        "\n",
        "3. `model_3` - 2 layers, 500 epochs."
      ],
      "metadata": {
        "id": "3d3vH0bLAll2"
      }
    },
    {
      "cell_type": "markdown",
      "source": [
        "# **Build `model_1`**"
      ],
      "metadata": {
        "id": "Rrj-oWmkCjzq"
      }
    },
    {
      "cell_type": "code",
      "source": [
        "# Setting random seed\n",
        "tf.random.set_seed(42)\n",
        "\n",
        "#1. Create the model\n",
        "model_1 = tf.keras.Sequential([\n",
        "    tf.keras.layers.Dense(1)\n",
        "])\n",
        "\n",
        "#2. Compile\n",
        "model_1.compile(loss=tf.keras.losses.mae,\n",
        "                optimizer=tf.keras.optimizers.SGD(),\n",
        "                metrics=['mae'])\n",
        "model_1.fit(tf.expand_dims(X_train,axis=-1),y_train, epochs=100)"
      ],
      "metadata": {
        "id": "I7Xk9rPSHqjY",
        "colab": {
          "base_uri": "https://localhost:8080/"
        },
        "outputId": "6996776c-bf90-4e5c-8042-e978c18d5768"
      },
      "execution_count": 54,
      "outputs": [
        {
          "output_type": "stream",
          "name": "stdout",
          "text": [
            "Epoch 1/100\n",
            "2/2 [==============================] - 1s 43ms/step - loss: 52.7178 - mae: 52.7178\n",
            "Epoch 2/100\n",
            "2/2 [==============================] - 0s 14ms/step - loss: 19.1751 - mae: 19.1751\n",
            "Epoch 3/100\n",
            "2/2 [==============================] - 0s 9ms/step - loss: 10.8163 - mae: 10.8163\n",
            "Epoch 4/100\n",
            "2/2 [==============================] - 0s 10ms/step - loss: 9.4940 - mae: 9.4940\n",
            "Epoch 5/100\n",
            "2/2 [==============================] - 0s 10ms/step - loss: 10.3900 - mae: 10.3900\n",
            "Epoch 6/100\n",
            "2/2 [==============================] - 0s 9ms/step - loss: 9.6277 - mae: 9.6277\n",
            "Epoch 7/100\n",
            "2/2 [==============================] - 0s 8ms/step - loss: 8.7370 - mae: 8.7370\n",
            "Epoch 8/100\n",
            "2/2 [==============================] - 0s 9ms/step - loss: 9.0693 - mae: 9.0693\n",
            "Epoch 9/100\n",
            "2/2 [==============================] - 0s 9ms/step - loss: 19.1471 - mae: 19.1471\n",
            "Epoch 10/100\n",
            "2/2 [==============================] - 0s 12ms/step - loss: 10.3424 - mae: 10.3424\n",
            "Epoch 11/100\n",
            "2/2 [==============================] - 0s 10ms/step - loss: 8.4939 - mae: 8.4939\n",
            "Epoch 12/100\n",
            "2/2 [==============================] - 0s 9ms/step - loss: 10.8488 - mae: 10.8488\n",
            "Epoch 13/100\n",
            "2/2 [==============================] - 0s 15ms/step - loss: 9.8986 - mae: 9.8986\n",
            "Epoch 14/100\n",
            "2/2 [==============================] - 0s 33ms/step - loss: 12.1059 - mae: 12.1059\n",
            "Epoch 15/100\n",
            "2/2 [==============================] - 0s 34ms/step - loss: 12.3935 - mae: 12.3935\n",
            "Epoch 16/100\n",
            "2/2 [==============================] - 0s 27ms/step - loss: 8.4341 - mae: 8.4341\n",
            "Epoch 17/100\n",
            "2/2 [==============================] - 0s 11ms/step - loss: 13.3818 - mae: 13.3818\n",
            "Epoch 18/100\n",
            "2/2 [==============================] - 0s 13ms/step - loss: 11.1444 - mae: 11.1444\n",
            "Epoch 19/100\n",
            "2/2 [==============================] - 0s 22ms/step - loss: 18.4170 - mae: 18.4170\n",
            "Epoch 20/100\n",
            "2/2 [==============================] - 0s 9ms/step - loss: 15.1184 - mae: 15.1184\n",
            "Epoch 21/100\n",
            "2/2 [==============================] - 0s 9ms/step - loss: 11.0813 - mae: 11.0813\n",
            "Epoch 22/100\n",
            "2/2 [==============================] - 0s 9ms/step - loss: 8.2118 - mae: 8.2118\n",
            "Epoch 23/100\n",
            "2/2 [==============================] - 0s 10ms/step - loss: 9.4882 - mae: 9.4882\n",
            "Epoch 24/100\n",
            "2/2 [==============================] - 0s 10ms/step - loss: 7.6825 - mae: 7.6825\n",
            "Epoch 25/100\n",
            "2/2 [==============================] - 0s 60ms/step - loss: 13.1097 - mae: 13.1097\n",
            "Epoch 26/100\n",
            "2/2 [==============================] - 0s 25ms/step - loss: 16.4891 - mae: 16.4891\n",
            "Epoch 27/100\n",
            "2/2 [==============================] - 0s 19ms/step - loss: 13.2241 - mae: 13.2241\n",
            "Epoch 28/100\n",
            "2/2 [==============================] - 0s 19ms/step - loss: 14.3286 - mae: 14.3286\n",
            "Epoch 29/100\n",
            "2/2 [==============================] - 0s 21ms/step - loss: 10.0942 - mae: 10.0942\n",
            "Epoch 30/100\n",
            "2/2 [==============================] - 0s 19ms/step - loss: 16.4436 - mae: 16.4436\n",
            "Epoch 31/100\n",
            "2/2 [==============================] - 0s 21ms/step - loss: 23.5582 - mae: 23.5582\n",
            "Epoch 32/100\n",
            "2/2 [==============================] - 0s 37ms/step - loss: 7.6174 - mae: 7.6174\n",
            "Epoch 33/100\n",
            "2/2 [==============================] - 0s 27ms/step - loss: 9.3129 - mae: 9.3129\n",
            "Epoch 34/100\n",
            "2/2 [==============================] - 0s 29ms/step - loss: 13.6740 - mae: 13.6740\n",
            "Epoch 35/100\n",
            "2/2 [==============================] - 0s 15ms/step - loss: 11.1752 - mae: 11.1752\n",
            "Epoch 36/100\n",
            "2/2 [==============================] - 0s 35ms/step - loss: 13.4047 - mae: 13.4047\n",
            "Epoch 37/100\n",
            "2/2 [==============================] - 0s 23ms/step - loss: 9.4566 - mae: 9.4566\n",
            "Epoch 38/100\n",
            "2/2 [==============================] - 0s 17ms/step - loss: 10.1075 - mae: 10.1075\n",
            "Epoch 39/100\n",
            "2/2 [==============================] - 0s 35ms/step - loss: 8.9837 - mae: 8.9837\n",
            "Epoch 40/100\n",
            "2/2 [==============================] - 0s 27ms/step - loss: 9.6123 - mae: 9.6123\n",
            "Epoch 41/100\n",
            "2/2 [==============================] - 0s 13ms/step - loss: 10.5731 - mae: 10.5731\n",
            "Epoch 42/100\n",
            "2/2 [==============================] - 0s 12ms/step - loss: 10.6268 - mae: 10.6268\n",
            "Epoch 43/100\n",
            "2/2 [==============================] - 0s 12ms/step - loss: 7.2191 - mae: 7.2191\n",
            "Epoch 44/100\n",
            "2/2 [==============================] - 0s 10ms/step - loss: 8.0250 - mae: 8.0250\n",
            "Epoch 45/100\n",
            "2/2 [==============================] - 0s 16ms/step - loss: 9.8277 - mae: 9.8277\n",
            "Epoch 46/100\n",
            "2/2 [==============================] - 0s 26ms/step - loss: 8.9076 - mae: 8.9076\n",
            "Epoch 47/100\n",
            "2/2 [==============================] - 0s 18ms/step - loss: 7.5742 - mae: 7.5742\n",
            "Epoch 48/100\n",
            "2/2 [==============================] - 0s 17ms/step - loss: 8.5390 - mae: 8.5390\n",
            "Epoch 49/100\n",
            "2/2 [==============================] - 0s 29ms/step - loss: 10.0394 - mae: 10.0394\n",
            "Epoch 50/100\n",
            "2/2 [==============================] - 0s 28ms/step - loss: 8.9851 - mae: 8.9851\n",
            "Epoch 51/100\n",
            "2/2 [==============================] - 0s 24ms/step - loss: 10.7164 - mae: 10.7164\n",
            "Epoch 52/100\n",
            "2/2 [==============================] - 0s 17ms/step - loss: 15.2652 - mae: 15.2652\n",
            "Epoch 53/100\n",
            "2/2 [==============================] - 0s 19ms/step - loss: 14.2953 - mae: 14.2953\n",
            "Epoch 54/100\n",
            "2/2 [==============================] - 0s 18ms/step - loss: 21.5437 - mae: 21.5437\n",
            "Epoch 55/100\n",
            "2/2 [==============================] - 0s 13ms/step - loss: 16.0556 - mae: 16.0556\n",
            "Epoch 56/100\n",
            "2/2 [==============================] - 0s 19ms/step - loss: 10.2485 - mae: 10.2485\n",
            "Epoch 57/100\n",
            "2/2 [==============================] - 0s 10ms/step - loss: 9.8041 - mae: 9.8041\n",
            "Epoch 58/100\n",
            "2/2 [==============================] - 0s 10ms/step - loss: 9.0864 - mae: 9.0864\n",
            "Epoch 59/100\n",
            "2/2 [==============================] - 0s 9ms/step - loss: 8.2897 - mae: 8.2897\n",
            "Epoch 60/100\n",
            "2/2 [==============================] - 0s 18ms/step - loss: 9.3826 - mae: 9.3826\n",
            "Epoch 61/100\n",
            "2/2 [==============================] - 0s 12ms/step - loss: 11.2125 - mae: 11.2125\n",
            "Epoch 62/100\n",
            "2/2 [==============================] - 0s 29ms/step - loss: 12.0353 - mae: 12.0353\n",
            "Epoch 63/100\n",
            "2/2 [==============================] - 0s 17ms/step - loss: 7.2799 - mae: 7.2799\n",
            "Epoch 64/100\n",
            "2/2 [==============================] - 0s 14ms/step - loss: 12.4726 - mae: 12.4726\n",
            "Epoch 65/100\n",
            "2/2 [==============================] - 0s 13ms/step - loss: 10.5484 - mae: 10.5484\n",
            "Epoch 66/100\n",
            "2/2 [==============================] - 0s 10ms/step - loss: 15.5671 - mae: 15.5671\n",
            "Epoch 67/100\n",
            "2/2 [==============================] - 0s 15ms/step - loss: 9.9831 - mae: 9.9831\n",
            "Epoch 68/100\n",
            "2/2 [==============================] - 0s 13ms/step - loss: 8.7142 - mae: 8.7142\n",
            "Epoch 69/100\n",
            "2/2 [==============================] - 0s 13ms/step - loss: 13.4436 - mae: 13.4436\n",
            "Epoch 70/100\n",
            "2/2 [==============================] - 0s 10ms/step - loss: 7.4768 - mae: 7.4768\n",
            "Epoch 71/100\n",
            "2/2 [==============================] - 0s 12ms/step - loss: 12.2753 - mae: 12.2753\n",
            "Epoch 72/100\n",
            "2/2 [==============================] - 0s 23ms/step - loss: 8.5127 - mae: 8.5127\n",
            "Epoch 73/100\n",
            "2/2 [==============================] - 0s 10ms/step - loss: 7.0433 - mae: 7.0433\n",
            "Epoch 74/100\n",
            "2/2 [==============================] - 0s 9ms/step - loss: 9.8882 - mae: 9.8882\n",
            "Epoch 75/100\n",
            "2/2 [==============================] - 0s 11ms/step - loss: 9.9725 - mae: 9.9725\n",
            "Epoch 76/100\n",
            "2/2 [==============================] - 0s 9ms/step - loss: 10.1318 - mae: 10.1318\n",
            "Epoch 77/100\n",
            "2/2 [==============================] - 0s 10ms/step - loss: 13.0074 - mae: 13.0074\n",
            "Epoch 78/100\n",
            "2/2 [==============================] - 0s 10ms/step - loss: 10.8960 - mae: 10.8960\n",
            "Epoch 79/100\n",
            "2/2 [==============================] - 0s 9ms/step - loss: 15.3663 - mae: 15.3663\n",
            "Epoch 80/100\n",
            "2/2 [==============================] - 0s 20ms/step - loss: 11.7469 - mae: 11.7469\n",
            "Epoch 81/100\n",
            "2/2 [==============================] - 0s 13ms/step - loss: 9.2414 - mae: 9.2414\n",
            "Epoch 82/100\n",
            "2/2 [==============================] - 0s 13ms/step - loss: 12.7468 - mae: 12.7468\n",
            "Epoch 83/100\n",
            "2/2 [==============================] - 0s 24ms/step - loss: 8.2974 - mae: 8.2974\n",
            "Epoch 84/100\n",
            "2/2 [==============================] - 0s 17ms/step - loss: 7.3103 - mae: 7.3103\n",
            "Epoch 85/100\n",
            "2/2 [==============================] - 0s 10ms/step - loss: 10.4642 - mae: 10.4642\n",
            "Epoch 86/100\n",
            "2/2 [==============================] - 0s 14ms/step - loss: 9.1405 - mae: 9.1405\n",
            "Epoch 87/100\n",
            "2/2 [==============================] - 0s 22ms/step - loss: 11.8475 - mae: 11.8475\n",
            "Epoch 88/100\n",
            "2/2 [==============================] - 0s 8ms/step - loss: 10.4560 - mae: 10.4560\n",
            "Epoch 89/100\n",
            "2/2 [==============================] - 0s 8ms/step - loss: 6.9771 - mae: 6.9771\n",
            "Epoch 90/100\n",
            "2/2 [==============================] - 0s 8ms/step - loss: 13.7788 - mae: 13.7788\n",
            "Epoch 91/100\n",
            "2/2 [==============================] - 0s 8ms/step - loss: 7.8653 - mae: 7.8653\n",
            "Epoch 92/100\n",
            "2/2 [==============================] - 0s 12ms/step - loss: 7.9259 - mae: 7.9259\n",
            "Epoch 93/100\n",
            "2/2 [==============================] - 0s 11ms/step - loss: 9.4211 - mae: 9.4211\n",
            "Epoch 94/100\n",
            "2/2 [==============================] - 0s 12ms/step - loss: 8.7415 - mae: 8.7415\n",
            "Epoch 95/100\n",
            "2/2 [==============================] - 0s 12ms/step - loss: 9.8606 - mae: 9.8606\n",
            "Epoch 96/100\n",
            "2/2 [==============================] - 0s 13ms/step - loss: 7.3442 - mae: 7.3442\n",
            "Epoch 97/100\n",
            "2/2 [==============================] - 0s 19ms/step - loss: 6.8597 - mae: 6.8597\n",
            "Epoch 98/100\n",
            "2/2 [==============================] - 0s 14ms/step - loss: 7.2519 - mae: 7.2519\n",
            "Epoch 99/100\n",
            "2/2 [==============================] - 0s 15ms/step - loss: 7.4053 - mae: 7.4053\n",
            "Epoch 100/100\n",
            "2/2 [==============================] - 0s 13ms/step - loss: 11.1047 - mae: 11.1047\n"
          ]
        },
        {
          "output_type": "execute_result",
          "data": {
            "text/plain": [
              "<keras.callbacks.History at 0x7f9af0c9a860>"
            ]
          },
          "metadata": {},
          "execution_count": 54
        }
      ]
    },
    {
      "cell_type": "code",
      "source": [
        "y_pred_1 = model_1.predict(X_test)\n",
        "plot_predictions(predictions=y_pred_1)"
      ],
      "metadata": {
        "colab": {
          "base_uri": "https://localhost:8080/",
          "height": 617
        },
        "id": "yUubSXTMIIrE",
        "outputId": "22470495-22a2-4f0a-fd93-fdd8f1730e20"
      },
      "execution_count": 55,
      "outputs": [
        {
          "output_type": "stream",
          "name": "stdout",
          "text": [
            "1/1 [==============================] - 0s 76ms/step\n"
          ]
        },
        {
          "output_type": "display_data",
          "data": {
            "text/plain": [
              "<Figure size 1000x700 with 1 Axes>"
            ],
            "image/png": "[encoded data removed]"
          },
          "metadata": {}
        }
      ]
    },
    {
      "cell_type": "code",
      "source": [
        "def mae(y_true,y_pred):\n",
        "  return tf.metrics.mean_absolute_error(y_true=y_true,\n",
        "                                        y_pred=tf.squeeze(y_pred))\n",
        "def mse(y_true,y_pred):\n",
        "  return tf.metrics.mean_squared_error(y_true=y_true,\n",
        "                                       y_pred=tf.squeeze(y_pred))"
      ],
      "metadata": {
        "id": "9Ser11S7K9Iq"
      },
      "execution_count": 63,
      "outputs": []
    },
    {
      "cell_type": "code",
      "source": [
        "mae_1=mae(y_test,y_pred_1)\n",
        "mse_1=mse(y_test,y_pred_1)\n",
        "mae_1,mse_1"
      ],
      "metadata": {
        "colab": {
          "base_uri": "https://localhost:8080/"
        },
        "id": "5hZRiPzcKPGU",
        "outputId": "d885bd9c-7676-4d95-fcb2-438d65372e63"
      },
      "execution_count": 65,
      "outputs": [
        {
          "output_type": "execute_result",
          "data": {
            "text/plain": [
              "(<tf.Tensor: shape=(), dtype=float32, numpy=21.269928>,\n",
              " <tf.Tensor: shape=(), dtype=float32, numpy=455.84027>)"
            ]
          },
          "metadata": {},
          "execution_count": 65
        }
      ]
    },
    {
      "cell_type": "markdown",
      "source": [
        "### **Build `model_2`**"
      ],
      "metadata": {
        "id": "wySllaSaOJeo"
      }
    },
    {
      "cell_type": "code",
      "source": [
        "# Set random seed\n",
        "tf.random.set_seed(42)\n",
        "\n",
        "# 1. Create the model\n",
        "model_2 = tf.keras.Sequential([\n",
        "    tf.keras.layers.Dense(150),\n",
        "    tf.keras.layers.Dense(1)\n",
        "])\n",
        "\n",
        "# 2. Compile the model\n",
        "model_2.compile(loss=tf.keras.losses.mae,\n",
        "                optimizer=tf.keras.optimizers.SGD(),\n",
        "                metrics=['mse'])\n",
        "\n",
        "# 3. Fit the model\n",
        "model_2.fit(tf.expand_dims(X_train,axis=-1),y_train,epochs=100)"
      ],
      "metadata": {
        "colab": {
          "base_uri": "https://localhost:8080/"
        },
        "id": "D7zj82yFKd0f",
        "outputId": "0104ce5d-b790-490f-983b-f6706e082fd4"
      },
      "execution_count": 87,
      "outputs": [
        {
          "output_type": "stream",
          "name": "stdout",
          "text": [
            "Epoch 1/100\n",
            "2/2 [==============================] - 1s 25ms/step - loss: 34.6435 - mse: 1704.2242\n",
            "Epoch 2/100\n",
            "2/2 [==============================] - 0s 16ms/step - loss: 28.5749 - mse: 1056.9720\n",
            "Epoch 3/100\n",
            "2/2 [==============================] - 0s 9ms/step - loss: 32.5907 - mse: 1627.5172\n",
            "Epoch 4/100\n",
            "2/2 [==============================] - 0s 9ms/step - loss: 13.5487 - mse: 258.7479\n",
            "Epoch 5/100\n",
            "2/2 [==============================] - 0s 10ms/step - loss: 18.4046 - mse: 459.1896\n",
            "Epoch 6/100\n",
            "2/2 [==============================] - 0s 9ms/step - loss: 9.2906 - mse: 129.0821\n",
            "Epoch 7/100\n",
            "2/2 [==============================] - 0s 8ms/step - loss: 10.3102 - mse: 141.5108\n",
            "Epoch 8/100\n",
            "2/2 [==============================] - 0s 8ms/step - loss: 11.2569 - mse: 179.6227\n",
            "Epoch 9/100\n",
            "2/2 [==============================] - 0s 8ms/step - loss: 42.3068 - mse: 2862.0896\n",
            "Epoch 10/100\n",
            "2/2 [==============================] - 0s 8ms/step - loss: 29.4649 - mse: 1228.9403\n",
            "Epoch 11/100\n",
            "2/2 [==============================] - 0s 7ms/step - loss: 7.7126 - mse: 83.7653\n",
            "Epoch 12/100\n",
            "2/2 [==============================] - 0s 9ms/step - loss: 28.5910 - mse: 1118.7230\n",
            "Epoch 13/100\n",
            "2/2 [==============================] - 0s 9ms/step - loss: 11.5066 - mse: 145.3128\n",
            "Epoch 14/100\n",
            "2/2 [==============================] - 0s 9ms/step - loss: 30.2586 - mse: 1466.9320\n",
            "Epoch 15/100\n",
            "2/2 [==============================] - 0s 10ms/step - loss: 20.0203 - mse: 562.1660\n",
            "Epoch 16/100\n",
            "2/2 [==============================] - 0s 8ms/step - loss: 9.9211 - mse: 125.3280\n",
            "Epoch 17/100\n",
            "2/2 [==============================] - 0s 11ms/step - loss: 17.8557 - mse: 422.9503\n",
            "Epoch 18/100\n",
            "2/2 [==============================] - 0s 8ms/step - loss: 14.3314 - mse: 325.6732\n",
            "Epoch 19/100\n",
            "2/2 [==============================] - 0s 8ms/step - loss: 14.4354 - mse: 328.0993\n",
            "Epoch 20/100\n",
            "2/2 [==============================] - 0s 8ms/step - loss: 10.4641 - mse: 148.6884\n",
            "Epoch 21/100\n",
            "2/2 [==============================] - 0s 10ms/step - loss: 15.2155 - mse: 314.0901\n",
            "Epoch 22/100\n",
            "2/2 [==============================] - 0s 8ms/step - loss: 15.5540 - mse: 333.4586\n",
            "Epoch 23/100\n",
            "2/2 [==============================] - 0s 7ms/step - loss: 9.2367 - mse: 118.6572\n",
            "Epoch 24/100\n",
            "2/2 [==============================] - 0s 9ms/step - loss: 17.2504 - mse: 407.6152\n",
            "Epoch 25/100\n",
            "2/2 [==============================] - 0s 9ms/step - loss: 15.9286 - mse: 333.2686\n",
            "Epoch 26/100\n",
            "2/2 [==============================] - 0s 8ms/step - loss: 20.9073 - mse: 648.2142\n",
            "Epoch 27/100\n",
            "2/2 [==============================] - 0s 8ms/step - loss: 26.0157 - mse: 1056.5055\n",
            "Epoch 28/100\n",
            "2/2 [==============================] - 0s 8ms/step - loss: 18.5065 - mse: 542.1772\n",
            "Epoch 29/100\n",
            "2/2 [==============================] - 0s 8ms/step - loss: 9.2443 - mse: 97.4481\n",
            "Epoch 30/100\n",
            "2/2 [==============================] - 0s 7ms/step - loss: 29.1244 - mse: 1516.5892\n",
            "Epoch 31/100\n",
            "2/2 [==============================] - 0s 7ms/step - loss: 52.7540 - mse: 4977.0576\n",
            "Epoch 32/100\n",
            "2/2 [==============================] - 0s 7ms/step - loss: 11.9418 - mse: 208.0179\n",
            "Epoch 33/100\n",
            "2/2 [==============================] - 0s 7ms/step - loss: 15.5443 - mse: 333.0434\n",
            "Epoch 34/100\n",
            "2/2 [==============================] - 0s 8ms/step - loss: 12.6295 - mse: 210.8923\n",
            "Epoch 35/100\n",
            "2/2 [==============================] - 0s 7ms/step - loss: 9.2118 - mse: 92.0131\n",
            "Epoch 36/100\n",
            "2/2 [==============================] - 0s 7ms/step - loss: 16.5344 - mse: 397.5444\n",
            "Epoch 37/100\n",
            "2/2 [==============================] - 0s 7ms/step - loss: 11.0704 - mse: 192.2771\n",
            "Epoch 38/100\n",
            "2/2 [==============================] - 0s 8ms/step - loss: 18.1985 - mse: 436.0596\n",
            "Epoch 39/100\n",
            "2/2 [==============================] - 0s 7ms/step - loss: 19.1326 - mse: 532.5743\n",
            "Epoch 40/100\n",
            "2/2 [==============================] - 0s 8ms/step - loss: 20.4894 - mse: 613.3152\n",
            "Epoch 41/100\n",
            "2/2 [==============================] - 0s 8ms/step - loss: 14.8394 - mse: 275.9213\n",
            "Epoch 42/100\n",
            "2/2 [==============================] - 0s 7ms/step - loss: 12.2273 - mse: 183.4741\n",
            "Epoch 43/100\n",
            "2/2 [==============================] - 0s 9ms/step - loss: 10.7055 - mse: 164.2818\n",
            "Epoch 44/100\n",
            "2/2 [==============================] - 0s 10ms/step - loss: 32.3524 - mse: 1722.2864\n",
            "Epoch 45/100\n",
            "2/2 [==============================] - 0s 9ms/step - loss: 12.4922 - mse: 203.1268\n",
            "Epoch 46/100\n",
            "2/2 [==============================] - 0s 7ms/step - loss: 17.5812 - mse: 463.2643\n",
            "Epoch 47/100\n",
            "2/2 [==============================] - 0s 11ms/step - loss: 15.7328 - mse: 338.4431\n",
            "Epoch 48/100\n",
            "2/2 [==============================] - 0s 8ms/step - loss: 8.3620 - mse: 112.6616\n",
            "Epoch 49/100\n",
            "2/2 [==============================] - 0s 8ms/step - loss: 13.9665 - mse: 268.5797\n",
            "Epoch 50/100\n",
            "2/2 [==============================] - 0s 8ms/step - loss: 12.8104 - mse: 214.8759\n",
            "Epoch 51/100\n",
            "2/2 [==============================] - 0s 8ms/step - loss: 14.8251 - mse: 308.7565\n",
            "Epoch 52/100\n",
            "2/2 [==============================] - 0s 8ms/step - loss: 18.7134 - mse: 528.5258\n",
            "Epoch 53/100\n",
            "2/2 [==============================] - 0s 7ms/step - loss: 24.1502 - mse: 827.3458\n",
            "Epoch 54/100\n",
            "2/2 [==============================] - 0s 13ms/step - loss: 23.2231 - mse: 808.2353\n",
            "Epoch 55/100\n",
            "2/2 [==============================] - 0s 7ms/step - loss: 24.0823 - mse: 872.9334\n",
            "Epoch 56/100\n",
            "2/2 [==============================] - 0s 11ms/step - loss: 11.1772 - mse: 171.1199\n",
            "Epoch 57/100\n",
            "2/2 [==============================] - 0s 9ms/step - loss: 13.1369 - mse: 214.9335\n",
            "Epoch 58/100\n",
            "2/2 [==============================] - 0s 9ms/step - loss: 9.8222 - mse: 106.4832\n",
            "Epoch 59/100\n",
            "2/2 [==============================] - 0s 9ms/step - loss: 13.3242 - mse: 250.3724\n",
            "Epoch 60/100\n",
            "2/2 [==============================] - 0s 7ms/step - loss: 10.8816 - mse: 139.6826\n",
            "Epoch 61/100\n",
            "2/2 [==============================] - 0s 11ms/step - loss: 13.4867 - mse: 242.3957\n",
            "Epoch 62/100\n",
            "2/2 [==============================] - 0s 7ms/step - loss: 17.5249 - mse: 468.7040\n",
            "Epoch 63/100\n",
            "2/2 [==============================] - 0s 11ms/step - loss: 9.1660 - mse: 87.7259\n",
            "Epoch 64/100\n",
            "2/2 [==============================] - 0s 7ms/step - loss: 18.3946 - mse: 491.8319\n",
            "Epoch 65/100\n",
            "2/2 [==============================] - 0s 9ms/step - loss: 10.1212 - mse: 115.0374\n",
            "Epoch 66/100\n",
            "2/2 [==============================] - 0s 6ms/step - loss: 24.2594 - mse: 888.2484\n",
            "Epoch 67/100\n",
            "2/2 [==============================] - 0s 7ms/step - loss: 10.8912 - mse: 142.8371\n",
            "Epoch 68/100\n",
            "2/2 [==============================] - 0s 8ms/step - loss: 10.7726 - mse: 159.2049\n",
            "Epoch 69/100\n",
            "2/2 [==============================] - 0s 11ms/step - loss: 23.2422 - mse: 780.7853\n",
            "Epoch 70/100\n",
            "2/2 [==============================] - 0s 10ms/step - loss: 8.8172 - mse: 143.4578\n",
            "Epoch 71/100\n",
            "2/2 [==============================] - 0s 10ms/step - loss: 15.9847 - mse: 347.9510\n",
            "Epoch 72/100\n",
            "2/2 [==============================] - 0s 8ms/step - loss: 8.1455 - mse: 109.6833\n",
            "Epoch 73/100\n",
            "2/2 [==============================] - 0s 6ms/step - loss: 9.4661 - mse: 153.1208\n",
            "Epoch 74/100\n",
            "2/2 [==============================] - 0s 7ms/step - loss: 28.1609 - mse: 1110.8768\n",
            "Epoch 75/100\n",
            "2/2 [==============================] - 0s 9ms/step - loss: 10.1939 - mse: 145.5441\n",
            "Epoch 76/100\n",
            "2/2 [==============================] - 0s 8ms/step - loss: 13.1427 - mse: 218.4832\n",
            "Epoch 77/100\n",
            "2/2 [==============================] - 0s 11ms/step - loss: 18.3729 - mse: 529.2943\n",
            "Epoch 78/100\n",
            "2/2 [==============================] - 0s 10ms/step - loss: 9.0146 - mse: 91.3353\n",
            "Epoch 79/100\n",
            "2/2 [==============================] - 0s 12ms/step - loss: 23.4191 - mse: 820.1891\n",
            "Epoch 80/100\n",
            "2/2 [==============================] - 0s 11ms/step - loss: 26.0855 - mse: 1045.2904\n",
            "Epoch 81/100\n",
            "2/2 [==============================] - 0s 9ms/step - loss: 11.3775 - mse: 157.8390\n",
            "Epoch 82/100\n",
            "2/2 [==============================] - 0s 8ms/step - loss: 12.5034 - mse: 227.7667\n",
            "Epoch 83/100\n",
            "2/2 [==============================] - 0s 9ms/step - loss: 17.1943 - mse: 384.6192\n",
            "Epoch 84/100\n",
            "2/2 [==============================] - 0s 9ms/step - loss: 6.5985 - mse: 64.6634\n",
            "Epoch 85/100\n",
            "2/2 [==============================] - 0s 9ms/step - loss: 20.2678 - mse: 574.3481\n",
            "Epoch 86/100\n",
            "2/2 [==============================] - 0s 10ms/step - loss: 10.1633 - mse: 115.4791\n",
            "Epoch 87/100\n",
            "2/2 [==============================] - 0s 8ms/step - loss: 24.3069 - mse: 826.5365\n",
            "Epoch 88/100\n",
            "2/2 [==============================] - 0s 9ms/step - loss: 18.9722 - mse: 511.3078\n",
            "Epoch 89/100\n",
            "2/2 [==============================] - 0s 8ms/step - loss: 7.1638 - mse: 70.2679\n",
            "Epoch 90/100\n",
            "2/2 [==============================] - 0s 8ms/step - loss: 18.2692 - mse: 495.5909\n",
            "Epoch 91/100\n",
            "2/2 [==============================] - 0s 10ms/step - loss: 13.3211 - mse: 256.2765\n",
            "Epoch 92/100\n",
            "2/2 [==============================] - 0s 8ms/step - loss: 8.7256 - mse: 127.1735\n",
            "Epoch 93/100\n",
            "2/2 [==============================] - 0s 9ms/step - loss: 14.1811 - mse: 276.2252\n",
            "Epoch 94/100\n",
            "2/2 [==============================] - 0s 10ms/step - loss: 17.1818 - mse: 436.9866\n",
            "Epoch 95/100\n",
            "2/2 [==============================] - 0s 10ms/step - loss: 16.7592 - mse: 384.4394\n",
            "Epoch 96/100\n",
            "2/2 [==============================] - 0s 10ms/step - loss: 11.1250 - mse: 209.8208\n",
            "Epoch 97/100\n",
            "2/2 [==============================] - 0s 9ms/step - loss: 21.1776 - mse: 640.3010\n",
            "Epoch 98/100\n",
            "2/2 [==============================] - 0s 9ms/step - loss: 10.4915 - mse: 139.7700\n",
            "Epoch 99/100\n",
            "2/2 [==============================] - 0s 9ms/step - loss: 14.5870 - mse: 295.6471\n",
            "Epoch 100/100\n",
            "2/2 [==============================] - 0s 11ms/step - loss: 17.7578 - mse: 467.7594\n"
          ]
        },
        {
          "output_type": "execute_result",
          "data": {
            "text/plain": [
              "<keras.callbacks.History at 0x7f9adf369810>"
            ]
          },
          "metadata": {},
          "execution_count": 87
        }
      ]
    },
    {
      "cell_type": "code",
      "source": [
        "y_pred_2=model_2.predict(X_test)\n",
        "plot_predictions(predictions=y_pred_2)"
      ],
      "metadata": {
        "colab": {
          "base_uri": "https://localhost:8080/",
          "height": 617
        },
        "id": "T9x1WyQYPWGR",
        "outputId": "a2db91a3-d313-499a-a261-9c2105e050d8"
      },
      "execution_count": 88,
      "outputs": [
        {
          "output_type": "stream",
          "name": "stdout",
          "text": [
            "1/1 [==============================] - 0s 60ms/step\n"
          ]
        },
        {
          "output_type": "display_data",
          "data": {
            "text/plain": [
              "<Figure size 1000x700 with 1 Axes>"
            ],
            "image/png": "[encoded data removed]"
          },
          "metadata": {}
        }
      ]
    },
    {
      "cell_type": "code",
      "source": [
        "# Calculate eval metrics\n",
        "mae_2=mae(y_test,y_pred_2)\n",
        "mse_2=mse(y_test,y_pred_2)"
      ],
      "metadata": {
        "id": "86Acj0-6PxXo"
      },
      "execution_count": 89,
      "outputs": []
    },
    {
      "cell_type": "code",
      "source": [
        "mae_2,mse_2"
      ],
      "metadata": {
        "colab": {
          "base_uri": "https://localhost:8080/"
        },
        "id": "QtC68duCZvif",
        "outputId": "6dd781e7-461d-42d5-9409-e79d49b590bd"
      },
      "execution_count": 90,
      "outputs": [
        {
          "output_type": "execute_result",
          "data": {
            "text/plain": [
              "(<tf.Tensor: shape=(), dtype=float32, numpy=2.033271>,\n",
              " <tf.Tensor: shape=(), dtype=float32, numpy=6.0814013>)"
            ]
          },
          "metadata": {},
          "execution_count": 90
        }
      ]
    },
    {
      "cell_type": "markdown",
      "source": [
        "### **Build `model_3`**"
      ],
      "metadata": {
        "id": "5lPQCc1bZ2ri"
      }
    },
    {
      "cell_type": "code",
      "source": [
        "# Set random seed\n",
        "tf.random.set_seed(42)\n",
        "\n",
        "# 1. Create the model\n",
        "model_3 = tf.keras.Sequential([\n",
        "    tf.keras.layers.Dense(10),\n",
        "    tf.keras.layers.Dense(1)\n",
        "])\n",
        "\n",
        "# 2. Compile the model\n",
        "model_3.compile(loss=tf.keras.losses.mae,\n",
        "                optimizer=tf.keras.optimizers.SGD(),\n",
        "                metrics=['mse'])\n",
        "\n",
        "# 3. Fit the model\n",
        "model_3.fit(tf.expand_dims(X_train,axis=-1),y_train,epochs=500)"
      ],
      "metadata": {
        "colab": {
          "base_uri": "https://localhost:8080/"
        },
        "id": "4GhLeS2oZxcA",
        "outputId": "9c362782-2404-44c1-aada-e8d0cf7c8691"
      },
      "execution_count": 74,
      "outputs": [
        {
          "output_type": "stream",
          "name": "stdout",
          "text": [
            "Epoch 1/500\n",
            "2/2 [==============================] - 1s 23ms/step - loss: 25.3477 - mse: 1211.9485\n",
            "Epoch 2/500\n",
            "2/2 [==============================] - 0s 23ms/step - loss: 23.7719 - mse: 799.3497\n",
            "Epoch 3/500\n",
            "2/2 [==============================] - 0s 19ms/step - loss: 28.8265 - mse: 1248.3229\n",
            "Epoch 4/500\n",
            "2/2 [==============================] - 0s 14ms/step - loss: 16.1274 - mse: 371.2234\n",
            "Epoch 5/500\n",
            "2/2 [==============================] - 0s 13ms/step - loss: 22.5600 - mse: 745.5557\n",
            "Epoch 6/500\n",
            "2/2 [==============================] - 0s 10ms/step - loss: 10.6332 - mse: 125.7733\n",
            "Epoch 7/500\n",
            "2/2 [==============================] - 0s 8ms/step - loss: 11.6354 - mse: 165.6971\n",
            "Epoch 8/500\n",
            "2/2 [==============================] - 0s 9ms/step - loss: 11.2824 - mse: 183.7608\n",
            "Epoch 9/500\n",
            "2/2 [==============================] - 0s 9ms/step - loss: 42.5057 - mse: 2894.0483\n",
            "Epoch 10/500\n",
            "2/2 [==============================] - 0s 8ms/step - loss: 29.6353 - mse: 1243.9746\n",
            "Epoch 11/500\n",
            "2/2 [==============================] - 0s 8ms/step - loss: 7.7495 - mse: 83.6621\n",
            "Epoch 12/500\n",
            "2/2 [==============================] - 0s 9ms/step - loss: 28.5392 - mse: 1114.6869\n",
            "Epoch 13/500\n",
            "2/2 [==============================] - 0s 9ms/step - loss: 11.5381 - mse: 145.9564\n",
            "Epoch 14/500\n",
            "2/2 [==============================] - 0s 8ms/step - loss: 30.3871 - mse: 1480.9698\n",
            "Epoch 15/500\n",
            "2/2 [==============================] - 0s 13ms/step - loss: 20.1220 - mse: 568.2689\n",
            "Epoch 16/500\n",
            "2/2 [==============================] - 0s 10ms/step - loss: 9.9574 - mse: 125.3179\n",
            "Epoch 17/500\n",
            "2/2 [==============================] - 0s 10ms/step - loss: 17.9266 - mse: 426.8251\n",
            "Epoch 18/500\n",
            "2/2 [==============================] - 0s 8ms/step - loss: 14.3929 - mse: 328.9793\n",
            "Epoch 19/500\n",
            "2/2 [==============================] - 0s 7ms/step - loss: 14.5044 - mse: 331.3472\n",
            "Epoch 20/500\n",
            "2/2 [==============================] - 0s 7ms/step - loss: 10.4988 - mse: 148.6270\n",
            "Epoch 21/500\n",
            "2/2 [==============================] - 0s 9ms/step - loss: 15.2714 - mse: 316.5975\n",
            "Epoch 22/500\n",
            "2/2 [==============================] - 0s 8ms/step - loss: 15.6161 - mse: 336.2568\n",
            "Epoch 23/500\n",
            "2/2 [==============================] - 0s 11ms/step - loss: 9.2439 - mse: 118.9463\n",
            "Epoch 24/500\n",
            "2/2 [==============================] - 0s 7ms/step - loss: 17.2368 - mse: 406.7308\n",
            "Epoch 25/500\n",
            "2/2 [==============================] - 0s 12ms/step - loss: 15.9232 - mse: 332.8963\n",
            "Epoch 26/500\n",
            "2/2 [==============================] - 0s 10ms/step - loss: 20.8856 - mse: 647.1939\n",
            "Epoch 27/500\n",
            "2/2 [==============================] - 0s 7ms/step - loss: 26.0676 - mse: 1061.2866\n",
            "Epoch 28/500\n",
            "2/2 [==============================] - 0s 12ms/step - loss: 18.5525 - mse: 545.0076\n",
            "Epoch 29/500\n",
            "2/2 [==============================] - 0s 11ms/step - loss: 9.2568 - mse: 97.4761\n",
            "Epoch 30/500\n",
            "2/2 [==============================] - 0s 11ms/step - loss: 29.1640 - mse: 1522.0889\n",
            "Epoch 31/500\n",
            "2/2 [==============================] - 0s 10ms/step - loss: 52.8317 - mse: 4992.6201\n",
            "Epoch 32/500\n",
            "2/2 [==============================] - 0s 12ms/step - loss: 11.9688 - mse: 209.2949\n",
            "Epoch 33/500\n",
            "2/2 [==============================] - 0s 9ms/step - loss: 15.5753 - mse: 334.3795\n",
            "Epoch 34/500\n",
            "2/2 [==============================] - 0s 9ms/step - loss: 12.6563 - mse: 211.9664\n",
            "Epoch 35/500\n",
            "2/2 [==============================] - 0s 8ms/step - loss: 9.2290 - mse: 92.3987\n",
            "Epoch 36/500\n",
            "2/2 [==============================] - 0s 8ms/step - loss: 16.5602 - mse: 398.7462\n",
            "Epoch 37/500\n",
            "2/2 [==============================] - 0s 12ms/step - loss: 11.0728 - mse: 192.4860\n",
            "Epoch 38/500\n",
            "2/2 [==============================] - 0s 10ms/step - loss: 18.2003 - mse: 436.0291\n",
            "Epoch 39/500\n",
            "2/2 [==============================] - 0s 9ms/step - loss: 19.1357 - mse: 532.5892\n",
            "Epoch 40/500\n",
            "2/2 [==============================] - 0s 8ms/step - loss: 20.4926 - mse: 613.4205\n",
            "Epoch 41/500\n",
            "2/2 [==============================] - 0s 14ms/step - loss: 14.8514 - mse: 276.1893\n",
            "Epoch 42/500\n",
            "2/2 [==============================] - 0s 11ms/step - loss: 12.2366 - mse: 183.5221\n",
            "Epoch 43/500\n",
            "2/2 [==============================] - 0s 8ms/step - loss: 10.7161 - mse: 164.2267\n",
            "Epoch 44/500\n",
            "2/2 [==============================] - 0s 8ms/step - loss: 32.3256 - mse: 1719.3297\n",
            "Epoch 45/500\n",
            "2/2 [==============================] - 0s 8ms/step - loss: 12.4974 - mse: 202.9388\n",
            "Epoch 46/500\n",
            "2/2 [==============================] - 0s 7ms/step - loss: 17.5588 - mse: 462.0542\n",
            "Epoch 47/500\n",
            "2/2 [==============================] - 0s 8ms/step - loss: 15.7488 - mse: 339.0192\n",
            "Epoch 48/500\n",
            "2/2 [==============================] - 0s 8ms/step - loss: 8.3772 - mse: 112.9066\n",
            "Epoch 49/500\n",
            "2/2 [==============================] - 0s 8ms/step - loss: 13.9863 - mse: 268.9955\n",
            "Epoch 50/500\n",
            "2/2 [==============================] - 0s 8ms/step - loss: 12.8258 - mse: 215.4115\n",
            "Epoch 51/500\n",
            "2/2 [==============================] - 0s 8ms/step - loss: 14.8398 - mse: 309.4981\n",
            "Epoch 52/500\n",
            "2/2 [==============================] - 0s 8ms/step - loss: 18.7275 - mse: 529.7032\n",
            "Epoch 53/500\n",
            "2/2 [==============================] - 0s 7ms/step - loss: 24.1736 - mse: 828.7396\n",
            "Epoch 54/500\n",
            "2/2 [==============================] - 0s 7ms/step - loss: 23.1717 - mse: 804.2206\n",
            "Epoch 55/500\n",
            "2/2 [==============================] - 0s 8ms/step - loss: 24.0228 - mse: 868.3170\n",
            "Epoch 56/500\n",
            "2/2 [==============================] - 0s 10ms/step - loss: 11.1690 - mse: 171.3556\n",
            "Epoch 57/500\n",
            "2/2 [==============================] - 0s 8ms/step - loss: 13.1188 - mse: 213.8411\n",
            "Epoch 58/500\n",
            "2/2 [==============================] - 0s 7ms/step - loss: 9.8152 - mse: 106.3045\n",
            "Epoch 59/500\n",
            "2/2 [==============================] - 0s 9ms/step - loss: 13.2941 - mse: 248.3233\n",
            "Epoch 60/500\n",
            "2/2 [==============================] - 0s 7ms/step - loss: 10.8693 - mse: 139.0123\n",
            "Epoch 61/500\n",
            "2/2 [==============================] - 0s 7ms/step - loss: 13.4589 - mse: 240.4621\n",
            "Epoch 62/500\n",
            "2/2 [==============================] - 0s 7ms/step - loss: 17.4507 - mse: 464.5255\n",
            "Epoch 63/500\n",
            "2/2 [==============================] - 0s 8ms/step - loss: 9.1597 - mse: 87.8692\n",
            "Epoch 64/500\n",
            "2/2 [==============================] - 0s 9ms/step - loss: 18.3172 - mse: 487.7267\n",
            "Epoch 65/500\n",
            "2/2 [==============================] - 0s 9ms/step - loss: 10.1135 - mse: 114.5286\n",
            "Epoch 66/500\n",
            "2/2 [==============================] - 0s 8ms/step - loss: 24.1530 - mse: 879.4719\n",
            "Epoch 67/500\n",
            "2/2 [==============================] - 0s 8ms/step - loss: 10.8689 - mse: 141.5882\n",
            "Epoch 68/500\n",
            "2/2 [==============================] - 0s 11ms/step - loss: 10.7583 - mse: 157.0960\n",
            "Epoch 69/500\n",
            "2/2 [==============================] - 0s 7ms/step - loss: 23.1096 - mse: 771.4387\n",
            "Epoch 70/500\n",
            "2/2 [==============================] - 0s 8ms/step - loss: 8.8461 - mse: 143.0996\n",
            "Epoch 71/500\n",
            "2/2 [==============================] - 0s 9ms/step - loss: 16.0733 - mse: 352.2875\n",
            "Epoch 72/500\n",
            "2/2 [==============================] - 0s 9ms/step - loss: 7.7675 - mse: 91.5164\n",
            "Epoch 73/500\n",
            "2/2 [==============================] - 0s 8ms/step - loss: 10.1645 - mse: 165.3627\n",
            "Epoch 74/500\n",
            "2/2 [==============================] - 0s 8ms/step - loss: 28.3466 - mse: 1124.4315\n",
            "Epoch 75/500\n",
            "2/2 [==============================] - 0s 7ms/step - loss: 10.0063 - mse: 146.5027\n",
            "Epoch 76/500\n",
            "2/2 [==============================] - 0s 8ms/step - loss: 12.9181 - mse: 207.2117\n",
            "Epoch 77/500\n",
            "2/2 [==============================] - 0s 7ms/step - loss: 17.8429 - mse: 495.8147\n",
            "Epoch 78/500\n",
            "2/2 [==============================] - 0s 10ms/step - loss: 8.9697 - mse: 87.7048\n",
            "Epoch 79/500\n",
            "2/2 [==============================] - 0s 12ms/step - loss: 28.6438 - mse: 1294.7700\n",
            "Epoch 80/500\n",
            "2/2 [==============================] - 0s 7ms/step - loss: 30.9696 - mse: 1522.2030\n",
            "Epoch 81/500\n",
            "2/2 [==============================] - 0s 7ms/step - loss: 13.3739 - mse: 249.6077\n",
            "Epoch 82/500\n",
            "2/2 [==============================] - 0s 7ms/step - loss: 14.5395 - mse: 291.8094\n",
            "Epoch 83/500\n",
            "2/2 [==============================] - 0s 7ms/step - loss: 18.5689 - mse: 455.0956\n",
            "Epoch 84/500\n",
            "2/2 [==============================] - 0s 10ms/step - loss: 8.8295 - mse: 127.8292\n",
            "Epoch 85/500\n",
            "2/2 [==============================] - 0s 9ms/step - loss: 18.4525 - mse: 532.5739\n",
            "Epoch 86/500\n",
            "2/2 [==============================] - 0s 9ms/step - loss: 22.4770 - mse: 722.6979\n",
            "Epoch 87/500\n",
            "2/2 [==============================] - 0s 8ms/step - loss: 11.3639 - mse: 153.6809\n",
            "Epoch 88/500\n",
            "2/2 [==============================] - 0s 10ms/step - loss: 26.4805 - mse: 1001.2643\n",
            "Epoch 89/500\n",
            "2/2 [==============================] - 0s 8ms/step - loss: 9.6494 - mse: 130.5017\n",
            "Epoch 90/500\n",
            "2/2 [==============================] - 0s 11ms/step - loss: 18.6478 - mse: 498.6024\n",
            "Epoch 91/500\n",
            "2/2 [==============================] - 0s 9ms/step - loss: 10.4741 - mse: 165.3513\n",
            "Epoch 92/500\n",
            "2/2 [==============================] - 0s 11ms/step - loss: 17.8679 - mse: 436.4805\n",
            "Epoch 93/500\n",
            "2/2 [==============================] - 0s 8ms/step - loss: 6.6030 - mse: 62.7939\n",
            "Epoch 94/500\n",
            "2/2 [==============================] - 0s 8ms/step - loss: 11.1164 - mse: 151.2111\n",
            "Epoch 95/500\n",
            "2/2 [==============================] - 0s 10ms/step - loss: 24.1579 - mse: 874.6854\n",
            "Epoch 96/500\n",
            "2/2 [==============================] - 0s 9ms/step - loss: 10.7172 - mse: 174.2198\n",
            "Epoch 97/500\n",
            "2/2 [==============================] - 0s 10ms/step - loss: 15.2219 - mse: 350.4984\n",
            "Epoch 98/500\n",
            "2/2 [==============================] - 0s 8ms/step - loss: 8.2484 - mse: 113.2446\n",
            "Epoch 99/500\n",
            "2/2 [==============================] - 0s 9ms/step - loss: 16.0292 - mse: 359.9889\n",
            "Epoch 100/500\n",
            "2/2 [==============================] - 0s 9ms/step - loss: 16.5333 - mse: 403.9323\n",
            "Epoch 101/500\n",
            "2/2 [==============================] - 0s 8ms/step - loss: 12.1267 - mse: 204.5164\n",
            "Epoch 102/500\n",
            "2/2 [==============================] - 0s 7ms/step - loss: 14.1092 - mse: 266.0482\n",
            "Epoch 103/500\n",
            "2/2 [==============================] - 0s 8ms/step - loss: 9.6183 - mse: 102.2963\n",
            "Epoch 104/500\n",
            "2/2 [==============================] - 0s 9ms/step - loss: 26.5890 - mse: 1072.3265\n",
            "Epoch 105/500\n",
            "2/2 [==============================] - 0s 8ms/step - loss: 13.5628 - mse: 281.8718\n",
            "Epoch 106/500\n",
            "2/2 [==============================] - 0s 10ms/step - loss: 9.0568 - mse: 111.9349\n",
            "Epoch 107/500\n",
            "2/2 [==============================] - 0s 9ms/step - loss: 20.8145 - mse: 644.8921\n",
            "Epoch 108/500\n",
            "2/2 [==============================] - 0s 7ms/step - loss: 6.8282 - mse: 62.9437\n",
            "Epoch 109/500\n",
            "2/2 [==============================] - 0s 9ms/step - loss: 20.0318 - mse: 581.0562\n",
            "Epoch 110/500\n",
            "2/2 [==============================] - 0s 9ms/step - loss: 11.3797 - mse: 200.3241\n",
            "Epoch 111/500\n",
            "2/2 [==============================] - 0s 8ms/step - loss: 14.9482 - mse: 313.8481\n",
            "Epoch 112/500\n",
            "2/2 [==============================] - 0s 12ms/step - loss: 9.1907 - mse: 103.2973\n",
            "Epoch 113/500\n",
            "2/2 [==============================] - 0s 10ms/step - loss: 20.5516 - mse: 610.8848\n",
            "Epoch 114/500\n",
            "2/2 [==============================] - 0s 10ms/step - loss: 18.4583 - mse: 511.8286\n",
            "Epoch 115/500\n",
            "2/2 [==============================] - 0s 12ms/step - loss: 10.9467 - mse: 145.2386\n",
            "Epoch 116/500\n",
            "2/2 [==============================] - 0s 8ms/step - loss: 22.4244 - mse: 729.6797\n",
            "Epoch 117/500\n",
            "2/2 [==============================] - 0s 7ms/step - loss: 9.3850 - mse: 128.9282\n",
            "Epoch 118/500\n",
            "2/2 [==============================] - 0s 9ms/step - loss: 10.4030 - mse: 133.2273\n",
            "Epoch 119/500\n",
            "2/2 [==============================] - 0s 9ms/step - loss: 8.0640 - mse: 73.5706\n",
            "Epoch 120/500\n",
            "2/2 [==============================] - 0s 8ms/step - loss: 37.7228 - mse: 2219.1294\n",
            "Epoch 121/500\n",
            "2/2 [==============================] - 0s 9ms/step - loss: 10.6875 - mse: 168.8450\n",
            "Epoch 122/500\n",
            "2/2 [==============================] - 0s 8ms/step - loss: 28.2621 - mse: 1229.3137\n",
            "Epoch 123/500\n",
            "2/2 [==============================] - 0s 9ms/step - loss: 32.8372 - mse: 1586.1897\n",
            "Epoch 124/500\n",
            "2/2 [==============================] - 0s 9ms/step - loss: 19.6009 - mse: 570.0439\n",
            "Epoch 125/500\n",
            "2/2 [==============================] - 0s 8ms/step - loss: 7.0909 - mse: 73.9442\n",
            "Epoch 126/500\n",
            "2/2 [==============================] - 0s 8ms/step - loss: 21.7276 - mse: 660.9687\n",
            "Epoch 127/500\n",
            "2/2 [==============================] - 0s 8ms/step - loss: 8.0366 - mse: 70.2187\n",
            "Epoch 128/500\n",
            "2/2 [==============================] - 0s 7ms/step - loss: 20.9499 - mse: 646.1769\n",
            "Epoch 129/500\n",
            "2/2 [==============================] - 0s 8ms/step - loss: 9.0627 - mse: 119.3918\n",
            "Epoch 130/500\n",
            "2/2 [==============================] - 0s 9ms/step - loss: 23.8812 - mse: 804.1259\n",
            "Epoch 131/500\n",
            "2/2 [==============================] - 0s 14ms/step - loss: 9.7890 - mse: 131.0154\n",
            "Epoch 132/500\n",
            "2/2 [==============================] - 0s 15ms/step - loss: 18.1384 - mse: 491.2638\n",
            "Epoch 133/500\n",
            "2/2 [==============================] - 0s 10ms/step - loss: 6.8010 - mse: 61.9519\n",
            "Epoch 134/500\n",
            "2/2 [==============================] - 0s 10ms/step - loss: 20.3146 - mse: 609.4901\n",
            "Epoch 135/500\n",
            "2/2 [==============================] - 0s 12ms/step - loss: 10.5789 - mse: 149.9765\n",
            "Epoch 136/500\n",
            "2/2 [==============================] - 0s 8ms/step - loss: 18.1955 - mse: 468.1532\n",
            "Epoch 137/500\n",
            "2/2 [==============================] - 0s 9ms/step - loss: 23.0379 - mse: 715.5701\n",
            "Epoch 138/500\n",
            "2/2 [==============================] - 0s 8ms/step - loss: 9.1364 - mse: 141.4578\n",
            "Epoch 139/500\n",
            "2/2 [==============================] - 0s 9ms/step - loss: 8.9339 - mse: 147.5174\n",
            "Epoch 140/500\n",
            "2/2 [==============================] - 0s 7ms/step - loss: 16.3255 - mse: 382.5567\n",
            "Epoch 141/500\n",
            "2/2 [==============================] - 0s 8ms/step - loss: 8.4845 - mse: 90.0996\n",
            "Epoch 142/500\n",
            "2/2 [==============================] - 0s 8ms/step - loss: 36.5252 - mse: 2346.2400\n",
            "Epoch 143/500\n",
            "2/2 [==============================] - 0s 8ms/step - loss: 25.2804 - mse: 903.4330\n",
            "Epoch 144/500\n",
            "2/2 [==============================] - 0s 8ms/step - loss: 10.5021 - mse: 185.3449\n",
            "Epoch 145/500\n",
            "2/2 [==============================] - 0s 8ms/step - loss: 25.8212 - mse: 901.5936\n",
            "Epoch 146/500\n",
            "2/2 [==============================] - 0s 8ms/step - loss: 10.0163 - mse: 132.5584\n",
            "Epoch 147/500\n",
            "2/2 [==============================] - 0s 7ms/step - loss: 14.7419 - mse: 291.1313\n",
            "Epoch 148/500\n",
            "2/2 [==============================] - 0s 9ms/step - loss: 17.8477 - mse: 439.0754\n",
            "Epoch 149/500\n",
            "2/2 [==============================] - 0s 11ms/step - loss: 8.4899 - mse: 106.5389\n",
            "Epoch 150/500\n",
            "2/2 [==============================] - 0s 8ms/step - loss: 7.6554 - mse: 66.8944\n",
            "Epoch 151/500\n",
            "2/2 [==============================] - 0s 9ms/step - loss: 18.8452 - mse: 515.2037\n",
            "Epoch 152/500\n",
            "2/2 [==============================] - 0s 8ms/step - loss: 10.4947 - mse: 136.8783\n",
            "Epoch 153/500\n",
            "2/2 [==============================] - 0s 9ms/step - loss: 30.3431 - mse: 1335.3475\n",
            "Epoch 154/500\n",
            "2/2 [==============================] - 0s 10ms/step - loss: 10.0181 - mse: 178.3908\n",
            "Epoch 155/500\n",
            "2/2 [==============================] - 0s 9ms/step - loss: 15.7647 - mse: 368.9860\n",
            "Epoch 156/500\n",
            "2/2 [==============================] - 0s 10ms/step - loss: 17.6947 - mse: 464.9948\n",
            "Epoch 157/500\n",
            "2/2 [==============================] - 0s 8ms/step - loss: 31.0591 - mse: 1549.8474\n",
            "Epoch 158/500\n",
            "2/2 [==============================] - 0s 8ms/step - loss: 10.2338 - mse: 139.2202\n",
            "Epoch 159/500\n",
            "2/2 [==============================] - 0s 8ms/step - loss: 8.7127 - mse: 98.8099\n",
            "Epoch 160/500\n",
            "2/2 [==============================] - 0s 8ms/step - loss: 20.6932 - mse: 615.5515\n",
            "Epoch 161/500\n",
            "2/2 [==============================] - 0s 8ms/step - loss: 11.8134 - mse: 205.8514\n",
            "Epoch 162/500\n",
            "2/2 [==============================] - 0s 8ms/step - loss: 21.6592 - mse: 676.1838\n",
            "Epoch 163/500\n",
            "2/2 [==============================] - 0s 8ms/step - loss: 19.3393 - mse: 538.4987\n",
            "Epoch 164/500\n",
            "2/2 [==============================] - 0s 8ms/step - loss: 11.1194 - mse: 180.3433\n",
            "Epoch 165/500\n",
            "2/2 [==============================] - 0s 9ms/step - loss: 9.6438 - mse: 180.7837\n",
            "Epoch 166/500\n",
            "2/2 [==============================] - 0s 8ms/step - loss: 21.5930 - mse: 682.0780\n",
            "Epoch 167/500\n",
            "2/2 [==============================] - 0s 8ms/step - loss: 26.3028 - mse: 1050.7900\n",
            "Epoch 168/500\n",
            "2/2 [==============================] - 0s 7ms/step - loss: 9.9300 - mse: 119.6129\n",
            "Epoch 169/500\n",
            "2/2 [==============================] - 0s 8ms/step - loss: 22.5228 - mse: 785.1446\n",
            "Epoch 170/500\n",
            "2/2 [==============================] - 0s 8ms/step - loss: 10.1952 - mse: 196.6813\n",
            "Epoch 171/500\n",
            "2/2 [==============================] - 0s 8ms/step - loss: 18.0862 - mse: 504.9084\n",
            "Epoch 172/500\n",
            "2/2 [==============================] - 0s 8ms/step - loss: 28.7509 - mse: 1298.3971\n",
            "Epoch 173/500\n",
            "2/2 [==============================] - 0s 8ms/step - loss: 16.4827 - mse: 430.5388\n",
            "Epoch 174/500\n",
            "2/2 [==============================] - 0s 8ms/step - loss: 11.2538 - mse: 200.4646\n",
            "Epoch 175/500\n",
            "2/2 [==============================] - 0s 8ms/step - loss: 27.6142 - mse: 1099.5920\n",
            "Epoch 176/500\n",
            "2/2 [==============================] - 0s 8ms/step - loss: 8.3060 - mse: 78.1084\n",
            "Epoch 177/500\n",
            "2/2 [==============================] - 0s 8ms/step - loss: 9.3052 - mse: 109.6792\n",
            "Epoch 178/500\n",
            "2/2 [==============================] - 0s 8ms/step - loss: 18.0263 - mse: 460.9196\n",
            "Epoch 179/500\n",
            "2/2 [==============================] - 0s 7ms/step - loss: 10.6755 - mse: 149.9096\n",
            "Epoch 180/500\n",
            "2/2 [==============================] - 0s 8ms/step - loss: 7.9429 - mse: 102.8581\n",
            "Epoch 181/500\n",
            "2/2 [==============================] - 0s 8ms/step - loss: 17.2648 - mse: 432.3243\n",
            "Epoch 182/500\n",
            "2/2 [==============================] - 0s 8ms/step - loss: 11.0114 - mse: 156.7537\n",
            "Epoch 183/500\n",
            "2/2 [==============================] - 0s 9ms/step - loss: 11.6477 - mse: 202.0916\n",
            "Epoch 184/500\n",
            "2/2 [==============================] - 0s 8ms/step - loss: 30.1021 - mse: 1358.6881\n",
            "Epoch 185/500\n",
            "2/2 [==============================] - 0s 8ms/step - loss: 8.2466 - mse: 130.3762\n",
            "Epoch 186/500\n",
            "2/2 [==============================] - 0s 8ms/step - loss: 18.7549 - mse: 516.1210\n",
            "Epoch 187/500\n",
            "2/2 [==============================] - 0s 8ms/step - loss: 8.8305 - mse: 145.8497\n",
            "Epoch 188/500\n",
            "2/2 [==============================] - 0s 9ms/step - loss: 23.7495 - mse: 823.5780\n",
            "Epoch 189/500\n",
            "2/2 [==============================] - 0s 8ms/step - loss: 9.3998 - mse: 114.9480\n",
            "Epoch 190/500\n",
            "2/2 [==============================] - 0s 9ms/step - loss: 16.9764 - mse: 394.8840\n",
            "Epoch 191/500\n",
            "2/2 [==============================] - 0s 9ms/step - loss: 8.6519 - mse: 138.0922\n",
            "Epoch 192/500\n",
            "2/2 [==============================] - 0s 11ms/step - loss: 15.2138 - mse: 305.0709\n",
            "Epoch 193/500\n",
            "2/2 [==============================] - 0s 9ms/step - loss: 30.0652 - mse: 1248.4744\n",
            "Epoch 194/500\n",
            "2/2 [==============================] - 0s 8ms/step - loss: 9.7293 - mse: 165.8668\n",
            "Epoch 195/500\n",
            "2/2 [==============================] - 0s 8ms/step - loss: 12.0695 - mse: 241.5240\n",
            "Epoch 196/500\n",
            "2/2 [==============================] - 0s 8ms/step - loss: 23.4648 - mse: 795.2799\n",
            "Epoch 197/500\n",
            "2/2 [==============================] - 0s 8ms/step - loss: 17.7228 - mse: 462.2591\n",
            "Epoch 198/500\n",
            "2/2 [==============================] - 0s 8ms/step - loss: 12.5482 - mse: 238.6586\n",
            "Epoch 199/500\n",
            "2/2 [==============================] - 0s 8ms/step - loss: 17.9716 - mse: 463.4692\n",
            "Epoch 200/500\n",
            "2/2 [==============================] - 0s 8ms/step - loss: 13.8106 - mse: 284.3951\n",
            "Epoch 201/500\n",
            "2/2 [==============================] - 0s 8ms/step - loss: 5.5676 - mse: 42.4936\n",
            "Epoch 202/500\n",
            "2/2 [==============================] - 0s 9ms/step - loss: 13.7369 - mse: 294.7333\n",
            "Epoch 203/500\n",
            "2/2 [==============================] - 0s 10ms/step - loss: 9.5000 - mse: 141.8747\n",
            "Epoch 204/500\n",
            "2/2 [==============================] - 0s 8ms/step - loss: 20.8928 - mse: 651.4435\n",
            "Epoch 205/500\n",
            "2/2 [==============================] - 0s 8ms/step - loss: 9.6056 - mse: 129.4041\n",
            "Epoch 206/500\n",
            "2/2 [==============================] - 0s 8ms/step - loss: 11.2283 - mse: 172.1707\n",
            "Epoch 207/500\n",
            "2/2 [==============================] - 0s 10ms/step - loss: 17.7120 - mse: 474.1837\n",
            "Epoch 208/500\n",
            "2/2 [==============================] - 0s 8ms/step - loss: 14.4502 - mse: 300.4518\n",
            "Epoch 209/500\n",
            "2/2 [==============================] - 0s 7ms/step - loss: 16.7217 - mse: 413.5466\n",
            "Epoch 210/500\n",
            "2/2 [==============================] - 0s 7ms/step - loss: 18.2389 - mse: 484.9857\n",
            "Epoch 211/500\n",
            "2/2 [==============================] - 0s 7ms/step - loss: 10.0265 - mse: 147.2136\n",
            "Epoch 212/500\n",
            "2/2 [==============================] - 0s 8ms/step - loss: 18.6715 - mse: 525.8290\n",
            "Epoch 213/500\n",
            "2/2 [==============================] - 0s 7ms/step - loss: 14.9952 - mse: 306.2988\n",
            "Epoch 214/500\n",
            "2/2 [==============================] - 0s 7ms/step - loss: 14.5690 - mse: 292.0402\n",
            "Epoch 215/500\n",
            "2/2 [==============================] - 0s 10ms/step - loss: 23.2291 - mse: 794.5738\n",
            "Epoch 216/500\n",
            "2/2 [==============================] - 0s 8ms/step - loss: 13.5256 - mse: 283.6940\n",
            "Epoch 217/500\n",
            "2/2 [==============================] - 0s 7ms/step - loss: 10.0510 - mse: 141.6424\n",
            "Epoch 218/500\n",
            "2/2 [==============================] - 0s 7ms/step - loss: 12.5174 - mse: 206.0797\n",
            "Epoch 219/500\n",
            "2/2 [==============================] - 0s 8ms/step - loss: 5.3755 - mse: 42.0982\n",
            "Epoch 220/500\n",
            "2/2 [==============================] - 0s 8ms/step - loss: 11.9646 - mse: 220.0492\n",
            "Epoch 221/500\n",
            "2/2 [==============================] - 0s 8ms/step - loss: 24.8515 - mse: 918.8492\n",
            "Epoch 222/500\n",
            "2/2 [==============================] - 0s 8ms/step - loss: 23.0155 - mse: 832.0428\n",
            "Epoch 223/500\n",
            "2/2 [==============================] - 0s 8ms/step - loss: 11.0890 - mse: 181.6358\n",
            "Epoch 224/500\n",
            "2/2 [==============================] - 0s 8ms/step - loss: 15.0661 - mse: 340.2443\n",
            "Epoch 225/500\n",
            "2/2 [==============================] - 0s 7ms/step - loss: 17.1395 - mse: 381.5658\n",
            "Epoch 226/500\n",
            "2/2 [==============================] - 0s 7ms/step - loss: 16.3211 - mse: 393.3875\n",
            "Epoch 227/500\n",
            "2/2 [==============================] - 0s 8ms/step - loss: 16.6818 - mse: 393.5950\n",
            "Epoch 228/500\n",
            "2/2 [==============================] - 0s 7ms/step - loss: 10.0740 - mse: 183.1433\n",
            "Epoch 229/500\n",
            "2/2 [==============================] - 0s 7ms/step - loss: 18.0093 - mse: 453.3833\n",
            "Epoch 230/500\n",
            "2/2 [==============================] - 0s 9ms/step - loss: 15.6126 - mse: 314.9510\n",
            "Epoch 231/500\n",
            "2/2 [==============================] - 0s 8ms/step - loss: 21.2003 - mse: 668.4455\n",
            "Epoch 232/500\n",
            "2/2 [==============================] - 0s 8ms/step - loss: 25.0151 - mse: 894.3620\n",
            "Epoch 233/500\n",
            "2/2 [==============================] - 0s 7ms/step - loss: 16.1361 - mse: 379.7458\n",
            "Epoch 234/500\n",
            "2/2 [==============================] - 0s 8ms/step - loss: 7.3126 - mse: 67.2724\n",
            "Epoch 235/500\n",
            "2/2 [==============================] - 0s 7ms/step - loss: 16.7582 - mse: 392.6227\n",
            "Epoch 236/500\n",
            "2/2 [==============================] - 0s 8ms/step - loss: 7.1217 - mse: 70.9505\n",
            "Epoch 237/500\n",
            "2/2 [==============================] - 0s 7ms/step - loss: 9.1536 - mse: 118.9721\n",
            "Epoch 238/500\n",
            "2/2 [==============================] - 0s 8ms/step - loss: 8.1052 - mse: 87.9656\n",
            "Epoch 239/500\n",
            "2/2 [==============================] - 0s 7ms/step - loss: 16.5033 - mse: 410.9106\n",
            "Epoch 240/500\n",
            "2/2 [==============================] - 0s 7ms/step - loss: 9.4522 - mse: 115.6366\n",
            "Epoch 241/500\n",
            "2/2 [==============================] - 0s 8ms/step - loss: 14.1000 - mse: 299.1075\n",
            "Epoch 242/500\n",
            "2/2 [==============================] - 0s 7ms/step - loss: 9.2383 - mse: 117.1510\n",
            "Epoch 243/500\n",
            "2/2 [==============================] - 0s 7ms/step - loss: 20.2737 - mse: 626.8054\n",
            "Epoch 244/500\n",
            "2/2 [==============================] - 0s 8ms/step - loss: 14.2280 - mse: 280.1318\n",
            "Epoch 245/500\n",
            "2/2 [==============================] - 0s 8ms/step - loss: 14.8334 - mse: 297.2213\n",
            "Epoch 246/500\n",
            "2/2 [==============================] - 0s 8ms/step - loss: 15.9664 - mse: 379.8674\n",
            "Epoch 247/500\n",
            "2/2 [==============================] - 0s 9ms/step - loss: 17.8946 - mse: 432.5200\n",
            "Epoch 248/500\n",
            "2/2 [==============================] - 0s 8ms/step - loss: 13.4430 - mse: 255.6592\n",
            "Epoch 249/500\n",
            "2/2 [==============================] - 0s 8ms/step - loss: 14.6533 - mse: 295.7112\n",
            "Epoch 250/500\n",
            "2/2 [==============================] - 0s 9ms/step - loss: 23.4725 - mse: 807.3581\n",
            "Epoch 251/500\n",
            "2/2 [==============================] - 0s 8ms/step - loss: 7.6596 - mse: 76.8076\n",
            "Epoch 252/500\n",
            "2/2 [==============================] - 0s 7ms/step - loss: 46.2388 - mse: 3711.7708\n",
            "Epoch 253/500\n",
            "2/2 [==============================] - 0s 8ms/step - loss: 24.5456 - mse: 849.4352\n",
            "Epoch 254/500\n",
            "2/2 [==============================] - 0s 7ms/step - loss: 7.5281 - mse: 73.7741\n",
            "Epoch 255/500\n",
            "2/2 [==============================] - 0s 7ms/step - loss: 25.9603 - mse: 987.0145\n",
            "Epoch 256/500\n",
            "2/2 [==============================] - 0s 7ms/step - loss: 13.8518 - mse: 279.1952\n",
            "Epoch 257/500\n",
            "2/2 [==============================] - 0s 8ms/step - loss: 8.4404 - mse: 112.1836\n",
            "Epoch 258/500\n",
            "2/2 [==============================] - 0s 8ms/step - loss: 13.2886 - mse: 275.7101\n",
            "Epoch 259/500\n",
            "2/2 [==============================] - 0s 8ms/step - loss: 9.6013 - mse: 127.0485\n",
            "Epoch 260/500\n",
            "2/2 [==============================] - 0s 8ms/step - loss: 38.5037 - mse: 2337.7756\n",
            "Epoch 261/500\n",
            "2/2 [==============================] - 0s 8ms/step - loss: 15.6062 - mse: 355.7919\n",
            "Epoch 262/500\n",
            "2/2 [==============================] - 0s 8ms/step - loss: 5.8148 - mse: 62.4087\n",
            "Epoch 263/500\n",
            "2/2 [==============================] - 0s 7ms/step - loss: 14.6150 - mse: 306.7336\n",
            "Epoch 264/500\n",
            "2/2 [==============================] - 0s 7ms/step - loss: 18.7764 - mse: 522.8433\n",
            "Epoch 265/500\n",
            "2/2 [==============================] - 0s 7ms/step - loss: 13.1017 - mse: 259.4537\n",
            "Epoch 266/500\n",
            "2/2 [==============================] - 0s 7ms/step - loss: 10.3639 - mse: 221.0631\n",
            "Epoch 267/500\n",
            "2/2 [==============================] - 0s 7ms/step - loss: 6.0971 - mse: 60.9803\n",
            "Epoch 268/500\n",
            "2/2 [==============================] - 0s 8ms/step - loss: 18.7470 - mse: 532.7963\n",
            "Epoch 269/500\n",
            "2/2 [==============================] - 0s 8ms/step - loss: 42.0926 - mse: 2763.3477\n",
            "Epoch 270/500\n",
            "2/2 [==============================] - 0s 8ms/step - loss: 13.8941 - mse: 291.5505\n",
            "Epoch 271/500\n",
            "2/2 [==============================] - 0s 8ms/step - loss: 15.1086 - mse: 290.4774\n",
            "Epoch 272/500\n",
            "2/2 [==============================] - 0s 9ms/step - loss: 29.1459 - mse: 1164.5543\n",
            "Epoch 273/500\n",
            "2/2 [==============================] - 0s 9ms/step - loss: 5.5925 - mse: 49.1067\n",
            "Epoch 274/500\n",
            "2/2 [==============================] - 0s 6ms/step - loss: 13.8826 - mse: 304.8427\n",
            "Epoch 275/500\n",
            "2/2 [==============================] - 0s 7ms/step - loss: 16.9143 - mse: 403.3271\n",
            "Epoch 276/500\n",
            "2/2 [==============================] - 0s 7ms/step - loss: 12.8535 - mse: 242.9376\n",
            "Epoch 277/500\n",
            "2/2 [==============================] - 0s 9ms/step - loss: 30.4457 - mse: 1303.4133\n",
            "Epoch 278/500\n",
            "2/2 [==============================] - 0s 11ms/step - loss: 11.3486 - mse: 227.6700\n",
            "Epoch 279/500\n",
            "2/2 [==============================] - 0s 12ms/step - loss: 16.1139 - mse: 388.8678\n",
            "Epoch 280/500\n",
            "2/2 [==============================] - 0s 7ms/step - loss: 21.2099 - mse: 679.7345\n",
            "Epoch 281/500\n",
            "2/2 [==============================] - 0s 7ms/step - loss: 23.8062 - mse: 867.4056\n",
            "Epoch 282/500\n",
            "2/2 [==============================] - 0s 7ms/step - loss: 8.3659 - mse: 98.0765\n",
            "Epoch 283/500\n",
            "2/2 [==============================] - 0s 7ms/step - loss: 8.5335 - mse: 99.7400\n",
            "Epoch 284/500\n",
            "2/2 [==============================] - 0s 6ms/step - loss: 26.4715 - mse: 1067.1436\n",
            "Epoch 285/500\n",
            "2/2 [==============================] - 0s 7ms/step - loss: 15.0426 - mse: 358.3954\n",
            "Epoch 286/500\n",
            "2/2 [==============================] - 0s 8ms/step - loss: 8.6985 - mse: 156.2883\n",
            "Epoch 287/500\n",
            "2/2 [==============================] - 0s 7ms/step - loss: 22.3887 - mse: 734.2891\n",
            "Epoch 288/500\n",
            "2/2 [==============================] - 0s 7ms/step - loss: 23.1680 - mse: 803.1501\n",
            "Epoch 289/500\n",
            "2/2 [==============================] - 0s 7ms/step - loss: 12.1402 - mse: 243.4962\n",
            "Epoch 290/500\n",
            "2/2 [==============================] - 0s 6ms/step - loss: 16.7082 - mse: 375.7755\n",
            "Epoch 291/500\n",
            "2/2 [==============================] - 0s 7ms/step - loss: 17.0267 - mse: 425.7026\n",
            "Epoch 292/500\n",
            "2/2 [==============================] - 0s 7ms/step - loss: 10.2414 - mse: 251.6366\n",
            "Epoch 293/500\n",
            "2/2 [==============================] - 0s 7ms/step - loss: 15.0052 - mse: 304.1341\n",
            "Epoch 294/500\n",
            "2/2 [==============================] - 0s 7ms/step - loss: 22.1286 - mse: 746.2482\n",
            "Epoch 295/500\n",
            "2/2 [==============================] - 0s 7ms/step - loss: 19.2604 - mse: 532.1288\n",
            "Epoch 296/500\n",
            "2/2 [==============================] - 0s 7ms/step - loss: 6.8010 - mse: 61.5053\n",
            "Epoch 297/500\n",
            "2/2 [==============================] - 0s 6ms/step - loss: 9.7534 - mse: 204.0263\n",
            "Epoch 298/500\n",
            "2/2 [==============================] - 0s 7ms/step - loss: 23.8558 - mse: 827.8950\n",
            "Epoch 299/500\n",
            "2/2 [==============================] - 0s 7ms/step - loss: 16.0580 - mse: 389.1660\n",
            "Epoch 300/500\n",
            "2/2 [==============================] - 0s 6ms/step - loss: 7.0356 - mse: 63.9015\n",
            "Epoch 301/500\n",
            "2/2 [==============================] - 0s 7ms/step - loss: 24.9531 - mse: 879.4606\n",
            "Epoch 302/500\n",
            "2/2 [==============================] - 0s 8ms/step - loss: 8.3481 - mse: 98.3209\n",
            "Epoch 303/500\n",
            "2/2 [==============================] - 0s 8ms/step - loss: 21.2763 - mse: 668.1906\n",
            "Epoch 304/500\n",
            "2/2 [==============================] - 0s 8ms/step - loss: 13.8613 - mse: 283.0486\n",
            "Epoch 305/500\n",
            "2/2 [==============================] - 0s 8ms/step - loss: 7.1856 - mse: 93.1902\n",
            "Epoch 306/500\n",
            "2/2 [==============================] - 0s 7ms/step - loss: 19.3224 - mse: 522.3683\n",
            "Epoch 307/500\n",
            "2/2 [==============================] - 0s 7ms/step - loss: 9.0262 - mse: 165.2378\n",
            "Epoch 308/500\n",
            "2/2 [==============================] - 0s 8ms/step - loss: 20.6188 - mse: 652.1107\n",
            "Epoch 309/500\n",
            "2/2 [==============================] - 0s 8ms/step - loss: 13.5851 - mse: 289.2716\n",
            "Epoch 310/500\n",
            "2/2 [==============================] - 0s 7ms/step - loss: 6.7429 - mse: 97.6378\n",
            "Epoch 311/500\n",
            "2/2 [==============================] - 0s 7ms/step - loss: 13.4475 - mse: 252.0950\n",
            "Epoch 312/500\n",
            "2/2 [==============================] - 0s 10ms/step - loss: 30.2386 - mse: 1261.5557\n",
            "Epoch 313/500\n",
            "2/2 [==============================] - 0s 10ms/step - loss: 7.2684 - mse: 106.5261\n",
            "Epoch 314/500\n",
            "2/2 [==============================] - 0s 9ms/step - loss: 10.6303 - mse: 257.5388\n",
            "Epoch 315/500\n",
            "2/2 [==============================] - 0s 15ms/step - loss: 23.6741 - mse: 813.4941\n",
            "Epoch 316/500\n",
            "2/2 [==============================] - 0s 13ms/step - loss: 13.9983 - mse: 306.2934\n",
            "Epoch 317/500\n",
            "2/2 [==============================] - 0s 10ms/step - loss: 21.5508 - mse: 632.3781\n",
            "Epoch 318/500\n",
            "2/2 [==============================] - 0s 14ms/step - loss: 8.1708 - mse: 87.2600\n",
            "Epoch 319/500\n",
            "2/2 [==============================] - 0s 11ms/step - loss: 18.3300 - mse: 497.5867\n",
            "Epoch 320/500\n",
            "2/2 [==============================] - 0s 10ms/step - loss: 10.8340 - mse: 197.8631\n",
            "Epoch 321/500\n",
            "2/2 [==============================] - 0s 7ms/step - loss: 7.2049 - mse: 109.3565\n",
            "Epoch 322/500\n",
            "2/2 [==============================] - 0s 9ms/step - loss: 8.6972 - mse: 172.5783\n",
            "Epoch 323/500\n",
            "2/2 [==============================] - 0s 8ms/step - loss: 18.3331 - mse: 518.0633\n",
            "Epoch 324/500\n",
            "2/2 [==============================] - 0s 8ms/step - loss: 16.3932 - mse: 364.5880\n",
            "Epoch 325/500\n",
            "2/2 [==============================] - 0s 8ms/step - loss: 18.4098 - mse: 531.7066\n",
            "Epoch 326/500\n",
            "2/2 [==============================] - 0s 6ms/step - loss: 22.1663 - mse: 737.6134\n",
            "Epoch 327/500\n",
            "2/2 [==============================] - 0s 6ms/step - loss: 8.5100 - mse: 102.0767\n",
            "Epoch 328/500\n",
            "2/2 [==============================] - 0s 9ms/step - loss: 7.0470 - mse: 103.1965\n",
            "Epoch 329/500\n",
            "2/2 [==============================] - 0s 7ms/step - loss: 9.4782 - mse: 129.8851\n",
            "Epoch 330/500\n",
            "2/2 [==============================] - 0s 14ms/step - loss: 7.5858 - mse: 80.5181\n",
            "Epoch 331/500\n",
            "2/2 [==============================] - 0s 6ms/step - loss: 24.0890 - mse: 897.4313\n",
            "Epoch 332/500\n",
            "2/2 [==============================] - 0s 8ms/step - loss: 13.7213 - mse: 284.0656\n",
            "Epoch 333/500\n",
            "2/2 [==============================] - 0s 8ms/step - loss: 10.7892 - mse: 188.0586\n",
            "Epoch 334/500\n",
            "2/2 [==============================] - 0s 10ms/step - loss: 7.0244 - mse: 134.3410\n",
            "Epoch 335/500\n",
            "2/2 [==============================] - 0s 10ms/step - loss: 13.0224 - mse: 278.9850\n",
            "Epoch 336/500\n",
            "2/2 [==============================] - 0s 9ms/step - loss: 32.3573 - mse: 1427.7094\n",
            "Epoch 337/500\n",
            "2/2 [==============================] - 0s 9ms/step - loss: 10.5934 - mse: 178.1270\n",
            "Epoch 338/500\n",
            "2/2 [==============================] - 0s 12ms/step - loss: 20.0130 - mse: 588.5858\n",
            "Epoch 339/500\n",
            "2/2 [==============================] - 0s 11ms/step - loss: 34.1614 - mse: 1745.8148\n",
            "Epoch 340/500\n",
            "2/2 [==============================] - 0s 10ms/step - loss: 8.7636 - mse: 107.9701\n",
            "Epoch 341/500\n",
            "2/2 [==============================] - 0s 11ms/step - loss: 21.7763 - mse: 663.1630\n",
            "Epoch 342/500\n",
            "2/2 [==============================] - 0s 10ms/step - loss: 13.9069 - mse: 259.4212\n",
            "Epoch 343/500\n",
            "2/2 [==============================] - 0s 8ms/step - loss: 11.7716 - mse: 183.2109\n",
            "Epoch 344/500\n",
            "2/2 [==============================] - 0s 9ms/step - loss: 10.7562 - mse: 225.8072\n",
            "Epoch 345/500\n",
            "2/2 [==============================] - 0s 10ms/step - loss: 30.9544 - mse: 1346.7665\n",
            "Epoch 346/500\n",
            "2/2 [==============================] - 0s 10ms/step - loss: 10.6953 - mse: 257.2721\n",
            "Epoch 347/500\n",
            "2/2 [==============================] - 0s 9ms/step - loss: 25.6482 - mse: 920.3693\n",
            "Epoch 348/500\n",
            "2/2 [==============================] - 0s 10ms/step - loss: 13.1148 - mse: 267.8732\n",
            "Epoch 349/500\n",
            "2/2 [==============================] - 0s 9ms/step - loss: 13.1362 - mse: 250.1747\n",
            "Epoch 350/500\n",
            "2/2 [==============================] - 0s 12ms/step - loss: 15.4538 - mse: 331.4331\n",
            "Epoch 351/500\n",
            "2/2 [==============================] - 0s 10ms/step - loss: 32.9252 - mse: 1521.1927\n",
            "Epoch 352/500\n",
            "2/2 [==============================] - 0s 14ms/step - loss: 14.0715 - mse: 276.2633\n",
            "Epoch 353/500\n",
            "2/2 [==============================] - 0s 9ms/step - loss: 16.0583 - mse: 382.4121\n",
            "Epoch 354/500\n",
            "2/2 [==============================] - 0s 7ms/step - loss: 13.4004 - mse: 259.0988\n",
            "Epoch 355/500\n",
            "2/2 [==============================] - 0s 9ms/step - loss: 21.5872 - mse: 698.1568\n",
            "Epoch 356/500\n",
            "2/2 [==============================] - 0s 8ms/step - loss: 16.1115 - mse: 399.5666\n",
            "Epoch 357/500\n",
            "2/2 [==============================] - 0s 9ms/step - loss: 11.7215 - mse: 239.3094\n",
            "Epoch 358/500\n",
            "2/2 [==============================] - 0s 9ms/step - loss: 14.7609 - mse: 330.0059\n",
            "Epoch 359/500\n",
            "2/2 [==============================] - 0s 13ms/step - loss: 12.3427 - mse: 315.9196\n",
            "Epoch 360/500\n",
            "2/2 [==============================] - 0s 9ms/step - loss: 20.3252 - mse: 619.9000\n",
            "Epoch 361/500\n",
            "2/2 [==============================] - 0s 14ms/step - loss: 10.9814 - mse: 220.3830\n",
            "Epoch 362/500\n",
            "2/2 [==============================] - 0s 8ms/step - loss: 6.8943 - mse: 78.1232\n",
            "Epoch 363/500\n",
            "2/2 [==============================] - 0s 7ms/step - loss: 23.8568 - mse: 828.2203\n",
            "Epoch 364/500\n",
            "2/2 [==============================] - 0s 7ms/step - loss: 29.5831 - mse: 1270.2303\n",
            "Epoch 365/500\n",
            "2/2 [==============================] - 0s 9ms/step - loss: 8.3683 - mse: 108.3418\n",
            "Epoch 366/500\n",
            "2/2 [==============================] - 0s 12ms/step - loss: 6.1745 - mse: 50.0377\n",
            "Epoch 367/500\n",
            "2/2 [==============================] - 0s 7ms/step - loss: 34.5668 - mse: 1813.5918\n",
            "Epoch 368/500\n",
            "2/2 [==============================] - 0s 7ms/step - loss: 7.4229 - mse: 101.9883\n",
            "Epoch 369/500\n",
            "2/2 [==============================] - 0s 8ms/step - loss: 8.7539 - mse: 110.2224\n",
            "Epoch 370/500\n",
            "2/2 [==============================] - 0s 8ms/step - loss: 14.2456 - mse: 318.0819\n",
            "Epoch 371/500\n",
            "2/2 [==============================] - 0s 7ms/step - loss: 6.8980 - mse: 85.9314\n",
            "Epoch 372/500\n",
            "2/2 [==============================] - 0s 8ms/step - loss: 6.6136 - mse: 78.8226\n",
            "Epoch 373/500\n",
            "2/2 [==============================] - 0s 7ms/step - loss: 24.0703 - mse: 858.4554\n",
            "Epoch 374/500\n",
            "2/2 [==============================] - 0s 8ms/step - loss: 10.2754 - mse: 209.1429\n",
            "Epoch 375/500\n",
            "2/2 [==============================] - 0s 7ms/step - loss: 12.8883 - mse: 235.4848\n",
            "Epoch 376/500\n",
            "2/2 [==============================] - 0s 6ms/step - loss: 14.7577 - mse: 317.7848\n",
            "Epoch 377/500\n",
            "2/2 [==============================] - 0s 8ms/step - loss: 14.7091 - mse: 297.1278\n",
            "Epoch 378/500\n",
            "2/2 [==============================] - 0s 7ms/step - loss: 16.2230 - mse: 412.1879\n",
            "Epoch 379/500\n",
            "2/2 [==============================] - 0s 8ms/step - loss: 20.6834 - mse: 589.5364\n",
            "Epoch 380/500\n",
            "2/2 [==============================] - 0s 11ms/step - loss: 33.9780 - mse: 1733.9270\n",
            "Epoch 381/500\n",
            "2/2 [==============================] - 0s 7ms/step - loss: 8.3837 - mse: 104.2356\n",
            "Epoch 382/500\n",
            "2/2 [==============================] - 0s 7ms/step - loss: 13.3376 - mse: 290.4326\n",
            "Epoch 383/500\n",
            "2/2 [==============================] - 0s 8ms/step - loss: 8.2751 - mse: 126.1018\n",
            "Epoch 384/500\n",
            "2/2 [==============================] - 0s 7ms/step - loss: 7.3172 - mse: 74.9979\n",
            "Epoch 385/500\n",
            "2/2 [==============================] - 0s 8ms/step - loss: 10.9068 - mse: 253.3566\n",
            "Epoch 386/500\n",
            "2/2 [==============================] - 0s 8ms/step - loss: 19.6645 - mse: 596.3508\n",
            "Epoch 387/500\n",
            "2/2 [==============================] - 0s 12ms/step - loss: 25.1012 - mse: 915.0713\n",
            "Epoch 388/500\n",
            "2/2 [==============================] - 0s 8ms/step - loss: 8.8879 - mse: 130.9535\n",
            "Epoch 389/500\n",
            "2/2 [==============================] - 0s 8ms/step - loss: 6.0305 - mse: 50.2997\n",
            "Epoch 390/500\n",
            "2/2 [==============================] - 0s 7ms/step - loss: 24.6416 - mse: 897.4621\n",
            "Epoch 391/500\n",
            "2/2 [==============================] - 0s 8ms/step - loss: 6.0690 - mse: 72.9809\n",
            "Epoch 392/500\n",
            "2/2 [==============================] - 0s 8ms/step - loss: 16.3276 - mse: 375.7648\n",
            "Epoch 393/500\n",
            "2/2 [==============================] - 0s 6ms/step - loss: 6.5945 - mse: 71.8288\n",
            "Epoch 394/500\n",
            "2/2 [==============================] - 0s 8ms/step - loss: 12.6806 - mse: 259.8777\n",
            "Epoch 395/500\n",
            "2/2 [==============================] - 0s 7ms/step - loss: 12.5657 - mse: 258.7039\n",
            "Epoch 396/500\n",
            "2/2 [==============================] - 0s 10ms/step - loss: 7.4585 - mse: 103.2985\n",
            "Epoch 397/500\n",
            "2/2 [==============================] - 0s 9ms/step - loss: 7.6870 - mse: 93.4077\n",
            "Epoch 398/500\n",
            "2/2 [==============================] - 0s 10ms/step - loss: 20.4802 - mse: 581.4894\n",
            "Epoch 399/500\n",
            "2/2 [==============================] - 0s 7ms/step - loss: 5.0208 - mse: 41.0522\n",
            "Epoch 400/500\n",
            "2/2 [==============================] - 0s 8ms/step - loss: 25.9139 - mse: 985.8205\n",
            "Epoch 401/500\n",
            "2/2 [==============================] - 0s 8ms/step - loss: 10.0428 - mse: 183.2413\n",
            "Epoch 402/500\n",
            "2/2 [==============================] - 0s 7ms/step - loss: 11.4704 - mse: 226.9969\n",
            "Epoch 403/500\n",
            "2/2 [==============================] - 0s 8ms/step - loss: 11.7235 - mse: 291.8742\n",
            "Epoch 404/500\n",
            "2/2 [==============================] - 0s 13ms/step - loss: 22.7846 - mse: 728.9126\n",
            "Epoch 405/500\n",
            "2/2 [==============================] - 0s 9ms/step - loss: 18.4381 - mse: 518.3104\n",
            "Epoch 406/500\n",
            "2/2 [==============================] - 0s 7ms/step - loss: 7.2374 - mse: 79.4357\n",
            "Epoch 407/500\n",
            "2/2 [==============================] - 0s 8ms/step - loss: 12.9104 - mse: 277.1963\n",
            "Epoch 408/500\n",
            "2/2 [==============================] - 0s 8ms/step - loss: 5.7556 - mse: 43.5774\n",
            "Epoch 409/500\n",
            "2/2 [==============================] - 0s 8ms/step - loss: 31.6448 - mse: 1555.7170\n",
            "Epoch 410/500\n",
            "2/2 [==============================] - 0s 8ms/step - loss: 8.7933 - mse: 193.8321\n",
            "Epoch 411/500\n",
            "2/2 [==============================] - 0s 9ms/step - loss: 15.1768 - mse: 297.9124\n",
            "Epoch 412/500\n",
            "2/2 [==============================] - 0s 8ms/step - loss: 22.2695 - mse: 753.9513\n",
            "Epoch 413/500\n",
            "2/2 [==============================] - 0s 12ms/step - loss: 15.7973 - mse: 366.5244\n",
            "Epoch 414/500\n",
            "2/2 [==============================] - 0s 8ms/step - loss: 6.1250 - mse: 88.0344\n",
            "Epoch 415/500\n",
            "2/2 [==============================] - 0s 13ms/step - loss: 13.2417 - mse: 240.2986\n",
            "Epoch 416/500\n",
            "2/2 [==============================] - 0s 11ms/step - loss: 27.4699 - mse: 1040.9016\n",
            "Epoch 417/500\n",
            "2/2 [==============================] - 0s 7ms/step - loss: 10.5224 - mse: 204.8550\n",
            "Epoch 418/500\n",
            "2/2 [==============================] - 0s 8ms/step - loss: 12.8739 - mse: 238.0334\n",
            "Epoch 419/500\n",
            "2/2 [==============================] - 0s 7ms/step - loss: 15.9242 - mse: 377.4924\n",
            "Epoch 420/500\n",
            "2/2 [==============================] - 0s 7ms/step - loss: 24.8210 - mse: 853.6790\n",
            "Epoch 421/500\n",
            "2/2 [==============================] - 0s 10ms/step - loss: 17.2135 - mse: 437.2085\n",
            "Epoch 422/500\n",
            "2/2 [==============================] - 0s 8ms/step - loss: 7.8620 - mse: 154.7053\n",
            "Epoch 423/500\n",
            "2/2 [==============================] - 0s 7ms/step - loss: 25.4559 - mse: 912.3738\n",
            "Epoch 424/500\n",
            "2/2 [==============================] - 0s 11ms/step - loss: 14.9328 - mse: 363.8926\n",
            "Epoch 425/500\n",
            "2/2 [==============================] - 0s 6ms/step - loss: 7.1477 - mse: 75.1743\n",
            "Epoch 426/500\n",
            "2/2 [==============================] - 0s 7ms/step - loss: 20.1175 - mse: 560.2109\n",
            "Epoch 427/500\n",
            "2/2 [==============================] - 0s 7ms/step - loss: 6.2986 - mse: 86.3908\n",
            "Epoch 428/500\n",
            "2/2 [==============================] - 0s 7ms/step - loss: 12.6185 - mse: 270.4100\n",
            "Epoch 429/500\n",
            "2/2 [==============================] - 0s 7ms/step - loss: 12.0473 - mse: 229.4648\n",
            "Epoch 430/500\n",
            "2/2 [==============================] - 0s 7ms/step - loss: 11.0559 - mse: 242.5835\n",
            "Epoch 431/500\n",
            "2/2 [==============================] - 0s 7ms/step - loss: 9.9944 - mse: 193.9048\n",
            "Epoch 432/500\n",
            "2/2 [==============================] - 0s 7ms/step - loss: 13.3063 - mse: 289.5981\n",
            "Epoch 433/500\n",
            "2/2 [==============================] - 0s 8ms/step - loss: 11.4189 - mse: 292.7140\n",
            "Epoch 434/500\n",
            "2/2 [==============================] - 0s 8ms/step - loss: 30.4450 - mse: 1300.0862\n",
            "Epoch 435/500\n",
            "2/2 [==============================] - 0s 7ms/step - loss: 10.5463 - mse: 279.3598\n",
            "Epoch 436/500\n",
            "2/2 [==============================] - 0s 6ms/step - loss: 28.9393 - mse: 1220.4436\n",
            "Epoch 437/500\n",
            "2/2 [==============================] - 0s 9ms/step - loss: 8.6857 - mse: 207.0930\n",
            "Epoch 438/500\n",
            "2/2 [==============================] - 0s 8ms/step - loss: 12.7652 - mse: 261.8470\n",
            "Epoch 439/500\n",
            "2/2 [==============================] - 0s 8ms/step - loss: 33.7137 - mse: 1573.5359\n",
            "Epoch 440/500\n",
            "2/2 [==============================] - 0s 12ms/step - loss: 15.1728 - mse: 297.6273\n",
            "Epoch 441/500\n",
            "2/2 [==============================] - 0s 10ms/step - loss: 17.5417 - mse: 492.2858\n",
            "Epoch 442/500\n",
            "2/2 [==============================] - 0s 11ms/step - loss: 22.4197 - mse: 757.1112\n",
            "Epoch 443/500\n",
            "2/2 [==============================] - 0s 9ms/step - loss: 23.3149 - mse: 765.3830\n",
            "Epoch 444/500\n",
            "2/2 [==============================] - 0s 7ms/step - loss: 10.7915 - mse: 198.6379\n",
            "Epoch 445/500\n",
            "2/2 [==============================] - 0s 8ms/step - loss: 14.9956 - mse: 320.7943\n",
            "Epoch 446/500\n",
            "2/2 [==============================] - 0s 8ms/step - loss: 18.1118 - mse: 521.5501\n",
            "Epoch 447/500\n",
            "2/2 [==============================] - 0s 8ms/step - loss: 5.3677 - mse: 51.7930\n",
            "Epoch 448/500\n",
            "2/2 [==============================] - 0s 8ms/step - loss: 10.1705 - mse: 249.6790\n",
            "Epoch 449/500\n",
            "2/2 [==============================] - 0s 7ms/step - loss: 14.0994 - mse: 279.8250\n",
            "Epoch 450/500\n",
            "2/2 [==============================] - 0s 8ms/step - loss: 16.8748 - mse: 430.5737\n",
            "Epoch 451/500\n",
            "2/2 [==============================] - 0s 7ms/step - loss: 14.3435 - mse: 307.8325\n",
            "Epoch 452/500\n",
            "2/2 [==============================] - 0s 7ms/step - loss: 30.7009 - mse: 1336.1658\n",
            "Epoch 453/500\n",
            "2/2 [==============================] - 0s 9ms/step - loss: 8.4277 - mse: 200.4420\n",
            "Epoch 454/500\n",
            "2/2 [==============================] - 0s 8ms/step - loss: 27.6210 - mse: 1065.9719\n",
            "Epoch 455/500\n",
            "2/2 [==============================] - 0s 7ms/step - loss: 10.0269 - mse: 191.3636\n",
            "Epoch 456/500\n",
            "2/2 [==============================] - 0s 8ms/step - loss: 14.5872 - mse: 288.6198\n",
            "Epoch 457/500\n",
            "2/2 [==============================] - 0s 7ms/step - loss: 17.7418 - mse: 479.4737\n",
            "Epoch 458/500\n",
            "2/2 [==============================] - 0s 8ms/step - loss: 14.0496 - mse: 270.2622\n",
            "Epoch 459/500\n",
            "2/2 [==============================] - 0s 8ms/step - loss: 25.9463 - mse: 971.4789\n",
            "Epoch 460/500\n",
            "2/2 [==============================] - 0s 8ms/step - loss: 14.9243 - mse: 332.0969\n",
            "Epoch 461/500\n",
            "2/2 [==============================] - 0s 8ms/step - loss: 11.9883 - mse: 264.3549\n",
            "Epoch 462/500\n",
            "2/2 [==============================] - 0s 8ms/step - loss: 13.2937 - mse: 244.5129\n",
            "Epoch 463/500\n",
            "2/2 [==============================] - 0s 12ms/step - loss: 29.4937 - mse: 1215.1172\n",
            "Epoch 464/500\n",
            "2/2 [==============================] - 0s 7ms/step - loss: 3.2674 - mse: 14.5313\n",
            "Epoch 465/500\n",
            "2/2 [==============================] - 0s 7ms/step - loss: 7.6353 - mse: 152.4447\n",
            "Epoch 466/500\n",
            "2/2 [==============================] - 0s 8ms/step - loss: 16.5577 - mse: 444.9456\n",
            "Epoch 467/500\n",
            "2/2 [==============================] - 0s 7ms/step - loss: 17.5447 - mse: 484.0291\n",
            "Epoch 468/500\n",
            "2/2 [==============================] - 0s 7ms/step - loss: 12.9445 - mse: 246.1619\n",
            "Epoch 469/500\n",
            "2/2 [==============================] - 0s 8ms/step - loss: 29.2523 - mse: 1191.7400\n",
            "Epoch 470/500\n",
            "2/2 [==============================] - 0s 8ms/step - loss: 7.2709 - mse: 95.7147\n",
            "Epoch 471/500\n",
            "2/2 [==============================] - 0s 11ms/step - loss: 26.0516 - mse: 997.3192\n",
            "Epoch 472/500\n",
            "2/2 [==============================] - 0s 8ms/step - loss: 12.4917 - mse: 240.5659\n",
            "Epoch 473/500\n",
            "2/2 [==============================] - 0s 7ms/step - loss: 14.8321 - mse: 358.8329\n",
            "Epoch 474/500\n",
            "2/2 [==============================] - 0s 8ms/step - loss: 18.8188 - mse: 549.7783\n",
            "Epoch 475/500\n",
            "2/2 [==============================] - 0s 9ms/step - loss: 11.9236 - mse: 227.6331\n",
            "Epoch 476/500\n",
            "2/2 [==============================] - 0s 7ms/step - loss: 13.4998 - mse: 249.8149\n",
            "Epoch 477/500\n",
            "2/2 [==============================] - 0s 7ms/step - loss: 29.8957 - mse: 1247.7054\n",
            "Epoch 478/500\n",
            "2/2 [==============================] - 0s 8ms/step - loss: 4.3429 - mse: 45.7618\n",
            "Epoch 479/500\n",
            "2/2 [==============================] - 0s 7ms/step - loss: 13.6494 - mse: 265.2263\n",
            "Epoch 480/500\n",
            "2/2 [==============================] - 0s 8ms/step - loss: 20.3467 - mse: 636.0990\n",
            "Epoch 481/500\n",
            "2/2 [==============================] - 0s 7ms/step - loss: 24.3170 - mse: 882.0854\n",
            "Epoch 482/500\n",
            "2/2 [==============================] - 0s 8ms/step - loss: 13.1562 - mse: 272.1861\n",
            "Epoch 483/500\n",
            "2/2 [==============================] - 0s 7ms/step - loss: 8.8436 - mse: 193.7251\n",
            "Epoch 484/500\n",
            "2/2 [==============================] - 0s 7ms/step - loss: 28.0036 - mse: 1109.5845\n",
            "Epoch 485/500\n",
            "2/2 [==============================] - 0s 8ms/step - loss: 8.2499 - mse: 139.8579\n",
            "Epoch 486/500\n",
            "2/2 [==============================] - 0s 7ms/step - loss: 7.1210 - mse: 81.0037\n",
            "Epoch 487/500\n",
            "2/2 [==============================] - 0s 8ms/step - loss: 12.1945 - mse: 259.2433\n",
            "Epoch 488/500\n",
            "2/2 [==============================] - 0s 6ms/step - loss: 27.9294 - mse: 1129.1343\n",
            "Epoch 489/500\n",
            "2/2 [==============================] - 0s 7ms/step - loss: 3.9408 - mse: 34.0879\n",
            "Epoch 490/500\n",
            "2/2 [==============================] - 0s 9ms/step - loss: 11.7737 - mse: 264.2416\n",
            "Epoch 491/500\n",
            "2/2 [==============================] - 0s 9ms/step - loss: 5.9206 - mse: 60.1806\n",
            "Epoch 492/500\n",
            "2/2 [==============================] - 0s 7ms/step - loss: 15.7720 - mse: 370.5971\n",
            "Epoch 493/500\n",
            "2/2 [==============================] - 0s 8ms/step - loss: 8.4460 - mse: 246.2153\n",
            "Epoch 494/500\n",
            "2/2 [==============================] - 0s 8ms/step - loss: 13.5761 - mse: 253.2183\n",
            "Epoch 495/500\n",
            "2/2 [==============================] - 0s 8ms/step - loss: 14.5870 - mse: 293.8681\n",
            "Epoch 496/500\n",
            "2/2 [==============================] - 0s 11ms/step - loss: 12.7956 - mse: 241.9671\n",
            "Epoch 497/500\n",
            "2/2 [==============================] - 0s 9ms/step - loss: 17.8355 - mse: 525.6698\n",
            "Epoch 498/500\n",
            "2/2 [==============================] - 0s 10ms/step - loss: 23.0764 - mse: 779.8247\n",
            "Epoch 499/500\n",
            "2/2 [==============================] - 0s 11ms/step - loss: 8.8836 - mse: 123.2584\n",
            "Epoch 500/500\n",
            "2/2 [==============================] - 0s 6ms/step - loss: 14.4098 - mse: 275.6633\n"
          ]
        },
        {
          "output_type": "execute_result",
          "data": {
            "text/plain": [
              "<keras.callbacks.History at 0x7f9af0b363e0>"
            ]
          },
          "metadata": {},
          "execution_count": 74
        }
      ]
    },
    {
      "cell_type": "code",
      "source": [
        "y_pred_3=model_3.predict(X_test)\n",
        "plot_predictions(predictions=y_pred_3)"
      ],
      "metadata": {
        "colab": {
          "base_uri": "https://localhost:8080/",
          "height": 617
        },
        "id": "kTAStMj_aKQY",
        "outputId": "cd18c0ac-3dda-4910-ef97-8eecd798b4a0"
      },
      "execution_count": 75,
      "outputs": [
        {
          "output_type": "stream",
          "name": "stdout",
          "text": [
            "1/1 [==============================] - 0s 58ms/step\n"
          ]
        },
        {
          "output_type": "display_data",
          "data": {
            "text/plain": [
              "<Figure size 1000x700 with 1 Axes>"
            ],
            "image/png": "[encoded data removed]"
          },
          "metadata": {}
        }
      ]
    },
    {
      "cell_type": "code",
      "source": [
        "mae_3=mae(y_test,y_pred_3)\n",
        "mse_3=mse(y_test,y_pred_3)\n",
        "mae_3,mse_3"
      ],
      "metadata": {
        "colab": {
          "base_uri": "https://localhost:8080/"
        },
        "id": "TzQPQ3weabxK",
        "outputId": "e0d78ec9-77e3-4567-e2e7-fef6711af6f5"
      },
      "execution_count": 76,
      "outputs": [
        {
          "output_type": "execute_result",
          "data": {
            "text/plain": [
              "(<tf.Tensor: shape=(), dtype=float32, numpy=67.99162>,\n",
              " <tf.Tensor: shape=(), dtype=float32, numpy=4707.503>)"
            ]
          },
          "metadata": {},
          "execution_count": 76
        }
      ]
    },
    {
      "cell_type": "markdown",
      "source": [
        "### Comparing results of our experiment\n",
        "Comparing results of our models\n"
      ],
      "metadata": {
        "id": "hROuqRpYcoIR"
      }
    },
    {
      "cell_type": "code",
      "source": [
        "import pandas as pd\n",
        "model_results = [[\"model_1\",mae_1.numpy(),mse_1.numpy()],\n",
        "                [\"model_2\",mae_2.numpy(),mse_2.numpy()],\n",
        "                [\"model_3\",mae_3.numpy(),mse_3.numpy()]]\n",
        "\n",
        "all_results = pd.DataFrame(model_results,columns=[\"Model\",\"mae\",\"mse\"])\n",
        "all_results"
      ],
      "metadata": {
        "colab": {
          "base_uri": "https://localhost:8080/",
          "height": 143
        },
        "id": "Uc3zHDC6ahTr",
        "outputId": "e436d239-c15f-4718-8804-d822597dcb2f"
      },
      "execution_count": 91,
      "outputs": [
        {
          "output_type": "execute_result",
          "data": {
            "text/plain": [
              "     Model        mae          mse\n",
              "0  model_1  21.269928   455.840271\n",
              "1  model_2   2.033271     6.081401\n",
              "2  model_3  67.991623  4707.502930"
            ],
            "text/html": [
              "\n",
              "  <div id=\"df-b30d06c9-a58e-40a8-bb50-0dfb95ff29b8\">\n",
              "    <div class=\"colab-df-container\">\n",
              "      <div>\n",
              "<style scoped>\n",
              "    .dataframe tbody tr th:only-of-type {\n",
              "        vertical-align: middle;\n",
              "    }\n",
              "\n",
              "    .dataframe tbody tr th {\n",
              "        vertical-align: top;\n",
              "    }\n",
              "\n",
              "    .dataframe thead th {\n",
              "        text-align: right;\n",
              "    }\n",
              "</style>\n",
              "<table border=\"1\" class=\"dataframe\">\n",
              "  <thead>\n",
              "    <tr style=\"text-align: right;\">\n",
              "      <th></th>\n",
              "      <th>Model</th>\n",
              "      <th>mae</th>\n",
              "      <th>mse</th>\n",
              "    </tr>\n",
              "  </thead>\n",
              "  <tbody>\n",
              "    <tr>\n",
              "      <th>0</th>\n",
              "      <td>model_1</td>\n",
              "      <td>21.269928</td>\n",
              "      <td>455.840271</td>\n",
              "    </tr>\n",
              "    <tr>\n",
              "      <th>1</th>\n",
              "      <td>model_2</td>\n",
              "      <td>2.033271</td>\n",
              "      <td>6.081401</td>\n",
              "    </tr>\n",
              "    <tr>\n",
              "      <th>2</th>\n",
              "      <td>model_3</td>\n",
              "      <td>67.991623</td>\n",
              "      <td>4707.502930</td>\n",
              "    </tr>\n",
              "  </tbody>\n",
              "</table>\n",
              "</div>\n",
              "      <button class=\"colab-df-convert\" onclick=\"convertToInteractive('df-b30d06c9-a58e-40a8-bb50-0dfb95ff29b8')\"\n",
              "              title=\"Convert this dataframe to an interactive table.\"\n",
              "              style=\"display:none;\">\n",
              "        \n",
              "  <svg xmlns=\"http://www.w3.org/2000/svg\" height=\"24px\"viewBox=\"0 0 24 24\"\n",
              "       width=\"24px\">\n",
              "    <path d=\"M0 0h24v24H0V0z\" fill=\"none\"/>\n",
              "    <path d=\"M18.56 5.44l.94 2.06.94-2.06 2.06-.94-2.06-.94-.94-2.06-.94 2.06-2.06.94zm-11 1L8.5 8.5l.94-2.06 2.06-.94-2.06-.94L8.5 2.5l-.94 2.06-2.06.94zm10 10l.94 2.06.94-2.06 2.06-.94-2.06-.94-.94-2.06-.94 2.06-2.06.94z\"/><path d=\"M17.41 7.96l-1.37-1.37c-.4-.4-.92-.59-1.43-.59-.52 0-1.04.2-1.43.59L10.3 9.45l-7.72 7.72c-.78.78-.78 2.05 0 2.83L4 21.41c.39.39.9.59 1.41.59.51 0 1.02-.2 1.41-.59l7.78-7.78 2.81-2.81c.8-.78.8-2.07 0-2.86zM5.41 20L4 18.59l7.72-7.72 1.47 1.35L5.41 20z\"/>\n",
              "  </svg>\n",
              "      </button>\n",
              "      \n",
              "  <style>\n",
              "    .colab-df-container {\n",
              "      display:flex;\n",
              "      flex-wrap:wrap;\n",
              "      gap: 12px;\n",
              "    }\n",
              "\n",
              "    .colab-df-convert {\n",
              "      background-color: #E8F0FE;\n",
              "      border: none;\n",
              "      border-radius: 50%;\n",
              "      cursor: pointer;\n",
              "      display: none;\n",
              "      fill: #1967D2;\n",
              "      height: 32px;\n",
              "      padding: 0 0 0 0;\n",
              "      width: 32px;\n",
              "    }\n",
              "\n",
              "    .colab-df-convert:hover {\n",
              "      background-color: #E2EBFA;\n",
              "      box-shadow: 0px 1px 2px rgba(60, 64, 67, 0.3), 0px 1px 3px 1px rgba(60, 64, 67, 0.15);\n",
              "      fill: #174EA6;\n",
              "    }\n",
              "\n",
              "    [theme=dark] .colab-df-convert {\n",
              "      background-color: #3B4455;\n",
              "      fill: #D2E3FC;\n",
              "    }\n",
              "\n",
              "    [theme=dark] .colab-df-convert:hover {\n",
              "      background-color: #434B5C;\n",
              "      box-shadow: 0px 1px 3px 1px rgba(0, 0, 0, 0.15);\n",
              "      filter: drop-shadow(0px 1px 2px rgba(0, 0, 0, 0.3));\n",
              "      fill: #FFFFFF;\n",
              "    }\n",
              "  </style>\n",
              "\n",
              "      <script>\n",
              "        const buttonEl =\n",
              "          document.querySelector('#df-b30d06c9-a58e-40a8-bb50-0dfb95ff29b8 button.colab-df-convert');\n",
              "        buttonEl.style.display =\n",
              "          google.colab.kernel.accessAllowed ? 'block' : 'none';\n",
              "\n",
              "        async function convertToInteractive(key) {\n",
              "          const element = document.querySelector('#df-b30d06c9-a58e-40a8-bb50-0dfb95ff29b8');\n",
              "          const dataTable =\n",
              "            await google.colab.kernel.invokeFunction('convertToInteractive',\n",
              "                                                     [key], {});\n",
              "          if (!dataTable) return;\n",
              "\n",
              "          const docLinkHtml = 'Like what you see? Visit the ' +\n",
              "            '<a target=\"_blank\" href=https://colab.research.google.com/notebooks/data_table.ipynb>data table notebook</a>'\n",
              "            + ' to learn more about interactive tables.';\n",
              "          element.innerHTML = '';\n",
              "          dataTable['output_type'] = 'display_data';\n",
              "          await google.colab.output.renderOutput(dataTable, element);\n",
              "          const docLink = document.createElement('div');\n",
              "          docLink.innerHTML = docLinkHtml;\n",
              "          element.appendChild(docLink);\n",
              "        }\n",
              "      </script>\n",
              "    </div>\n",
              "  </div>\n",
              "  "
            ]
          },
          "metadata": {},
          "execution_count": 91
        }
      ]
    },
    {
      "cell_type": "markdown",
      "source": [
        "`model_2` is best\n"
      ],
      "metadata": {
        "id": "zo90m_iCgCJt"
      }
    },
    {
      "cell_type": "code",
      "source": [
        "model_2.summary()"
      ],
      "metadata": {
        "colab": {
          "base_uri": "https://localhost:8080/"
        },
        "id": "o1j-lQore1py",
        "outputId": "28fca8af-40a0-42c9-ed78-1ae51b4c739e"
      },
      "execution_count": 92,
      "outputs": [
        {
          "output_type": "stream",
          "name": "stdout",
          "text": [
            "Model: \"sequential_14\"\n",
            "_________________________________________________________________\n",
            " Layer (type)                Output Shape              Param #   \n",
            "=================================================================\n",
            " dense_21 (Dense)            (None, 150)               300       \n",
            "                                                                 \n",
            " dense_22 (Dense)            (None, 1)                 151       \n",
            "                                                                 \n",
            "=================================================================\n",
            "Total params: 451\n",
            "Trainable params: 451\n",
            "Non-trainable params: 0\n",
            "_________________________________________________________________\n"
          ]
        }
      ]
    },
    {
      "cell_type": "markdown",
      "source": [
        "## Machine Learning Practitioner's Motto:\n",
        "\n",
        "> **\"Experiment, Experiment and Experiment\"**"
      ],
      "metadata": {
        "id": "HRAqf4EXgU_D"
      }
    },
    {
      "cell_type": "markdown",
      "source": [
        "## Tracking your Experiments.\n",
        "\n",
        "Tools to keep track of results of our experiments:\n",
        "\n",
        "* TensorBoard\n",
        "* Weights & Biases(plugs straight into tensorboard)"
      ],
      "metadata": {
        "id": "jXjY74IDgv7q"
      }
    },
    {
      "cell_type": "markdown",
      "source": [
        "### Saving our models\n",
        "Saving models helps to use them wherever we like\n",
        "\n",
        "2 formats we can save our models to:\n",
        "\n",
        "1. SaveModel Format\n",
        "2. HDF5 format"
      ],
      "metadata": {
        "id": "4_-Dqv4xjU2w"
      }
    },
    {
      "cell_type": "code",
      "source": [
        "# SaveModel format\n",
        "\n",
        "model_2.save(\"bestRes_course_00\")"
      ],
      "metadata": {
        "colab": {
          "base_uri": "https://localhost:8080/"
        },
        "id": "LmV5YkjZgJK7",
        "outputId": "8bf76281-86af-491d-902c-5473ebd4bb4b"
      },
      "execution_count": 93,
      "outputs": [
        {
          "output_type": "stream",
          "name": "stderr",
          "text": [
            "WARNING:absl:Found untraced functions such as _update_step_xla while saving (showing 1 of 1). These functions will not be directly callable after loading.\n"
          ]
        }
      ]
    },
    {
      "cell_type": "code",
      "source": [
        "model_2.save(\"bestRes_course_00_hdf5.h5\")"
      ],
      "metadata": {
        "id": "xSA1TGlVls_6"
      },
      "execution_count": 94,
      "outputs": []
    },
    {
      "cell_type": "code",
      "source": [
        "load_SaveModel_Format = tf.keras.models.load_model(\"/content/bestRes_course_00\")\n",
        "load_SaveModel_Format.summary()"
      ],
      "metadata": {
        "colab": {
          "base_uri": "https://localhost:8080/"
        },
        "id": "_juyPZfJl-62",
        "outputId": "7134053c-33e7-47cf-a4ea-519c678456f2"
      },
      "execution_count": 95,
      "outputs": [
        {
          "output_type": "stream",
          "name": "stdout",
          "text": [
            "Model: \"sequential_14\"\n",
            "_________________________________________________________________\n",
            " Layer (type)                Output Shape              Param #   \n",
            "=================================================================\n",
            " dense_21 (Dense)            (None, 150)               300       \n",
            "                                                                 \n",
            " dense_22 (Dense)            (None, 1)                 151       \n",
            "                                                                 \n",
            "=================================================================\n",
            "Total params: 451\n",
            "Trainable params: 451\n",
            "Non-trainable params: 0\n",
            "_________________________________________________________________\n"
          ]
        }
      ]
    },
    {
      "cell_type": "code",
      "source": [
        "model_2_preds=model_2.predict(X_test)\n",
        "load_SaveModel_Format_preds=load_SaveModel_Format.predict(X_test)"
      ],
      "metadata": {
        "colab": {
          "base_uri": "https://localhost:8080/"
        },
        "id": "56BUPdeMuLHN",
        "outputId": "fd8eb070-a123-49c7-c900-bb4e592da847"
      },
      "execution_count": 96,
      "outputs": [
        {
          "output_type": "stream",
          "name": "stdout",
          "text": [
            "1/1 [==============================] - 0s 69ms/step\n",
            "1/1 [==============================] - 0s 136ms/step\n"
          ]
        }
      ]
    },
    {
      "cell_type": "code",
      "source": [
        "model_2_preds==load_SaveModel_Format_preds"
      ],
      "metadata": {
        "colab": {
          "base_uri": "https://localhost:8080/"
        },
        "id": "HVpd6mx6ukRV",
        "outputId": "d99676f6-1e87-4b61-fadb-0e838727fc91"
      },
      "execution_count": 97,
      "outputs": [
        {
          "output_type": "execute_result",
          "data": {
            "text/plain": [
              "array([[ True],\n",
              "       [ True],\n",
              "       [ True],\n",
              "       [ True],\n",
              "       [ True],\n",
              "       [ True],\n",
              "       [ True],\n",
              "       [ True],\n",
              "       [ True],\n",
              "       [ True]])"
            ]
          },
          "metadata": {},
          "execution_count": 97
        }
      ]
    },
    {
      "cell_type": "code",
      "source": [
        "# Load h5 format model\n",
        "load_h5_Format = tf.keras.models.load_model(\"/content/bestRes_course_00_hdf5.h5\")\n",
        "load_h5_Format.summary()"
      ],
      "metadata": {
        "colab": {
          "base_uri": "https://localhost:8080/"
        },
        "id": "Kcw8YPQzuqVr",
        "outputId": "e7a3a13d-ef99-42cd-c09b-4e1168786119"
      },
      "execution_count": 98,
      "outputs": [
        {
          "output_type": "stream",
          "name": "stdout",
          "text": [
            "Model: \"sequential_14\"\n",
            "_________________________________________________________________\n",
            " Layer (type)                Output Shape              Param #   \n",
            "=================================================================\n",
            " dense_21 (Dense)            (None, 150)               300       \n",
            "                                                                 \n",
            " dense_22 (Dense)            (None, 1)                 151       \n",
            "                                                                 \n",
            "=================================================================\n",
            "Total params: 451\n",
            "Trainable params: 451\n",
            "Non-trainable params: 0\n",
            "_________________________________________________________________\n"
          ]
        }
      ]
    },
    {
      "cell_type": "code",
      "source": [
        "load_h5_Format_preds = load_h5_Format.predict(X_test)\n",
        "model_2_preds == load_h5_Format_preds"
      ],
      "metadata": {
        "colab": {
          "base_uri": "https://localhost:8080/"
        },
        "id": "J3dKvZ8fvZI5",
        "outputId": "6b3d650b-ade8-4e6a-f197-c16b2b5b613d"
      },
      "execution_count": 99,
      "outputs": [
        {
          "output_type": "stream",
          "name": "stdout",
          "text": [
            "1/1 [==============================] - 0s 84ms/step\n"
          ]
        },
        {
          "output_type": "execute_result",
          "data": {
            "text/plain": [
              "array([[ True],\n",
              "       [ True],\n",
              "       [ True],\n",
              "       [ True],\n",
              "       [ True],\n",
              "       [ True],\n",
              "       [ True],\n",
              "       [ True],\n",
              "       [ True],\n",
              "       [ True]])"
            ]
          },
          "metadata": {},
          "execution_count": 99
        }
      ]
    },
    {
      "cell_type": "code",
      "source": [],
      "metadata": {
        "id": "Mn5pR4myvmuE"
      },
      "execution_count": null,
      "outputs": []
    }
  ]
}