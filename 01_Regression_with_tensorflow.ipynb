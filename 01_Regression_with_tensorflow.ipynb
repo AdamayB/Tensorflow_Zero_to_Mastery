{
  "nbformat": 4,
  "nbformat_minor": 0,
  "metadata": {
    "colab": {
      "provenance": [],
      "authorship_tag": "ABX9TyNHldfuHPnnqloJoYrA9e2R",
      "include_colab_link": true
    },
    "kernelspec": {
      "name": "python3",
      "display_name": "Python 3"
    },
    "language_info": {
      "name": "python"
    }
  },
  "cells": [
    {
      "cell_type": "markdown",
      "metadata": {
        "id": "view-in-github",
        "colab_type": "text"
      },
      "source": [
        "<a href=\"https://colab.research.google.com/github/AdamayB/Tensorflow_Zero_to_Mastery/blob/main/01_Regression_with_tensorflow.ipynb\" target=\"_parent\"><img src=\"https://colab.research.google.com/assets/colab-badge.svg\" alt=\"Open In Colab\"/></a>"
      ]
    },
    {
      "cell_type": "markdown",
      "source": [
        "# Introduction to Regression with Neural Network using TensorFlow"
      ],
      "metadata": {
        "id": "dY76J5OJiQPL"
      }
    },
    {
      "cell_type": "code",
      "source": [
        "import tensorflow as tf\n",
        "print(tf.__version__)"
      ],
      "metadata": {
        "colab": {
          "base_uri": "https://localhost:8080/"
        },
        "id": "CpwoxTYDibc1",
        "outputId": "95e2b388-9cc4-4c5a-9c45-aca611cb4923"
      },
      "execution_count": 1,
      "outputs": [
        {
          "output_type": "stream",
          "name": "stdout",
          "text": [
            "2.12.0\n"
          ]
        }
      ]
    },
    {
      "cell_type": "markdown",
      "source": [
        "# Create data"
      ],
      "metadata": {
        "id": "dKfWizd5i51t"
      }
    },
    {
      "cell_type": "code",
      "source": [
        "import numpy as np\n",
        "import matplotlib.pyplot as plt\n",
        "\n",
        "# Create features\n",
        "X = np.array([-7,-4,-1,2,5,8,11,14])\n",
        "\n",
        "# Create labels\n",
        "y = np.array([3.0, 6.0, 9.0, 12.0, 15.0, 18.0, 21.0, 24.0]);\n",
        "\n",
        "# Visualize\n",
        "plt.scatter(X,y);"
      ],
      "metadata": {
        "colab": {
          "base_uri": "https://localhost:8080/",
          "height": 435
        },
        "id": "FstlEFY2ipNF",
        "outputId": "4826ac19-8ce1-4738-b999-1b028f25feef"
      },
      "execution_count": 2,
      "outputs": [
        {
          "output_type": "display_data",
          "data": {
            "text/plain": [
              "<Figure size 640x480 with 1 Axes>"
            ],
            "image/png": "[encoded data removed]"
          },
          "metadata": {}
        }
      ]
    },
    {
      "cell_type": "markdown",
      "source": [
        "# Input and Output shape"
      ],
      "metadata": {
        "id": "aSaPC1GDkSMb"
      }
    },
    {
      "cell_type": "code",
      "source": [
        "input_shape = X.shape\n",
        "output_shape = y.shape\n",
        "input_shape, output_shape"
      ],
      "metadata": {
        "colab": {
          "base_uri": "https://localhost:8080/"
        },
        "id": "ibtf6oe4kW1A",
        "outputId": "a225b600-b134-42bb-a519-c6664a2d6781"
      },
      "execution_count": 3,
      "outputs": [
        {
          "output_type": "execute_result",
          "data": {
            "text/plain": [
              "((8,), (8,))"
            ]
          },
          "metadata": {},
          "execution_count": 3
        }
      ]
    },
    {
      "cell_type": "code",
      "source": [
        "# Turn NumPy arrays to tensors\n",
        "X = tf.constant(X)\n",
        "y = tf.constant(y)\n",
        "X,y"
      ],
      "metadata": {
        "colab": {
          "base_uri": "https://localhost:8080/"
        },
        "id": "FHpBbVWoky2Y",
        "outputId": "fe990f2b-b3a0-4f75-ad9f-0bce6465ab20"
      },
      "execution_count": 4,
      "outputs": [
        {
          "output_type": "execute_result",
          "data": {
            "text/plain": [
              "(<tf.Tensor: shape=(8,), dtype=int64, numpy=array([-7, -4, -1,  2,  5,  8, 11, 14])>,\n",
              " <tf.Tensor: shape=(8,), dtype=float64, numpy=array([ 3.,  6.,  9., 12., 15., 18., 21., 24.])>)"
            ]
          },
          "metadata": {},
          "execution_count": 4
        }
      ]
    },
    {
      "cell_type": "markdown",
      "source": [
        "## Steps in modelling with TensorFlow\n",
        "\n",
        "1. Creating a model\n",
        "2. Compiling model- define loss function and optimizer and evaluation matrix\n",
        "3. Fitting the model\n",
        "\n"
      ],
      "metadata": {
        "id": "DDbXV8Owp6rP"
      }
    },
    {
      "cell_type": "markdown",
      "source": [],
      "metadata": {
        "id": "l12FCGtK5bPE"
      }
    },
    {
      "cell_type": "code",
      "source": [
        "tf.random.set_seed(42)\n",
        "\n",
        "#1. Create a model\n",
        "model = tf.keras.Sequential([\n",
        "    tf.keras.layers.Dense(1)\n",
        "])\n",
        "\n",
        "#2. Compile the model\n",
        "model.compile(loss=tf.keras.losses.mae,\n",
        "              optimizer=tf.keras.optimizers.SGD(), #stochastic gradient descent)\n",
        "              metrics=[\"mae\"])\n",
        "\n",
        "# Fit the model\n",
        "model.fit(tf.expand_dims(X, axis=-1),y,epochs=5)\n",
        "\n"
      ],
      "metadata": {
        "colab": {
          "base_uri": "https://localhost:8080/"
        },
        "id": "s82Eu3dCpufF",
        "outputId": "fa63cfb8-d4db-44e4-a490-08f7361d0e2a"
      },
      "execution_count": 6,
      "outputs": [
        {
          "output_type": "stream",
          "name": "stdout",
          "text": [
            "Epoch 1/5\n",
            "1/1 [==============================] - 1s 578ms/step - loss: 8.4709 - mae: 8.4709\n",
            "Epoch 2/5\n",
            "1/1 [==============================] - 0s 12ms/step - loss: 8.3384 - mae: 8.3384\n",
            "Epoch 3/5\n",
            "1/1 [==============================] - 0s 19ms/step - loss: 8.2059 - mae: 8.2059\n",
            "Epoch 4/5\n",
            "1/1 [==============================] - 0s 9ms/step - loss: 8.0734 - mae: 8.0734\n",
            "Epoch 5/5\n",
            "1/1 [==============================] - 0s 11ms/step - loss: 7.9409 - mae: 7.9409\n"
          ]
        },
        {
          "output_type": "execute_result",
          "data": {
            "text/plain": [
              "<keras.callbacks.History at 0x7fbe5dd27880>"
            ]
          },
          "metadata": {},
          "execution_count": 6
        }
      ]
    },
    {
      "cell_type": "code",
      "source": [
        "# Trying to make a prediction\n",
        "model.predict([17.0])"
      ],
      "metadata": {
        "colab": {
          "base_uri": "https://localhost:8080/"
        },
        "id": "HsBEK1M16WDK",
        "outputId": "17c4523e-996e-4d68-dd91-c2acecb405a2"
      },
      "execution_count": 7,
      "outputs": [
        {
          "output_type": "stream",
          "name": "stdout",
          "text": [
            "1/1 [==============================] - 0s 190ms/step\n"
          ]
        },
        {
          "output_type": "execute_result",
          "data": {
            "text/plain": [
              "array([[27.451895]], dtype=float32)"
            ]
          },
          "metadata": {},
          "execution_count": 7
        }
      ]
    },
    {
      "cell_type": "code",
      "source": [
        "y_pred=model.predict([99.0])"
      ],
      "metadata": {
        "colab": {
          "base_uri": "https://localhost:8080/"
        },
        "id": "diyoiGzk6d2p",
        "outputId": "1e979c77-2607-4659-b6da-77bdcad5efab"
      },
      "execution_count": 11,
      "outputs": [
        {
          "output_type": "stream",
          "name": "stdout",
          "text": [
            "1/1 [==============================] - 0s 133ms/step\n"
          ]
        }
      ]
    },
    {
      "cell_type": "code",
      "source": [
        "y_pred"
      ],
      "metadata": {
        "colab": {
          "base_uri": "https://localhost:8080/"
        },
        "id": "GlVXP6Xo6lUT",
        "outputId": "448aa84e-4abb-46ad-8df8-fc1901896ec4"
      },
      "execution_count": 12,
      "outputs": [
        {
          "output_type": "execute_result",
          "data": {
            "text/plain": [
              "array([[159.62575]], dtype=float32)"
            ]
          },
          "metadata": {},
          "execution_count": 12
        }
      ]
    },
    {
      "cell_type": "code",
      "source": [
        "y_pred+7.9409"
      ],
      "metadata": {
        "colab": {
          "base_uri": "https://localhost:8080/"
        },
        "id": "XxEYEKi-64ub",
        "outputId": "98ba04e9-2b77-4a3d-f8a2-a7e011a2c0f4"
      },
      "execution_count": 13,
      "outputs": [
        {
          "output_type": "execute_result",
          "data": {
            "text/plain": [
              "array([[167.56665]], dtype=float32)"
            ]
          },
          "metadata": {},
          "execution_count": 13
        }
      ]
    },
    {
      "cell_type": "markdown",
      "source": [
        "## Improving model\n",
        "Improving by altering steps while creating model\n",
        "\n",
        "1. **Creating Model:** Increase number of dense layers and change activation method\n",
        "2. **Compiling Model:** change optimization function and change learning rate of the optimization function\n",
        "3. **Fitting Model:**Increase number of epochs or provide more data\n"
      ],
      "metadata": {
        "id": "e2rjGxVe7bs1"
      }
    },
    {
      "cell_type": "code",
      "source": [
        "# Rebuilding\n",
        "\n",
        "#1. Create a model\n",
        "model = tf.keras.Sequential([\n",
        "    tf.keras.layers.Dense(1)\n",
        "])\n",
        "\n",
        "#2. Compile the model\n",
        "model.compile(loss=tf.keras.losses.mae,\n",
        "              optimizer=tf.keras.optimizers.SGD(), #stochastic gradient descent)\n",
        "              metrics=[\"mae\"])\n",
        "\n",
        "# Fit the model\n",
        "model.fit(tf.expand_dims(X, axis=-1),y,epochs=100)"
      ],
      "metadata": {
        "colab": {
          "base_uri": "https://localhost:8080/"
        },
        "id": "1hONwUO3685k",
        "outputId": "d4bc2a1d-6e48-4bcf-b525-0fb59f5b2638"
      },
      "execution_count": 14,
      "outputs": [
        {
          "output_type": "stream",
          "name": "stdout",
          "text": [
            "Epoch 1/100\n",
            "1/1 [==============================] - 0s 496ms/step - loss: 12.2256 - mae: 12.2256\n",
            "Epoch 2/100\n",
            "1/1 [==============================] - 0s 14ms/step - loss: 12.0931 - mae: 12.0931\n",
            "Epoch 3/100\n",
            "1/1 [==============================] - 0s 18ms/step - loss: 11.9606 - mae: 11.9606\n",
            "Epoch 4/100\n",
            "1/1 [==============================] - 0s 12ms/step - loss: 11.8281 - mae: 11.8281\n",
            "Epoch 5/100\n",
            "1/1 [==============================] - 0s 14ms/step - loss: 11.6956 - mae: 11.6956\n",
            "Epoch 6/100\n",
            "1/1 [==============================] - 0s 15ms/step - loss: 11.5631 - mae: 11.5631\n",
            "Epoch 7/100\n",
            "1/1 [==============================] - 0s 17ms/step - loss: 11.4306 - mae: 11.4306\n",
            "Epoch 8/100\n",
            "1/1 [==============================] - 0s 10ms/step - loss: 11.2981 - mae: 11.2981\n",
            "Epoch 9/100\n",
            "1/1 [==============================] - 0s 10ms/step - loss: 11.1656 - mae: 11.1656\n",
            "Epoch 10/100\n",
            "1/1 [==============================] - 0s 17ms/step - loss: 11.0331 - mae: 11.0331\n",
            "Epoch 11/100\n",
            "1/1 [==============================] - 0s 15ms/step - loss: 10.9006 - mae: 10.9006\n",
            "Epoch 12/100\n",
            "1/1 [==============================] - 0s 10ms/step - loss: 10.7681 - mae: 10.7681\n",
            "Epoch 13/100\n",
            "1/1 [==============================] - 0s 10ms/step - loss: 10.6356 - mae: 10.6356\n",
            "Epoch 14/100\n",
            "1/1 [==============================] - 0s 20ms/step - loss: 10.5031 - mae: 10.5031\n",
            "Epoch 15/100\n",
            "1/1 [==============================] - 0s 14ms/step - loss: 10.3706 - mae: 10.3706\n",
            "Epoch 16/100\n",
            "1/1 [==============================] - 0s 13ms/step - loss: 10.2381 - mae: 10.2381\n",
            "Epoch 17/100\n",
            "1/1 [==============================] - 0s 11ms/step - loss: 10.1056 - mae: 10.1056\n",
            "Epoch 18/100\n",
            "1/1 [==============================] - 0s 11ms/step - loss: 9.9731 - mae: 9.9731\n",
            "Epoch 19/100\n",
            "1/1 [==============================] - 0s 10ms/step - loss: 9.8406 - mae: 9.8406\n",
            "Epoch 20/100\n",
            "1/1 [==============================] - 0s 10ms/step - loss: 9.7081 - mae: 9.7081\n",
            "Epoch 21/100\n",
            "1/1 [==============================] - 0s 12ms/step - loss: 9.5756 - mae: 9.5756\n",
            "Epoch 22/100\n",
            "1/1 [==============================] - 0s 10ms/step - loss: 9.4431 - mae: 9.4431\n",
            "Epoch 23/100\n",
            "1/1 [==============================] - 0s 10ms/step - loss: 9.3106 - mae: 9.3106\n",
            "Epoch 24/100\n",
            "1/1 [==============================] - 0s 11ms/step - loss: 9.1781 - mae: 9.1781\n",
            "Epoch 25/100\n",
            "1/1 [==============================] - 0s 10ms/step - loss: 9.0456 - mae: 9.0456\n",
            "Epoch 26/100\n",
            "1/1 [==============================] - 0s 10ms/step - loss: 8.9131 - mae: 8.9131\n",
            "Epoch 27/100\n",
            "1/1 [==============================] - 0s 12ms/step - loss: 8.7806 - mae: 8.7806\n",
            "Epoch 28/100\n",
            "1/1 [==============================] - 0s 12ms/step - loss: 8.6481 - mae: 8.6481\n",
            "Epoch 29/100\n",
            "1/1 [==============================] - 0s 16ms/step - loss: 8.5156 - mae: 8.5156\n",
            "Epoch 30/100\n",
            "1/1 [==============================] - 0s 13ms/step - loss: 8.3831 - mae: 8.3831\n",
            "Epoch 31/100\n",
            "1/1 [==============================] - 0s 13ms/step - loss: 8.2506 - mae: 8.2506\n",
            "Epoch 32/100\n",
            "1/1 [==============================] - 0s 12ms/step - loss: 8.1181 - mae: 8.1181\n",
            "Epoch 33/100\n",
            "1/1 [==============================] - 0s 11ms/step - loss: 7.9856 - mae: 7.9856\n",
            "Epoch 34/100\n",
            "1/1 [==============================] - 0s 12ms/step - loss: 7.8531 - mae: 7.8531\n",
            "Epoch 35/100\n",
            "1/1 [==============================] - 0s 10ms/step - loss: 7.7206 - mae: 7.7206\n",
            "Epoch 36/100\n",
            "1/1 [==============================] - 0s 12ms/step - loss: 7.5881 - mae: 7.5881\n",
            "Epoch 37/100\n",
            "1/1 [==============================] - 0s 14ms/step - loss: 7.4556 - mae: 7.4556\n",
            "Epoch 38/100\n",
            "1/1 [==============================] - 0s 12ms/step - loss: 7.3231 - mae: 7.3231\n",
            "Epoch 39/100\n",
            "1/1 [==============================] - 0s 19ms/step - loss: 7.2150 - mae: 7.2150\n",
            "Epoch 40/100\n",
            "1/1 [==============================] - 0s 13ms/step - loss: 7.2094 - mae: 7.2094\n",
            "Epoch 41/100\n",
            "1/1 [==============================] - 0s 11ms/step - loss: 7.2038 - mae: 7.2038\n",
            "Epoch 42/100\n",
            "1/1 [==============================] - 0s 14ms/step - loss: 7.1981 - mae: 7.1981\n",
            "Epoch 43/100\n",
            "1/1 [==============================] - 0s 12ms/step - loss: 7.1925 - mae: 7.1925\n",
            "Epoch 44/100\n",
            "1/1 [==============================] - 0s 14ms/step - loss: 7.1869 - mae: 7.1869\n",
            "Epoch 45/100\n",
            "1/1 [==============================] - 0s 15ms/step - loss: 7.1813 - mae: 7.1813\n",
            "Epoch 46/100\n",
            "1/1 [==============================] - 0s 19ms/step - loss: 7.1756 - mae: 7.1756\n",
            "Epoch 47/100\n",
            "1/1 [==============================] - 0s 15ms/step - loss: 7.1700 - mae: 7.1700\n",
            "Epoch 48/100\n",
            "1/1 [==============================] - 0s 14ms/step - loss: 7.1644 - mae: 7.1644\n",
            "Epoch 49/100\n",
            "1/1 [==============================] - 0s 11ms/step - loss: 7.1588 - mae: 7.1588\n",
            "Epoch 50/100\n",
            "1/1 [==============================] - 0s 12ms/step - loss: 7.1531 - mae: 7.1531\n",
            "Epoch 51/100\n",
            "1/1 [==============================] - 0s 12ms/step - loss: 7.1475 - mae: 7.1475\n",
            "Epoch 52/100\n",
            "1/1 [==============================] - 0s 11ms/step - loss: 7.1419 - mae: 7.1419\n",
            "Epoch 53/100\n",
            "1/1 [==============================] - 0s 12ms/step - loss: 7.1363 - mae: 7.1363\n",
            "Epoch 54/100\n",
            "1/1 [==============================] - 0s 9ms/step - loss: 7.1306 - mae: 7.1306\n",
            "Epoch 55/100\n",
            "1/1 [==============================] - 0s 14ms/step - loss: 7.1250 - mae: 7.1250\n",
            "Epoch 56/100\n",
            "1/1 [==============================] - 0s 13ms/step - loss: 7.1194 - mae: 7.1194\n",
            "Epoch 57/100\n",
            "1/1 [==============================] - 0s 14ms/step - loss: 7.1138 - mae: 7.1138\n",
            "Epoch 58/100\n",
            "1/1 [==============================] - 0s 15ms/step - loss: 7.1081 - mae: 7.1081\n",
            "Epoch 59/100\n",
            "1/1 [==============================] - 0s 14ms/step - loss: 7.1025 - mae: 7.1025\n",
            "Epoch 60/100\n",
            "1/1 [==============================] - 0s 13ms/step - loss: 7.0969 - mae: 7.0969\n",
            "Epoch 61/100\n",
            "1/1 [==============================] - 0s 18ms/step - loss: 7.0912 - mae: 7.0912\n",
            "Epoch 62/100\n",
            "1/1 [==============================] - 0s 10ms/step - loss: 7.0856 - mae: 7.0856\n",
            "Epoch 63/100\n",
            "1/1 [==============================] - 0s 10ms/step - loss: 7.0800 - mae: 7.0800\n",
            "Epoch 64/100\n",
            "1/1 [==============================] - 0s 14ms/step - loss: 7.0744 - mae: 7.0744\n",
            "Epoch 65/100\n",
            "1/1 [==============================] - 0s 10ms/step - loss: 7.0688 - mae: 7.0688\n",
            "Epoch 66/100\n",
            "1/1 [==============================] - 0s 10ms/step - loss: 7.0631 - mae: 7.0631\n",
            "Epoch 67/100\n",
            "1/1 [==============================] - 0s 11ms/step - loss: 7.0575 - mae: 7.0575\n",
            "Epoch 68/100\n",
            "1/1 [==============================] - 0s 11ms/step - loss: 7.0519 - mae: 7.0519\n",
            "Epoch 69/100\n",
            "1/1 [==============================] - 0s 14ms/step - loss: 7.0463 - mae: 7.0463\n",
            "Epoch 70/100\n",
            "1/1 [==============================] - 0s 12ms/step - loss: 7.0406 - mae: 7.0406\n",
            "Epoch 71/100\n",
            "1/1 [==============================] - 0s 13ms/step - loss: 7.0350 - mae: 7.0350\n",
            "Epoch 72/100\n",
            "1/1 [==============================] - 0s 14ms/step - loss: 7.0294 - mae: 7.0294\n",
            "Epoch 73/100\n",
            "1/1 [==============================] - 0s 13ms/step - loss: 7.0238 - mae: 7.0238\n",
            "Epoch 74/100\n",
            "1/1 [==============================] - 0s 11ms/step - loss: 7.0181 - mae: 7.0181\n",
            "Epoch 75/100\n",
            "1/1 [==============================] - 0s 14ms/step - loss: 7.0125 - mae: 7.0125\n",
            "Epoch 76/100\n",
            "1/1 [==============================] - 0s 14ms/step - loss: 7.0069 - mae: 7.0069\n",
            "Epoch 77/100\n",
            "1/1 [==============================] - 0s 10ms/step - loss: 7.0013 - mae: 7.0013\n",
            "Epoch 78/100\n",
            "1/1 [==============================] - 0s 11ms/step - loss: 6.9956 - mae: 6.9956\n",
            "Epoch 79/100\n",
            "1/1 [==============================] - 0s 16ms/step - loss: 6.9900 - mae: 6.9900\n",
            "Epoch 80/100\n",
            "1/1 [==============================] - 0s 12ms/step - loss: 6.9844 - mae: 6.9844\n",
            "Epoch 81/100\n",
            "1/1 [==============================] - 0s 12ms/step - loss: 6.9788 - mae: 6.9788\n",
            "Epoch 82/100\n",
            "1/1 [==============================] - 0s 11ms/step - loss: 6.9731 - mae: 6.9731\n",
            "Epoch 83/100\n",
            "1/1 [==============================] - 0s 16ms/step - loss: 6.9675 - mae: 6.9675\n",
            "Epoch 84/100\n",
            "1/1 [==============================] - 0s 21ms/step - loss: 6.9619 - mae: 6.9619\n",
            "Epoch 85/100\n",
            "1/1 [==============================] - 0s 14ms/step - loss: 6.9563 - mae: 6.9563\n",
            "Epoch 86/100\n",
            "1/1 [==============================] - 0s 11ms/step - loss: 6.9506 - mae: 6.9506\n",
            "Epoch 87/100\n",
            "1/1 [==============================] - 0s 12ms/step - loss: 6.9450 - mae: 6.9450\n",
            "Epoch 88/100\n",
            "1/1 [==============================] - 0s 11ms/step - loss: 6.9394 - mae: 6.9394\n",
            "Epoch 89/100\n",
            "1/1 [==============================] - 0s 12ms/step - loss: 6.9338 - mae: 6.9338\n",
            "Epoch 90/100\n",
            "1/1 [==============================] - 0s 11ms/step - loss: 6.9281 - mae: 6.9281\n",
            "Epoch 91/100\n",
            "1/1 [==============================] - 0s 10ms/step - loss: 6.9225 - mae: 6.9225\n",
            "Epoch 92/100\n",
            "1/1 [==============================] - 0s 11ms/step - loss: 6.9169 - mae: 6.9169\n",
            "Epoch 93/100\n",
            "1/1 [==============================] - 0s 14ms/step - loss: 6.9113 - mae: 6.9113\n",
            "Epoch 94/100\n",
            "1/1 [==============================] - 0s 15ms/step - loss: 6.9056 - mae: 6.9056\n",
            "Epoch 95/100\n",
            "1/1 [==============================] - 0s 14ms/step - loss: 6.9000 - mae: 6.9000\n",
            "Epoch 96/100\n",
            "1/1 [==============================] - 0s 11ms/step - loss: 6.8944 - mae: 6.8944\n",
            "Epoch 97/100\n",
            "1/1 [==============================] - 0s 11ms/step - loss: 6.8888 - mae: 6.8888\n",
            "Epoch 98/100\n",
            "1/1 [==============================] - 0s 11ms/step - loss: 6.8831 - mae: 6.8831\n",
            "Epoch 99/100\n",
            "1/1 [==============================] - 0s 11ms/step - loss: 6.8775 - mae: 6.8775\n",
            "Epoch 100/100\n",
            "1/1 [==============================] - 0s 9ms/step - loss: 6.8719 - mae: 6.8719\n"
          ]
        },
        {
          "output_type": "execute_result",
          "data": {
            "text/plain": [
              "<keras.callbacks.History at 0x7fbe4f712fe0>"
            ]
          },
          "metadata": {},
          "execution_count": 14
        }
      ]
    },
    {
      "cell_type": "code",
      "source": [
        "y_pred=model.predict([9.0])\n",
        "y_pred"
      ],
      "metadata": {
        "colab": {
          "base_uri": "https://localhost:8080/"
        },
        "id": "0UdJzH1nAEA_",
        "outputId": "bc62600d-9b7a-4915-aa73-3d16c3deb0cf"
      },
      "execution_count": 26,
      "outputs": [
        {
          "output_type": "stream",
          "name": "stdout",
          "text": [
            "1/1 [==============================] - 0s 75ms/step\n"
          ]
        },
        {
          "output_type": "execute_result",
          "data": {
            "text/plain": [
              "array([[16.092083]], dtype=float32)"
            ]
          },
          "metadata": {},
          "execution_count": 26
        }
      ]
    },
    {
      "cell_type": "code",
      "source": [
        "# Making more adjustments\n",
        "# adding extra layer\n",
        "# Rebuilding\n",
        "\n",
        "#1. Create a model\n",
        "model = tf.keras.Sequential([\n",
        "    tf.keras.layers.Dense(100, activation='relu'),\n",
        "    tf.keras.layers.Dense(1)\n",
        "])\n",
        "\n",
        "#2. Compile the model\n",
        "model.compile(loss=tf.keras.losses.mae,\n",
        "              optimizer=tf.keras.optimizers.SGD(), #stochastic gradient descent)\n",
        "              metrics=[\"mae\"])\n",
        "\n",
        "# Fit the model\n",
        "model.fit(tf.expand_dims(X, axis=-1),y,epochs=100)"
      ],
      "metadata": {
        "colab": {
          "base_uri": "https://localhost:8080/"
        },
        "id": "6Jabaf63AQla",
        "outputId": "c68ad827-3fb4-48e2-a594-6b7319e2cda2"
      },
      "execution_count": 27,
      "outputs": [
        {
          "output_type": "stream",
          "name": "stdout",
          "text": [
            "Epoch 1/100\n",
            "1/1 [==============================] - 0s 486ms/step - loss: 14.8529 - mae: 14.8529\n",
            "Epoch 2/100\n",
            "1/1 [==============================] - 0s 11ms/step - loss: 14.1890 - mae: 14.1890\n",
            "Epoch 3/100\n",
            "1/1 [==============================] - 0s 11ms/step - loss: 13.5340 - mae: 13.5340\n",
            "Epoch 4/100\n",
            "1/1 [==============================] - 0s 10ms/step - loss: 12.8911 - mae: 12.8911\n",
            "Epoch 5/100\n",
            "1/1 [==============================] - 0s 11ms/step - loss: 12.2572 - mae: 12.2572\n",
            "Epoch 6/100\n",
            "1/1 [==============================] - 0s 10ms/step - loss: 11.6166 - mae: 11.6166\n",
            "Epoch 7/100\n",
            "1/1 [==============================] - 0s 11ms/step - loss: 10.9696 - mae: 10.9696\n",
            "Epoch 8/100\n",
            "1/1 [==============================] - 0s 10ms/step - loss: 10.2977 - mae: 10.2977\n",
            "Epoch 9/100\n",
            "1/1 [==============================] - 0s 12ms/step - loss: 9.5978 - mae: 9.5978\n",
            "Epoch 10/100\n",
            "1/1 [==============================] - 0s 10ms/step - loss: 8.8659 - mae: 8.8659\n",
            "Epoch 11/100\n",
            "1/1 [==============================] - 0s 9ms/step - loss: 8.0916 - mae: 8.0916\n",
            "Epoch 12/100\n",
            "1/1 [==============================] - 0s 10ms/step - loss: 7.2693 - mae: 7.2693\n",
            "Epoch 13/100\n",
            "1/1 [==============================] - 0s 9ms/step - loss: 6.3917 - mae: 6.3917\n",
            "Epoch 14/100\n",
            "1/1 [==============================] - 0s 13ms/step - loss: 5.4540 - mae: 5.4540\n",
            "Epoch 15/100\n",
            "1/1 [==============================] - 0s 10ms/step - loss: 4.5012 - mae: 4.5012\n",
            "Epoch 16/100\n",
            "1/1 [==============================] - 0s 10ms/step - loss: 4.3676 - mae: 4.3676\n",
            "Epoch 17/100\n",
            "1/1 [==============================] - 0s 12ms/step - loss: 4.2315 - mae: 4.2315\n",
            "Epoch 18/100\n",
            "1/1 [==============================] - 0s 10ms/step - loss: 4.1391 - mae: 4.1391\n",
            "Epoch 19/100\n",
            "1/1 [==============================] - 0s 10ms/step - loss: 4.1350 - mae: 4.1350\n",
            "Epoch 20/100\n",
            "1/1 [==============================] - 0s 10ms/step - loss: 4.0764 - mae: 4.0764\n",
            "Epoch 21/100\n",
            "1/1 [==============================] - 0s 9ms/step - loss: 4.0370 - mae: 4.0370\n",
            "Epoch 22/100\n",
            "1/1 [==============================] - 0s 10ms/step - loss: 4.0122 - mae: 4.0122\n",
            "Epoch 23/100\n",
            "1/1 [==============================] - 0s 9ms/step - loss: 3.9375 - mae: 3.9375\n",
            "Epoch 24/100\n",
            "1/1 [==============================] - 0s 10ms/step - loss: 3.9468 - mae: 3.9468\n",
            "Epoch 25/100\n",
            "1/1 [==============================] - 0s 11ms/step - loss: 3.8675 - mae: 3.8675\n",
            "Epoch 26/100\n",
            "1/1 [==============================] - 0s 11ms/step - loss: 3.9411 - mae: 3.9411\n",
            "Epoch 27/100\n",
            "1/1 [==============================] - 0s 11ms/step - loss: 3.8756 - mae: 3.8756\n",
            "Epoch 28/100\n",
            "1/1 [==============================] - 0s 10ms/step - loss: 3.9156 - mae: 3.9156\n",
            "Epoch 29/100\n",
            "1/1 [==============================] - 0s 10ms/step - loss: 3.8838 - mae: 3.8838\n",
            "Epoch 30/100\n",
            "1/1 [==============================] - 0s 15ms/step - loss: 3.8916 - mae: 3.8916\n",
            "Epoch 31/100\n",
            "1/1 [==============================] - 0s 10ms/step - loss: 3.8982 - mae: 3.8982\n",
            "Epoch 32/100\n",
            "1/1 [==============================] - 0s 10ms/step - loss: 3.8696 - mae: 3.8696\n",
            "Epoch 33/100\n",
            "1/1 [==============================] - 0s 10ms/step - loss: 3.9065 - mae: 3.9065\n",
            "Epoch 34/100\n",
            "1/1 [==============================] - 0s 10ms/step - loss: 3.8436 - mae: 3.8436\n",
            "Epoch 35/100\n",
            "1/1 [==============================] - 0s 11ms/step - loss: 3.9151 - mae: 3.9151\n",
            "Epoch 36/100\n",
            "1/1 [==============================] - 0s 11ms/step - loss: 3.8453 - mae: 3.8453\n",
            "Epoch 37/100\n",
            "1/1 [==============================] - 0s 10ms/step - loss: 3.8948 - mae: 3.8948\n",
            "Epoch 38/100\n",
            "1/1 [==============================] - 0s 10ms/step - loss: 3.8537 - mae: 3.8537\n",
            "Epoch 39/100\n",
            "1/1 [==============================] - 0s 10ms/step - loss: 3.8738 - mae: 3.8738\n",
            "Epoch 40/100\n",
            "1/1 [==============================] - 0s 10ms/step - loss: 3.8683 - mae: 3.8683\n",
            "Epoch 41/100\n",
            "1/1 [==============================] - 0s 10ms/step - loss: 3.8483 - mae: 3.8483\n",
            "Epoch 42/100\n",
            "1/1 [==============================] - 0s 10ms/step - loss: 3.8769 - mae: 3.8769\n",
            "Epoch 43/100\n",
            "1/1 [==============================] - 0s 12ms/step - loss: 3.8221 - mae: 3.8221\n",
            "Epoch 44/100\n",
            "1/1 [==============================] - 0s 10ms/step - loss: 3.8856 - mae: 3.8856\n",
            "Epoch 45/100\n",
            "1/1 [==============================] - 0s 10ms/step - loss: 3.8162 - mae: 3.8162\n",
            "Epoch 46/100\n",
            "1/1 [==============================] - 0s 9ms/step - loss: 3.8729 - mae: 3.8729\n",
            "Epoch 47/100\n",
            "1/1 [==============================] - 0s 11ms/step - loss: 3.8267 - mae: 3.8267\n",
            "Epoch 48/100\n",
            "1/1 [==============================] - 0s 10ms/step - loss: 3.8520 - mae: 3.8520\n",
            "Epoch 49/100\n",
            "1/1 [==============================] - 0s 11ms/step - loss: 3.8396 - mae: 3.8396\n",
            "Epoch 50/100\n",
            "1/1 [==============================] - 0s 15ms/step - loss: 3.8257 - mae: 3.8257\n",
            "Epoch 51/100\n",
            "1/1 [==============================] - 0s 11ms/step - loss: 3.8484 - mae: 3.8484\n",
            "Epoch 52/100\n",
            "1/1 [==============================] - 0s 9ms/step - loss: 3.7991 - mae: 3.7991\n",
            "Epoch 53/100\n",
            "1/1 [==============================] - 0s 12ms/step - loss: 3.8573 - mae: 3.8573\n",
            "Epoch 54/100\n",
            "1/1 [==============================] - 0s 10ms/step - loss: 3.7883 - mae: 3.7883\n",
            "Epoch 55/100\n",
            "1/1 [==============================] - 0s 10ms/step - loss: 3.8495 - mae: 3.8495\n",
            "Epoch 56/100\n",
            "1/1 [==============================] - 0s 10ms/step - loss: 3.8017 - mae: 3.8017\n",
            "Epoch 57/100\n",
            "1/1 [==============================] - 0s 11ms/step - loss: 3.8284 - mae: 3.8284\n",
            "Epoch 58/100\n",
            "1/1 [==============================] - 0s 11ms/step - loss: 3.8120 - mae: 3.8120\n",
            "Epoch 59/100\n",
            "1/1 [==============================] - 0s 11ms/step - loss: 3.8017 - mae: 3.8017\n",
            "Epoch 60/100\n",
            "1/1 [==============================] - 0s 10ms/step - loss: 3.8211 - mae: 3.8211\n",
            "Epoch 61/100\n",
            "1/1 [==============================] - 0s 10ms/step - loss: 3.7749 - mae: 3.7749\n",
            "Epoch 62/100\n",
            "1/1 [==============================] - 0s 10ms/step - loss: 3.8302 - mae: 3.8302\n",
            "Epoch 63/100\n",
            "1/1 [==============================] - 0s 10ms/step - loss: 3.7615 - mae: 3.7615\n",
            "Epoch 64/100\n",
            "1/1 [==============================] - 0s 11ms/step - loss: 3.8266 - mae: 3.8266\n",
            "Epoch 65/100\n",
            "1/1 [==============================] - 0s 10ms/step - loss: 3.7766 - mae: 3.7766\n",
            "Epoch 66/100\n",
            "1/1 [==============================] - 0s 15ms/step - loss: 3.8034 - mae: 3.8034\n",
            "Epoch 67/100\n",
            "1/1 [==============================] - 0s 14ms/step - loss: 3.7857 - mae: 3.7857\n",
            "Epoch 68/100\n",
            "1/1 [==============================] - 0s 10ms/step - loss: 3.7765 - mae: 3.7765\n",
            "Epoch 69/100\n",
            "1/1 [==============================] - 0s 9ms/step - loss: 3.7949 - mae: 3.7949\n",
            "Epoch 70/100\n",
            "1/1 [==============================] - 0s 9ms/step - loss: 3.7494 - mae: 3.7494\n",
            "Epoch 71/100\n",
            "1/1 [==============================] - 0s 9ms/step - loss: 3.8042 - mae: 3.8042\n",
            "Epoch 72/100\n",
            "1/1 [==============================] - 0s 10ms/step - loss: 3.7358 - mae: 3.7358\n",
            "Epoch 73/100\n",
            "1/1 [==============================] - 0s 10ms/step - loss: 3.8028 - mae: 3.8028\n",
            "Epoch 74/100\n",
            "1/1 [==============================] - 0s 11ms/step - loss: 3.7510 - mae: 3.7510\n",
            "Epoch 75/100\n",
            "1/1 [==============================] - 0s 10ms/step - loss: 3.7773 - mae: 3.7773\n",
            "Epoch 76/100\n",
            "1/1 [==============================] - 0s 11ms/step - loss: 3.7603 - mae: 3.7603\n",
            "Epoch 77/100\n",
            "1/1 [==============================] - 0s 12ms/step - loss: 3.7500 - mae: 3.7500\n",
            "Epoch 78/100\n",
            "1/1 [==============================] - 0s 14ms/step - loss: 3.7697 - mae: 3.7697\n",
            "Epoch 79/100\n",
            "1/1 [==============================] - 0s 10ms/step - loss: 3.7227 - mae: 3.7227\n",
            "Epoch 80/100\n",
            "1/1 [==============================] - 0s 10ms/step - loss: 3.7793 - mae: 3.7793\n",
            "Epoch 81/100\n",
            "1/1 [==============================] - 0s 10ms/step - loss: 3.7112 - mae: 3.7112\n",
            "Epoch 82/100\n",
            "1/1 [==============================] - 0s 10ms/step - loss: 3.7775 - mae: 3.7775\n",
            "Epoch 83/100\n",
            "1/1 [==============================] - 0s 10ms/step - loss: 3.7265 - mae: 3.7265\n",
            "Epoch 84/100\n",
            "1/1 [==============================] - 0s 14ms/step - loss: 3.7498 - mae: 3.7498\n",
            "Epoch 85/100\n",
            "1/1 [==============================] - 0s 11ms/step - loss: 3.7360 - mae: 3.7360\n",
            "Epoch 86/100\n",
            "1/1 [==============================] - 0s 10ms/step - loss: 3.7222 - mae: 3.7222\n",
            "Epoch 87/100\n",
            "1/1 [==============================] - 0s 10ms/step - loss: 3.7457 - mae: 3.7457\n",
            "Epoch 88/100\n",
            "1/1 [==============================] - 0s 10ms/step - loss: 3.6945 - mae: 3.6945\n",
            "Epoch 89/100\n",
            "1/1 [==============================] - 0s 9ms/step - loss: 3.7555 - mae: 3.7555\n",
            "Epoch 90/100\n",
            "1/1 [==============================] - 0s 10ms/step - loss: 3.6890 - mae: 3.6890\n",
            "Epoch 91/100\n",
            "1/1 [==============================] - 0s 10ms/step - loss: 3.7488 - mae: 3.7488\n",
            "Epoch 92/100\n",
            "1/1 [==============================] - 0s 10ms/step - loss: 3.7030 - mae: 3.7030\n",
            "Epoch 93/100\n",
            "1/1 [==============================] - 0s 10ms/step - loss: 3.7210 - mae: 3.7210\n",
            "Epoch 94/100\n",
            "1/1 [==============================] - 0s 10ms/step - loss: 3.7127 - mae: 3.7127\n",
            "Epoch 95/100\n",
            "1/1 [==============================] - 0s 10ms/step - loss: 3.6931 - mae: 3.6931\n",
            "Epoch 96/100\n",
            "1/1 [==============================] - 0s 10ms/step - loss: 3.7225 - mae: 3.7225\n",
            "Epoch 97/100\n",
            "1/1 [==============================] - 0s 9ms/step - loss: 3.6652 - mae: 3.6652\n",
            "Epoch 98/100\n",
            "1/1 [==============================] - 0s 10ms/step - loss: 3.7324 - mae: 3.7324\n",
            "Epoch 99/100\n",
            "1/1 [==============================] - 0s 11ms/step - loss: 3.6677 - mae: 3.6677\n",
            "Epoch 100/100\n",
            "1/1 [==============================] - 0s 9ms/step - loss: 3.7192 - mae: 3.7192\n"
          ]
        },
        {
          "output_type": "execute_result",
          "data": {
            "text/plain": [
              "<keras.callbacks.History at 0x7fbe4f787490>"
            ]
          },
          "metadata": {},
          "execution_count": 27
        }
      ]
    },
    {
      "cell_type": "code",
      "source": [
        "y_pred=model.predict([17.0])\n",
        "y_pred"
      ],
      "metadata": {
        "colab": {
          "base_uri": "https://localhost:8080/"
        },
        "id": "aVqmj1_JBo6b",
        "outputId": "191f76ac-4c4f-4c72-bfe0-7fa5782e739c"
      },
      "execution_count": 32,
      "outputs": [
        {
          "output_type": "stream",
          "name": "stdout",
          "text": [
            "1/1 [==============================] - 0s 40ms/step\n"
          ]
        },
        {
          "output_type": "execute_result",
          "data": {
            "text/plain": [
              "array([[32.30183]], dtype=float32)"
            ]
          },
          "metadata": {},
          "execution_count": 32
        }
      ]
    },
    {
      "cell_type": "code",
      "source": [],
      "metadata": {
        "colab": {
          "base_uri": "https://localhost:8080/"
        },
        "id": "j9DWF3upBrSl",
        "outputId": "560d16d7-90e7-42df-e759-4771152ecbb3"
      },
      "execution_count": 33,
      "outputs": [
        {
          "output_type": "execute_result",
          "data": {
            "text/plain": [
              "array([[2.6509151]], dtype=float32)"
            ]
          },
          "metadata": {},
          "execution_count": 33
        }
      ]
    },
    {
      "cell_type": "markdown",
      "source": [
        "## Common ways to improve a deep model(Go Step By Step):\n",
        "* Adding layers\n",
        "* Increase the number of hidden units\n",
        "* Change the activation functions\n",
        "* Change the optimization function\n",
        "* Change Learning rate(Most important hyperparamter to change)\n",
        "* Fitting on more data"
      ],
      "metadata": {
        "id": "mlsPqCivGpR5"
      }
    },
    {
      "cell_type": "code",
      "source": [
        "# Rebuilding\n",
        "\n",
        "#1. Create a model\n",
        "model = tf.keras.Sequential([\n",
        "    tf.keras.layers.Dense(100, activation=None),\n",
        "    tf.keras.layers.Dense(1)\n",
        "])\n",
        "\n",
        "#2. Compile the model\n",
        "model.compile(loss=tf.keras.losses.mae,\n",
        "              optimizer=tf.keras.optimizers.Adam(lr=0.01),\n",
        "              metrics=[\"mae\"])\n",
        "\n",
        "# Fit the model\n",
        "model.fit(tf.expand_dims(X, axis=-1),y,epochs=100)"
      ],
      "metadata": {
        "colab": {
          "base_uri": "https://localhost:8080/"
        },
        "id": "PmyOErguB698",
        "outputId": "9f1293c9-0dc7-4523-ab7f-548901a11259"
      },
      "execution_count": 39,
      "outputs": [
        {
          "output_type": "stream",
          "name": "stderr",
          "text": [
            "WARNING:absl:`lr` is deprecated in Keras optimizer, please use `learning_rate` or use the legacy optimizer, e.g.,tf.keras.optimizers.legacy.Adam.\n"
          ]
        },
        {
          "output_type": "stream",
          "name": "stdout",
          "text": [
            "Epoch 1/100\n",
            "1/1 [==============================] - 1s 597ms/step - loss: 13.6766 - mae: 13.6766\n",
            "Epoch 2/100\n",
            "1/1 [==============================] - 0s 10ms/step - loss: 13.5720 - mae: 13.5720\n",
            "Epoch 3/100\n",
            "1/1 [==============================] - 0s 11ms/step - loss: 13.4675 - mae: 13.4675\n",
            "Epoch 4/100\n",
            "1/1 [==============================] - 0s 14ms/step - loss: 13.3630 - mae: 13.3630\n",
            "Epoch 5/100\n",
            "1/1 [==============================] - 0s 14ms/step - loss: 13.2585 - mae: 13.2585\n",
            "Epoch 6/100\n",
            "1/1 [==============================] - 0s 20ms/step - loss: 13.1540 - mae: 13.1540\n",
            "Epoch 7/100\n",
            "1/1 [==============================] - 0s 12ms/step - loss: 13.0496 - mae: 13.0496\n",
            "Epoch 8/100\n",
            "1/1 [==============================] - 0s 13ms/step - loss: 12.9451 - mae: 12.9451\n",
            "Epoch 9/100\n",
            "1/1 [==============================] - 0s 11ms/step - loss: 12.8407 - mae: 12.8407\n",
            "Epoch 10/100\n",
            "1/1 [==============================] - 0s 12ms/step - loss: 12.7362 - mae: 12.7362\n",
            "Epoch 11/100\n",
            "1/1 [==============================] - 0s 10ms/step - loss: 12.6318 - mae: 12.6318\n",
            "Epoch 12/100\n",
            "1/1 [==============================] - 0s 10ms/step - loss: 12.5273 - mae: 12.5273\n",
            "Epoch 13/100\n",
            "1/1 [==============================] - 0s 19ms/step - loss: 12.4227 - mae: 12.4227\n",
            "Epoch 14/100\n",
            "1/1 [==============================] - 0s 11ms/step - loss: 12.3181 - mae: 12.3181\n",
            "Epoch 15/100\n",
            "1/1 [==============================] - 0s 10ms/step - loss: 12.2135 - mae: 12.2135\n",
            "Epoch 16/100\n",
            "1/1 [==============================] - 0s 11ms/step - loss: 12.1087 - mae: 12.1087\n",
            "Epoch 17/100\n",
            "1/1 [==============================] - 0s 10ms/step - loss: 12.0039 - mae: 12.0039\n",
            "Epoch 18/100\n",
            "1/1 [==============================] - 0s 11ms/step - loss: 11.8990 - mae: 11.8990\n",
            "Epoch 19/100\n",
            "1/1 [==============================] - 0s 11ms/step - loss: 11.7939 - mae: 11.7939\n",
            "Epoch 20/100\n",
            "1/1 [==============================] - 0s 10ms/step - loss: 11.6887 - mae: 11.6887\n",
            "Epoch 21/100\n",
            "1/1 [==============================] - 0s 11ms/step - loss: 11.5834 - mae: 11.5834\n",
            "Epoch 22/100\n",
            "1/1 [==============================] - 0s 10ms/step - loss: 11.4780 - mae: 11.4780\n",
            "Epoch 23/100\n",
            "1/1 [==============================] - 0s 11ms/step - loss: 11.3724 - mae: 11.3724\n",
            "Epoch 24/100\n",
            "1/1 [==============================] - 0s 10ms/step - loss: 11.2666 - mae: 11.2666\n",
            "Epoch 25/100\n",
            "1/1 [==============================] - 0s 15ms/step - loss: 11.1606 - mae: 11.1606\n",
            "Epoch 26/100\n",
            "1/1 [==============================] - 0s 11ms/step - loss: 11.0544 - mae: 11.0544\n",
            "Epoch 27/100\n",
            "1/1 [==============================] - 0s 11ms/step - loss: 10.9479 - mae: 10.9479\n",
            "Epoch 28/100\n",
            "1/1 [==============================] - 0s 11ms/step - loss: 10.8413 - mae: 10.8413\n",
            "Epoch 29/100\n",
            "1/1 [==============================] - 0s 10ms/step - loss: 10.7343 - mae: 10.7343\n",
            "Epoch 30/100\n",
            "1/1 [==============================] - 0s 10ms/step - loss: 10.6271 - mae: 10.6271\n",
            "Epoch 31/100\n",
            "1/1 [==============================] - 0s 10ms/step - loss: 10.5197 - mae: 10.5197\n",
            "Epoch 32/100\n",
            "1/1 [==============================] - 0s 17ms/step - loss: 10.4119 - mae: 10.4119\n",
            "Epoch 33/100\n",
            "1/1 [==============================] - 0s 10ms/step - loss: 10.3038 - mae: 10.3038\n",
            "Epoch 34/100\n",
            "1/1 [==============================] - 0s 10ms/step - loss: 10.1954 - mae: 10.1954\n",
            "Epoch 35/100\n",
            "1/1 [==============================] - 0s 11ms/step - loss: 10.0867 - mae: 10.0867\n",
            "Epoch 36/100\n",
            "1/1 [==============================] - 0s 10ms/step - loss: 9.9776 - mae: 9.9776\n",
            "Epoch 37/100\n",
            "1/1 [==============================] - 0s 11ms/step - loss: 9.8681 - mae: 9.8681\n",
            "Epoch 38/100\n",
            "1/1 [==============================] - 0s 10ms/step - loss: 9.7582 - mae: 9.7582\n",
            "Epoch 39/100\n",
            "1/1 [==============================] - 0s 11ms/step - loss: 9.6479 - mae: 9.6479\n",
            "Epoch 40/100\n",
            "1/1 [==============================] - 0s 10ms/step - loss: 9.5372 - mae: 9.5372\n",
            "Epoch 41/100\n",
            "1/1 [==============================] - 0s 10ms/step - loss: 9.4261 - mae: 9.4261\n",
            "Epoch 42/100\n",
            "1/1 [==============================] - 0s 11ms/step - loss: 9.3145 - mae: 9.3145\n",
            "Epoch 43/100\n",
            "1/1 [==============================] - 0s 10ms/step - loss: 9.2025 - mae: 9.2025\n",
            "Epoch 44/100\n",
            "1/1 [==============================] - 0s 11ms/step - loss: 9.0900 - mae: 9.0900\n",
            "Epoch 45/100\n",
            "1/1 [==============================] - 0s 11ms/step - loss: 8.9769 - mae: 8.9769\n",
            "Epoch 46/100\n",
            "1/1 [==============================] - 0s 10ms/step - loss: 8.8634 - mae: 8.8634\n",
            "Epoch 47/100\n",
            "1/1 [==============================] - 0s 12ms/step - loss: 8.7493 - mae: 8.7493\n",
            "Epoch 48/100\n",
            "1/1 [==============================] - 0s 10ms/step - loss: 8.6347 - mae: 8.6347\n",
            "Epoch 49/100\n",
            "1/1 [==============================] - 0s 11ms/step - loss: 8.5195 - mae: 8.5195\n",
            "Epoch 50/100\n",
            "1/1 [==============================] - 0s 11ms/step - loss: 8.4038 - mae: 8.4038\n",
            "Epoch 51/100\n",
            "1/1 [==============================] - 0s 11ms/step - loss: 8.2874 - mae: 8.2874\n",
            "Epoch 52/100\n",
            "1/1 [==============================] - 0s 11ms/step - loss: 8.1705 - mae: 8.1705\n",
            "Epoch 53/100\n",
            "1/1 [==============================] - 0s 11ms/step - loss: 8.0529 - mae: 8.0529\n",
            "Epoch 54/100\n",
            "1/1 [==============================] - 0s 11ms/step - loss: 7.9347 - mae: 7.9347\n",
            "Epoch 55/100\n",
            "1/1 [==============================] - 0s 10ms/step - loss: 7.8158 - mae: 7.8158\n",
            "Epoch 56/100\n",
            "1/1 [==============================] - 0s 13ms/step - loss: 7.6962 - mae: 7.6962\n",
            "Epoch 57/100\n",
            "1/1 [==============================] - 0s 11ms/step - loss: 7.5760 - mae: 7.5760\n",
            "Epoch 58/100\n",
            "1/1 [==============================] - 0s 11ms/step - loss: 7.4551 - mae: 7.4551\n",
            "Epoch 59/100\n",
            "1/1 [==============================] - 0s 11ms/step - loss: 7.3334 - mae: 7.3334\n",
            "Epoch 60/100\n",
            "1/1 [==============================] - 0s 12ms/step - loss: 7.2110 - mae: 7.2110\n",
            "Epoch 61/100\n",
            "1/1 [==============================] - 0s 11ms/step - loss: 7.0879 - mae: 7.0879\n",
            "Epoch 62/100\n",
            "1/1 [==============================] - 0s 10ms/step - loss: 6.9640 - mae: 6.9640\n",
            "Epoch 63/100\n",
            "1/1 [==============================] - 0s 11ms/step - loss: 6.8394 - mae: 6.8394\n",
            "Epoch 64/100\n",
            "1/1 [==============================] - 0s 10ms/step - loss: 6.7801 - mae: 6.7801\n",
            "Epoch 65/100\n",
            "1/1 [==============================] - 0s 11ms/step - loss: 6.7662 - mae: 6.7662\n",
            "Epoch 66/100\n",
            "1/1 [==============================] - 0s 10ms/step - loss: 6.7526 - mae: 6.7526\n",
            "Epoch 67/100\n",
            "1/1 [==============================] - 0s 11ms/step - loss: 6.7392 - mae: 6.7392\n",
            "Epoch 68/100\n",
            "1/1 [==============================] - 0s 11ms/step - loss: 6.7260 - mae: 6.7260\n",
            "Epoch 69/100\n",
            "1/1 [==============================] - 0s 10ms/step - loss: 6.7129 - mae: 6.7129\n",
            "Epoch 70/100\n",
            "1/1 [==============================] - 0s 10ms/step - loss: 6.7001 - mae: 6.7001\n",
            "Epoch 71/100\n",
            "1/1 [==============================] - 0s 10ms/step - loss: 6.6995 - mae: 6.6995\n",
            "Epoch 72/100\n",
            "1/1 [==============================] - 0s 10ms/step - loss: 6.7240 - mae: 6.7240\n",
            "Epoch 73/100\n",
            "1/1 [==============================] - 0s 9ms/step - loss: 6.7383 - mae: 6.7383\n",
            "Epoch 74/100\n",
            "1/1 [==============================] - 0s 10ms/step - loss: 6.7435 - mae: 6.7435\n",
            "Epoch 75/100\n",
            "1/1 [==============================] - 0s 10ms/step - loss: 6.7404 - mae: 6.7404\n",
            "Epoch 76/100\n",
            "1/1 [==============================] - 0s 10ms/step - loss: 6.7299 - mae: 6.7299\n",
            "Epoch 77/100\n",
            "1/1 [==============================] - 0s 10ms/step - loss: 6.7126 - mae: 6.7126\n",
            "Epoch 78/100\n",
            "1/1 [==============================] - 0s 11ms/step - loss: 6.6894 - mae: 6.6894\n",
            "Epoch 79/100\n",
            "1/1 [==============================] - 0s 11ms/step - loss: 6.6608 - mae: 6.6608\n",
            "Epoch 80/100\n",
            "1/1 [==============================] - 0s 11ms/step - loss: 6.6273 - mae: 6.6273\n",
            "Epoch 81/100\n",
            "1/1 [==============================] - 0s 11ms/step - loss: 6.5895 - mae: 6.5895\n",
            "Epoch 82/100\n",
            "1/1 [==============================] - 0s 10ms/step - loss: 6.5809 - mae: 6.5809\n",
            "Epoch 83/100\n",
            "1/1 [==============================] - 0s 11ms/step - loss: 6.5728 - mae: 6.5728\n",
            "Epoch 84/100\n",
            "1/1 [==============================] - 0s 11ms/step - loss: 6.5643 - mae: 6.5643\n",
            "Epoch 85/100\n",
            "1/1 [==============================] - 0s 11ms/step - loss: 6.5555 - mae: 6.5555\n",
            "Epoch 86/100\n",
            "1/1 [==============================] - 0s 11ms/step - loss: 6.5464 - mae: 6.5464\n",
            "Epoch 87/100\n",
            "1/1 [==============================] - 0s 11ms/step - loss: 6.5371 - mae: 6.5371\n",
            "Epoch 88/100\n",
            "1/1 [==============================] - 0s 11ms/step - loss: 6.5275 - mae: 6.5275\n",
            "Epoch 89/100\n",
            "1/1 [==============================] - 0s 12ms/step - loss: 6.5178 - mae: 6.5178\n",
            "Epoch 90/100\n",
            "1/1 [==============================] - 0s 11ms/step - loss: 6.5078 - mae: 6.5078\n",
            "Epoch 91/100\n",
            "1/1 [==============================] - 0s 10ms/step - loss: 6.4977 - mae: 6.4977\n",
            "Epoch 92/100\n",
            "1/1 [==============================] - 0s 10ms/step - loss: 6.4874 - mae: 6.4874\n",
            "Epoch 93/100\n",
            "1/1 [==============================] - 0s 14ms/step - loss: 6.4769 - mae: 6.4769\n",
            "Epoch 94/100\n",
            "1/1 [==============================] - 0s 9ms/step - loss: 6.4663 - mae: 6.4663\n",
            "Epoch 95/100\n",
            "1/1 [==============================] - 0s 12ms/step - loss: 6.4555 - mae: 6.4555\n",
            "Epoch 96/100\n",
            "1/1 [==============================] - 0s 12ms/step - loss: 6.4446 - mae: 6.4446\n",
            "Epoch 97/100\n",
            "1/1 [==============================] - 0s 10ms/step - loss: 6.4336 - mae: 6.4336\n",
            "Epoch 98/100\n",
            "1/1 [==============================] - 0s 10ms/step - loss: 6.4225 - mae: 6.4225\n",
            "Epoch 99/100\n",
            "1/1 [==============================] - 0s 10ms/step - loss: 6.4112 - mae: 6.4112\n",
            "Epoch 100/100\n",
            "1/1 [==============================] - 0s 10ms/step - loss: 6.3998 - mae: 6.3998\n"
          ]
        },
        {
          "output_type": "execute_result",
          "data": {
            "text/plain": [
              "<keras.callbacks.History at 0x7fbe48a738e0>"
            ]
          },
          "metadata": {},
          "execution_count": 39
        }
      ]
    },
    {
      "cell_type": "code",
      "source": [
        "y_pred=model.predict([11.])\n",
        "y_pred"
      ],
      "metadata": {
        "colab": {
          "base_uri": "https://localhost:8080/"
        },
        "id": "U1iTi82pHhgO",
        "outputId": "9fef4c65-7f29-4d89-90eb-5f65b58f1700"
      },
      "execution_count": 41,
      "outputs": [
        {
          "output_type": "stream",
          "name": "stdout",
          "text": [
            "1/1 [==============================] - 0s 42ms/step\n"
          ]
        },
        {
          "output_type": "execute_result",
          "data": {
            "text/plain": [
              "array([[20.067604]], dtype=float32)"
            ]
          },
          "metadata": {},
          "execution_count": 41
        }
      ]
    },
    {
      "cell_type": "code",
      "source": [],
      "metadata": {
        "id": "A-cc68rIHrTd"
      },
      "execution_count": null,
      "outputs": []
    }
  ]
}